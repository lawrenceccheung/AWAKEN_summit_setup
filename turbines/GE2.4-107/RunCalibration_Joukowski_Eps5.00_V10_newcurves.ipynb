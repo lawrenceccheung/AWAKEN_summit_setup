{
 "cells": [
  {
   "cell_type": "markdown",
   "metadata": {
    "deletable": true,
    "editable": true
   },
   "source": [
    "# Turbine check-out/calibration notebook (for Joukowski airfoil)\n",
    "\n",
    "Use this notebook to set up a series of runs for turbine calibration and check-out"
   ]
  },
  {
   "cell_type": "code",
   "execution_count": 1,
   "metadata": {
    "deletable": true,
    "editable": true
   },
   "outputs": [],
   "source": [
    "%%capture \n",
    "\n",
    "# Important header information\n",
    "amrwindfedir = '/projects/wind_uq/lcheung/amrwind-frontend'\n",
    "import sys, os\n",
    "sys.path.insert(1, amrwindfedir)\n",
    "\n",
    "# Load the libraries\n",
    "import matplotlib.pyplot    as plt\n",
    "import amrwind_frontend as amrwind\n",
    "import tempfile\n",
    "import shutil\n",
    "# Also ignore warnings\n",
    "import warnings\n",
    "warnings.filterwarnings('ignore')\n",
    "\n",
    "# Make all plots inline \n",
    "%matplotlib inline"
   ]
  },
  {
   "cell_type": "markdown",
   "metadata": {
    "deletable": true,
    "editable": true
   },
   "source": [
    "**Note**: Make sure there is a turbine file which looks like:"
   ]
  },
  {
   "cell_type": "code",
   "execution_count": 2,
   "metadata": {
    "collapsed": false,
    "deletable": true,
    "editable": true,
    "jupyter": {
     "outputs_hidden": false
    }
   },
   "outputs": [
    {
     "name": "stdout",
     "output_type": "stream",
     "text": [
      "turbines:\n",
      "\n",
      "  GE24-107_calib:\n",
      "    turbinetype_name:    \"GE 2.4-107 ADM Calib\"\n",
      "    turbinetype_comment: \n",
      "    Actuator_type:       TurbineFastDisk\n",
      "    Actuator_openfast_input_file: OpenFAST3p1_NREL2p8-127/NREL-2p8-127.fst\n",
      "    Actuator_rotor_diameter:      107\n",
      "    Actuator_hub_height:          80\n",
      "    Actuator_num_points_blade:    64\n",
      "    Actuator_num_points_tower:    12\n",
      "#    Actuator_epsilon:             [10.0, 10.0, 10.0]\n",
      "#    Actuator_epsilon_tower:       [5.0, 5.0, 5.0]\n",
      "    Actuator_openfast_start_time: 0.0\n",
      "    Actuator_openfast_stop_time:  1000.0\n",
      "    Actuator_nacelle_drag_coeff:  1.0\n",
      "    Actuator_nacelle_area:        8.0\n",
      "    Actuator_output_frequency:    10\n",
      "    turbinetype_filedir: OpenFAST3p1_NREL2p8-127\n",
      "\n",
      "  Joukowski_GE24-107_calib:\n",
      "    turbinetype_name:    \"NREL GE 2.4-107 Joukowski Calib\"\n",
      "    turbinetype_comment: \"Dummy layout\"\n",
      "    Actuator_type:                JoukowskyDisk\n",
      "    Actuator_rotor_diameter:      107\n",
      "    Actuator_hub_height:          80\n",
      "    Actuator_output_frequency:    10                   \n",
      "    Actuator_diameters_to_sample: 2.5     # How far upstream to sample inflow wind\n",
      "    #Actuator_epsilon:             [5.0]   # Epsilon in Z (might need to play with this guy)\n",
      "    Actuator_num_points_r:        40      # number of radial (might need to play with this guy)\n",
      "    Actuator_num_points_t:        5       # number of pts in theta (might need to play with this guy)\n",
      "    #Actuator_vortex_core_size:    24.0    # might need to play with this\n",
      "    # --------------------\n",
      "    # Performance tables come from https://raw.githubusercontent.com/NREL/openfast-turbine-models/master/IEA-scaled/NREL-2.8-127/NREL-2.8-127_openfast.csv\n",
      "    Actuator_wind_speed:          3 3.889649963 4.684006997 5.377830234 5.966542092 6.446258474 6.813814392 7.066784852 7.203500851 7.223060389 7.320786359 7.535153079 7.864746237 8.307391303 8.860167873 9.073257061 9.519428937 10.28082494 10.84222566 11.13933248 12.08928745 13.1244224 14.23790791 15.42239763 16.67007674 17.97271352 19.32171368 20.70817701 22.12295617 23.55671697 25  \n",
      "    Actuator_rpm:                 6 6.216061563 7.48552598 8.594327029 9.535149259 10.30178548 10.88917773 11.2934506 11.51193685 11.54319501 11.69937119 12.0419513 12.56867514 13.27606758 14.15946151 14.5 14.5 14.5 14.5 14.5 14.5 14.5 14.5 14.5 14.5 14.5 14.5 14.5 14.5 14.5 14.5     \n",
      "    Actuator_thrust_coeff:        0.806146377 0.836147686 0.836147686 0.836147686 0.836147686 0.836147686 0.836147686 0.836147686 0.836147686 0.836147686 0.836147686 0.836147686 0.836147686 0.787905028 0.729174836 0.697660695 0.631675538 0.541577743 0.486945277 0.439204767 0.329475564 0.251814011 0.194960482 0.152809903 0.121115453 0.097294885 0.079046073 0.065181208 0.054520891 0.046071936 0.039575143 \n",
      "    # --------------------\n",
      "    Actuator_use_tip_correction:  True\n",
      "    Actuator_use_root_correction: True\n",
      "    Actuator_num_blades:          3\n",
      "\n",
      "  Joukowski_GE24-107_calibLCC:\n",
      "    turbinetype_name:    \"NREL GE 2.4-107 Joukowski CalibLCC\"\n",
      "    turbinetype_comment:         # Cp is stored in cp_table\n",
      "    # Data from: /projects/AWAKEN/lcheung/awaken.github/TurbineCheckout/NREL-2.4-107.csv\n",
      "    cp_table:                     0.36494385462317414 0.4057145978707475 0.4084886140722456 0.40946212302108115 0.4096561912443821 0.4095095462889279 0.40925413639551833 0.40901754531776574 0.4088697364261277 0.4088478196027903 0.40873507340273457 0.4084632901716705 0.407995749539033 0.4170768820129709 0.40588823577147537 0.3796030302648449 0.34406136739661386 0.30542169789935647 0.29577684585916003 0.24594889649219775 0.19222345625083997 0.1505595894610731 0.1184647817941693 0.0938067981129045 0.07485292870062624 0.06024300928446688 0.04893519660859818 0.04013447234603446 0.033243315049715394 0.02781156743979472\n",
      "    #cp_table: 0.38902762 0.41652765 0.4193756 0.42037506 0.4205743 0.42042374 0.42016153 0.41991863 0.41976688 0.41974438 0.41962863 0.4193496 0.4188696 0.41812993 0.41755176 0.41486387 0.38949746 0.38314109 0.31439062 0.24594916 0.19222322 0.1505596 0.11846533 0.09380635 0.07485245 0.06024401 0.04893497 0.04013451 0.0332432 0.02781167\n",
      "    Actuator_type:                JoukowskyDisk\n",
      "    Actuator_rotor_diameter:      107\n",
      "    Actuator_hub_height:          80\n",
      "    Actuator_output_frequency:    10                   \n",
      "    Actuator_diameters_to_sample: 2.5     # How far upstream to sample inflow wind\n",
      "    #Actuator_epsilon:             [5.0]   # Epsilon in Z (might need to play with this guy)\n",
      "    Actuator_num_points_r:        40      # number of radial (might need to play with this guy)\n",
      "    Actuator_num_points_t:        5       # number of pts in theta (might need to play with this guy)\n",
      "    #Actuator_vortex_core_size:    24.0    # might need to play with this\n",
      "    # --------------------\n",
      "    Actuator_wind_speed:          3.0 3.8896499632398522 4.684006996752298 5.377830233987224 5.9665420922679235 6.446258473946166 6.813814392205923 7.066784852446476 7.203500851477442 7.223060388969041 7.3207863594297695 7.53515307893962 7.8647462371540815 8.307391303370766 8.860167873258565 9.519428936578255 10.280824938773396 11.139332477682313 11.368266947340883 12.089287446041034 13.124422401115686 14.2379079149135 15.42239763215957 16.67007673876378 17.972713521001403 19.321713675239483 20.708177009893888 22.122956165519167 23.556716965618214 25.0\n",
      "    Actuator_rpm:                 5.500000000399841 6.216061563190254 7.485525980331192 8.59432702859619 9.535149259037933 10.301785483264918 10.889177726117152 11.293450596268706 11.511936854590438 11.543195011582549 11.699371185389309 12.041951298809709 12.568675138134543 13.276067579163733 14.000000000236472 14.000000000236472 14.000000000236472 14.000000000236472 14.000000000236472 14.000000000236472 14.000000000236472 14.000000000236472 14.000000000236472 14.000000000236472 14.000000000236472 14.000000000236472 14.000000000236472 14.000000000236472 14.000000000236472 14.000000000236472 \n",
      "    Actuator_thrust_coeff:        0.9417637121427401 0.8591023656623112 0.8591023656623112 0.8591023656623115 0.8591023656623114 0.8591023656623114 0.8591023656623114 0.8591023656623114 0.8591023656623115 0.859102365662311 0.8591023656623115 0.8591023656623114 0.8591023656623112 0.7946025198026082 0.7010491180644189 0.6073318868751941 0.5207061845780487 0.4435376564475198 0.4258539432711849 0.34314148550753276 0.26171231400949135 0.20244647825140952 0.15862645919422833 0.1258607265652833 0.10102264915823013 0.08221636164540955 0.06771371069636782 0.05668709221197275 0.04797694606348537 0.04122339888144193\n",
      "    #Actuator_wind_speed:          3 3.889649963 4.684006997 5.377830234 5.966542092 6.446258474 6.813814392 7.066784852 7.203500851 7.223060389 7.320786359 7.535153079 7.864746237 8.307391303 8.860167873 9.519428937 10.28082494 10.84222566 11.13933248 12.08928745 13.1244224 14.23790791 15.42239763 16.67007674 17.97271352 19.32171368 20.70817701 22.12295617 23.55671697 25  \n",
      "    #Actuator_rpm:                 6 6.216061563 7.48552598 8.594327029 9.535149259 10.30178548 10.88917773 11.2934506 11.51193685 11.54319501 11.69937119 12.0419513 12.56867514 13.27606758 14.15946151 14.5 14.5 14.5 14.5 14.5 14.5 14.5 14.5 14.5 14.5 14.5 14.5 14.5 14.5 14.5\n",
      "    #Actuator_thrust_coeff:        0.88150591 0.8036082 0.8036082 0.8036082 0.8036082 0.8036082 0.8036082 0.8036082 0.8036082 0.8036082 0.8036082 0.8036082 0.8036082 0.8036082 0.79630676 0.72918259 0.62569649 0.60808479 0.45869544 0.34269317 0.26133744 0.20207726 0.15817246 0.12540696 0.10048076 0.08171832 0.06729629 0.05622841 0.04764503 0.04093387\n",
      "    # --------------------\n",
      "    Actuator_use_tip_correction:  True\n",
      "    Actuator_use_root_correction: True\n",
      "    Actuator_num_blades:          3\n",
      "\n",
      "\n"
     ]
    }
   ],
   "source": [
    "with open(amrwindfedir+\"/turbines/GE24-107_calib.yaml\")as f: print(f.read())"
   ]
  },
  {
   "cell_type": "markdown",
   "metadata": {
    "deletable": true,
    "editable": true
   },
   "source": [
    "Note that both `Actuator_epsilon` and `Actuator_epsilon_tower` are commented out.  We can set those values later."
   ]
  },
  {
   "cell_type": "code",
   "execution_count": 3,
   "metadata": {
    "collapsed": false,
    "deletable": true,
    "editable": true,
    "jupyter": {
     "outputs_hidden": false
    }
   },
   "outputs": [],
   "source": [
    "# Start the amrwind_frontend app \n",
    "case = amrwind.MyApp.init_nogui()"
   ]
  },
  {
   "cell_type": "code",
   "execution_count": 4,
   "metadata": {
    "collapsed": false,
    "deletable": true,
    "editable": true,
    "jupyter": {
     "outputs_hidden": false
    }
   },
   "outputs": [
    {
     "name": "stdout",
     "output_type": "stream",
     "text": [
      "Using temporary directory: /tmp/tempturbine-2unjson_\n"
     ]
    }
   ],
   "source": [
    "curdir=os.getcwd()\n",
    "\n",
    "# Create a temporary working directory and switch to it\n",
    "\n",
    "# Uncomment these lines to make your own tempdir\n",
    "## tempdir = 'tempturbinedir'\n",
    "## os.mkdir(tempdir)\n",
    "# Otherwise use a system temporary directory\n",
    "tempdir = tempfile.mkdtemp(prefix='tempturbine-')\n",
    "os.chdir(tempdir)\n",
    "print('Using temporary directory: '+tempdir)"
   ]
  },
  {
   "cell_type": "markdown",
   "metadata": {
    "deletable": true,
    "editable": true
   },
   "source": [
    "## Set up the basic simulation properties"
   ]
  },
  {
   "cell_type": "code",
   "execution_count": 5,
   "metadata": {
    "deletable": true,
    "editable": true
   },
   "outputs": [],
   "source": [
    "rhodensity = 1.225\n",
    "WS         = 11.0                                     # This is temporary, we will vary across a range below\n",
    "eps        = 5.0\n",
    "vortex_core = 10.0\n",
    "case.setAMRWindInput('useWSDir', True)\n",
    "case.setAMRWindInput('ABL_windspeed', WS, forcechange=True)\n",
    "case.setAMRWindInput('ABL_winddir', 270,  forcechange=True)\n",
    "case.ABL_calculateWindVector()"
   ]
  },
  {
   "cell_type": "code",
   "execution_count": 6,
   "metadata": {
    "deletable": true,
    "editable": true
   },
   "outputs": [],
   "source": [
    "case.setAMRWindInput('time_control',   ['const dt'])\n",
    "case.setAMRWindInput('time.stop_time', 360)\n",
    "case.setAMRWindInput('time.fixed_dt',  0.1)\n",
    "case.setAMRWindInput('incflo.physics', ['FreeStream', 'Actuator'])"
   ]
  },
  {
   "cell_type": "code",
   "execution_count": 7,
   "metadata": {
    "deletable": true,
    "editable": true
   },
   "outputs": [],
   "source": [
    "case.setAMRWindInput('ConstValue.density.value',  rhodensity)\n",
    "case.setAMRWindInput('incflo.density',            rhodensity)\n",
    "case.setAMRWindInput('incflo.velocity',           [WS, 0.0, 0.0])\n",
    "case.setAMRWindInput('ConstValue.velocity.value', [WS, 0.0, 0.0])\n",
    "case.setAMRWindInput('turbulence.model',          ['Laminar'])"
   ]
  },
  {
   "cell_type": "markdown",
   "metadata": {
    "deletable": true,
    "editable": true
   },
   "source": [
    "## Set the BC's"
   ]
  },
  {
   "cell_type": "code",
   "execution_count": 8,
   "metadata": {
    "deletable": true,
    "editable": true
   },
   "outputs": [],
   "source": [
    "case.setAMRWindInput('is_periodicx', False)\n",
    "case.setAMRWindInput('is_periodicy', True)\n",
    "case.setAMRWindInput('is_periodicz', True)  \n",
    "\n",
    "case.setAMRWindInput('xlo.type', 'mass_inflow')\n",
    "case.setAMRWindInput('xhi.type', 'pressure_outflow')\n",
    "case.setAMRWindInput('xlo.density',  rhodensity)\n",
    "case.setAMRWindInput('xlo.velocity', [WS, 0.0, 0.0])"
   ]
  },
  {
   "cell_type": "code",
   "execution_count": 9,
   "metadata": {
    "deletable": true,
    "editable": true
   },
   "outputs": [],
   "source": [
    "# Add the turbine specifications flag\n",
    "## Note that the options field can have things like:\n",
    "##    ADparam_TwrAero:False ADparam_TwrShadow:0 FSTparam_TMax:181234.0\n",
    "## To specify changes to the OpenFAST model\n",
    "turbinescsv=\"\"\"\n",
    "# CSV file should have columns with\n",
    "# name, x, y, type, yaw, hubheight, options\n",
    "T0,     0, 0, NREL GE 2.4-107 Joukowski CalibLCC, 270.0, 0.0, \n",
    "\"\"\"\n",
    "case.setAMRWindInput('turbines_csvtextbox',  turbinescsv)"
   ]
  },
  {
   "cell_type": "code",
   "execution_count": 10,
   "metadata": {
    "collapsed": false,
    "deletable": true,
    "editable": true,
    "jupyter": {
     "outputs_hidden": false
    }
   },
   "outputs": [],
   "source": [
    "case.setAMRWindInput('turbines_domainsize', [2560.0*2, 960.0*2, 960.0*2])\n",
    "case.setAMRWindInput('turbines_backgroundmeshsize', 20.0)\n",
    "case.setAMRWindInput('turbines_deleteprev', True)\n",
    "case.setAMRWindInput('turbines_freespace', True)   # Make this have no ground\n",
    "#case.setAMRWindInput('zlo_type', 'slip_wall')\n",
    "#case.setAMRWindInput('zhi_type', 'slip_wall')"
   ]
  },
  {
   "cell_type": "code",
   "execution_count": 11,
   "metadata": {
    "collapsed": false,
    "deletable": true,
    "editable": true,
    "jupyter": {
     "outputs_hidden": false
    }
   },
   "outputs": [
    {
     "data": {
      "image/png": "[encoded data removed]",
      "text/plain": [
       "<Figure size 750x750 with 1 Axes>"
      ]
     },
     "metadata": {},
     "output_type": "display_data"
    }
   ],
   "source": [
    "# Preview the turbine layout\n",
    "fig, ax = plt.subplots(figsize=(5,5), facecolor='w', dpi=150)\n",
    "case.turbines_previewAllTurbines(ax=ax)"
   ]
  },
  {
   "cell_type": "code",
   "execution_count": 12,
   "metadata": {
    "collapsed": false,
    "deletable": true,
    "editable": true,
    "jupyter": {
     "outputs_hidden": false
    }
   },
   "outputs": [
    {
     "name": "stdout",
     "output_type": "stream",
     "text": [
      "CANNOT update: ABLMeanBoussinesq use forcechange=True in setval()\n",
      "['T0']\n"
     ]
    }
   ],
   "source": [
    "# Now create the turbines\n",
    "case.turbines_createAllTurbines()\n",
    "\n",
    "# Print out existing list of turbines, just to confirm that the turbines got made\n",
    "print(case.listboxpopupwindict['listboxactuator'].getitemlist())"
   ]
  },
  {
   "cell_type": "code",
   "execution_count": 13,
   "metadata": {
    "collapsed": false,
    "deletable": true,
    "editable": true,
    "jupyter": {
     "outputs_hidden": false
    }
   },
   "outputs": [],
   "source": [
    "# Set some globals\n",
    "case.setAMRWindInput('Actuator_default_type', ['JoukowskyDisk'])\n",
    "case.setAMRWindInput('Actuator_JoukowskyDisk_density',       rhodensity,      forcechange=True)\n",
    "case.setAMRWindInput('Actuator_JoukowskyDisk_epsilon',       [eps, eps, eps], forcechange=True)  # You can change this\n",
    "case.setAMRWindInput('Actuator_JoukowskyDisk_vortex_core_size', vortex_core, forcechange=True)  # You can change this"
   ]
  },
  {
   "cell_type": "markdown",
   "metadata": {
    "deletable": true,
    "editable": true
   },
   "source": [
    "## Add turbine refinement"
   ]
  },
  {
   "cell_type": "code",
   "execution_count": 14,
   "metadata": {
    "deletable": true,
    "editable": true
   },
   "outputs": [],
   "source": [
    "refinementcsv=\"\"\"\n",
    "# CSV file should have columns with\n",
    "# level, upstream, downstream, lateral, below, above, options\n",
    "level, upstream, downstream, lateral, below, above, options\n",
    "0,     10,       10,         3,       2,     2,     center:farm\n",
    "1,     2.5,      2.5,        2.5,     1.2,   1.2,   center:farm\n",
    "2,     1,        1,          0.75,    0.8,   0.8,  \n",
    "\"\"\"\n",
    "case.setAMRWindInput('refine_csvtextbox', refinementcsv)\n",
    "case.setAMRWindInput('refine_deleteprev', True)"
   ]
  },
  {
   "cell_type": "code",
   "execution_count": 15,
   "metadata": {
    "collapsed": false,
    "deletable": true,
    "editable": true,
    "jupyter": {
     "outputs_hidden": false
    }
   },
   "outputs": [
    {
     "name": "stdout",
     "output_type": "stream",
     "text": [
      "['Farm_level_0_zone', 'Farm_level_1_zone', 'T0_level_2_zone']\n"
     ]
    }
   ],
   "source": [
    "case.refine_createAllZones()\n",
    "# Print out existing list of turbines\n",
    "print(case.listboxpopupwindict['listboxtagging'].getitemlist())"
   ]
  },
  {
   "cell_type": "code",
   "execution_count": 16,
   "metadata": {
    "collapsed": false,
    "deletable": true,
    "editable": true,
    "jupyter": {
     "outputs_hidden": false
    }
   },
   "outputs": [
    {
     "name": "stdout",
     "output_type": "stream",
     "text": [
      "Plotting turbines\n"
     ]
    },
    {
     "data": {
      "image/png": "[encoded data removed]",
      "text/plain": [
       "<Figure size 625x625 with 1 Axes>"
      ]
     },
     "metadata": {},
     "output_type": "display_data"
    }
   ],
   "source": [
    "# Plot the domain\n",
    "fig, ax2 = plt.subplots(figsize=(5,5), facecolor='w', dpi=125)\n",
    "case.popup_storteddata['plotdomain']['plot_turbines']        = case.listboxpopupwindict['listboxactuator'].getitemlist()\n",
    "case.popup_storteddata['plotdomain']['plot_refineboxes']     = case.listboxpopupwindict['listboxtagging'].getitemlist()\n",
    "case.plotDomain(ax=ax2)"
   ]
  },
  {
   "cell_type": "code",
   "execution_count": 17,
   "metadata": {
    "collapsed": false,
    "deletable": true,
    "editable": true,
    "jupyter": {
     "outputs_hidden": false
    }
   },
   "outputs": [
    {
     "name": "stdout",
     "output_type": "stream",
     "text": [
      "Plotting turbines\n"
     ]
    },
    {
     "data": {
      "image/png": "[encoded data removed]",
      "text/plain": [
       "<Figure size 1000x750 with 1 Axes>"
      ]
     },
     "metadata": {},
     "output_type": "display_data"
    }
   ],
   "source": [
    "# Plot the domain\n",
    "fig, ax = plt.subplots(figsize=(8,6), facecolor='w', dpi=125)\n",
    "case.popup_storteddata['plotdomain']['plot_chooseview']      = 'YZ'\n",
    "case.popup_storteddata['plotdomain']['plot_refineboxes']     = case.listboxpopupwindict['listboxtagging'].getitemlist()\n",
    "case.popup_storteddata['plotdomain']['plot_sampleprobes']    = [] #case.listboxpopupwindict['listboxsampling'].getitemlist()\n",
    "case.popup_storteddata['plotdomain']['plot_turbines']        = case.listboxpopupwindict['listboxactuator'].getitemlist()\n",
    "case.plotDomain(ax=ax)"
   ]
  },
  {
   "cell_type": "code",
   "execution_count": 18,
   "metadata": {
    "collapsed": false,
    "deletable": true,
    "editable": true,
    "jupyter": {
     "outputs_hidden": false
    }
   },
   "outputs": [
    {
     "name": "stdout",
     "output_type": "stream",
     "text": [
      "Refinement Farm_level_0_zone: level 1: 588020 cells\n",
      "Refinement Farm_level_1_zone: level 2: 588020 cells\n",
      "Refinement T0_level_2_zone: level 3: 376333 cells\n",
      "ESTIMATED MESH SIZE\n",
      "   Level       Ncells                      Cell Size\n",
      "       0      2359296             20.0 x 20.0 x 20.0\n",
      "       1       588020             10.0 x 10.0 x 10.0\n",
      "       2       588020                5.0 x 5.0 x 5.0\n",
      "       3       376333                2.5 x 2.5 x 2.5\n",
      "  TOTAL:      3911669\n"
     ]
    }
   ],
   "source": [
    "case.estimateMeshSize()"
   ]
  },
  {
   "cell_type": "markdown",
   "metadata": {
    "deletable": true,
    "editable": true
   },
   "source": [
    "### Create sampling planes"
   ]
  },
  {
   "cell_type": "code",
   "execution_count": 19,
   "metadata": {
    "deletable": true,
    "editable": true
   },
   "outputs": [],
   "source": [
    "samplingcsv=\"\"\"\n",
    "# CSV file should have columns withturbinescsv=\n",
    "# name, type, upstream, downstream, lateral, below, above, n1, n2, options\n",
    "name, type, upstream, downstream, lateral, below, above, n1, n2, options\n",
    "#cl1, centerline, 1,  0, none, none,  none,  11, 11, none\n",
    "#rp1, rotorplane, 2,  0, none, none,  none,  11, 11, none\n",
    "#sw1, streamwise, 2,  1, 1, 0.5,  0.5,  11, 11, usedx:0.25 noffsets:1\n",
    "hh,  hubheight,2560,2560,960, 0,  none,  11, 11, usedx:10 units:meter center:farm orientation:x\n",
    "\"\"\"\n",
    "case.setAMRWindInput('sampling_csvtextbox', samplingcsv)\n",
    "case.setAMRWindInput('sampling_deleteprev', True)"
   ]
  },
  {
   "cell_type": "code",
   "execution_count": 20,
   "metadata": {
    "collapsed": false,
    "deletable": true,
    "editable": true,
    "jupyter": {
     "outputs_hidden": false
    }
   },
   "outputs": [
    {
     "name": "stdout",
     "output_type": "stream",
     "text": [
      "['Farm_hh']\n"
     ]
    }
   ],
   "source": [
    "case.sampling_createAllProbes(verbose=False)\n",
    "# Print out existing list of turbines\n",
    "print(case.listboxpopupwindict['listboxsampling'].getitemlist())"
   ]
  },
  {
   "cell_type": "code",
   "execution_count": 21,
   "metadata": {
    "collapsed": false,
    "deletable": true,
    "editable": true,
    "jupyter": {
     "outputs_hidden": false
    }
   },
   "outputs": [
    {
     "name": "stdout",
     "output_type": "stream",
     "text": [
      "Plotting turbines\n"
     ]
    },
    {
     "data": {
      "image/png": "[encoded data removed]",
      "text/plain": [
       "<Figure size 1000x750 with 1 Axes>"
      ]
     },
     "metadata": {},
     "output_type": "display_data"
    }
   ],
   "source": [
    "# Plot the domain\n",
    "fig, ax = plt.subplots(figsize=(8,6), facecolor='w', dpi=125)\n",
    "case.popup_storteddata['plotdomain']['plot_refineboxes']     = [] #case.listboxpopupwindict['listboxtagging'].getitemlist()\n",
    "case.popup_storteddata['plotdomain']['plot_sampleprobes']    = case.listboxpopupwindict['listboxsampling'].getitemlist()\n",
    "case.popup_storteddata['plotdomain']['plot_turbines']        = case.listboxpopupwindict['listboxactuator'].getitemlist()\n",
    "case.plotDomain(ax=ax)"
   ]
  },
  {
   "cell_type": "code",
   "execution_count": 22,
   "metadata": {
    "collapsed": false,
    "deletable": true,
    "editable": true,
    "jupyter": {
     "outputs_hidden": false
    }
   },
   "outputs": [
    {
     "name": "stdout",
     "output_type": "stream",
     "text": [
      "# --- Simulation time control parameters ---\n",
      "time.stop_time                           = 360.0               # Max (simulated) time to evolve [s]\n",
      "time.max_step                            = -1                  \n",
      "time.fixed_dt                            = 0.1                 # Fixed timestep size (in seconds). If negative, then time.cfl is used\n",
      "incflo.physics                           = FreeStream Actuator # List of physics models to include in simulation.\n",
      "incflo.verbose                           = 0                   \n",
      "io.check_file                            = chk                 \n",
      "incflo.use_godunov                       = true                \n",
      "incflo.godunov_type                      = weno_z              \n",
      "turbulence.model                         = Laminar             \n",
      "incflo.gravity                           = 0.0 0.0 -9.81       # Gravitational acceleration vector (x,y,z) [m/s^2]\n",
      "incflo.density                           = 1.225               # Fluid density [kg/m^3]\n",
      "transport.viscosity                      = 1.872e-05           # Fluid dynamic viscosity [kg/m-s]\n",
      "transport.laminar_prandtl                = 0.7                 # Laminar prandtl number\n",
      "transport.turbulent_prandtl              = 0.3333              # Turbulent prandtl number\n",
      "ConstValue.density.value                 = 1.225               \n",
      "ConstValue.velocity.value                = 11.0 0.0 0.0        \n",
      "\n",
      "# --- Geometry and Mesh ---\n",
      "geometry.prob_lo                         = -2560.0 -960.0 -960.0\n",
      "geometry.prob_hi                         = 2560.0 960.0 960.0  \n",
      "amr.n_cell                               = 256 96 96           # Number of cells in x, y, and z directions\n",
      "amr.max_level                            = 3                   \n",
      "geometry.is_periodic                     = 0 1 1               \n",
      "xlo.type                                 = mass_inflow         \n",
      "xlo.density                              = 1.225               \n",
      "xlo.velocity                             = 11.0 0.0 0.0        \n",
      "xhi.type                                 = pressure_outflow    \n",
      "\n",
      "# --- ABL parameters ---\n",
      "ICNS.source_terms                        =    ActuatorForcing  \n",
      "incflo.velocity                          = 11.0 0.0 0.0        \n",
      "ABLForcing.abl_forcing_height            = 0.0                 \n",
      "time.plot_interval                       = 1000                \n",
      "io.plot_file                             = plt                 \n",
      "io.KE_int                                = -1                  \n",
      "Actuator.type                            = JoukowskyDisk       \n",
      "Actuator.JoukowskyDisk.epsilon           = 5.0 5.0 5.0         \n",
      "Actuator.JoukowskyDisk.density           = 1.225               \n",
      "Actuator.JoukowskyDisk.num_blades        = 3                   # Number of wind turbine blades\n",
      "Actuator.JoukowskyDisk.vortex_core_size  = 10.0                \n",
      "Actuator.JoukowskyDisk.use_tip_correction = true                # Turn on tip correction\n",
      "Actuator.JoukowskyDisk.use_root_correction = true                # Turn on root correction\n",
      "\n",
      "#---- tagging defs ----\n",
      "tagging.labels                           = Farm_level_0_zone Farm_level_1_zone T0_level_2_zone\n",
      "tagging.Farm_level_0_zone.type           = GeometryRefinement  \n",
      "tagging.Farm_level_0_zone.shapes         = Farm_level_0_zone   \n",
      "tagging.Farm_level_0_zone.level          = 0                   \n",
      "tagging.Farm_level_0_zone.Farm_level_0_zone.type = box                 \n",
      "tagging.Farm_level_0_zone.Farm_level_0_zone.origin = -1070.0 -321.0 -214.0\n",
      "tagging.Farm_level_0_zone.Farm_level_0_zone.xaxis = 2140.0 0.0 0.0      \n",
      "tagging.Farm_level_0_zone.Farm_level_0_zone.yaxis = -0.0 642.0 -0.0     \n",
      "tagging.Farm_level_0_zone.Farm_level_0_zone.zaxis = 0.0 0.0 428.0       \n",
      "tagging.Farm_level_1_zone.type           = GeometryRefinement  \n",
      "tagging.Farm_level_1_zone.shapes         = Farm_level_1_zone   \n",
      "tagging.Farm_level_1_zone.level          = 1                   \n",
      "tagging.Farm_level_1_zone.Farm_level_1_zone.type = box                 \n",
      "tagging.Farm_level_1_zone.Farm_level_1_zone.origin = -267.5 -267.5 -128.4\n",
      "tagging.Farm_level_1_zone.Farm_level_1_zone.xaxis = 535.0 0.0 0.0       \n",
      "tagging.Farm_level_1_zone.Farm_level_1_zone.yaxis = -0.0 535.0 -0.0     \n",
      "tagging.Farm_level_1_zone.Farm_level_1_zone.zaxis = 0.0 0.0 256.8       \n",
      "tagging.T0_level_2_zone.type             = GeometryRefinement  \n",
      "tagging.T0_level_2_zone.shapes           = T0_level_2_zone     \n",
      "tagging.T0_level_2_zone.level            = 2                   \n",
      "tagging.T0_level_2_zone.T0_level_2_zone.type = box                 \n",
      "tagging.T0_level_2_zone.T0_level_2_zone.origin = -107.0 -80.25 -85.60000000000001\n",
      "tagging.T0_level_2_zone.T0_level_2_zone.xaxis = 214.0 0.0 0.0       \n",
      "tagging.T0_level_2_zone.T0_level_2_zone.yaxis = -0.0 160.5 -0.0     \n",
      "tagging.T0_level_2_zone.T0_level_2_zone.zaxis = 0.0 0.0 171.20000000000002\n",
      "\n",
      "#---- actuator defs ----\n",
      "Actuator.labels                          = T0                  \n",
      "Actuator.T0.type                         = JoukowskyDisk       \n",
      "Actuator.T0.base_position                = 0.0 0.0 -80.0       \n",
      "Actuator.T0.rotor_diameter               = 107.0               \n",
      "Actuator.T0.hub_height                   = 80.0                \n",
      "Actuator.T0.fllc                         = false               \n",
      "Actuator.T0.yaw                          = 270.0               \n",
      "Actuator.T0.output_frequency             = 10                  \n",
      "Actuator.T0.diameters_to_sample          = 2.5                 \n",
      "Actuator.T0.thrust_coeff                 = 0.9417637121427401 0.8591023656623112 0.8591023656623112 0.8591023656623115 0.8591023656623114 0.8591023656623114 0.8591023656623114 0.8591023656623114 0.8591023656623115 0.859102365662311 0.8591023656623115 0.8591023656623114 0.8591023656623112 0.7946025198026082 0.7010491180644189 0.6073318868751941 0.5207061845780487 0.4435376564475198 0.4258539432711849 0.34314148550753276 0.26171231400949135 0.20244647825140952 0.15862645919422833 0.1258607265652833 0.10102264915823013 0.08221636164540955 0.06771371069636782 0.05668709221197275 0.04797694606348537 0.04122339888144193\n",
      "Actuator.T0.wind_speed                   = 3.0 3.8896499632398522 4.684006996752298 5.377830233987224 5.9665420922679235 6.446258473946166 6.813814392205923 7.066784852446476 7.203500851477442 7.223060388969041 7.3207863594297695 7.53515307893962 7.8647462371540815 8.307391303370766 8.860167873258565 9.519428936578255 10.280824938773396 11.139332477682313 11.368266947340883 12.089287446041034 13.124422401115686 14.2379079149135 15.42239763215957 16.67007673876378 17.972713521001403 19.321713675239483 20.708177009893888 22.122956165519167 23.556716965618214 25.0\n",
      "Actuator.T0.rpm                          = 5.500000000399841 6.216061563190254 7.485525980331192 8.59432702859619 9.535149259037933 10.301785483264918 10.889177726117152 11.293450596268706 11.511936854590438 11.543195011582549 11.699371185389309 12.041951298809709 12.568675138134543 13.276067579163733 14.000000000236472 14.000000000236472 14.000000000236472 14.000000000236472 14.000000000236472 14.000000000236472 14.000000000236472 14.000000000236472 14.000000000236472 14.000000000236472 14.000000000236472 14.000000000236472 14.000000000236472 14.000000000236472 14.000000000236472 14.000000000236472\n",
      "Actuator.T0.num_points_r                 = 40                  \n",
      "Actuator.T0.num_points_t                 = 5                   \n",
      "Actuator.T0.num_blades                   = 3                   \n",
      "Actuator.T0.use_tip_correction           = true                \n",
      "Actuator.T0.use_root_correction          = true                \n",
      "\n",
      "#---- postprocessing defs ----\n",
      "incflo.post_processing                   = sampling            \n",
      "sampling.type                            = Sampling            \n",
      "sampling.output_frequency                = 100                 \n",
      "sampling.fields                          = velocity            \n",
      "\n",
      "#---- sample defs ----\n",
      "sampling.labels                          = Farm_hh             \n",
      "sampling.Farm_hh.type                    = PlaneSampler        \n",
      "sampling.Farm_hh.num_points              = 513 193             \n",
      "sampling.Farm_hh.origin                  = -2560.0 -960.0 0.0  \n",
      "sampling.Farm_hh.axis1                   = 5120.0 0.0 0.0      \n",
      "sampling.Farm_hh.axis2                   = 0.0 1920.0 0.0      \n",
      "sampling.Farm_hh.normal                  = 0.0 0.0 0.0         \n",
      "\n",
      "#---- extra params ----\n",
      "#== END AMR-WIND INPUT ==\n",
      "\n"
     ]
    }
   ],
   "source": [
    "print(case.writeAMRWindInput(''))"
   ]
  },
  {
   "cell_type": "code",
   "execution_count": 23,
   "metadata": {
    "collapsed": false,
    "deletable": true,
    "editable": true,
    "jupyter": {
     "outputs_hidden": false
    }
   },
   "outputs": [],
   "source": [
    "# Clean up the temporary directory\n",
    "docleanup = True\n",
    "os.chdir(curdir)\n",
    "if docleanup:\n",
    "    try:\n",
    "        shutil.rmtree(tempdir)\n",
    "    except:\n",
    "        print(\"Error cleaning up: \"+tempdir)"
   ]
  },
  {
   "cell_type": "markdown",
   "metadata": {
    "deletable": true,
    "editable": true
   },
   "source": [
    "## Set up a wind sweep"
   ]
  },
  {
   "cell_type": "code",
   "execution_count": 24,
   "metadata": {
    "deletable": true,
    "editable": true
   },
   "outputs": [],
   "source": [
    "# Set the parameters\n",
    "case.setAMRWindInput('sweep_windspeeds', '7 9 10 11 13')\n",
    "case.setAMRWindInput('sweep_winddirs',   '270')\n",
    "case.setAMRWindInput('sweep_caseprefix', 'Calibrate_Joukowski_C{CASENUM}_EPS%0.2f_VC%0.2f_WS_{WS}'%(eps, vortex_core))\n",
    "case.setAMRWindInput('sweep_dirprefix',  'Calibrate_Joukowski_C{CASENUM}_EPS%0.2f_VC%0.2f_WS_{WS}'%(eps, vortex_core))\n",
    "case.setAMRWindInput('sweep_usenewdirs', True)\n",
    "case.setAMRWindInput('sweep_logfile',    'RunCalibration_Joukowski_EPS%0.2f_VC%0.2f_logfile_newcurves.yaml'%(eps, vortex_core))"
   ]
  },
  {
   "cell_type": "code",
   "execution_count": 25,
   "metadata": {
    "deletable": true,
    "editable": true
   },
   "outputs": [],
   "source": [
    "# Submission parameters\n",
    "case.popup_storteddata['submitscript']['submitscript_numnodes'] = 4\n",
    "case.popup_storteddata['submitscript']['submitscript_runtime']  = '4:00:00'\n",
    "case.popup_storteddata['submitscript']['submitscript_wcid']     = 'fy210193'\n",
    "case.popup_storteddata['submitscript']['submitscript_partition']= 'short,batch'\n",
    "case.popup_storteddata['submitscript']['submitscript_corespernode'] = 36\n",
    "case.popup_storteddata['submitscript']['submitscript_queue']    = 'normal'\n",
    "case.popup_storteddata['submitscript']['submitscript_jobname']  = 'GE2p4'\n",
    "case.popup_storteddata['submitscript']['submitscript_exe']      = '/projects/wind_uq/lcheung/AMRWindBuilds/awaken.20221207/amr-wind/build/amr_wind'\n",
    "\n",
    "case.setAMRWindInput('sweep_createsubmitscript', True)\n",
    "case.setAMRWindInput('sweep_submitjob',          False)"
   ]
  },
  {
   "cell_type": "code",
   "execution_count": 26,
   "metadata": {
    "collapsed": false,
    "deletable": true,
    "editable": true,
    "jupyter": {
     "outputs_hidden": false
    }
   },
   "outputs": [
    {
     "name": "stdout",
     "output_type": "stream",
     "text": [
      "       NUM           WS         WDir            Case name\n",
      "       ---           --         ----            ---------\n",
      "         0      7.00000    270.00000 Calibrate_Joukowski_C0_EPS5.00_VC10.00_WS_7.0\n",
      "Saved Calibrate_Joukowski_C0_EPS5.00_VC10.00_WS_7.0.sh\n",
      "         1      9.00000    270.00000 Calibrate_Joukowski_C1_EPS5.00_VC10.00_WS_9.0\n",
      "Saved Calibrate_Joukowski_C1_EPS5.00_VC10.00_WS_9.0.sh\n",
      "         2     10.00000    270.00000 Calibrate_Joukowski_C2_EPS5.00_VC10.00_WS_10.0\n",
      "Saved Calibrate_Joukowski_C2_EPS5.00_VC10.00_WS_10.0.sh\n",
      "         3     11.00000    270.00000 Calibrate_Joukowski_C3_EPS5.00_VC10.00_WS_11.0\n",
      "Saved Calibrate_Joukowski_C3_EPS5.00_VC10.00_WS_11.0.sh\n",
      "         4     13.00000    270.00000 Calibrate_Joukowski_C4_EPS5.00_VC10.00_WS_13.0\n",
      "Saved Calibrate_Joukowski_C4_EPS5.00_VC10.00_WS_13.0.sh\n"
     ]
    }
   ],
   "source": [
    "# Set up the cases\n",
    "case.sweep_SetupRunParamSweep(verbose=True)"
   ]
  },
  {
   "cell_type": "markdown",
   "metadata": {
    "deletable": true,
    "editable": true
   },
   "source": [
    "### Save the calibration"
   ]
  },
  {
   "cell_type": "code",
   "execution_count": 27,
   "metadata": {
    "collapsed": false,
    "deletable": true,
    "editable": true,
    "jupyter": {
     "outputs_hidden": false
    }
   },
   "outputs": [
    {
     "name": "stdout",
     "output_type": "stream",
     "text": [
      "Saved farm setup to TurbineCalibrateGE2p4_Joukowski_EPS5.00_VC10.00_newcurves.yaml\n"
     ]
    }
   ],
   "source": [
    "# Save the wind farm setup\n",
    "case.setAMRWindInput('farm_usercomments', 'Test calibration process.')\n",
    "case.writeFarmSetupYAML('TurbineCalibrateGE2p4_Joukowski_EPS%0.2f_VC%0.2f_newcurves.yaml'%(eps, vortex_core))"
   ]
  }
 ],
 "metadata": {
  "kernelspec": {
   "display_name": "Python 3 (ipykernel)",
   "language": "python",
   "name": "python3"
  },
  "language_info": {
   "codemirror_mode": {
    "name": "ipython",
    "version": 3
   },
   "file_extension": ".py",
   "mimetype": "text/x-python",
   "name": "python",
   "nbconvert_exporter": "python",
   "pygments_lexer": "ipython3",
   "version": "3.9.12"
  }
 },
 "nbformat": 4,
 "nbformat_minor": 4
}
