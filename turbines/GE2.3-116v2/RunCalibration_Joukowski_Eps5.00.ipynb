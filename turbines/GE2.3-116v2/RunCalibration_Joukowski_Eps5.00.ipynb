{
 "cells": [
  {
   "cell_type": "markdown",
   "metadata": {},
   "source": [
    "# Turbine check-out/calibration notebook (for Joukowski airfoil)\n",
    "\n",
    "Use this notebook to set up a series of runs for turbine calibration and check-out"
   ]
  },
  {
   "cell_type": "code",
   "execution_count": 1,
   "metadata": {},
   "outputs": [],
   "source": [
    "%%capture \n",
    "\n",
    "# Important header information\n",
    "amrwindfedir = '/projects/wind_uq/lcheung/amrwind-frontend'\n",
    "import sys, os\n",
    "sys.path.insert(1, amrwindfedir)\n",
    "\n",
    "# Load the libraries\n",
    "import matplotlib.pyplot    as plt\n",
    "import amrwind_frontend as amrwind\n",
    "import tempfile\n",
    "import shutil\n",
    "# Also ignore warnings\n",
    "import warnings\n",
    "warnings.filterwarnings('ignore')\n",
    "\n",
    "# Make all plots inline \n",
    "%matplotlib inline"
   ]
  },
  {
   "cell_type": "markdown",
   "metadata": {},
   "source": [
    "**Note**: Make sure there is a turbine file which looks like:"
   ]
  },
  {
   "cell_type": "code",
   "execution_count": 2,
   "metadata": {},
   "outputs": [
    {
     "name": "stdout",
     "output_type": "stream",
     "text": [
      "turbines:\n",
      "  Joukowski_GE2.3-116_calib:\n",
      "    turbinetype_name:    \"NREL GE2.3-116v2 Joukowski Calib\"\n",
      "    turbinetype_comment: \"Dummy layout\"\n",
      "    Actuator_type:                JoukowskyDisk\n",
      "    Actuator_rotor_diameter:      116\n",
      "    Actuator_hub_height:          79.13     \n",
      "    Actuator_output_frequency:    10                   \n",
      "    Actuator_diameters_to_sample: 2.5     # How far upstream to sample inflow wind\n",
      "    #Actuator_epsilon:             [5.0]   # Epsilon in Z (might need to play with this guy)\n",
      "    Actuator_num_points_r:        40      # number of radial (might need to play with this guy)\n",
      "    Actuator_num_points_t:        5       # number of pts in theta (might need to play with this guy)\n",
      "    #Actuator_vortex_core_size:    24.0    # might need to play with this\n",
      "    # --------------------\n",
      "    # Performance tables come from https://raw.githubusercontent.com/NREL/openfast-turbine-models/master/IEA-scaled/NREL-2.3-116/NREL-2.3-116_openfast.csv\n",
      "    #    Actuator_wind_speed:          3.0 3.889649963239854 4.684006996752303 5.377830233987229 5.966542092267928 6.44625847394617 6.8138143922059236 7.066784852446481 7.203500851477444 7.22306038896904 7.320786359429763 7.535153078939617 7.864746237154081 8.30739130337076 8.860167873258558 9.519428936578247 10.01709524341205 10.280824938773394 11.13933247768231 12.08928744604103 13.12442240111568 14.237907914913496 15.422397632159566 16.670076738763772 17.972713521001396 19.321713675239476 20.708177009893884 22.122956165519163 23.556716965618207 25.0\n",
      "    #    Actuator_rpm:                 8.000000000407963 8.000000000407963 8.000000000407963 8.000000000407963 8.820804709636782 9.530006866155707 10.073393458373337 10.447379427563192 10.649497356086282 10.678413746477254 10.82288967359941 11.139804720841314 11.627068002870239 12.28146474128283 13.098677474494233 13.141137992834643 13.141137992834643 13.141137992834643 13.141137992834643 13.141137992834643 13.141137992834643 13.141137992834643 13.141137992834643 13.141137992834643 13.141137992834643 13.141137992834643 13.141137992834643 13.141137992834643 13.141137992834643 13.141137992834643\n",
      "    #    Actuator_thrust_coeff:        1.2462484956961044 1.0247943895486031 0.9002961788233221 0.8143816314802245 0.8104332652811037 0.810433265281104 0.8104332652811039 0.8104332652811042 0.810433265281104 0.8104332652811043 0.8104332652811038 0.810433265281104 0.810433265281104 0.7886827403771377 0.6937489366157893 0.6010157398581168 0.5427817189347348 0.48817911572045647 0.3643189846759946 0.2770706876157706 0.21322931756320146 0.16585179814876688 0.13034963427577897 0.1036585435375446 0.08346848219209906 0.06803420635239847 0.056241478722354264 0.047164551864117034 0.040177805200456614 0.03469454930226299\n",
      "    Actuator_wind_speed:          3.0 3.88964996324 4.68400699675 5.37783023399 5.96654209227 6.44625847395 6.81381439221 7.06678485245 7.20350085148 7.22306038897 7.32078635943 7.53515307894 7.86474623715 8.30739130337 8.86016787326 9.51942893658 10.2808249388 10.666701665 11.1393324777 12.089287446 13.1244224011 14.2379079149 15.4223976322 16.6700767388 17.972713521 19.3217136752 20.7081770099 22.1229561655 23.5567169656 25.0\n",
      "    Actuator_rpm:                 5.5000000004 5.75037302746 6.92473300917 7.95046603577 8.82080470964 9.53000686616 10.0733934584 10.4473794276 10.6494973561 10.6784137465 10.8228896736 11.1398047208 11.6270680029 12.2814647413 13.0986774745 13.1411379928 13.1411379928 13.1411379928 13.1411379928 13.1411379928 13.1411379928 13.1411379928 13.1411379928 13.1411379928 13.1411379928 13.1411379928 13.1411379928 13.1411379928 13.1411379928 13.1411379928\n",
      "    Actuator_thrust_coeff:        0.954507219906 0.825528199043 0.825528199043 0.825528199043 0.825528199043 0.825528199043 0.825528199043 0.825528199043 0.825528199043 0.825528199043 0.825528199043 0.825528199043 0.783349572265 0.70350019482 0.618468919247 0.535777323951 0.459357035319 0.42672327994 0.365913371426 0.278322400085 0.214295350009 0.16682330754 0.131321242632 0.104627252356 0.0843043046388 0.0688873781101 0.0570148296211 0.0479287006257 0.0408743046551 0.0353712993522\n",
      "    # --------------------\n",
      "    Actuator_use_tip_correction:  True\n",
      "    Actuator_use_root_correction: True\n",
      "    Actuator_num_blades:          3\n",
      "\n",
      "\n"
     ]
    }
   ],
   "source": [
    "with open(amrwindfedir+\"/turbines/nrel23-116v2_calib.yaml\")as f: print(f.read())"
   ]
  },
  {
   "cell_type": "markdown",
   "metadata": {},
   "source": [
    "Note that both `Actuator_epsilon` and `Actuator_epsilon_tower` are commented out.  We can set those values later."
   ]
  },
  {
   "cell_type": "code",
   "execution_count": 3,
   "metadata": {},
   "outputs": [],
   "source": [
    "# Start the amrwind_frontend app \n",
    "case = amrwind.MyApp.init_nogui()"
   ]
  },
  {
   "cell_type": "code",
   "execution_count": 4,
   "metadata": {},
   "outputs": [
    {
     "name": "stdout",
     "output_type": "stream",
     "text": [
      "Using temporary directory: /tmp/tempturbine-OnL7mI\n"
     ]
    }
   ],
   "source": [
    "curdir=os.getcwd()\n",
    "\n",
    "# Create a temporary working directory and switch to it\n",
    "\n",
    "# Uncomment these lines to make your own tempdir\n",
    "## tempdir = 'tempturbinedir'\n",
    "## os.mkdir(tempdir)\n",
    "# Otherwise use a system temporary directory\n",
    "tempdir = tempfile.mkdtemp(prefix='tempturbine-')\n",
    "os.chdir(tempdir)\n",
    "print('Using temporary directory: '+tempdir)"
   ]
  },
  {
   "cell_type": "markdown",
   "metadata": {},
   "source": [
    "## Set up the basic simulation properties"
   ]
  },
  {
   "cell_type": "code",
   "execution_count": 5,
   "metadata": {},
   "outputs": [],
   "source": [
    "rhodensity = 1.225\n",
    "WS         = 11.0                                     # This is temporary, we will vary across a range below\n",
    "eps        = 5.0\n",
    "vortex_core = 13.0\n",
    "case.setAMRWindInput('useWSDir', True)\n",
    "case.setAMRWindInput('ABL_windspeed', WS, forcechange=True)\n",
    "case.setAMRWindInput('ABL_winddir', 270,  forcechange=True)\n",
    "case.ABL_calculateWindVector()"
   ]
  },
  {
   "cell_type": "code",
   "execution_count": 6,
   "metadata": {},
   "outputs": [],
   "source": [
    "case.setAMRWindInput('time_control',   ['const dt'])\n",
    "case.setAMRWindInput('time.stop_time', 360)\n",
    "case.setAMRWindInput('time.fixed_dt',  0.1)\n",
    "case.setAMRWindInput('incflo.physics', ['FreeStream', 'Actuator'])"
   ]
  },
  {
   "cell_type": "code",
   "execution_count": 7,
   "metadata": {},
   "outputs": [],
   "source": [
    "case.setAMRWindInput('ConstValue.density.value',  rhodensity)\n",
    "case.setAMRWindInput('incflo.density',            rhodensity)\n",
    "case.setAMRWindInput('incflo.velocity',           [WS, 0.0, 0.0])\n",
    "case.setAMRWindInput('ConstValue.velocity.value', [WS, 0.0, 0.0])\n",
    "case.setAMRWindInput('turbulence.model',          ['Laminar'])"
   ]
  },
  {
   "cell_type": "markdown",
   "metadata": {},
   "source": [
    "## Set the BC's"
   ]
  },
  {
   "cell_type": "code",
   "execution_count": 8,
   "metadata": {},
   "outputs": [],
   "source": [
    "case.setAMRWindInput('is_periodicx', False)\n",
    "case.setAMRWindInput('is_periodicy', True)\n",
    "case.setAMRWindInput('is_periodicz', True)  \n",
    "\n",
    "case.setAMRWindInput('xlo.type', 'mass_inflow')\n",
    "case.setAMRWindInput('xhi.type', 'pressure_outflow')\n",
    "case.setAMRWindInput('xlo.density',  rhodensity)\n",
    "case.setAMRWindInput('xlo.velocity', [WS, 0.0, 0.0])"
   ]
  },
  {
   "cell_type": "code",
   "execution_count": 9,
   "metadata": {},
   "outputs": [],
   "source": [
    "# Add the turbine specifications flag\n",
    "## Note that the options field can have things like:\n",
    "##    ADparam_TwrAero:False ADparam_TwrShadow:0 FSTparam_TMax:181234.0\n",
    "## To specify changes to the OpenFAST model\n",
    "turbinescsv=\"\"\"\n",
    "# CSV file should have columns with\n",
    "# name, x, y, type, yaw, hubheight, options\n",
    "T0,     0, 0, NREL GE2.3-116v2 Joukowski Calib, 270.0, 0.0, \n",
    "\"\"\"\n",
    "case.setAMRWindInput('turbines_csvtextbox',  turbinescsv)"
   ]
  },
  {
   "cell_type": "code",
   "execution_count": 10,
   "metadata": {},
   "outputs": [],
   "source": [
    "case.setAMRWindInput('turbines_domainsize', [2560.0*2, 960.0*2, 960.0*2])\n",
    "case.setAMRWindInput('turbines_backgroundmeshsize', 20.0)\n",
    "case.setAMRWindInput('turbines_deleteprev', True)\n",
    "case.setAMRWindInput('turbines_freespace', True)   # Make this have no ground\n",
    "#case.setAMRWindInput('zlo_type', 'slip_wall')\n",
    "#case.setAMRWindInput('zhi_type', 'slip_wall')"
   ]
  },
  {
   "cell_type": "code",
   "execution_count": 11,
   "metadata": {},
   "outputs": [
    {
     "data": {
      "image/png": "[encoded data removed]",
      "text/plain": [
       "<Figure size 750x750 with 1 Axes>"
      ]
     },
     "metadata": {},
     "output_type": "display_data"
    }
   ],
   "source": [
    "# Preview the turbine layout\n",
    "fig, ax = plt.subplots(figsize=(5,5), facecolor='w', dpi=150)\n",
    "case.turbines_previewAllTurbines(ax=ax)"
   ]
  },
  {
   "cell_type": "code",
   "execution_count": 12,
   "metadata": {},
   "outputs": [
    {
     "name": "stdout",
     "output_type": "stream",
     "text": [
      "CANNOT update: ABLMeanBoussinesq use forcechange=True in setval()\n",
      "['T0']\n"
     ]
    }
   ],
   "source": [
    "# Now create the turbines\n",
    "case.turbines_createAllTurbines()\n",
    "\n",
    "# Print out existing list of turbines, just to confirm that the turbines got made\n",
    "print(case.listboxpopupwindict['listboxactuator'].getitemlist())"
   ]
  },
  {
   "cell_type": "code",
   "execution_count": 13,
   "metadata": {},
   "outputs": [],
   "source": [
    "# Set some globals\n",
    "case.setAMRWindInput('Actuator_default_type', ['JoukowskyDisk'])\n",
    "case.setAMRWindInput('Actuator_JoukowskyDisk_density',       rhodensity,      forcechange=True)\n",
    "case.setAMRWindInput('Actuator_JoukowskyDisk_epsilon',       [eps, eps, eps], forcechange=True)  # You can change this\n",
    "case.setAMRWindInput('Actuator_JoukowskyDisk_vortex_core_size', vortex_core, forcechange=True)  # You can change this"
   ]
  },
  {
   "cell_type": "markdown",
   "metadata": {},
   "source": [
    "## Add turbine refinement"
   ]
  },
  {
   "cell_type": "code",
   "execution_count": 14,
   "metadata": {},
   "outputs": [],
   "source": [
    "refinementcsv=\"\"\"\n",
    "# CSV file should have columns with\n",
    "# level, upstream, downstream, lateral, below, above, options\n",
    "level, upstream, downstream, lateral, below, above, options\n",
    "0,     10,       10,         3,       2,     2,     center:farm\n",
    "1,     2.5,      2.5,        2.5,     1.2,   1.2,   center:farm\n",
    "2,     1,        1,          0.75,    0.8,   0.8,   center:farm\n",
    "\"\"\"\n",
    "case.setAMRWindInput('refine_csvtextbox', refinementcsv)\n",
    "case.setAMRWindInput('refine_deleteprev', True)"
   ]
  },
  {
   "cell_type": "code",
   "execution_count": 15,
   "metadata": {},
   "outputs": [
    {
     "name": "stdout",
     "output_type": "stream",
     "text": [
      "['Farm_level_0_zone', 'Farm_level_1_zone', 'Farm_level_2_zone']\n"
     ]
    }
   ],
   "source": [
    "case.refine_createAllZones()\n",
    "# Print out existing list of turbines\n",
    "print(case.listboxpopupwindict['listboxtagging'].getitemlist())"
   ]
  },
  {
   "cell_type": "code",
   "execution_count": 16,
   "metadata": {},
   "outputs": [
    {
     "data": {
      "image/png": "[encoded data removed]",
      "text/plain": [
       "<Figure size 625x625 with 1 Axes>"
      ]
     },
     "metadata": {},
     "output_type": "display_data"
    }
   ],
   "source": [
    "# Plot the domain\n",
    "fig, ax2 = plt.subplots(figsize=(5,5), facecolor='w', dpi=125)\n",
    "case.popup_storteddata['plotdomain']['plot_turbines']        = case.listboxpopupwindict['listboxactuator'].getitemlist()\n",
    "case.popup_storteddata['plotdomain']['plot_refineboxes']     = case.listboxpopupwindict['listboxtagging'].getitemlist()\n",
    "case.plotDomain(ax=ax2)"
   ]
  },
  {
   "cell_type": "code",
   "execution_count": 17,
   "metadata": {},
   "outputs": [
    {
     "data": {
      "image/png": "[encoded data removed]",
      "text/plain": [
       "<Figure size 1000x750 with 1 Axes>"
      ]
     },
     "metadata": {},
     "output_type": "display_data"
    }
   ],
   "source": [
    "# Plot the domain\n",
    "fig, ax = plt.subplots(figsize=(8,6), facecolor='w', dpi=125)\n",
    "case.popup_storteddata['plotdomain']['plot_chooseview']      = 'YZ'\n",
    "case.popup_storteddata['plotdomain']['plot_refineboxes']     = case.listboxpopupwindict['listboxtagging'].getitemlist()\n",
    "case.popup_storteddata['plotdomain']['plot_sampleprobes']    = [] #case.listboxpopupwindict['listboxsampling'].getitemlist()\n",
    "case.popup_storteddata['plotdomain']['plot_turbines']        = case.listboxpopupwindict['listboxactuator'].getitemlist()\n",
    "case.plotDomain(ax=ax)"
   ]
  },
  {
   "cell_type": "code",
   "execution_count": 18,
   "metadata": {},
   "outputs": [
    {
     "name": "stdout",
     "output_type": "stream",
     "text": [
      "Refinement Farm_level_0_zone: level 1: 749230 cells\n",
      "Refinement Farm_level_1_zone: level 2: 749230 cells\n",
      "Refinement Farm_level_2_zone: level 3: 479507 cells\n",
      "ESTIMATED MESH SIZE\n",
      "   Level       Ncells                      Cell Size\n",
      "       0      2359296             20.0 x 20.0 x 20.0\n",
      "       1       749230             10.0 x 10.0 x 10.0\n",
      "       2       749230                5.0 x 5.0 x 5.0\n",
      "       3       479507                2.5 x 2.5 x 2.5\n",
      "  TOTAL:      4337263\n"
     ]
    }
   ],
   "source": [
    "case.estimateMeshSize()"
   ]
  },
  {
   "cell_type": "markdown",
   "metadata": {},
   "source": [
    "### Create sampling planes"
   ]
  },
  {
   "cell_type": "code",
   "execution_count": 19,
   "metadata": {},
   "outputs": [],
   "source": [
    "samplingcsv=\"\"\"\n",
    "# CSV file should have columns withturbinescsv=\n",
    "# name, type, upstream, downstream, lateral, below, above, n1, n2, options\n",
    "name, type, upstream, downstream, lateral, below, above, n1, n2, options\n",
    "#cl1, centerline, 1,  0, none, none,  none,  11, 11, none\n",
    "#rp1, rotorplane, 2,  0, none, none,  none,  11, 11, none\n",
    "#sw1, streamwise, 2,  1, 1, 0.5,  0.5,  11, 11, usedx:0.25 noffsets:1\n",
    "hh,  hubheight,2560,2560,960, 0,  none,  11, 11, usedx:10 units:meter center:farm orientation:x\n",
    "\"\"\"\n",
    "case.setAMRWindInput('sampling_csvtextbox', samplingcsv)\n",
    "case.setAMRWindInput('sampling_deleteprev', True)"
   ]
  },
  {
   "cell_type": "code",
   "execution_count": 20,
   "metadata": {},
   "outputs": [
    {
     "name": "stdout",
     "output_type": "stream",
     "text": [
      "['Farm_hh']\n"
     ]
    }
   ],
   "source": [
    "case.sampling_createAllProbes(verbose=False)\n",
    "# Print out existing list of turbines\n",
    "print(case.listboxpopupwindict['listboxsampling'].getitemlist())"
   ]
  },
  {
   "cell_type": "code",
   "execution_count": 21,
   "metadata": {},
   "outputs": [
    {
     "data": {
      "image/png": "[encoded data removed]",
      "text/plain": [
       "<Figure size 1000x750 with 1 Axes>"
      ]
     },
     "metadata": {},
     "output_type": "display_data"
    }
   ],
   "source": [
    "# Plot the domain\n",
    "fig, ax = plt.subplots(figsize=(8,6), facecolor='w', dpi=125)\n",
    "case.popup_storteddata['plotdomain']['plot_refineboxes']     = [] #case.listboxpopupwindict['listboxtagging'].getitemlist()\n",
    "case.popup_storteddata['plotdomain']['plot_sampleprobes']    = case.listboxpopupwindict['listboxsampling'].getitemlist()\n",
    "case.popup_storteddata['plotdomain']['plot_turbines']        = case.listboxpopupwindict['listboxactuator'].getitemlist()\n",
    "case.plotDomain(ax=ax)"
   ]
  },
  {
   "cell_type": "code",
   "execution_count": 22,
   "metadata": {
    "scrolled": false
   },
   "outputs": [
    {
     "name": "stdout",
     "output_type": "stream",
     "text": [
      "# --- Simulation time control parameters ---\n",
      "time.stop_time                           = 360.0               # Max (simulated) time to evolve [s]\n",
      "time.max_step                            = -1                  \n",
      "time.fixed_dt                            = 0.1                 # Fixed timestep size (in seconds). If negative, then time.cfl is used\n",
      "incflo.physics                           = FreeStream Actuator # List of physics models to include in simulation.\n",
      "incflo.verbose                           = 0                   \n",
      "io.check_file                            = chk                 \n",
      "incflo.use_godunov                       = true                \n",
      "incflo.godunov_type                      = weno_z              \n",
      "turbulence.model                         = Laminar             \n",
      "incflo.gravity                           = 0.0 0.0 -9.81       # Gravitational acceleration vector (x,y,z) [m/s^2]\n",
      "incflo.density                           = 1.225               # Fluid density [kg/m^3]\n",
      "transport.viscosity                      = 1.872e-05           # Fluid dynamic viscosity [kg/m-s]\n",
      "transport.laminar_prandtl                = 0.7                 # Laminar prandtl number\n",
      "transport.turbulent_prandtl              = 0.3333              # Turbulent prandtl number\n",
      "ConstValue.density.value                 = 1.225               \n",
      "ConstValue.velocity.value                = 11.0 0.0 0.0        \n",
      "\n",
      "# --- Geometry and Mesh ---\n",
      "geometry.prob_lo                         = -2560.0 -960.0 -960.0\n",
      "geometry.prob_hi                         = 2560.0 960.0 960.0  \n",
      "amr.n_cell                               = 256 96 96           # Number of cells in x, y, and z directions\n",
      "amr.max_level                            = 3                   \n",
      "geometry.is_periodic                     = 0 1 1               \n",
      "xlo.type                                 = mass_inflow         \n",
      "xlo.density                              = 1.225               \n",
      "xlo.velocity                             = 11.0 0.0 0.0        \n",
      "xhi.type                                 = pressure_outflow    \n",
      "\n",
      "# --- ABL parameters ---\n",
      "ICNS.source_terms                        =    ActuatorForcing  \n",
      "incflo.velocity                          = 11.0 0.0 0.0        \n",
      "ABLForcing.abl_forcing_height            = 0.0                 \n",
      "time.plot_interval                       = 1000                \n",
      "io.plot_file                             = plt                 \n",
      "io.KE_int                                = -1                  \n",
      "Actuator.type                            = JoukowskyDisk       \n",
      "Actuator.JoukowskyDisk.epsilon           = 5.0 5.0 5.0         \n",
      "Actuator.JoukowskyDisk.density           = 1.225               \n",
      "Actuator.JoukowskyDisk.num_blades        = 3                   # Number of wind turbine blades\n",
      "Actuator.JoukowskyDisk.vortex_core_size  = 13.0                \n",
      "Actuator.JoukowskyDisk.use_tip_correction = true                # Turn on tip correction\n",
      "Actuator.JoukowskyDisk.use_root_correction = true                # Turn on root correction\n",
      "\n",
      "#---- tagging defs ----\n",
      "tagging.labels                           = Farm_level_0_zone Farm_level_1_zone Farm_level_2_zone\n",
      "tagging.Farm_level_0_zone.type           = GeometryRefinement  \n",
      "tagging.Farm_level_0_zone.shapes         = Farm_level_0_zone   \n",
      "tagging.Farm_level_0_zone.level          = 0                   \n",
      "tagging.Farm_level_0_zone.Farm_level_0_zone.type = box                 \n",
      "tagging.Farm_level_0_zone.Farm_level_0_zone.origin = -1160.0 -348.0 -232.0\n",
      "tagging.Farm_level_0_zone.Farm_level_0_zone.xaxis = 2320.0 0.0 0.0      \n",
      "tagging.Farm_level_0_zone.Farm_level_0_zone.yaxis = -0.0 696.0 -0.0     \n",
      "tagging.Farm_level_0_zone.Farm_level_0_zone.zaxis = 0.0 0.0 464.0       \n",
      "tagging.Farm_level_1_zone.type           = GeometryRefinement  \n",
      "tagging.Farm_level_1_zone.shapes         = Farm_level_1_zone   \n",
      "tagging.Farm_level_1_zone.level          = 1                   \n",
      "tagging.Farm_level_1_zone.Farm_level_1_zone.type = box                 \n",
      "tagging.Farm_level_1_zone.Farm_level_1_zone.origin = -290.0 -290.0 -139.2\n",
      "tagging.Farm_level_1_zone.Farm_level_1_zone.xaxis = 580.0 0.0 0.0       \n",
      "tagging.Farm_level_1_zone.Farm_level_1_zone.yaxis = -0.0 580.0 -0.0     \n",
      "tagging.Farm_level_1_zone.Farm_level_1_zone.zaxis = 0.0 0.0 278.4       \n",
      "tagging.Farm_level_2_zone.type           = GeometryRefinement  \n",
      "tagging.Farm_level_2_zone.shapes         = Farm_level_2_zone   \n",
      "tagging.Farm_level_2_zone.level          = 2                   \n",
      "tagging.Farm_level_2_zone.Farm_level_2_zone.type = box                 \n",
      "tagging.Farm_level_2_zone.Farm_level_2_zone.origin = -116.0 -87.0 -92.8  \n",
      "tagging.Farm_level_2_zone.Farm_level_2_zone.xaxis = 232.0 0.0 0.0       \n",
      "tagging.Farm_level_2_zone.Farm_level_2_zone.yaxis = -0.0 174.0 -0.0     \n",
      "tagging.Farm_level_2_zone.Farm_level_2_zone.zaxis = 0.0 0.0 185.6       \n",
      "\n",
      "#---- actuator defs ----\n",
      "Actuator.labels                          = T0                  \n",
      "Actuator.T0.type                         = JoukowskyDisk       \n",
      "Actuator.T0.base_position                = 0.0 0.0 -79.13      \n",
      "Actuator.T0.rotor_diameter               = 116.0               \n",
      "Actuator.T0.hub_height                   = 79.13               \n",
      "Actuator.T0.fllc                         = false               \n",
      "Actuator.T0.yaw                          = 270.0               \n",
      "Actuator.T0.output_frequency             = 10                  \n",
      "Actuator.T0.diameters_to_sample          = 2.5                 \n",
      "Actuator.T0.thrust_coeff                 = 0.954507219906 0.825528199043 0.825528199043 0.825528199043 0.825528199043 0.825528199043 0.825528199043 0.825528199043 0.825528199043 0.825528199043 0.825528199043 0.825528199043 0.783349572265 0.70350019482 0.618468919247 0.535777323951 0.459357035319 0.42672327994 0.365913371426 0.278322400085 0.214295350009 0.16682330754 0.131321242632 0.104627252356 0.0843043046388 0.0688873781101 0.0570148296211 0.0479287006257 0.0408743046551 0.0353712993522\n",
      "Actuator.T0.wind_speed                   = 3.0 3.88964996324 4.68400699675 5.37783023399 5.96654209227 6.44625847395 6.81381439221 7.06678485245 7.20350085148 7.22306038897 7.32078635943 7.53515307894 7.86474623715 8.30739130337 8.86016787326 9.51942893658 10.2808249388 10.666701665 11.1393324777 12.089287446 13.1244224011 14.2379079149 15.4223976322 16.6700767388 17.972713521 19.3217136752 20.7081770099 22.1229561655 23.5567169656 25.0\n",
      "Actuator.T0.rpm                          = 5.5000000004 5.75037302746 6.92473300917 7.95046603577 8.82080470964 9.53000686616 10.0733934584 10.4473794276 10.6494973561 10.6784137465 10.8228896736 11.1398047208 11.6270680029 12.2814647413 13.0986774745 13.1411379928 13.1411379928 13.1411379928 13.1411379928 13.1411379928 13.1411379928 13.1411379928 13.1411379928 13.1411379928 13.1411379928 13.1411379928 13.1411379928 13.1411379928 13.1411379928 13.1411379928\n",
      "Actuator.T0.num_points_r                 = 40                  \n",
      "Actuator.T0.num_points_t                 = 5                   \n",
      "Actuator.T0.num_blades                   = 3                   \n",
      "Actuator.T0.use_tip_correction           = true                \n",
      "Actuator.T0.use_root_correction          = true                \n",
      "\n",
      "#---- postprocessing defs ----\n",
      "incflo.post_processing                   = sampling            \n",
      "sampling.type                            = Sampling            \n",
      "sampling.output_frequency                = 100                 \n",
      "sampling.fields                          = velocity            \n",
      "\n",
      "#---- sample defs ----\n",
      "sampling.labels                          = Farm_hh             \n",
      "sampling.Farm_hh.type                    = PlaneSampler        \n",
      "sampling.Farm_hh.num_points              = 513 193             \n",
      "sampling.Farm_hh.origin                  = -2560.0 -960.0 0.0  \n",
      "sampling.Farm_hh.axis1                   = 5120.0 0.0 0.0      \n",
      "sampling.Farm_hh.axis2                   = 0.0 1920.0 0.0      \n",
      "sampling.Farm_hh.normal                  = 0.0 0.0 0.0         \n",
      "\n",
      "#---- extra params ----\n",
      "#== END AMR-WIND INPUT ==\n",
      "\n"
     ]
    }
   ],
   "source": [
    "print(case.writeAMRWindInput(''))"
   ]
  },
  {
   "cell_type": "code",
   "execution_count": 23,
   "metadata": {},
   "outputs": [],
   "source": [
    "# Clean up the temporary directory\n",
    "docleanup = True\n",
    "os.chdir(curdir)\n",
    "if docleanup:\n",
    "    try:\n",
    "        shutil.rmtree(tempdir)\n",
    "    except:\n",
    "        print(\"Error cleaning up: \"+tempdir)"
   ]
  },
  {
   "cell_type": "markdown",
   "metadata": {},
   "source": [
    "## Set up a wind sweep"
   ]
  },
  {
   "cell_type": "code",
   "execution_count": 24,
   "metadata": {},
   "outputs": [],
   "source": [
    "# Set the parameters\n",
    "case.setAMRWindInput('sweep_windspeeds', '5 7 9 10 11 13 16')\n",
    "case.setAMRWindInput('sweep_winddirs',   '270')\n",
    "case.setAMRWindInput('sweep_caseprefix', 'Calibrate_Joukowski_{CASENUM}_EPS%0.2f_WS_{WS}'%eps)\n",
    "case.setAMRWindInput('sweep_dirprefix',  'Calibrate_Joukowski_{CASENUM}_EPS%0.2f_WS_{WS}'%eps)\n",
    "case.setAMRWindInput('sweep_usenewdirs', True)\n",
    "case.setAMRWindInput('sweep_logfile',    'RunCalibration_Joukowski_Eps5.00_logfile.yaml')"
   ]
  },
  {
   "cell_type": "code",
   "execution_count": 25,
   "metadata": {},
   "outputs": [],
   "source": [
    "# Submission parameters\n",
    "case.popup_storteddata['submitscript']['submitscript_numnodes'] = 4\n",
    "case.popup_storteddata['submitscript']['submitscript_runtime']  = '04:00:00'\n",
    "case.popup_storteddata['submitscript']['submitscript_wcid']     = 'fy210193'\n",
    "case.popup_storteddata['submitscript']['submitscript_partition']= 'batch,short'\n",
    "case.popup_storteddata['submitscript']['submitscript_corespernode'] = 36\n",
    "case.popup_storteddata['submitscript']['submitscript_queue']    = 'normal'\n",
    "case.popup_storteddata['submitscript']['submitscript_jobname']  = 'GE2p3-116'\n",
    "case.popup_storteddata['submitscript']['submitscript_exe']      = '/projects/wind_uq/lcheung/AMRWindBuilds/awaken.20221207/amr-wind/build/amr_wind'\n",
    "\n",
    "case.setAMRWindInput('sweep_createsubmitscript', True)\n",
    "case.setAMRWindInput('sweep_submitjob',          False)"
   ]
  },
  {
   "cell_type": "code",
   "execution_count": 26,
   "metadata": {},
   "outputs": [
    {
     "name": "stdout",
     "output_type": "stream",
     "text": [
      "       NUM           WS         WDir            Case name\n",
      "       ---           --         ----            ---------\n",
      "         0      5.00000    270.00000 Calibrate_Joukowski_0_EPS5.00_WS_5.0\n",
      "Saved Calibrate_Joukowski_0_EPS5.00_WS_5.0.sh\n",
      "         1      7.00000    270.00000 Calibrate_Joukowski_1_EPS5.00_WS_7.0\n",
      "Saved Calibrate_Joukowski_1_EPS5.00_WS_7.0.sh\n",
      "         2      9.00000    270.00000 Calibrate_Joukowski_2_EPS5.00_WS_9.0\n",
      "Saved Calibrate_Joukowski_2_EPS5.00_WS_9.0.sh\n",
      "         3     10.00000    270.00000 Calibrate_Joukowski_3_EPS5.00_WS_10.0\n",
      "Saved Calibrate_Joukowski_3_EPS5.00_WS_10.0.sh\n",
      "         4     11.00000    270.00000 Calibrate_Joukowski_4_EPS5.00_WS_11.0\n",
      "Saved Calibrate_Joukowski_4_EPS5.00_WS_11.0.sh\n",
      "         5     13.00000    270.00000 Calibrate_Joukowski_5_EPS5.00_WS_13.0\n",
      "Saved Calibrate_Joukowski_5_EPS5.00_WS_13.0.sh\n",
      "         6     16.00000    270.00000 Calibrate_Joukowski_6_EPS5.00_WS_16.0\n",
      "Saved Calibrate_Joukowski_6_EPS5.00_WS_16.0.sh\n"
     ]
    }
   ],
   "source": [
    "# Set up the cases\n",
    "case.sweep_SetupRunParamSweep(verbose=True)"
   ]
  },
  {
   "cell_type": "markdown",
   "metadata": {},
   "source": [
    "### Save the calibration"
   ]
  },
  {
   "cell_type": "code",
   "execution_count": 27,
   "metadata": {},
   "outputs": [
    {
     "name": "stdout",
     "output_type": "stream",
     "text": [
      "Saved farm setup to TurbineCalibrateGE2p8_Joukowski_Eps5.00.yaml\n"
     ]
    }
   ],
   "source": [
    "# Save the wind farm setup\n",
    "case.setAMRWindInput('farm_usercomments', 'Test calibration process.')\n",
    "case.writeFarmSetupYAML('TurbineCalibrateGE2p8_Joukowski_Eps5.00.yaml')"
   ]
  },
  {
   "cell_type": "code",
   "execution_count": null,
   "metadata": {},
   "outputs": [],
   "source": []
  }
 ],
 "metadata": {
  "kernelspec": {
   "display_name": "Python 2",
   "language": "python",
   "name": "python2"
  },
  "language_info": {
   "codemirror_mode": {
    "name": "ipython",
    "version": 2
   },
   "file_extension": ".py",
   "mimetype": "text/x-python",
   "name": "python",
   "nbconvert_exporter": "python",
   "pygments_lexer": "ipython2",
   "version": "2.7.5"
  }
 },
 "nbformat": 4,
 "nbformat_minor": 2
}
