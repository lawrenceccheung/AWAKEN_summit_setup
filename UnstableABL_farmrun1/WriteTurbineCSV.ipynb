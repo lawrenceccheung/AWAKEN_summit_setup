{
 "cells": [
  {
   "cell_type": "markdown",
   "id": "8b7b9103-0d61-4e66-ad4f-53b6b3bf0cb9",
   "metadata": {},
   "source": [
    "# Make turbine CSV"
   ]
  },
  {
   "cell_type": "code",
   "execution_count": 1,
   "id": "e3b4adf6-b458-4b54-ad93-95fbf49e1301",
   "metadata": {},
   "outputs": [],
   "source": [
    "# Add this to load local packages\n",
    "import sys\n",
    "sys.path.insert(1, '/ascldap/users/lcheung/.local/lib/python2.7/site-packages')\n",
    "import utm\n",
    "import pandas as pd\n",
    "import matplotlib.pyplot as plt\n",
    "%matplotlib inline"
   ]
  },
  {
   "cell_type": "code",
   "execution_count": 2,
   "id": "8be10a5b-4e5f-4d9e-8c26-0367adc76808",
   "metadata": {},
   "outputs": [],
   "source": [
    "makeendswith = lambda s, x: s if s.endswith(x) else s+x"
   ]
  },
  {
   "cell_type": "code",
   "execution_count": 3,
   "id": "83084e5b-4606-4748-8a47-9a1a9418c089",
   "metadata": {},
   "outputs": [],
   "source": [
    "# Load the data from the database of all turbines\n",
    "df = pd.read_csv('../uswtdb/uswtdb_v3_3_20210114.csv',low_memory=False)"
   ]
  },
  {
   "cell_type": "code",
   "execution_count": 4,
   "id": "0e439da0-1066-483e-80d3-a6d76c85c295",
   "metadata": {},
   "outputs": [],
   "source": [
    "turbines=[]\n",
    "addKingPlains     = True\n",
    "addArmadilloFlats = True\n",
    "addThunderRanch   = True\n",
    "addBreckinridge   = True\n",
    "addChisholmView   = True"
   ]
  },
  {
   "cell_type": "code",
   "execution_count": 5,
   "id": "10a8215c-b1a7-4619-b902-a1bf6667475c",
   "metadata": {},
   "outputs": [],
   "source": [
    "summitcsv          = 'UnstableABL_farmrun_turbines.csv'"
   ]
  },
  {
   "cell_type": "markdown",
   "id": "53b8e2d6-5caf-46e3-9081-8c07db1b39d6",
   "metadata": {
    "tags": []
   },
   "source": [
    "## King Plains turbines"
   ]
  },
  {
   "cell_type": "code",
   "execution_count": 6,
   "id": "5ad5a5e5-7a02-44ec-a649-7d5a9b7568c8",
   "metadata": {},
   "outputs": [
    {
     "name": "stdout",
     "output_type": "stream",
     "text": [
      "King Plains: 88 turbines\n",
      "Turbine types: ['GE2.8-127']\n",
      "GE2.8-127: 88\n"
     ]
    }
   ],
   "source": [
    "KPturbs1=df[df['p_name']==\"unknown Noble County\"]\n",
    "KPturbs2=df[df['p_name']==\"unknown Garfield County\"]\n",
    "\n",
    "KPcount = 0\n",
    "\n",
    "if addKingPlains:\n",
    "    ge2p8='GE2.8-127'\n",
    "    turblist = []\n",
    "    turbtypes = []\n",
    "    # Turbines from Noble County\n",
    "    for index, row in KPturbs1.iterrows():\n",
    "        utmxy   = utm.from_latlon(row['ylat'], row['xlong'])\n",
    "        datarow = {'faa_asn':row['faa_asn'].replace('OE','KP'), \n",
    "                   'lat':row['ylat'], 'long':row['xlong'], 'utm':(utmxy[0], utmxy[1]), \n",
    "                   't_model':ge2p8}\n",
    "        datarow['faa_asn'] = makeendswith(datarow['faa_asn'], '-KP')\n",
    "        turbines.append(datarow)\n",
    "        KPcount += 1\n",
    "        turbtypes.append(datarow['t_model'])\n",
    "        if datarow['t_model'] not in turblist: turblist.append(datarow['t_model'])\n",
    "    \n",
    "    # Turbines from Garfield County\n",
    "    for index, row in KPturbs2.iterrows():\n",
    "        utmxy   = utm.from_latlon(row['ylat'], row['xlong'])\n",
    "        datarow = {'faa_asn':row['faa_asn'].replace('OE','KP'), \n",
    "                   'lat':row['ylat'], 'long':row['xlong'], 'utm':(utmxy[0], utmxy[1]), \n",
    "                   't_model':ge2p8}\n",
    "        datarow['faa_asn'] = makeendswith(datarow['faa_asn'], '-KP')\n",
    "        if utmxy[1]>4020000:  # Remove the ones from Armadillo Ranch\n",
    "            turbines.append(datarow)    \n",
    "            KPcount += 1\n",
    "            turbtypes.append(datarow['t_model'])\n",
    "        if datarow['t_model'] not in turblist: turblist.append(datarow['t_model'])\n",
    "        \n",
    "    print(\"King Plains: %i turbines\"%(KPcount))\n",
    "    print('Turbine types: '+repr(turblist))\n",
    "    for t in turblist:\n",
    "        print(\"%s: %i\"%(t,turbtypes.count(t)))"
   ]
  },
  {
   "cell_type": "markdown",
   "id": "be687074-660f-477b-891d-24cf9944f254",
   "metadata": {},
   "source": [
    "## Armadillo flats turbines"
   ]
  },
  {
   "cell_type": "code",
   "execution_count": 7,
   "id": "9a82896e-8d58-4e42-8863-cdbe949a3b4c",
   "metadata": {},
   "outputs": [
    {
     "name": "stdout",
     "output_type": "stream",
     "text": [
      "Armadillo Flats: 109 turbines\n",
      "Turbine types: ['GE1.79-100', 'GE1.715-103', 'GE2.3-116']\n",
      "GE1.79-100: 58\n",
      "GE1.715-103: 5\n",
      "GE2.3-116: 46\n"
     ]
    }
   ],
   "source": [
    "AFturbs=df[df['p_name']==\"Armadillo Flats\"]\n",
    "if addArmadilloFlats:\n",
    "    turblist = []\n",
    "    turbtypes = []\n",
    "    # Turbines from Armadillo Flats\n",
    "    for index, row in AFturbs.iterrows():\n",
    "        utmxy   = utm.from_latlon(row['ylat'], row['xlong'])\n",
    "        datarow = {'faa_asn':str(row['faa_asn']).replace('OE','AF').replace('nan','T'+str(index)), \n",
    "                   'lat':row['ylat'], 'long':row['xlong'], 'utm':(utmxy[0], utmxy[1]), \n",
    "                   't_model':row['t_model']}\n",
    "        datarow['faa_asn'] = makeendswith(datarow['faa_asn'], '-AF')\n",
    "        turbines.append(datarow)\n",
    "        turbtypes.append(datarow['t_model'])\n",
    "        if datarow['t_model'] not in turblist: turblist.append(datarow['t_model'])\n",
    "    \n",
    "    print(\"Armadillo Flats: %i turbines\"%(len(AFturbs)))\n",
    "    print('Turbine types: '+repr(turblist))\n",
    "    for t in turblist:\n",
    "        print(\"%s: %i\"%(t,turbtypes.count(t)))    "
   ]
  },
  {
   "cell_type": "markdown",
   "id": "8c662823-36ba-406e-b143-0b4dfac9bca4",
   "metadata": {},
   "source": [
    "## Thunder Ranch turbines"
   ]
  },
  {
   "cell_type": "code",
   "execution_count": 8,
   "id": "b90bb6b2-bba6-400f-b793-304f512733fc",
   "metadata": {},
   "outputs": [
    {
     "name": "stdout",
     "output_type": "stream",
     "text": [
      "Thunder Ranch: 120 turbines\n",
      "Turbine types: ['GE2.5-116', 'GE2.3-116']\n",
      "GE2.5-116: 109\n",
      "GE2.3-116: 11\n"
     ]
    }
   ],
   "source": [
    "TRturbs=df[df['p_name']==\"Thunder Ranch\"]\n",
    "if addThunderRanch:\n",
    "    turblist = []\n",
    "    turbtypes = []    \n",
    "    for index, row in TRturbs.iterrows():\n",
    "        utmxy   = utm.from_latlon(row['ylat'], row['xlong'])\n",
    "        datarow = {'faa_asn':str(row['faa_asn']).replace('OE','TR').replace('nan','T'+str(index)), \n",
    "                   'lat':row['ylat'], 'long':row['xlong'], 'utm':(utmxy[0], utmxy[1]), \n",
    "                   't_model':row['t_model']}\n",
    "        datarow['faa_asn'] = makeendswith(datarow['faa_asn'], '-TR')\n",
    "        turbines.append(datarow)\n",
    "        turbtypes.append(datarow['t_model'])\n",
    "        if datarow['t_model'] not in turblist: turblist.append(datarow['t_model'])\n",
    "    print(\"Thunder Ranch: %i turbines\"%(len(TRturbs)))\n",
    "    print('Turbine types: '+repr(turblist))\n",
    "    for t in turblist:\n",
    "        print(\"%s: %i\"%(t,turbtypes.count(t)))      "
   ]
  },
  {
   "cell_type": "markdown",
   "id": "d23d1157-db39-450c-8672-6d9ef2b3ed2d",
   "metadata": {},
   "source": [
    "## Breckinridge turbines"
   ]
  },
  {
   "cell_type": "code",
   "execution_count": 9,
   "id": "f41c3060-e78e-44d0-95ad-e4bece6aef7e",
   "metadata": {},
   "outputs": [
    {
     "name": "stdout",
     "output_type": "stream",
     "text": [
      "Breckinridge: 57 turbines\n",
      "Turbine types: ['GE1.7-103']\n",
      "GE1.7-103: 57\n"
     ]
    }
   ],
   "source": [
    "BRturbs=df[df['p_name']==\"Breckinridge\"]\n",
    "if addBreckinridge:\n",
    "    turblist = []\n",
    "    turbtypes = [] \n",
    "    for index, row in BRturbs.iterrows():\n",
    "        utmxy   = utm.from_latlon(row['ylat'], row['xlong'])\n",
    "        datarow = {'faa_asn':str(row['faa_asn']).replace('OE','BR').replace('nan','T'+str(index)), \n",
    "                   'lat':row['ylat'], 'long':row['xlong'], 'utm':(utmxy[0], utmxy[1]), \n",
    "                   't_model':row['t_model']}\n",
    "        datarow['faa_asn'] = makeendswith(datarow['faa_asn'], '-BR')\n",
    "        turbines.append(datarow)\n",
    "        turbtypes.append(datarow['t_model'])\n",
    "        if datarow['t_model'] not in turblist: turblist.append(datarow['t_model'])\n",
    "    print(\"Breckinridge: %i turbines\"%(len(BRturbs)))\n",
    "    print('Turbine types: '+repr(turblist))\n",
    "    for t in turblist:\n",
    "        print(\"%s: %i\"%(t,turbtypes.count(t)))      "
   ]
  },
  {
   "cell_type": "markdown",
   "id": "ca7f4fc4-6aa0-4c3c-9e79-3556fb0a694f",
   "metadata": {},
   "source": [
    "## Add Chisholm View"
   ]
  },
  {
   "cell_type": "code",
   "execution_count": 10,
   "id": "1389520e-081c-42f9-a601-75488e4722ae",
   "metadata": {},
   "outputs": [
    {
     "name": "stdout",
     "output_type": "stream",
     "text": [
      "Chisholm View: 167 turbines\n",
      "Turbine types: ['GE1.68-82.5', 'GE2.4-107']\n",
      "GE1.68-82.5: 140\n",
      "GE2.4-107: 27\n"
     ]
    }
   ],
   "source": [
    "CV1turbs=df[df['p_name']==\"Chisholm View\"]\n",
    "CV2turbs=df[df['p_name']==\"Chisholm View II\"]\n",
    "\n",
    "CVcount = 0\n",
    "\n",
    "if addChisholmView:\n",
    "    turblist = []\n",
    "    turbtypes = [] \n",
    "    for index, row in CV1turbs.iterrows():\n",
    "        utmxy   = utm.from_latlon(row['ylat'], row['xlong'])\n",
    "        datarow = {'faa_asn':str(row['faa_asn']).replace('OE','CV').replace('nan','T'+str(index)), \n",
    "                   'lat':row['ylat'], 'long':row['xlong'], 'utm':(utmxy[0], utmxy[1]), \n",
    "                   't_model':row['t_model']}\n",
    "        datarow['faa_asn'] = makeendswith(datarow['faa_asn'], '-CV')\n",
    "        turbines.append(datarow)\n",
    "        turbtypes.append(datarow['t_model'])\n",
    "        if datarow['t_model'] not in turblist: turblist.append(datarow['t_model'])\n",
    "        CVcount += 1\n",
    "    for index, row in CV2turbs.iterrows():\n",
    "        utmxy   = utm.from_latlon(row['ylat'], row['xlong'])\n",
    "        datarow = {'faa_asn':str(row['faa_asn']).replace('OE','CV').replace('nan','T'+str(index)), \n",
    "                   'lat':row['ylat'], 'long':row['xlong'], 'utm':(utmxy[0], utmxy[1]), \n",
    "                   't_model':row['t_model']}\n",
    "        datarow['faa_asn'] = makeendswith(datarow['faa_asn'], '-CV')\n",
    "        turbines.append(datarow)\n",
    "        turbtypes.append(datarow['t_model'])\n",
    "        if datarow['t_model'] not in turblist: turblist.append(datarow['t_model'])\n",
    "        CVcount += 1\n",
    "    print(\"Chisholm View: %i turbines\"%(CVcount))\n",
    "    print('Turbine types: '+repr(turblist))\n",
    "    for t in turblist:\n",
    "        print(\"%s: %i\"%(t,turbtypes.count(t)))     "
   ]
  },
  {
   "cell_type": "code",
   "execution_count": 11,
   "id": "1a2823c0-7782-4572-a310-22d624ec2aa9",
   "metadata": {},
   "outputs": [
    {
     "name": "stdout",
     "output_type": "stream",
     "text": [
      "Total turbines: 541\n"
     ]
    }
   ],
   "source": [
    "print(\"Total turbines: %i\"%(len(turbines)))"
   ]
  },
  {
   "cell_type": "code",
   "execution_count": 12,
   "id": "174f1801-9a87-4322-9091-f9bbd6a460c6",
   "metadata": {},
   "outputs": [],
   "source": [
    "## Write the CSV file"
   ]
  },
  {
   "cell_type": "code",
   "execution_count": 13,
   "id": "4d4e88e2-e385-4739-ac6b-5e2f7393f4fe",
   "metadata": {},
   "outputs": [],
   "source": [
    "verbose  = False\n",
    "writecsv = True\n",
    "# CSV file should have columns with\n",
    "# name, x, y, type, yaw, hubheight, options\n",
    "header=\"\"\"# name, x, y, type, yaw, hubheight, options\"\"\"\n",
    "if writecsv:\n",
    "    with open(summitcsv, 'w') as f:\n",
    "        f.write(header+'\\n')\n",
    "        if verbose: print(header)\n",
    "        for x in turbines: \n",
    "            #line='%s, %f, %f, %s, , ,'%(x['faa_asn'], x['lat'], x['long'], 'Summit_'+x['t_model'])\n",
    "            line='%s, %f, %f, %s, , ,'%(x['faa_asn'], x['utm'][0], x['utm'][1], 'Summit_'+x['t_model'])\n",
    "            f.write(line+'\\n')\n",
    "            if verbose: print(line)"
   ]
  },
  {
   "cell_type": "code",
   "execution_count": null,
   "id": "02dc9603-055a-4f52-b3f1-d3983aaafcbb",
   "metadata": {},
   "outputs": [],
   "source": []
  }
 ],
 "metadata": {
  "kernelspec": {
   "display_name": "Python 3 (ipykernel)",
   "language": "python",
   "name": "python3"
  },
  "language_info": {
   "codemirror_mode": {
    "name": "ipython",
    "version": 3
   },
   "file_extension": ".py",
   "mimetype": "text/x-python",
   "name": "python",
   "nbconvert_exporter": "python",
   "pygments_lexer": "ipython3",
   "version": "3.8.13"
  }
 },
 "nbformat": 4,
 "nbformat_minor": 5
}
