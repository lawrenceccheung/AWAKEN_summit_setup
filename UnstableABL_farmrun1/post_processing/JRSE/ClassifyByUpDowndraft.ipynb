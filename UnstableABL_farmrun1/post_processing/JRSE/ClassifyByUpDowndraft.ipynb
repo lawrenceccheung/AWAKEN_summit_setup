{
 "cells": [
  {
   "cell_type": "markdown",
   "id": "2811f204-7a29-4d38-83a2-cf1972d127f5",
   "metadata": {},
   "source": [
    "# Classify turbines by updraft/downdraft"
   ]
  },
  {
   "cell_type": "code",
   "execution_count": 1,
   "id": "5c7814cf-6918-48ec-a272-2c085d426988",
   "metadata": {},
   "outputs": [],
   "source": [
    "# Load the amrwind-frontend module\n",
    "# Add any possible locations of amr-wind-frontend here\n",
    "amrwindfedirs = ['/projects/wind_uq/lcheung/amrwind-frontend/',\n",
    "                 '/ccs/proj/cfd162/lcheung/amrwind-frontend/']\n",
    "import sys, os, shutil\n",
    "for x in amrwindfedirs: sys.path.insert(1, x)\n",
    "\n",
    "# Load the libraries\n",
    "import amrwind_frontend  as amrwind\n",
    "import matplotlib.pyplot as plt\n",
    "import matplotlib.patches as patches\n",
    "import numpy             as np\n",
    "import math\n",
    "import pandas as pd\n",
    "import pickle\n",
    "import postproamrwindsample as ppsample\n",
    "import time\n",
    "import utm\n",
    "from IPython.display import display, Markdown, Latex\n",
    "\n",
    "# Also ignore warnings\n",
    "import warnings\n",
    "warnings.filterwarnings('ignore')\n",
    "\n",
    "# Make all plots inline \n",
    "%matplotlib inline"
   ]
  },
  {
   "cell_type": "code",
   "execution_count": 2,
   "id": "c9352446-9b6c-4047-81aa-a223d26070c5",
   "metadata": {},
   "outputs": [],
   "source": [
    "def getTurbSubset(csvfile, suffix):\n",
    "    # Load the data from the database of all turbines\n",
    "    allturbsdf = pd.read_csv(csvfile, low_memory=False)\n",
    "    # Get just the King Plains turbines\n",
    "    subset = [] \n",
    "    for x in allturbsdf.iterrows():\n",
    "        if x[1]['# name'].endswith(suffix):\n",
    "            subset.append(x[1])\n",
    "    subsetdf = pd.DataFrame(subset[:])\n",
    "    return subsetdf\n",
    "\n",
    "def getTurbSubsetXY(csvfile, suffix, xlim=[-np.finfo(np.float64).max, np.finfo(np.float64).max], ylim=[-np.finfo(np.float64).max, np.finfo(np.float64).max]):\n",
    "    # Load the data from the database of all turbines\n",
    "    allturbsdf = pd.read_csv(csvfile, low_memory=False)\n",
    "    # Get just the King Plains turbines\n",
    "    subset = [] \n",
    "    for x in allturbsdf.iterrows():\n",
    "        xy = [float(x[1][' x']), float(x[1][' y'])]\n",
    "        if x[1]['# name'].endswith(suffix) and ((xlim[0] <= xy[0]) and (xy[0]<=xlim[1]) and (ylim[0]<=xy[1]) and (xy[1]<=ylim[1])):\n",
    "            #print(x[1])\n",
    "            subset.append(x[1])\n",
    "    subsetdf = pd.DataFrame(subset[:])\n",
    "    return subsetdf\n",
    "\n",
    "getturbnames = lambda df: [x[1]['# name'] for x in df.iterrows()]\n",
    "\n",
    "def getTurbCategoryList(csvfile, suffix, limitdict):\n",
    "    allturbs = []\n",
    "    for box in limitdict['bboxes']:\n",
    "        turbinbox = getturbnames(getTurbSubsetXY(csvfile, suffix, xlim=box[0], ylim=box[1]))\n",
    "        allturbs += turbinbox\n",
    "    return allturbs\n",
    "\n",
    "def getCartesianMesh(x,y):\n",
    "    p00=np.array([x[0,0], y[0,0]])\n",
    "    p10=np.array([x[1,0], y[1,0]])\n",
    "    p01=np.array([x[0,1], y[0,1]])\n",
    "    dx=np.linalg.norm(p00-p10)\n",
    "    dy=np.linalg.norm(p00-p01)\n",
    "    hhshape=x.shape\n",
    "    xvec=np.arange(hhshape[1])*dx\n",
    "    yvec=np.arange(hhshape[0])*dy\n",
    "    xm, ym = np.meshgrid(xvec, yvec)\n",
    "    return xm, ym"
   ]
  },
  {
   "cell_type": "code",
   "execution_count": 3,
   "id": "d6cd89fc-3ac3-4cbc-b2f4-ddfc9956cd9c",
   "metadata": {},
   "outputs": [],
   "source": [
    "summitcsv    = '../../UnstableABL_farmrun_turbines.csv'\n",
    "\n",
    "iplane       = 0\n",
    "zhh          = 90\n",
    "rotorD       = 127"
   ]
  },
  {
   "cell_type": "code",
   "execution_count": 4,
   "id": "e70c1e86-be92-4601-9ce5-e057d7f797ab",
   "metadata": {},
   "outputs": [],
   "source": [
    "KPturbdf = getTurbSubset(summitcsv, '-KP')"
   ]
  },
  {
   "cell_type": "code",
   "execution_count": 5,
   "id": "9d205b9f-cc3e-4a6f-952d-c261593cb168",
   "metadata": {},
   "outputs": [],
   "source": [
    "# Load the SW  pickle files\n",
    "picklefile     = 'AllKP_SWplanes_noturb.pkl'\n",
    "pfile          = open(picklefile, 'rb')\n",
    "allds_noturb   = pickle.load(pfile)\n",
    "pfile.close()\n",
    "\n",
    "picklefile     = 'AllKP_SWplanes_wturb.pkl'\n",
    "pfile          = open(picklefile, 'rb')\n",
    "allds_wturb    = pickle.load(pfile)\n",
    "pfile.close()"
   ]
  },
  {
   "cell_type": "code",
   "execution_count": 6,
   "id": "c7cfd422-c717-4526-8a99-601c3cda1e56",
   "metadata": {},
   "outputs": [],
   "source": [
    "turbname = '2019-WTW-4655-KP'\n",
    "xm, zm =  getCartesianMesh(allds_noturb[turbname]['y'][0,:,:], allds_noturb[turbname]['z'][0,:,:])\n",
    "zvec=zm[:,0]\n",
    "zinside = ((zhh-0.5*rotorD <= zvec) & (zvec <= zhh+0.5*rotorD))"
   ]
  },
  {
   "cell_type": "code",
   "execution_count": 7,
   "id": "148dc65a-b327-469e-8606-44302de7a33c",
   "metadata": {},
   "outputs": [],
   "source": [
    "def getTotalW(turblist, ds_noturb, ds_wturb, Umin, Umax, xinflow=70, iplane=0):\n",
    "    returnlist=[]\n",
    "    totalw = 0\n",
    "    for turb in turblist:\n",
    "        ds_pre  = ds_noturb[turb]\n",
    "        ds_turb = ds_wturb[turb]\n",
    "        avgw = np.mean(ds_pre['velocityz_avg'][iplane,:,:])\n",
    "        # Calculate the average U\n",
    "        Uvec = ds_turb['velocityx_avg'][iplane,:,xinflow]\n",
    "        Vvec = ds_turb['velocityy_avg'][iplane,:,xinflow]\n",
    "        Uhvec = np.sqrt(Uvec**2 + Vvec**2)\n",
    "        avgU = np.mean(Uhvec[zinside])\n",
    "        if (Uhmin <= avgU) and (avgU <= Uhmax):\n",
    "            returnlist.append((turb, avgU, avgw))\n",
    "            totalw += avgw\n",
    "    return totalw, returnlist"
   ]
  },
  {
   "cell_type": "code",
   "execution_count": 8,
   "id": "7801ae5e-03da-4562-8aba-1a440e313510",
   "metadata": {},
   "outputs": [
    {
     "name": "stdout",
     "output_type": "stream",
     "text": [
      "2019-WTW-4713-KP -0.092251 8.645789\n",
      "2019-WTW-4726-KP -0.095803 9.317388\n",
      "2019-WTW-4671-KP -0.128354 8.162089\n",
      "2019-WTW-4715-KP 0.448964 8.222813\n",
      "2019-WTW-4691-KP 0.301331 8.485427\n",
      "2019-WTW-7913-KP -0.102486 8.821547\n",
      "2019-WTW-4694-KP -0.122520 9.447356\n",
      "2019-WTW-4718-KP 0.066430 8.835714\n",
      "2019-WTW-4690-KP -0.124008 8.763075\n",
      "2019-WTW-4656-KP -0.026698 8.143659\n",
      "2019-WTW-4697-KP -0.111735 8.736650\n",
      "2019-WTW-4701-KP -0.141329 8.373783\n",
      "2019-WTW-4723-KP 0.119974 8.709557\n",
      "2019-WTW-4673-KP -0.381540 9.065556\n",
      "2019-WTW-4716-KP -0.005966 8.873389\n",
      "2019-WTW-4693-KP 0.181245 8.311204\n",
      "2019-WTW-4725-KP -0.256489 9.484592\n",
      "2019-WTW-7915-KP 0.089495 8.694744\n",
      "2019-WTW-4689-KP -0.082134 8.476362\n",
      "2019-WTW-4648-KP -0.120261 8.494697\n",
      "2019-WTW-4721-KP -0.157111 8.273571\n",
      "2019-WTW-4652-KP 0.211636 8.148572\n",
      "2019-WTW-4658-KP -0.149141 8.271045\n",
      "2019-WTW-4692-KP 0.293034 8.553749\n",
      "2019-WTW-4702-KP -0.111244 8.925375\n",
      "2019-WTW-4704-KP -0.179099 8.348049\n",
      "2019-WTW-7916-KP 0.029589 8.457418\n",
      "2019-WTW-4711-KP -0.050220 8.322586\n",
      "2019-WTW-7912-KP -0.192828 8.981614\n",
      "2019-WTW-4650-KP -0.036804 8.628975\n",
      "2019-WTW-4717-KP -0.080427 9.180508\n",
      "2019-WTW-4703-KP 0.021225 8.795489\n",
      "2019-WTW-4696-KP 0.338770 8.108558\n",
      "2019-WTW-4724-KP -0.066138 9.132870\n",
      "2019-WTW-7910-KP -0.205265 8.779744\n",
      "2019-WTW-4683-KP -0.091809 8.937969\n",
      "2019-WTW-4668-KP 0.053950 8.170513\n",
      "2019-WTW-4643-KP 0.272413 8.266758\n",
      "2019-WTW-7919-KP 0.113141 8.147816\n",
      "2019-WTW-7918-KP -0.070642 9.025972\n",
      "2019-WTW-4736-KP -0.084895 8.904140\n",
      "2019-WTW-4677-KP -0.023871 8.546268\n",
      "2019-WTW-7920-KP 0.033629 8.227961\n",
      "2019-WTW-4678-KP 0.329768 8.390252\n",
      "2019-WTW-7911-KP -0.231162 9.110301\n",
      "2019-WTW-4679-KP -0.055773 9.877151\n",
      "2019-WTW-4669-KP -0.175715 8.260388\n",
      "2019-WTW-4687-KP -0.078075 8.645863\n",
      "2019-WTW-4680-KP -0.238658 9.879075\n",
      "2019-WTW-4666-KP 0.068387 9.231699\n",
      "2019-WTW-4644-KP -0.167992 8.538991\n",
      "2019-WTW-4682-KP -0.231151 9.312923\n",
      "2019-WTW-7917-KP -0.118673 9.262198\n",
      "2019-WTW-4676-KP -0.104361 8.800084\n",
      "2019-WTW-4667-KP -0.158486 9.194931\n",
      "2019-WTW-4681-KP -0.043222 9.209236\n",
      "2019-WTW-4686-KP 0.398297 8.341753\n",
      "2019-WTW-4741-KP -0.117115 8.276195\n",
      "2019-WTW-4665-KP 0.199390 8.360256\n",
      "2019-WTW-4641-KP -0.221879 9.189387\n",
      "2019-WTW-4729-KP 0.184658 8.606425\n",
      "Number of turbines in updraft: 20\n",
      "Number of turbines in downdraft: 41\n",
      "Averaged W = -0.024230\n"
     ]
    }
   ],
   "source": [
    "# Classify turbines based on the SW pickle file\n",
    "Utarget = 9\n",
    "bound   = 0.1\n",
    "Uhmin = Utarget*(1-bound)\n",
    "Uhmax = Utarget*(1+bound)\n",
    "\n",
    "allturblist = getturbnames(getTurbSubset(summitcsv, '-KP'))\n",
    "updraftturbs   = []\n",
    "downdraftturbs = []\n",
    "fulllist       = []\n",
    "totalw = 0\n",
    "for turb in allturblist:\n",
    "    ds_pre  = allds_noturb[turb]\n",
    "    ds_turb = allds_wturb[turb]\n",
    "    # Calculate the average W\n",
    "    avgw = np.mean(ds_pre['velocityz_avg'][iplane,:,:]) \n",
    "    # Calculate the average U\n",
    "    xinflow = 70\n",
    "    Uvec = ds_turb['velocityx_avg'][iplane,:,xinflow]\n",
    "    Vvec = ds_turb['velocityy_avg'][iplane,:,xinflow]\n",
    "    Uhvec = np.sqrt(Uvec**2 + Vvec**2)\n",
    "    avgU = np.mean(Uhvec[zinside])\n",
    "    fulllist.append((turb, avgU, avgw))\n",
    "    if (Uhmin <= avgU) and (avgU <= Uhmax):\n",
    "        print('%s %f %f'%(turb, avgw, avgU))\n",
    "        if avgw > 0.0:\n",
    "            updraftturbs.append(turb)\n",
    "        else:\n",
    "            downdraftturbs.append(turb)\n",
    "        totalw += avgw\n",
    "\n",
    "print('Number of turbines in updraft: %i'%len(updraftturbs))\n",
    "print('Number of turbines in downdraft: %i'%len(downdraftturbs))\n",
    "print(\"Averaged W = %f\"%(totalw/(len(updraftturbs)+len(downdraftturbs))))"
   ]
  },
  {
   "cell_type": "code",
   "execution_count": 9,
   "id": "b8c360b2-bf1b-49b1-ae92-cdd228dc7640",
   "metadata": {},
   "outputs": [],
   "source": [
    "east     = {'label':'east half',\n",
    "            'bboxes':[[[639000, 647500], [4022500, 4035000]],\n",
    "                     ],\n",
    "            'plotargs':{'linewidth':1, 'edgecolor':'k', 'facecolor':'none', 'ls':'--'}, #{'facecolor':'cyan', 'alpha':0.5}, #{'linewidth':1, 'edgecolor':'r', 'facecolor':'none'}\n",
    "           }\n",
    "west     = {'label':'west half',\n",
    "            'bboxes':[[[629000, 639000], [4022500, 4035000]],\n",
    "                     ],\n",
    "            'plotargs':{'linewidth':1, 'edgecolor':'k', 'facecolor':'none', 'ls':'--'}, #{'facecolor':'cyan', 'alpha':0.5}, #{'linewidth':1, 'edgecolor':'r', 'facecolor':'none'}\n",
    "           }\n",
    "\n",
    "test     = {'label':'test',\n",
    "            'bboxes':[[[638700, 647500], [4022500, 4035000]],\n",
    "                     ],\n",
    "            'plotargs':{'linewidth':1, 'edgecolor':'r', 'facecolor':'none', 'ls':'--'}, #{'facecolor':'cyan', 'alpha':0.5}, #{'linewidth':1, 'edgecolor':'r', 'facecolor':'none'}\n",
    "           }\n",
    "\n",
    "test2     = {'label':'test2',\n",
    "            'bboxes':[[[634000, 643500], [4022500, 4035000]],\n",
    "                     ],\n",
    "            'plotargs':{'linewidth':1, 'edgecolor':'g', 'facecolor':'none', 'ls':'--'}, #{'facecolor':'cyan', 'alpha':0.5}, #{'linewidth':1, 'edgecolor':'r', 'facecolor':'none'}\n",
    "           }\n",
    "\n",
    "turbinecategorylist = {}\n",
    "allcategories = [east, \n",
    "                 #west, \n",
    "                 test,\n",
    "                 test2]\n",
    "for d in allcategories:\n",
    "    turblist = getTurbCategoryList(summitcsv, '-KP', d)\n",
    "    d['turblist'] = turblist\n",
    "    turbinecategorylist[d['label']] = turblist"
   ]
  },
  {
   "cell_type": "code",
   "execution_count": 10,
   "id": "766d5aee-2107-4748-9a01-97a976df9989",
   "metadata": {},
   "outputs": [
    {
     "name": "stdout",
     "output_type": "stream",
     "text": [
      "east half             0.0028 30\n",
      "test                 -0.0043 32\n",
      "test2                -0.0038 40\n"
     ]
    }
   ],
   "source": [
    "for d in allcategories:\n",
    "    allW, tlist = getTotalW(d['turblist'], allds_noturb, allds_wturb, Uhmin, Uhmax, xinflow=70)\n",
    "    #print(allW/len(tlist), len(tlist))\n",
    "    Nturbs = len(tlist)\n",
    "    avgWinBox = allW/Nturbs\n",
    "    print(\"%-15s %12.4f %i\"%(d['label'], avgWinBox, Nturbs))"
   ]
  },
  {
   "cell_type": "code",
   "execution_count": 16,
   "id": "22ac2af6-85f4-45de-920a-5b8c288c3675",
   "metadata": {},
   "outputs": [
    {
     "data": {
      "text/plain": [
       "(629355.1382429501, 648364.04103605, 4021875.0, 4035625.0)"
      ]
     },
     "execution_count": 16,
     "metadata": {},
     "output_type": "execute_result"
    },
    {
     "data": {
      "image/png": "[encoded data removed]",
      "text/plain": [
       "<Figure size 800x500 with 1 Axes>"
      ]
     },
     "metadata": {},
     "output_type": "display_data"
    }
   ],
   "source": [
    "# Plot the domain\n",
    "fig, ax = plt.subplots(figsize=(8,5), facecolor='w', dpi=100)\n",
    "\n",
    "for x in KPturbdf.iterrows(): \n",
    "    name = x[1]['# name']\n",
    "    if name in updraftturbs:\n",
    "        plt.plot(float(x[1][' x']), float(x[1][' y']), 'rs', markersize=4)\n",
    "    elif name in downdraftturbs:\n",
    "        plt.plot(float(x[1][' x']), float(x[1][' y']), 'bs', markersize=4)\n",
    "    else:\n",
    "        plt.plot(float(x[1][' x']), float(x[1][' y']), 's', color='gray', markersize=4, mfc='none')\n",
    "\n",
    "for grouping in allcategories[:1]:\n",
    "    plotargs = grouping['plotargs']\n",
    "    for ibox, box in enumerate(grouping['bboxes']):\n",
    "        xlims = box[0]\n",
    "        ylims = box[1]\n",
    "        kwargs = plotargs.copy()\n",
    "        if ibox==0: kwargs['label'] = grouping['label']\n",
    "        rect = patches.Rectangle((xlims[0], ylims[0]), (xlims[1]-xlims[0]), (ylims[1]-ylims[0]),  **kwargs)\n",
    "        ax.add_patch(rect)\n",
    "\n",
    "ax.set_xlabel('UTM Easting [m]')\n",
    "ax.set_ylabel('UTM Northing [m]')\n",
    "ax.axis('equal')"
   ]
  },
  {
   "cell_type": "code",
   "execution_count": 12,
   "id": "16c78b2e-470c-459a-b7c8-ad779c45e5d4",
   "metadata": {},
   "outputs": [],
   "source": [
    "# Write out the neutral subset\n",
    "neutrallist = allcategories[0]['turblist']\n",
    "with open('nodraftturbines.txt', 'w') as f:\n",
    "    for t in neutrallist:  f.write(f\"{t}\\n\")"
   ]
  },
  {
   "cell_type": "code",
   "execution_count": 17,
   "id": "f9c55b80-530c-4794-b890-349638ff5d5d",
   "metadata": {},
   "outputs": [
    {
     "name": "stdout",
     "output_type": "stream",
     "text": [
      "Category                AVG W vel  Nturbines\n",
      "All KP turbines           -0.0242         61\n",
      "Updraft turbines           0.1878         20\n",
      "Downdraft turbines        -0.1276         41\n",
      "Flat subset                0.0028         30\n"
     ]
    }
   ],
   "source": [
    "# Print out statistics:\n",
    "allstats = [['All KP turbines', allturblist],\n",
    "            ['Updraft turbines', updraftturbs],\n",
    "            ['Downdraft turbines', downdraftturbs],\n",
    "            ['Flat subset',     neutrallist]\n",
    "           ]\n",
    "\n",
    "print(\"%-20s %12s %10s\"%(\"Category\",\"AVG W vel\",\"Nturbines\"))\n",
    "for subset in allstats:\n",
    "    allW, tlist = getTotalW(subset[1], allds_noturb, allds_wturb, Uhmin, Uhmax, xinflow=70)\n",
    "    #print(allW/len(tlist), len(tlist))\n",
    "    Nturbs = len(tlist)\n",
    "    avgWinBox = allW/Nturbs\n",
    "    print(\"%-20s %12.4f %10i\"%(subset[0], avgWinBox, Nturbs))"
   ]
  },
  {
   "cell_type": "code",
   "execution_count": null,
   "id": "b172ad4e-600c-42ea-8531-95c4b7ea31ec",
   "metadata": {},
   "outputs": [],
   "source": []
  }
 ],
 "metadata": {
  "kernelspec": {
   "display_name": "Python 3 (ipykernel)",
   "language": "python",
   "name": "python3"
  },
  "language_info": {
   "codemirror_mode": {
    "name": "ipython",
    "version": 3
   },
   "file_extension": ".py",
   "mimetype": "text/x-python",
   "name": "python",
   "nbconvert_exporter": "python",
   "pygments_lexer": "ipython3",
   "version": "3.9.13"
  }
 },
 "nbformat": 4,
 "nbformat_minor": 5
}
