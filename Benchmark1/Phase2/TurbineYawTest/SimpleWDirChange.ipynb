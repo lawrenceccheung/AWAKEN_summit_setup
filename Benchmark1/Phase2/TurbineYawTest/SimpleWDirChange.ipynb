{
 "cells": [
  {
   "cell_type": "markdown",
   "id": "c9cde246-0f2d-49d2-8d7e-a003fa9e86de",
   "metadata": {},
   "source": [
    "# ABL with MMC forcing"
   ]
  },
  {
   "cell_type": "code",
   "execution_count": 1,
   "id": "50e50798-a17a-4a1d-bb86-0a8a53e8d7dc",
   "metadata": {
    "tags": []
   },
   "outputs": [
    {
     "name": "stderr",
     "output_type": "stream",
     "text": [
      "/ascldap/users/lcheung/.local/lib/python3.9/site-packages/pandas/core/computation/expressions.py:21: UserWarning: Pandas requires version '2.8.4' or newer of 'numexpr' (version '2.8.1' currently installed).\n",
      "  from pandas.core.computation.check import NUMEXPR_INSTALLED\n",
      "/ascldap/users/lcheung/.local/lib/python3.9/site-packages/pandas/core/arrays/masked.py:60: UserWarning: Pandas requires version '1.3.6' or newer of 'bottleneck' (version '1.3.4' currently installed).\n",
      "  from pandas.core import (\n"
     ]
    }
   ],
   "source": [
    "# Load the modules\n",
    "\n",
    "# Add any possible locations of amr-wind-frontend here\n",
    "amrwindfedirs = ['/projects/wind_uq/lcheung/amrwind-frontend/',\n",
    "                 '/ccs/proj/cfd162/lcheung/amrwind-frontend/']\n",
    "import sys, os, shutil\n",
    "for x in amrwindfedirs: sys.path.insert(1, x)\n",
    "import MMCutil as writeMMC\n",
    "\n",
    "# Load the libraries\n",
    "import numpy as np\n",
    "import pandas as pd\n",
    "import amrwind_frontend as amrwind\n",
    "import matplotlib.pyplot    as plt\n",
    "from scipy.interpolate import CubicSpline\n",
    "from scipy.signal import savgol_filter\n",
    "from scipy.interpolate import CubicSpline, PchipInterpolator, Akima1DInterpolator\n",
    "\n",
    "from scipy.optimize import root_scalar\n",
    "from functools import partial\n",
    "\n",
    "# Also ignore warnings\n",
    "import warnings\n",
    "warnings.filterwarnings('ignore')\n",
    "\n",
    "# Make all plots inline \n",
    "%matplotlib inline"
   ]
  },
  {
   "cell_type": "code",
   "execution_count": 2,
   "id": "69b10fce-7c42-4085-8219-517ce821703a",
   "metadata": {},
   "outputs": [],
   "source": [
    "def find_nearest(a, a0):\n",
    "    \"Element in nd array `a` closest to the scalar value `a0`\"\n",
    "    return np.abs(a - a0).argmin()\n",
    "\n",
    "# Merging profiles\n",
    "def tanhblend(x, x0, w):\n",
    "    return 0.5*(1+np.tanh((x-x0)/w))\n",
    "\n",
    "def tanhblendprofiles(profa, profb, x, x0, w):\n",
    "    tanha = profa*(1-tanhblend(x, x0, w))\n",
    "    tanhb = profb*(tanhblend(x, x0, w))\n",
    "    return tanha + tanhb\n",
    "\n",
    "def interpprofile(newz, z, prof):\n",
    "    spl = CubicSpline(z, prof)\n",
    "    interpprof = spl(newz)\n",
    "    return interpprof\n",
    "    #return np.interp(newz, z, prof)\n",
    "    \n",
    "def blendprofiles(newz, zA, profA, Bconst, x0, w):\n",
    "    newprofA = interpprofile(newz, zA, profA)\n",
    "    newprofB = Bconst*np.ones(len(newz)) #interpprofile(newz, zB, profB)\n",
    "    return tanhblendprofiles(newprofA, newprofB, newz, x0, w)"
   ]
  },
  {
   "cell_type": "code",
   "execution_count": 3,
   "id": "5727ab60-7ce3-4d16-bea1-7772da0ab537",
   "metadata": {},
   "outputs": [],
   "source": [
    "\n",
    "def windrampfunction(t, t1, t2, wd1, wd2):\n",
    "    \"\"\"\n",
    "    Define a wind ramp function\n",
    "    \"\"\"\n",
    "    wdvec    = np.ones(len(t))*wd1\n",
    "    tafter   = (t>t2)\n",
    "    tbetween   = ((t[:] >= t1) & (t[:] <= t2))\n",
    "    wdbetween = (wd2-wd1)/(t2-t1)*(t-t1) + wd1\n",
    "    \n",
    "    wdvec[tbetween] = wdbetween[tbetween]\n",
    "    wdvec[tafter] = wd2\n",
    "    return wdvec"
   ]
  },
  {
   "cell_type": "code",
   "execution_count": 4,
   "id": "019d62e9-232d-463d-bf92-c6d6e46400a5",
   "metadata": {},
   "outputs": [],
   "source": [
    "tstart = 0\n",
    "tend   = 360.0\n",
    "\n",
    "# Define the wind speed profiles\n",
    "tvec  = np.linspace(tstart, tend, 361)\n",
    "wdvec = windrampfunction(tvec, 60, 120, 270, 225)\n",
    "\n",
    "zvec  = np.linspace(0, 1000, 101)\n",
    "WSconst = 9.0\n",
    "TempConst = 300\n",
    "\n",
    "Nt = len(tvec)\n",
    "Nz = len(zvec)\n",
    "fullWS = np.ones((Nt, Nz))*WSconst\n",
    "fullWD = np.zeros((Nt, Nz))\n",
    "fullT  = np.ones((Nt, Nz))*TempConst\n",
    "\n",
    "for i in range(Nt):\n",
    "    fullWD[i,:] = wdvec[i]*np.ones(Nz)"
   ]
  },
  {
   "cell_type": "code",
   "execution_count": 5,
   "id": "75fda263-da6e-4437-a35b-17a3b5234aec",
   "metadata": {},
   "outputs": [
    {
     "data": {
      "text/plain": [
       "[<matplotlib.lines.Line2D at 0x7fff10bf8820>]"
      ]
     },
     "execution_count": 5,
     "metadata": {},
     "output_type": "execute_result"
    },
    {
     "data": {
      "image/png": "[encoded data removed]",
      "text/plain": [
       "<Figure size 432x288 with 1 Axes>"
      ]
     },
     "metadata": {
      "needs_background": "light"
     },
     "output_type": "display_data"
    }
   ],
   "source": [
    "plt.plot(tvec, wdvec)"
   ]
  },
  {
   "cell_type": "code",
   "execution_count": 6,
   "id": "08e5f859-0cf6-402a-acd7-7cbc4e48258f",
   "metadata": {},
   "outputs": [
    {
     "data": {
      "text/plain": [
       "[<matplotlib.lines.Line2D at 0x7fff0eafb3d0>]"
      ]
     },
     "execution_count": 6,
     "metadata": {},
     "output_type": "execute_result"
    },
    {
     "data": {
      "image/png": "[encoded data removed]",
      "text/plain": [
       "<Figure size 432x288 with 1 Axes>"
      ]
     },
     "metadata": {
      "needs_background": "light"
     },
     "output_type": "display_data"
    }
   ],
   "source": [
    "plt.plot(fullWS[0,:], zvec)\n",
    "plt.plot(fullWS[-1,:], zvec)"
   ]
  },
  {
   "cell_type": "code",
   "execution_count": 7,
   "id": "dff41e64-ec82-4216-963a-80a9c5f7603b",
   "metadata": {},
   "outputs": [
    {
     "data": {
      "text/plain": [
       "[<matplotlib.lines.Line2D at 0x7fff0ea63940>]"
      ]
     },
     "execution_count": 7,
     "metadata": {},
     "output_type": "execute_result"
    },
    {
     "data": {
      "image/png": "[encoded data removed]",
      "text/plain": [
       "<Figure size 432x288 with 1 Axes>"
      ]
     },
     "metadata": {
      "needs_background": "light"
     },
     "output_type": "display_data"
    }
   ],
   "source": [
    "plt.plot(fullWD[0,:], zvec)\n",
    "plt.plot(fullWD[-1,:], zvec)"
   ]
  },
  {
   "cell_type": "code",
   "execution_count": 8,
   "id": "3a5cfad9-5d73-432e-b5b9-2c0fdd23ba37",
   "metadata": {},
   "outputs": [],
   "source": [
    "# Convert from WS to WD\n",
    "all_U = []\n",
    "all_V = []\n",
    "\n",
    "for i, t in enumerate(tvec):\n",
    "    theta = (270.0 - fullWD[i,:])*np.pi/180.0\n",
    "    WS    = fullWS[i,:]\n",
    "    U     = WS*np.cos(theta)\n",
    "    V     = WS*np.sin(theta)\n",
    "    all_U.append(U)\n",
    "    all_V.append(V)\n",
    "\n",
    "all_U = np.array(all_U)\n",
    "all_V = np.array(all_V)\n",
    "all_T = fullT\n",
    "\n",
    "fluxdat = 0.0*tvec"
   ]
  },
  {
   "cell_type": "markdown",
   "id": "a00a31b7-7bb4-443d-8244-93bd92af5c14",
   "metadata": {},
   "source": [
    "## Set up the case "
   ]
  },
  {
   "cell_type": "code",
   "execution_count": 9,
   "id": "ae3753c8-d636-419e-aa47-ae4e7bbd49d5",
   "metadata": {},
   "outputs": [],
   "source": [
    "suffix      = '01'\n",
    "rundir      = 'wdirtest_'+suffix\n",
    "ICfilename  = 'init.nc'\n",
    "MMCfilename = 'MMC.nc'\n",
    "amrfilename = 'abl_MMC.inp'\n",
    "rho         = 1.225\n",
    "\n",
    "# Go to the run directory\n",
    "if not os.path.exists(rundir):\n",
    "    os.makedirs(rundir)"
   ]
  },
  {
   "cell_type": "code",
   "execution_count": 10,
   "id": "87f1e98e-d5ad-4629-85c6-b120724b46b0",
   "metadata": {},
   "outputs": [],
   "source": [
    "# Save the data to text files\n",
    "np.savetxt(rundir+'/MMC_Ublend%s.dat'%suffix, all_U)\n",
    "np.savetxt(rundir+'/MMC_Vblend%s.dat'%suffix, all_V)\n",
    "np.savetxt(rundir+'/MMC_Tblend%s.dat'%suffix, all_T)\n",
    "np.savetxt(rundir+'/MMC_all_heights.dat',     zvec)\n",
    "np.savetxt(rundir+'/MMC_time_sec.dat',        tvec)"
   ]
  },
  {
   "cell_type": "markdown",
   "id": "cb3ace70-65fd-4fc9-b23b-4a62c070812f",
   "metadata": {},
   "source": [
    "## Set up AMR-Wind case"
   ]
  },
  {
   "cell_type": "code",
   "execution_count": 11,
   "id": "c9e05977-8189-4658-983f-3ea1ca2968f4",
   "metadata": {},
   "outputs": [],
   "source": [
    "# Start the case\n",
    "case = amrwind.MyApp.init_nogui()"
   ]
  },
  {
   "cell_type": "code",
   "execution_count": 12,
   "id": "c701bdf1-948e-4204-90b2-c0b329d297f7",
   "metadata": {},
   "outputs": [],
   "source": [
    "# Set the time constants\n",
    "case.setAMRWindInput('time.stop_time', 360.0)\n",
    "case.setAMRWindInput('time.max_step',  -1)\n",
    "\n",
    "case.setAMRWindInput('time.fixed_dt',  0.50)\n",
    "case.setAMRWindInput('time.checkpoint_interval',  10000)"
   ]
  },
  {
   "cell_type": "code",
   "execution_count": 13,
   "id": "f065fd47-8420-45e0-929f-8917f24f01f9",
   "metadata": {},
   "outputs": [],
   "source": [
    "# Set some basic parameters\n",
    "case.setAMRWindInput('incflo.physics',      ['ABL'])  # Must have ABL physics to do ABL calculations\n",
    "case.setAMRWindInput('incflo.verbose',      3)        # This is optional, verbose=3 means more info in the output logs\n",
    "case.setAMRWindInput('io.check_file',       'chk')    # What to name the checkpoint files\n",
    "\n",
    "case.setAMRWindInput('incflo.use_godunov',  True)       # Always use a godunov scheme\n",
    "case.setAMRWindInput('incflo.godunov_type', 'weno_z')   # Use 'weno_z' \n",
    "\n",
    "case.setAMRWindInput('turbulence.model',    ['OneEqKsgsM84'])    # One equation k-sgs subgrid scale model\n",
    "case.setAMRWindInput('TKE.source_terms',    ['KsgsM84Src'])      # The corresponding source term\n",
    "\n",
    "case.setAMRWindInput('transport.viscosity', 1.771e-05)           # dynamic viscosity, based on median air temperature of 284.47 K from 2 m above E06, units Pa-s\n",
    "case.setAMRWindInput('incflo.density',      rho)                 # density, based on 1017.13*100./(284.47)/287.058 where 1017.13 is median air pressure from 2 m above E06 \n",
    "                                                                 #   and 284.47 is median air temperature from 2 m above E06, units kg/\n",
    "case.setAMRWindInput('incflo.velocity',      [0, 0, 0])"
   ]
  },
  {
   "cell_type": "code",
   "execution_count": 14,
   "id": "e2a07692-2d6a-4166-a0b9-5e92a1a1110d",
   "metadata": {},
   "outputs": [],
   "source": [
    "# To set up the sampling output\n",
    "case.setAMRWindInput('time.plot_interval',        -1) "
   ]
  },
  {
   "cell_type": "code",
   "execution_count": 15,
   "id": "f106c1df-7dbc-4312-a981-a97c24e599fd",
   "metadata": {},
   "outputs": [],
   "source": [
    "# Set some tolerances (leave this alone)\n",
    "tols = \"\"\"\n",
    "nodal_proj.mg_rtol                       = 1e-06               \n",
    "nodal_proj.mg_atol                       = 1e-12               \n",
    "mac_proj.mg_rtol                         = 1e-06               \n",
    "mac_proj.mg_atol                         = 1e-12               \n",
    "diffusion.mg_rtol                        = 1e-06               \n",
    "diffusion.mg_atol                        = 1e-12               \n",
    "temperature_diffusion.mg_rtol            = 1e-10               \n",
    "temperature_diffusion.mg_atol            = 1e-13               \n",
    "\"\"\"\n",
    "case.loadAMRWindInput(tols, string=True);\n",
    "\n",
    "case.setAMRWindInput('incflo.do_initial_proj', 0)\n",
    "case.setAMRWindInput('incflo.initial_iterations', 0)"
   ]
  },
  {
   "cell_type": "code",
   "execution_count": 16,
   "id": "1faed870-f1b2-4f43-95a7-e71a803b3477",
   "metadata": {},
   "outputs": [],
   "source": [
    "# Sets up the domain and level 0 mesh\n",
    "case.setAMRWindInput('geometry.prob_lo', [-2560.0,-960.0, 0.0 ])\n",
    "case.setAMRWindInput('geometry.prob_hi', [2560.0,  960.0, 960.0])   # each number must be divisible by 16\n",
    "case.setAMRWindInput('amr.n_cell',       [256,     96,    48])"
   ]
  },
  {
   "cell_type": "code",
   "execution_count": 17,
   "id": "c4121efe-1505-4b76-a807-0fe69e9d66f7",
   "metadata": {},
   "outputs": [],
   "source": [
    "# This cell sets up boundary conditions\n",
    "case.setAMRWindInput('is_periodicx', True)     # periodic in x\n",
    "case.setAMRWindInput('is_periodicy', True)     # periodic in y\n",
    "case.setAMRWindInput('is_periodicz', False)    # Enforce some boundary conditions in z"
   ]
  },
  {
   "cell_type": "code",
   "execution_count": 18,
   "id": "ea8a4bb1-df94-4b9f-9bf8-28fbfe48fd5e",
   "metadata": {},
   "outputs": [],
   "source": [
    "# Boundary conditions in z\n",
    "case.setAMRWindInput('zlo.type',              'wall_model')          \n",
    "case.setAMRWindInput('zlo.tke_type',          'zero_gradient')       \n",
    "case.setAMRWindInput('zhi.type',              'slip_wall')           \n",
    "case.setAMRWindInput('zhi.temperature_type',  'fixed_gradient')    "
   ]
  },
  {
   "cell_type": "code",
   "execution_count": 19,
   "id": "bf25703b-a6d7-402a-8404-bc0f861ce7c7",
   "metadata": {},
   "outputs": [
    {
     "name": "stdout",
     "output_type": "stream",
     "text": [
      "CANNOT update: ABLMeanBoussinesq use forcechange=True in setval()\n"
     ]
    }
   ],
   "source": [
    "# Now set up ABL specific forces, parameters, etc.\n",
    "case.setAMRWindInput('ICNS.source_terms',            ['BoussinesqBuoyancy','ABLMesoForcingMom','ABLMeanBoussinesq',])\n",
    "case.setAMRWindInput('Temperature.source_terms',     ['ABLMesoForcingTemp',])\n",
    "\n",
    "case.setAMRWindInput('ABL.stats_output_frequency',   1, forcechange=True)           # Output ABL stats every iteration            \n",
    "case.setAMRWindInput('ABL.stats_output_format',   'netcdf', forcechange=True)       # Use netcdf output because that's how we postprocess\n",
    "\n",
    "case.setAMRWindInput('ABLForcing.abl_forcing_height',   150)       # Hub height wind speed you want specify \n",
    "case.setAMRWindInput('ABL.kappa',                       0.4)      # Kolmogorov constant\n",
    "\n",
    "case.setAMRWindInput('ABL.normal_direction',      2)              # vertical is in z\n",
    "case.setAMRWindInput('ABL.surface_roughness_z0',  0.0001)           # Surface roughess, SOMETHING WE WILL PROBABLY WANT TO ITERATE ON\n",
    "case.setAMRWindInput('ABL.reference_temperature', 300.0)        # Correspond to what was measured at ARM\n",
    "\n",
    "case.setAMRWindInput('ABL.perturb_temperature',    False, forcechange=True)\n",
    "case.setAMRWindInput('ABL.perturb_velocity',       False, forcechange=True)\n",
    "\n",
    "# Monin-Obukhov parameters (No need to change)\n",
    "case.setAMRWindInput('ABL.mo_beta_m',             16.0)\n",
    "case.setAMRWindInput('ABL.mo_gamma_m',            5.0)\n",
    "case.setAMRWindInput('ABL.mo_gamma_h',            5.0)\n",
    "case.setAMRWindInput('ABL.random_gauss_mean',     0.0)\n",
    "case.setAMRWindInput('ABL.random_gauss_var',      1.0)\n",
    "\n",
    "case.setAMRWindInput('BoussinesqBuoyancy.reference_temperature', 300.0)"
   ]
  },
  {
   "cell_type": "code",
   "execution_count": 20,
   "id": "679cf622-2e0a-4c78-9c55-c930ba8b022d",
   "metadata": {},
   "outputs": [
    {
     "data": {
      "image/png": "[encoded data removed]",
      "text/plain": [
       "<Figure size 1000x750 with 1 Axes>"
      ]
     },
     "metadata": {},
     "output_type": "display_data"
    }
   ],
   "source": [
    "# Plot the domain\n",
    "fig, ax = plt.subplots(figsize=(8,6), facecolor='w', dpi=125)\n",
    "case.popup_storteddata['plotdomain']['plot_chooseview']      = 'XY'\n",
    "case.popup_storteddata['plotdomain']['plot_refineboxes']     = case.listboxpopupwindict['listboxtagging'].getitemlist()\n",
    "case.popup_storteddata['plotdomain']['plot_sampleprobes']    = [] #case.listboxpopupwindict['listboxsampling'].getitemlist()\n",
    "case.popup_storteddata['plotdomain']['plot_turbines']        = case.listboxpopupwindict['listboxactuator'].getitemlist()\n",
    "case.plotDomain(ax=ax)"
   ]
  },
  {
   "cell_type": "markdown",
   "id": "a5c844e0-ce17-4fd3-8447-5985e52eae4b",
   "metadata": {
    "editable": true,
    "tags": []
   },
   "source": [
    "### Create sampling planes"
   ]
  },
  {
   "cell_type": "code",
   "execution_count": 21,
   "id": "4b088cae-af5a-4ae6-b254-6db11ed8bde5",
   "metadata": {
    "editable": true
   },
   "outputs": [],
   "source": [
    "samplingcsv=\"\"\"\n",
    "# CSV file should have columns withturbinescsv=\n",
    "# name, type, upstream, downstream, lateral, below, above, n1, n2, options\n",
    "name, type, upstream, downstream, lateral, below, above, n1, n2, options\n",
    "#cl1, centerline, 1,  0, none, none,  none,  11, 11, none\n",
    "#rp1, rotorplane, 2,  0, none, none,  none,  11, 11, none\n",
    "#sw1, streamwise, 2,  1, 1, 0.5,  0.5,  11, 11, usedx:0.25 noffsets:1\n",
    "hh,  hubheight,2560,2560,960, 0,  none,  11, 11, usedx:10 units:meter center:specified centerx:0.0 centery:0.0 centerz:90.0 orientation:x wholedomain:1\n",
    "\"\"\"\n",
    "case.setAMRWindInput('sampling_csvtextbox', samplingcsv)\n",
    "case.setAMRWindInput('sampling_deleteprev', True)"
   ]
  },
  {
   "cell_type": "code",
   "execution_count": 22,
   "id": "10e2d440-d55f-463f-828c-65ef24c252fe",
   "metadata": {
    "collapsed": false,
    "editable": true,
    "jupyter": {
     "outputs_hidden": false
    }
   },
   "outputs": [
    {
     "name": "stdout",
     "output_type": "stream",
     "text": [
      "['Farm_hh']\n"
     ]
    }
   ],
   "source": [
    "case.sampling_createAllProbes(verbose=False)\n",
    "# Print out existing list of turbines\n",
    "print(case.listboxpopupwindict['listboxsampling'].getitemlist())"
   ]
  },
  {
   "cell_type": "code",
   "execution_count": 23,
   "id": "94d21dcd-a3ab-40d5-a4b0-881227b7032f",
   "metadata": {
    "editable": true,
    "tags": []
   },
   "outputs": [
    {
     "data": {
      "image/png": "[encoded data removed]",
      "text/plain": [
       "<Figure size 1000x750 with 1 Axes>"
      ]
     },
     "metadata": {},
     "output_type": "display_data"
    }
   ],
   "source": [
    "# Plot the domain\n",
    "fig, ax = plt.subplots(figsize=(8,6), facecolor='w', dpi=125)\n",
    "case.popup_storteddata['plotdomain']['plot_refineboxes']     = [] #case.listboxpopupwindict['listboxtagging'].getitemlist()\n",
    "case.popup_storteddata['plotdomain']['plot_sampleprobes']    = case.listboxpopupwindict['listboxsampling'].getitemlist()\n",
    "case.popup_storteddata['plotdomain']['plot_turbines']        = case.listboxpopupwindict['listboxactuator'].getitemlist()\n",
    "case.plotDomain(ax=ax)"
   ]
  },
  {
   "cell_type": "markdown",
   "id": "c07a4785-0b6b-4a1a-b8f4-6693b55da2fd",
   "metadata": {},
   "source": [
    "## MMC parameters"
   ]
  },
  {
   "cell_type": "code",
   "execution_count": 24,
   "id": "a32fe6a0-94bb-411a-a426-a8bc9f5bc644",
   "metadata": {},
   "outputs": [
    {
     "name": "stdout",
     "output_type": "stream",
     "text": [
      "[============================================================] 100.0% \n",
      "[============================================================] 100.0% \n",
      "[============================================================] 100.0% \n",
      "NETCDF4\n",
      "Wrote heights and times\n",
      "Wrote momentum profiles\n",
      "Wrote temperature profiles\n",
      "Wrote tflux profiles\n",
      "Done\n"
     ]
    }
   ],
   "source": [
    "# Set the MMC inputs\n",
    "zstr, Tstr = writeMMC.makeIC_fromMMC(case.getAMRWindInput('geometry.prob_lo'), \n",
    "                                     case.getAMRWindInput('geometry.prob_hi'), \n",
    "                                     case.getAMRWindInput('amr.n_cell'), \n",
    "                                     all_U, all_V, all_T,\n",
    "                                     tvec, zvec, rundir+'/'+ICfilename, tstart, verbose=True)\n",
    "writeMMC.makeMMCforcing(case.getAMRWindInput('geometry.prob_lo'), \n",
    "                        case.getAMRWindInput('geometry.prob_hi'), \n",
    "                        case.getAMRWindInput('amr.n_cell'), \n",
    "                        all_U, all_V, all_T, fluxdat,\n",
    "                        tvec, zvec, rundir+'/'+MMCfilename)\n",
    "\n",
    "# These inputs set up the initial temperature profile (Same as Nalu-Wind temperature profile)\n",
    "case.setAMRWindInput('ABL.temperature_heights', zstr)\n",
    "case.setAMRWindInput('ABL.temperature_values',  Tstr)\n",
    "\n",
    "# MMC files\n",
    "case.setAMRWindInput('ABL.initial_condition_input_file', ICfilename) # this is only for u,v\n",
    "case.setAMRWindInput('ABL.mesoscale_forcing', MMCfilename)\n",
    "\n",
    "case.setAMRWindInput('ABLMesoForcingMom.forcing_scheme', \"direct\")\n",
    "case.setAMRWindInput('ABLMesoForcingTemp.forcing_scheme', \"direct\")\n",
    "\n",
    "#case.setAMRWindInput('ABLMesoForcingMom.forcing_transition',  \"directToConstant\")\n",
    "#case.setAMRWindInput('ABLMesoForcingTemp.forcing_transition', \"directToConstant\")\n",
    "#case.setAMRWindInput('ABLMesoForcingMom.constant_transition_height',  450.0)\n",
    "#case.setAMRWindInput('ABLMesoForcingTemp.constant_transition_height', 450.0)\n",
    "#case.setAMRWindInput('ABLMesoForcingMom.transition_thickness',  100.0)\n",
    "#case.setAMRWindInput('ABLMesoForcingTemp.transition_thickness', 100.0)"
   ]
  },
  {
   "cell_type": "code",
   "execution_count": null,
   "id": "6444962b-c7f6-41fa-9410-6b574ddc4c4f",
   "metadata": {},
   "outputs": [],
   "source": []
  },
  {
   "cell_type": "code",
   "execution_count": 25,
   "id": "80d04ab7-aeda-476e-be9f-b329963fb3d5",
   "metadata": {},
   "outputs": [],
   "source": [
    "# UNCOMMENT THIS LATER\n",
    "# Add boundary plane inputs\n",
    "case.setAMRWindInput('ABL_useboundaryplane',        True)\n",
    "case.setAMRWindInput('ABL.bndry_file',              'bndry_file')\n",
    "case.setAMRWindInput('ABL.bndry_io_mode',           '0')\n",
    "case.setAMRWindInput('ABL.bndry_planes',            ['xlo','ylo'])\n",
    "case.setAMRWindInput('ABL.bndry_output_start_time', 0.0)\n",
    "case.setAMRWindInput('ABL.bndry_var_names',         'velocity temperature tke')"
   ]
  },
  {
   "cell_type": "code",
   "execution_count": 26,
   "id": "a27e6e36-443c-494f-a40a-9e74680f2997",
   "metadata": {},
   "outputs": [
    {
     "name": "stdout",
     "output_type": "stream",
     "text": [
      "ESTIMATED MESH SIZE\n",
      "   Level       Ncells                      Cell Size\n",
      "       0      1179648             20.0 x 20.0 x 20.0\n",
      "  TOTAL:      1179648\n"
     ]
    }
   ],
   "source": [
    "# Estimate mesh size\n",
    "case.estimateMeshSize(verbose=False)"
   ]
  },
  {
   "cell_type": "code",
   "execution_count": 27,
   "id": "92308f9d-ac08-4583-85c4-6e5e725a2e6f",
   "metadata": {},
   "outputs": [
    {
     "name": "stdout",
     "output_type": "stream",
     "text": [
      "# --- Simulation time control parameters ---\n",
      "time.stop_time                           = 360.0               # Max (simulated) time to evolve [s]\n",
      "time.max_step                            = -1                  \n",
      "time.fixed_dt                            = 0.5                 # Fixed timestep size (in seconds). If negative, then time.cfl is used\n",
      "time.checkpoint_interval                 = 10000               \n",
      "incflo.physics                           = ABL                 # List of physics models to include in simulation.\n",
      "incflo.verbose                           = 3                   \n",
      "io.check_file                            = chk                 \n",
      "incflo.use_godunov                       = true                \n",
      "incflo.godunov_type                      = weno_z              \n",
      "turbulence.model                         = OneEqKsgsM84        \n",
      "TKE.source_terms                         = KsgsM84Src          \n",
      "nodal_proj.mg_rtol                       = 1e-06               \n",
      "nodal_proj.mg_atol                       = 1e-12               \n",
      "mac_proj.mg_rtol                         = 1e-06               \n",
      "mac_proj.mg_atol                         = 1e-12               \n",
      "diffusion.mg_rtol                        = 1e-06               \n",
      "diffusion.mg_atol                        = 1e-12               \n",
      "temperature_diffusion.mg_rtol            = 1e-10               \n",
      "temperature_diffusion.mg_atol            = 1e-13               \n",
      "incflo.do_initial_proj                   = 0                   \n",
      "incflo.initial_iterations                = 0                   \n",
      "incflo.gravity                           = 0.0 0.0 -9.81       # Gravitational acceleration vector (x,y,z) [m/s^2]\n",
      "incflo.density                           = 1.225               # Fluid density [kg/m^3]\n",
      "transport.viscosity                      = 1.771e-05           # Fluid dynamic viscosity [kg/m-s]\n",
      "transport.laminar_prandtl                = 0.7                 # Laminar prandtl number\n",
      "transport.turbulent_prandtl              = 0.3333              # Turbulent prandtl number\n",
      "\n",
      "# --- Geometry and Mesh ---\n",
      "geometry.prob_lo                         = -2560.0 -960.0 0.0  \n",
      "geometry.prob_hi                         = 2560.0 960.0 960.0  \n",
      "amr.n_cell                               = 256 96 48           # Number of cells in x, y, and z directions\n",
      "amr.max_level                            = 0                   \n",
      "geometry.is_periodic                     = 1 1 0               \n",
      "zlo.type                                 = wall_model          \n",
      "zlo.tke_type                             = zero_gradient       \n",
      "zhi.type                                 = slip_wall           \n",
      "zhi.temperature_type                     = fixed_gradient      \n",
      "\n",
      "# --- ABL parameters ---\n",
      "ICNS.source_terms                        = BoussinesqBuoyancy ABLMeanBoussinesq ABLMesoForcingMom\n",
      "ABL.stats_output_frequency               = 1                   \n",
      "ABL.stats_output_format                  = netcdf              \n",
      "Temperature.source_terms                 = ABLMesoForcingTemp  \n",
      "ABLMesoForcingMom.forcing_scheme         = direct              \n",
      "ABLMesoForcingTemp.forcing_scheme        = direct              \n",
      "ABL.tendency_forcing                     = false               \n",
      "ABL.initial_condition_input_file         = init.nc             \n",
      "ABL.mesoscale_forcing                    = MMC.nc              \n",
      "ABL.bndry_io_mode                        = 0                   \n",
      "ABL.bndry_file                           = bndry_file          \n",
      "ABL.bndry_planes                         = xlo ylo             \n",
      "ABL.bndry_output_start_time              = 0.0                 \n",
      "ABL.bndry_var_names                      = velocity temperature tke\n",
      "ABL.bndry_output_format                  = native              \n",
      "incflo.velocity                          = 0.0 0.0 0.0         \n",
      "ABLForcing.abl_forcing_height            = 150.0               \n",
      "ABL.kappa                                = 0.4                 \n",
      "ABL.normal_direction                     = 2                   \n",
      "ABL.surface_roughness_z0                 = 0.0001              \n",
      "ABL.reference_temperature                = 300.0               \n",
      "ABL.surface_temp_rate                    = 0.0                 \n",
      "ABL.mo_beta_m                            = 16.0                # Monin-Obukhov Beta m parameter\n",
      "ABL.mo_gamma_m                           = 5.0                 # Monin-Obukhov Gamma m parameter\n",
      "ABL.mo_gamma_h                           = 5.0                 # Monin-Obukhov Gamma h parameter\n",
      "ABL.random_gauss_mean                    = 0.0                 \n",
      "ABL.random_gauss_var                     = 1.0                 \n",
      "BoussinesqBuoyancy.reference_temperature = 300.0               \n",
      "ABL.temperature_heights                  = 0.0 10.0 20.0 30.0 40.0 50.0 60.0 70.0 80.0 90.0 100.0 110.0 120.0 130.0 140.0 150.0 160.0 170.0 180.0 190.0 200.0 210.0 220.0 230.0 240.0 250.0 260.0 270.0 280.0 290.0 300.0 310.0 320.0 330.0 340.0 350.0 360.0 370.0 380.0 390.0 400.0 410.0 420.0 430.0 440.0 450.0 460.0 470.0 480.0 490.0 500.0 510.0 520.0 530.0 540.0 550.0 560.0 570.0 580.0 590.0 600.0 610.0 620.0 630.0 640.0 650.0 660.0 670.0 680.0 690.0 700.0 710.0 720.0 730.0 740.0 750.0 760.0 770.0 780.0 790.0 800.0 810.0 820.0 830.0 840.0 850.0 860.0 870.0 880.0 890.0 900.0 910.0 920.0 930.0 940.0 950.0 960.0 970.0 980.0 990.0 1000.0\n",
      "ABL.temperature_values                   = 300.0 300.0 300.0 300.0 300.0 300.0 300.0 300.0 300.0 300.0 300.0 300.0 300.0 300.0 300.0 300.0 300.0 300.0 300.0 300.0 300.0 300.0 300.0 300.0 300.0 300.0 300.0 300.0 300.0 300.0 300.0 300.0 300.0 300.0 300.0 300.0 300.0 300.0 300.0 300.0 300.0 300.0 300.0 300.0 300.0 300.0 300.0 300.0 300.0 300.0 300.0 300.0 300.0 300.0 300.0 300.0 300.0 300.0 300.0 300.0 300.0 300.0 300.0 300.0 300.0 300.0 300.0 300.0 300.0 300.0 300.0 300.0 300.0 300.0 300.0 300.0 300.0 300.0 300.0 300.0 300.0 300.0 300.0 300.0 300.0 300.0 300.0 300.0 300.0 300.0 300.0 300.0 300.0 300.0 300.0 300.0 300.0 300.0 300.0 300.0 300.0\n",
      "ABLMeanBoussinesq.read_temperature_profile = false               \n",
      "ABL.perturb_velocity                     = false               \n",
      "ABL.perturb_ref_height                   = 50.0                \n",
      "ABL.Uperiods                             = 4.0                 \n",
      "ABL.Vperiods                             = 4.0                 \n",
      "ABL.deltaU                               = 1.0                 \n",
      "ABL.deltaV                               = 1.0                 \n",
      "ABL.perturb_temperature                  = false               \n",
      "ABL.theta_amplitude                      = 0.8                 \n",
      "ABL.cutoff_height                        = 100.0               \n",
      "time.plot_interval                       = -1                  \n",
      "io.plot_file                             = plt                 \n",
      "io.KE_int                                = -1                  \n",
      "\n",
      "#---- postprocessing defs ----\n",
      "incflo.post_processing                   = sampling            \n",
      "sampling.type                            = Sampling            \n",
      "sampling.output_frequency                = 100                 \n",
      "sampling.fields                          = velocity            \n",
      "\n",
      "#---- sample defs ----\n",
      "sampling.labels                          = Farm_hh             \n",
      "sampling.Farm_hh.type                    = PlaneSampler        \n",
      "sampling.Farm_hh.num_points              = 513 193             \n",
      "sampling.Farm_hh.origin                  = -2559.9999 -959.9999 90.0\n",
      "sampling.Farm_hh.axis1                   = 5119.9998 0.0 0.0   \n",
      "sampling.Farm_hh.axis2                   = 0.0 1919.9998 0.0   \n",
      "sampling.Farm_hh.offset_vector           = 0.0 0.0 0.0         \n",
      "\n",
      "#---- extra params ----\n",
      "#== END AMR-WIND INPUT ==\n",
      "\n"
     ]
    }
   ],
   "source": [
    "# Write the input file\n",
    "print(case.writeAMRWindInput(rundir+'/'+amrfilename))"
   ]
  }
 ],
 "metadata": {
  "kernelspec": {
   "display_name": "Python 3 (ipykernel)",
   "language": "python",
   "name": "python3"
  },
  "language_info": {
   "codemirror_mode": {
    "name": "ipython",
    "version": 3
   },
   "file_extension": ".py",
   "mimetype": "text/x-python",
   "name": "python",
   "nbconvert_exporter": "python",
   "pygments_lexer": "ipython3",
   "version": "3.9.12"
  }
 },
 "nbformat": 4,
 "nbformat_minor": 5
}
