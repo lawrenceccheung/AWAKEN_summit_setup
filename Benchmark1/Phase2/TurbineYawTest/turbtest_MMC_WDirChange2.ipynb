{
 "cells": [
  {
   "cell_type": "markdown",
   "id": "30d76fc0-d3ee-4f62-9acc-c308fd8546a6",
   "metadata": {},
   "source": [
    "# Turbine test in MMC with wind direction change"
   ]
  },
  {
   "cell_type": "code",
   "execution_count": 1,
   "id": "9fc8158c-baaa-4c93-819c-2359e296b269",
   "metadata": {},
   "outputs": [
    {
     "name": "stderr",
     "output_type": "stream",
     "text": [
      "/ascldap/users/lcheung/.local/lib/python3.9/site-packages/pandas/core/computation/expressions.py:21: UserWarning: Pandas requires version '2.8.4' or newer of 'numexpr' (version '2.8.1' currently installed).\n",
      "  from pandas.core.computation.check import NUMEXPR_INSTALLED\n",
      "/ascldap/users/lcheung/.local/lib/python3.9/site-packages/pandas/core/arrays/masked.py:60: UserWarning: Pandas requires version '1.3.6' or newer of 'bottleneck' (version '1.3.4' currently installed).\n",
      "  from pandas.core import (\n"
     ]
    }
   ],
   "source": [
    "# Add any possible locations of amr-wind-frontend here\n",
    "amrwindfedirs = ['/projects/wind_uq/lcheung/amrwind-frontend',\n",
    "                 '/ascldap/users/lcheung/wind_uq/amrwind-frontend/',\n",
    "                 '/ccs/proj/cfd162/lcheung/amrwind-frontend/']\n",
    "import sys, os, shutil\n",
    "for x in amrwindfedirs: sys.path.insert(1, x)\n",
    "\n",
    "# Load the libraries\n",
    "import amrwind_frontend  as amrwind\n",
    "import matplotlib.pyplot as plt\n",
    "import numpy             as np\n",
    "import math\n",
    "import pandas as pd\n",
    "import postproamrwindsample as ppsample\n",
    "import time\n",
    "import utm\n",
    "import shutil\n",
    "\n",
    "# Also ignore warnings\n",
    "import warnings\n",
    "warnings.filterwarnings('ignore')\n",
    "\n",
    "# Make all plots inline \n",
    "%matplotlib inline"
   ]
  },
  {
   "cell_type": "code",
   "execution_count": 2,
   "id": "060fa81b-3cbb-4be2-af72-51263800eb4f",
   "metadata": {},
   "outputs": [],
   "source": [
    "# Start the AMR-Wind case\n",
    "case = amrwind.MyApp.init_nogui()"
   ]
  },
  {
   "cell_type": "code",
   "execution_count": 3,
   "id": "9f82ecfd-5253-42b6-83f6-523bf1a11d53",
   "metadata": {},
   "outputs": [
    {
     "name": "stdout",
     "output_type": "stream",
     "text": [
      "CANNOT update: ABLMeanBoussinesq use forcechange=True in setval()\n"
     ]
    },
    {
     "data": {
      "text/plain": [
       "OrderedDict()"
      ]
     },
     "execution_count": 3,
     "metadata": {},
     "output_type": "execute_result"
    }
   ],
   "source": [
    "# Location of precursor run with boundary data\n",
    "precursordir  = '/gpfs/lcheung/AWAKEN/Benchmark1/Phase2/wdirtest_01'\n",
    "precursorsetup= precursordir+'/abl_MMC.inp'\n",
    "\n",
    "# Location of farm run dir\n",
    "farmrundir       = './turbtest_MMC_WDirChange2'\n",
    "outputfile       = 'turbtest.inp'\n",
    "noturboutputfile = 'turbtest_noturb.inp'\n",
    "\n",
    "verbose          = True\n",
    "cwd              = os.getcwd()\n",
    "\n",
    "# Go to the run directory\n",
    "if os.path.exists(farmrundir):\n",
    "    shutil.rmtree(farmrundir)\n",
    "\n",
    "os.makedirs(farmrundir, exist_ok = True)\n",
    "os.chdir(farmrundir)\n",
    "\n",
    "# Load the starting point\n",
    "case.loadAMRWindInput(precursorsetup)"
   ]
  },
  {
   "cell_type": "code",
   "execution_count": 4,
   "id": "1ddf4dc9-0ad0-4391-bd59-926cd6a345f1",
   "metadata": {},
   "outputs": [],
   "source": [
    "tstart = 0\n",
    "tstop  = tstart+360"
   ]
  },
  {
   "cell_type": "code",
   "execution_count": 5,
   "id": "0b918804-069e-4c55-b045-3974fa15aae7",
   "metadata": {},
   "outputs": [],
   "source": [
    "# Set the time constants\n",
    "case.setAMRWindInput('time.stop_time', tstop)\n",
    "case.setAMRWindInput('time.fixed_dt',  0.1)\n",
    "case.setAMRWindInput('time.max_step',  -1)"
   ]
  },
  {
   "cell_type": "code",
   "execution_count": 6,
   "id": "cdfcc1c7-ed7f-4283-935c-183bd57bfd80",
   "metadata": {},
   "outputs": [],
   "source": [
    "# set verbosity\n",
    "case.setAMRWindInput('incflo.verbose', 0)"
   ]
  },
  {
   "cell_type": "code",
   "execution_count": 7,
   "id": "65d73ed7-9103-494f-a8f2-e6c0361708fd",
   "metadata": {},
   "outputs": [],
   "source": [
    "# Set the restart point\n",
    "chkdir = precursordir+'/chk00000/'\n",
    "case.setAMRWindInput('restart_file', os.path.realpath(chkdir))"
   ]
  },
  {
   "cell_type": "code",
   "execution_count": 8,
   "id": "13652b9e-c988-4333-8ab2-5e846cd90c89",
   "metadata": {},
   "outputs": [],
   "source": [
    "# Set the boundary input file parameters\n",
    "ablstatfile = precursordir+'/post_processing/abl_statistics00000.nc'\n",
    "#tavg        =  [tstart, tstop]\n",
    "#forcingdict = {'ablstatfile':ablstatfile, 'tavg':tavg}\n",
    "forcingdict = {'ablstatfile':ablstatfile, 'tendencyforcing_file':'./tendencyforcing.nc'}\n",
    "inflowplanes= ['xlo', 'ylo',] #[ 'xhi']\n",
    "bndryfiles  = precursordir+'/bndry_file'"
   ]
  },
  {
   "cell_type": "code",
   "execution_count": 9,
   "id": "fd7b5367-288a-4bd4-9e90-b338bb49b0a2",
   "metadata": {},
   "outputs": [
    {
     "name": "stdout",
     "output_type": "stream",
     "text": [
      "SET ABL_bndry_io_mode = '1'\n",
      "SET ABL_bndry_file = '/gpfs/lcheung/AWAKEN/Benchmark1/Phase2/wdirtest_01/bndry_file'\n",
      "SET ABL_bndry_planes = ['xlo', 'ylo']\n",
      "SET is_periodicx = False\n",
      "SET is_periodicy = False\n",
      "SET xlo_type = 'mass_inflow'\n",
      "SET xlo_density = 1.225\n",
      "SET xlo_temperature = 0.0\n",
      "SET xlo_tke = 0.0\n",
      "SET ylo_type = 'mass_inflow'\n",
      "SET ylo_density = 1.225\n",
      "SET ylo_temperature = 0.0\n",
      "SET ylo_tke = 0.0\n",
      "SET xhi_type = 'pressure_outflow'\n",
      "SET xhi_density = None\n",
      "SET xhi_temperature = None\n",
      "SET xhi_tke = None\n",
      "SET yhi_type = 'pressure_outflow'\n",
      "SET yhi_density = None\n",
      "SET yhi_temperature = None\n",
      "SET yhi_tke = None\n",
      "SET ABLForcing = False\n",
      "Wrote ./tendencyforcing.nc\n",
      "SET ABL_tendency_forcing = True\n",
      "SET ABL_mesoscale_forcing = './tendencyforcing.nc'\n",
      "SET ABLMesoForcingMom = True\n",
      "SET ABL_initial_condition_input_file = 'None'\n",
      "SET ABLMeanBoussinesq = True\n",
      "SET wall_shear_stress_type = 'local'\n",
      "SET checkpoint_start = 0\n"
     ]
    }
   ],
   "source": [
    "case.boundaryplane_restart(bndryfiles=bndryfiles, \n",
    "                           forcingdict=forcingdict, \n",
    "                           inflowplanes=inflowplanes, \n",
    "                           checkpointdir=chkdir,\n",
    "                           autoset_BodyForcing=False,\n",
    "                           autoset_MMCForcing=False,\n",
    "                           autoset_MMCTendencyForcing=True,\n",
    "                           verbose=True)"
   ]
  },
  {
   "cell_type": "markdown",
   "id": "b8c6aeff-a989-413b-8a4e-2b0bfb3ce71b",
   "metadata": {},
   "source": [
    "## Add the turbine"
   ]
  },
  {
   "cell_type": "code",
   "execution_count": 10,
   "id": "3fb7ea3e-6a83-4899-8aa5-cf8932ee7c72",
   "metadata": {},
   "outputs": [],
   "source": [
    "# Add the turbine specifications flag\n",
    "## Note that the options field can have things like:\n",
    "##    ADparam_TwrAero:False ADparam_TwrShadow:0 FSTparam_TMax:181234.0\n",
    "\n",
    "\n",
    "OFoptions=(\"ADparam_TwrAero:True ADparam_TwrShadow:1 \"\n",
    "           \"FSTparam_DT_Out:0.02 \"\n",
    "           \"FSTparam_TStart:0.0 \"\n",
    "           \"EDparam_RotSpeed:6.00 \"\n",
    "           \"EDparam_YawDOF:True \"\n",
    "           \"SDparam_YawNeut:0.0 \"\n",
    "           \"SDparam_YCMode:5 \"\n",
    "           \"SDparam_TYCOn:0.0 \"\n",
    "           \"DISCONparam_Y_ControlMode:1 \"\n",
    "           \"DISCONparam_Y_ErrThresh:'4.0 4.0' \"\n",
    "           \"AMRparam_Actuator_epsilon:[2;2;2] \"\n",
    "           \"AMRparam_Actuator_epsilon_tower:[2;2;2] \"\n",
    "           \"AMRparam_Actuator_openfast_stop_time:1200.0 \"\n",
    "          )\n",
    "\n",
    "## To specify changes to the OpenFAST model\n",
    "turbinescsv=\"\"\"\n",
    "# CSV file should have columns with\n",
    "# name, x, y, type, yaw, hubheight, options\n",
    "T0,     0, 0, NREL 2.8-127 ADM AWAKEN, 270.0, , {OFoptions}\n",
    "\"\"\".format(OFoptions=OFoptions)\n",
    "case.setAMRWindInput('turbines_csvtextbox',  turbinescsv)"
   ]
  },
  {
   "cell_type": "code",
   "execution_count": 11,
   "id": "04f5af3e-bf33-450b-a3d4-ca0ef944928e",
   "metadata": {},
   "outputs": [
    {
     "name": "stdout",
     "output_type": "stream",
     "text": [
      "docopy = True from /projects/wind_uq/lcheung/amrwind-frontend/turbines/OpenFAST_NREL2p8-127_AWAKEN to T0_OpenFAST_NREL2p8-127_AWAKEN\n",
      "T0_OpenFAST_NREL2p8-127_AWAKEN/NREL-2p8-127.fst\n",
      "Setting Actuator_epsilon to [2, 2, 2]\n",
      "Setting Actuator_epsilon_tower to [2, 2, 2]\n",
      "Setting Actuator_openfast_stop_time to 1200.0\n",
      "OrderedDict([('DT_Out', 0.02), ('TStart', 0.0)])\n",
      "OrderedDict([('TwrAero', 'True'), ('TwrShadow', 1)])\n",
      "OrderedDict([('YawNeut', 0.0), ('YCMode', 5), ('TYCOn', 0.0)])\n",
      "OrderedDict([('RotSpeed', 6.0), ('YawDOF', 'True')])\n",
      "OrderedDict([('Y_ControlMode', 1), ('Y_ErrThresh', '4.0 4.0')])\n"
     ]
    },
    {
     "name": "stderr",
     "output_type": "stream",
     "text": [
      "      0.02 DT_Out - Time step for tabular output (s) (or \"default\") [EDITED]\n",
      "       0.0 TStart - Time to begin tabular output (s) [EDITED]\n",
      "         1 TwrShadow - Calculate tower influence on wind based on downstream tower shadow (switch) {0=none 1=Powles model 2=Eames model} [EDITED]\n",
      "      True TwrAero - Calculate tower aerodynamic loads? (flag) [EDITED]\n",
      "         5 YCMode - Yaw control mode {0: none 3: user-defined from routine UserYawCont 4: user-defined from Simulink/Labview 5: user-defined from Bladed-style DLL} (switch) [EDITED]\n",
      "       0.0 TYCOn - Time to enable active yaw control (s) [unused when YCMode=0] [EDITED]\n",
      "       0.0 YawNeut - Neutral yaw position--yaw spring force is zero at this yaw (degrees) [EDITED]\n",
      "      True YawDOF - Yaw DOF (flag) [EDITED]\n",
      "       6.0 RotSpeed - Initial or fixed rotor speed (rpm) [EDITED]\n",
      "1 ! Y_ControlMode   - Yaw control mode {0: no yaw control, 1: yaw rate control, 2: yaw-by-IPC} [EDITED]\n",
      "4.0 4.0 ! Y_ErrThresh    - Yaw error threshold/deadbands. Turbine begins to yaw when it passes this. If Y_uSwitch is zero, only the second value is used. [deg]. [EDITED]\n"
     ]
    }
   ],
   "source": [
    "case.setAMRWindInput('turbines_createnewdomain', False)\n",
    "case.setAMRWindInput('turbines_deleteprev', True)\n",
    "\n",
    "case.turbines_createAllTurbines()"
   ]
  },
  {
   "cell_type": "markdown",
   "id": "57a3c228-a9a5-49b4-8399-4371a3e1a215",
   "metadata": {
    "editable": true
   },
   "source": [
    "## Add turbine refinement"
   ]
  },
  {
   "cell_type": "code",
   "execution_count": 12,
   "id": "c6dacc3a-98c2-4d63-81ff-77523c111ecf",
   "metadata": {
    "editable": true
   },
   "outputs": [],
   "source": [
    "refinementcsv=\"\"\"\n",
    "# CSV file should have columns with\n",
    "# level, upstream, downstream, lateral, below, above, options\n",
    "level, upstream, downstream, lateral, below, above, options\n",
    "0,     10,       10,         3,       2,     2,     center:farm\n",
    "1,     2.5,      2.5,        2.5,     1.2,   1.2,   center:farm\n",
    "2,     1,        1,          0.75,    0.8,   0.8,  \n",
    "\"\"\"\n",
    "case.setAMRWindInput('refine_csvtextbox', refinementcsv)\n",
    "case.setAMRWindInput('refine_deleteprev', True)"
   ]
  },
  {
   "cell_type": "code",
   "execution_count": 13,
   "id": "88a64a22-99f5-46fc-b1a9-f3074ee152c2",
   "metadata": {
    "collapsed": false,
    "editable": true,
    "jupyter": {
     "outputs_hidden": false
    }
   },
   "outputs": [
    {
     "name": "stdout",
     "output_type": "stream",
     "text": [
      "['Farm_level_0_zone', 'Farm_level_1_zone', 'T0_level_2_zone']\n"
     ]
    }
   ],
   "source": [
    "case.refine_createAllZones()\n",
    "# Print out existing list of turbines\n",
    "print(case.listboxpopupwindict['listboxtagging'].getitemlist())"
   ]
  },
  {
   "cell_type": "code",
   "execution_count": 14,
   "id": "343f6ea4-d9ea-48f7-aa88-203d98c12e70",
   "metadata": {
    "collapsed": false,
    "editable": true,
    "jupyter": {
     "outputs_hidden": false
    }
   },
   "outputs": [
    {
     "data": {
      "image/png": "[encoded data removed]",
      "text/plain": [
       "<Figure size 625x625 with 1 Axes>"
      ]
     },
     "metadata": {},
     "output_type": "display_data"
    }
   ],
   "source": [
    "# Plot the domain\n",
    "fig, ax2 = plt.subplots(figsize=(5,5), facecolor='w', dpi=125)\n",
    "case.popup_storteddata['plotdomain']['plot_turbines']        = case.listboxpopupwindict['listboxactuator'].getitemlist()\n",
    "case.popup_storteddata['plotdomain']['plot_refineboxes']     = case.listboxpopupwindict['listboxtagging'].getitemlist()\n",
    "case.plotDomain(ax=ax2)"
   ]
  },
  {
   "cell_type": "code",
   "execution_count": 15,
   "id": "fd50555f-39e2-4214-a8ab-2fe58b561efa",
   "metadata": {
    "collapsed": false,
    "editable": true,
    "jupyter": {
     "outputs_hidden": false
    }
   },
   "outputs": [
    {
     "data": {
      "image/png": "[encoded data removed]",
      "text/plain": [
       "<Figure size 1000x750 with 1 Axes>"
      ]
     },
     "metadata": {},
     "output_type": "display_data"
    }
   ],
   "source": [
    "# Plot the domain\n",
    "fig, ax = plt.subplots(figsize=(8,6), facecolor='w', dpi=125)\n",
    "case.popup_storteddata['plotdomain']['plot_chooseview']      = 'YZ'\n",
    "case.popup_storteddata['plotdomain']['plot_refineboxes']     = case.listboxpopupwindict['listboxtagging'].getitemlist()\n",
    "case.popup_storteddata['plotdomain']['plot_sampleprobes']    = [] #case.listboxpopupwindict['listboxsampling'].getitemlist()\n",
    "case.popup_storteddata['plotdomain']['plot_turbines']        = case.listboxpopupwindict['listboxactuator'].getitemlist()\n",
    "case.plotDomain(ax=ax)"
   ]
  },
  {
   "cell_type": "code",
   "execution_count": 16,
   "id": "35f45a99-ab19-4b96-b786-5b665ceaabcc",
   "metadata": {
    "collapsed": false,
    "editable": true,
    "jupyter": {
     "outputs_hidden": false
    }
   },
   "outputs": [
    {
     "name": "stdout",
     "output_type": "stream",
     "text": [
      "Refinement Farm_level_0_zone: level 1: 983223 cells\n",
      "Refinement Farm_level_1_zone: level 2: 983223 cells\n",
      "Refinement T0_level_2_zone: level 3: 629263 cells\n",
      "ESTIMATED MESH SIZE\n",
      "   Level       Ncells                      Cell Size\n",
      "       0      1179648             20.0 x 20.0 x 20.0\n",
      "       1       983223             10.0 x 10.0 x 10.0\n",
      "       2       983223                5.0 x 5.0 x 5.0\n",
      "       3       629263                2.5 x 2.5 x 2.5\n",
      "  TOTAL:      3775357\n"
     ]
    }
   ],
   "source": [
    "case.estimateMeshSize()"
   ]
  },
  {
   "cell_type": "markdown",
   "id": "69d873a9-7a4c-41a6-9333-15109502f783",
   "metadata": {
    "editable": true,
    "tags": []
   },
   "source": [
    "### Create sampling planes"
   ]
  },
  {
   "cell_type": "code",
   "execution_count": 17,
   "id": "5df6c505-2ba5-441d-809e-8634ae8741ca",
   "metadata": {
    "editable": true
   },
   "outputs": [],
   "source": [
    "samplingcsv=\"\"\"\n",
    "# CSV file should have columns withturbinescsv=\n",
    "# name, type, upstream, downstream, lateral, below, above, n1, n2, options\n",
    "name, type, upstream, downstream, lateral, below, above, n1, n2, options\n",
    "#cl1, centerline, 1,  0, none, none,  none,  11, 11, none\n",
    "#rp1, rotorplane, 2,  0, none, none,  none,  11, 11, none\n",
    "#sw1, streamwise, 2,  1, 1, 0.5,  0.5,  11, 11, usedx:0.25 noffsets:1\n",
    "hh,  hubheight,2560,2560,960, 0,  none,  11, 11, usedx:10 units:meter center:farm orientation:x wholedomain:1\n",
    "\"\"\"\n",
    "case.setAMRWindInput('sampling_csvtextbox', samplingcsv)\n",
    "case.setAMRWindInput('sampling_deleteprev', True)"
   ]
  },
  {
   "cell_type": "code",
   "execution_count": 18,
   "id": "59daa9d0-1954-4328-b854-5b351864597b",
   "metadata": {
    "collapsed": false,
    "editable": true,
    "jupyter": {
     "outputs_hidden": false
    }
   },
   "outputs": [
    {
     "name": "stdout",
     "output_type": "stream",
     "text": [
      "['Farm_hh']\n"
     ]
    }
   ],
   "source": [
    "case.sampling_createAllProbes(verbose=False)\n",
    "# Print out existing list of turbines\n",
    "print(case.listboxpopupwindict['listboxsampling'].getitemlist())"
   ]
  },
  {
   "cell_type": "code",
   "execution_count": 19,
   "id": "4b8211ce-27c8-430b-9792-983b0ef1a8c0",
   "metadata": {
    "editable": true,
    "tags": []
   },
   "outputs": [
    {
     "data": {
      "image/png": "[encoded data removed]",
      "text/plain": [
       "<Figure size 1000x750 with 1 Axes>"
      ]
     },
     "metadata": {},
     "output_type": "display_data"
    }
   ],
   "source": [
    "# Plot the domain\n",
    "fig, ax = plt.subplots(figsize=(8,6), facecolor='w', dpi=125)\n",
    "case.popup_storteddata['plotdomain']['plot_refineboxes']     = [] #case.listboxpopupwindict['listboxtagging'].getitemlist()\n",
    "case.popup_storteddata['plotdomain']['plot_sampleprobes']    = case.listboxpopupwindict['listboxsampling'].getitemlist()\n",
    "case.popup_storteddata['plotdomain']['plot_turbines']        = case.listboxpopupwindict['listboxactuator'].getitemlist()\n",
    "case.plotDomain(ax=ax)"
   ]
  },
  {
   "cell_type": "code",
   "execution_count": 20,
   "id": "b6373a4a-1d3b-4ee4-82f2-24341fce94ee",
   "metadata": {
    "collapsed": false,
    "editable": true,
    "jupyter": {
     "outputs_hidden": false
    }
   },
   "outputs": [
    {
     "name": "stdout",
     "output_type": "stream",
     "text": [
      "# --- Simulation time control parameters ---\n",
      "time.stop_time                           = 360.0               # Max (simulated) time to evolve [s]\n",
      "time.max_step                            = -1                  \n",
      "time.fixed_dt                            = 0.1                 # Fixed timestep size (in seconds). If negative, then time.cfl is used\n",
      "time.checkpoint_interval                 = 10000               \n",
      "time.checkpoint_start                    = 0                   \n",
      "incflo.physics                           = ABL Actuator        # List of physics models to include in simulation.\n",
      "incflo.verbose                           = 0                   \n",
      "io.check_file                            = chk                 \n",
      "io.restart_file                          = /gpfs/lcheung/AWAKEN/Benchmark1/Phase2/wdirtest_01/chk00000\n",
      "incflo.use_godunov                       = true                \n",
      "incflo.godunov_type                      = weno_z              \n",
      "turbulence.model                         = OneEqKsgsM84        \n",
      "TKE.source_terms                         = KsgsM84Src          \n",
      "nodal_proj.mg_rtol                       = 1e-06               \n",
      "nodal_proj.mg_atol                       = 1e-12               \n",
      "mac_proj.mg_rtol                         = 1e-06               \n",
      "mac_proj.mg_atol                         = 1e-12               \n",
      "diffusion.mg_rtol                        = 1e-06               \n",
      "diffusion.mg_atol                        = 1e-12               \n",
      "temperature_diffusion.mg_rtol            = 1e-10               \n",
      "temperature_diffusion.mg_atol            = 1e-13               \n",
      "incflo.do_initial_proj                   = 0                   \n",
      "incflo.initial_iterations                = 0                   \n",
      "incflo.gravity                           = 0.0 0.0 -9.81       # Gravitational acceleration vector (x,y,z) [m/s^2]\n",
      "incflo.density                           = 1.225               # Fluid density [kg/m^3]\n",
      "transport.viscosity                      = 1.771e-05           # Fluid dynamic viscosity [kg/m-s]\n",
      "transport.laminar_prandtl                = 0.7                 # Laminar prandtl number\n",
      "transport.turbulent_prandtl              = 0.3333              # Turbulent prandtl number\n",
      "\n",
      "# --- Geometry and Mesh ---\n",
      "geometry.prob_lo                         = -2560.0 -960.0 0.0  \n",
      "geometry.prob_hi                         = 2560.0 960.0 960.0  \n",
      "amr.n_cell                               = 256 96 48           # Number of cells in x, y, and z directions\n",
      "amr.max_level                            = 3                   \n",
      "geometry.is_periodic                     = 0 0 0               \n",
      "xlo.type                                 = mass_inflow         \n",
      "xlo.density                              = 1.225               \n",
      "xlo.temperature                          = 0.0                 \n",
      "xlo.tke                                  = 0.0                 \n",
      "xhi.type                                 = pressure_outflow    \n",
      "ylo.type                                 = mass_inflow         \n",
      "ylo.density                              = 1.225               \n",
      "ylo.temperature                          = 0.0                 \n",
      "ylo.tke                                  = 0.0                 \n",
      "yhi.type                                 = pressure_outflow    \n",
      "zlo.type                                 = wall_model          \n",
      "zlo.tke_type                             = zero_gradient       \n",
      "zhi.type                                 = slip_wall           \n",
      "zhi.temperature_type                     = fixed_gradient      \n",
      "\n",
      "# --- ABL parameters ---\n",
      "ICNS.source_terms                        = BoussinesqBuoyancy ActuatorForcing ABLMeanBoussinesq ABLMesoForcingMom\n",
      "ABL.stats_output_frequency               = 1                   \n",
      "ABL.stats_output_format                  = netcdf              \n",
      "Temperature.source_terms                 = ABLMesoForcingTemp  \n",
      "ABLMesoForcingMom.forcing_scheme         = direct              \n",
      "ABLMesoForcingTemp.forcing_scheme        = direct              \n",
      "ABL.tendency_forcing                     = true                \n",
      "ABL.mesoscale_forcing                    = ./tendencyforcing.nc\n",
      "ABL.bndry_io_mode                        = 1                   \n",
      "ABL.bndry_file                           = /gpfs/lcheung/AWAKEN/Benchmark1/Phase2/wdirtest_01/bndry_file\n",
      "ABL.bndry_planes                         = xlo ylo             \n",
      "ABL.bndry_output_start_time              = 0.0                 \n",
      "ABL.bndry_var_names                      = velocity temperature tke\n",
      "ABL.bndry_output_format                  = native              \n",
      "incflo.velocity                          = 0.0 0.0 0.0         \n",
      "ABLForcing.abl_forcing_height            = 150.0               \n",
      "ABL.kappa                                = 0.4                 \n",
      "ABL.normal_direction                     = 2                   \n",
      "ABL.surface_roughness_z0                 = 0.0001              \n",
      "ABL.reference_temperature                = 300.0               \n",
      "ABL.surface_temp_rate                    = 0.0                 \n",
      "ABL.mo_beta_m                            = 16.0                # Monin-Obukhov Beta m parameter\n",
      "ABL.mo_gamma_m                           = 5.0                 # Monin-Obukhov Gamma m parameter\n",
      "ABL.mo_gamma_h                           = 5.0                 # Monin-Obukhov Gamma h parameter\n",
      "ABL.random_gauss_mean                    = 0.0                 \n",
      "ABL.random_gauss_var                     = 1.0                 \n",
      "ABL.wall_shear_stress_type               = local               \n",
      "BoussinesqBuoyancy.reference_temperature = 300.0               \n",
      "ABL.temperature_heights                  = 0.0 10.0 20.0 30.0 40.0 50.0 60.0 70.0 80.0 90.0 100.0 110.0 120.0 130.0 140.0 150.0 160.0 170.0 180.0 190.0 200.0 210.0 220.0 230.0 240.0 250.0 260.0 270.0 280.0 290.0 300.0 310.0 320.0 330.0 340.0 350.0 360.0 370.0 380.0 390.0 400.0 410.0 420.0 430.0 440.0 450.0 460.0 470.0 480.0 490.0 500.0 510.0 520.0 530.0 540.0 550.0 560.0 570.0 580.0 590.0 600.0 610.0 620.0 630.0 640.0 650.0 660.0 670.0 680.0 690.0 700.0 710.0 720.0 730.0 740.0 750.0 760.0 770.0 780.0 790.0 800.0 810.0 820.0 830.0 840.0 850.0 860.0 870.0 880.0 890.0 900.0 910.0 920.0 930.0 940.0 950.0 960.0 970.0 980.0 990.0 1000.0\n",
      "ABL.temperature_values                   = 300.0 300.0 300.0 300.0 300.0 300.0 300.0 300.0 300.0 300.0 300.0 300.0 300.0 300.0 300.0 300.0 300.0 300.0 300.0 300.0 300.0 300.0 300.0 300.0 300.0 300.0 300.0 300.0 300.0 300.0 300.0 300.0 300.0 300.0 300.0 300.0 300.0 300.0 300.0 300.0 300.0 300.0 300.0 300.0 300.0 300.0 300.0 300.0 300.0 300.0 300.0 300.0 300.0 300.0 300.0 300.0 300.0 300.0 300.0 300.0 300.0 300.0 300.0 300.0 300.0 300.0 300.0 300.0 300.0 300.0 300.0 300.0 300.0 300.0 300.0 300.0 300.0 300.0 300.0 300.0 300.0 300.0 300.0 300.0 300.0 300.0 300.0 300.0 300.0 300.0 300.0 300.0 300.0 300.0 300.0 300.0 300.0 300.0 300.0 300.0 300.0\n",
      "ABLMeanBoussinesq.read_temperature_profile = false               \n",
      "ABL.perturb_velocity                     = false               \n",
      "ABL.perturb_ref_height                   = 50.0                \n",
      "ABL.Uperiods                             = 4.0                 \n",
      "ABL.Vperiods                             = 4.0                 \n",
      "ABL.deltaU                               = 1.0                 \n",
      "ABL.deltaV                               = 1.0                 \n",
      "ABL.perturb_temperature                  = false               \n",
      "ABL.theta_amplitude                      = 0.8                 \n",
      "ABL.cutoff_height                        = 100.0               \n",
      "time.plot_interval                       = -1                  \n",
      "io.plot_file                             = plt                 \n",
      "io.KE_int                                = -1                  \n",
      "\n",
      "#---- tagging defs ----\n",
      "tagging.labels                           = Farm_level_0_zone Farm_level_1_zone T0_level_2_zone\n",
      "tagging.Farm_level_0_zone.type           = GeometryRefinement  \n",
      "tagging.Farm_level_0_zone.shapes         = Farm_level_0_zone   \n",
      "tagging.Farm_level_0_zone.level          = 0                   \n",
      "tagging.Farm_level_0_zone.Farm_level_0_zone.type = box                 \n",
      "tagging.Farm_level_0_zone.Farm_level_0_zone.origin = -1270.0 -381.0 -164.0\n",
      "tagging.Farm_level_0_zone.Farm_level_0_zone.xaxis = 2540.0 0.0 0.0      \n",
      "tagging.Farm_level_0_zone.Farm_level_0_zone.yaxis = -0.0 762.0 -0.0     \n",
      "tagging.Farm_level_0_zone.Farm_level_0_zone.zaxis = 0.0 0.0 508.0       \n",
      "tagging.Farm_level_1_zone.type           = GeometryRefinement  \n",
      "tagging.Farm_level_1_zone.shapes         = Farm_level_1_zone   \n",
      "tagging.Farm_level_1_zone.level          = 1                   \n",
      "tagging.Farm_level_1_zone.Farm_level_1_zone.type = box                 \n",
      "tagging.Farm_level_1_zone.Farm_level_1_zone.origin = -317.5 -317.5 -62.400000000000006\n",
      "tagging.Farm_level_1_zone.Farm_level_1_zone.xaxis = 635.0 0.0 0.0       \n",
      "tagging.Farm_level_1_zone.Farm_level_1_zone.yaxis = -0.0 635.0 -0.0     \n",
      "tagging.Farm_level_1_zone.Farm_level_1_zone.zaxis = 0.0 0.0 304.8       \n",
      "tagging.T0_level_2_zone.type             = GeometryRefinement  \n",
      "tagging.T0_level_2_zone.shapes           = T0_level_2_zone     \n",
      "tagging.T0_level_2_zone.level            = 2                   \n",
      "tagging.T0_level_2_zone.T0_level_2_zone.type = box                 \n",
      "tagging.T0_level_2_zone.T0_level_2_zone.origin = -127.0 -95.25 -11.600000000000009\n",
      "tagging.T0_level_2_zone.T0_level_2_zone.xaxis = 254.0 0.0 0.0       \n",
      "tagging.T0_level_2_zone.T0_level_2_zone.yaxis = -0.0 190.5 -0.0     \n",
      "tagging.T0_level_2_zone.T0_level_2_zone.zaxis = 0.0 0.0 203.20000000000002\n",
      "\n",
      "#---- actuator defs ----\n",
      "Actuator.labels                          = T0                  \n",
      "Actuator.T0.type                         = TurbineFastDisk     \n",
      "Actuator.T0.openfast_input_file          = T0_OpenFAST_NREL2p8-127_AWAKEN/NREL-2p8-127.fst\n",
      "Actuator.T0.base_position                = 0.0 0.0 0.0         \n",
      "Actuator.T0.rotor_diameter               = 127.0               \n",
      "Actuator.T0.hub_height                   = 90.0                \n",
      "Actuator.T0.num_points_blade             = 64                  \n",
      "Actuator.T0.num_points_tower             = 12                  \n",
      "Actuator.T0.epsilon                      = 2.0 2.0 2.0         \n",
      "Actuator.T0.epsilon_tower                = 2.0 2.0 2.0         \n",
      "Actuator.T0.openfast_start_time          = 0.0                 \n",
      "Actuator.T0.openfast_stop_time           = 1200.0              \n",
      "Actuator.T0.fllc                         = false               \n",
      "Actuator.T0.nacelle_drag_coeff           = 1.0                 \n",
      "Actuator.T0.nacelle_area                 = 8.0                 \n",
      "Actuator.T0.yaw                          = 270.0               \n",
      "Actuator.T0.output_frequency             = 10                  \n",
      "Actuator.T0.density                      = 1.225               \n",
      "Actuator.T0.num_blades                   = 3                   \n",
      "Actuator.T0.use_tip_correction           = true                \n",
      "Actuator.T0.use_root_correction          = true                \n",
      "\n",
      "#---- postprocessing defs ----\n",
      "incflo.post_processing                   = sampling            \n",
      "sampling.type                            = Sampling            \n",
      "sampling.output_frequency                = 100                 \n",
      "sampling.fields                          = velocity            \n",
      "\n",
      "#---- sample defs ----\n",
      "sampling.labels                          = Farm_hh             \n",
      "sampling.Farm_hh.type                    = PlaneSampler        \n",
      "sampling.Farm_hh.num_points              = 513 193             \n",
      "sampling.Farm_hh.origin                  = -2559.9999 -959.9999 90.0\n",
      "sampling.Farm_hh.axis1                   = 5119.9998 0.0 0.0   \n",
      "sampling.Farm_hh.axis2                   = 0.0 1919.9998 0.0   \n",
      "sampling.Farm_hh.offset_vector           = 0.0 0.0 0.0         \n",
      "\n",
      "#---- extra params ----\n",
      "#== END AMR-WIND INPUT ==\n",
      "\n"
     ]
    }
   ],
   "source": [
    "print(case.writeAMRWindInput(outputfile))"
   ]
  }
 ],
 "metadata": {
  "kernelspec": {
   "display_name": "Python 3 (ipykernel)",
   "language": "python",
   "name": "python3"
  },
  "language_info": {
   "codemirror_mode": {
    "name": "ipython",
    "version": 3
   },
   "file_extension": ".py",
   "mimetype": "text/x-python",
   "name": "python",
   "nbconvert_exporter": "python",
   "pygments_lexer": "ipython3",
   "version": "3.9.12"
  }
 },
 "nbformat": 4,
 "nbformat_minor": 5
}
