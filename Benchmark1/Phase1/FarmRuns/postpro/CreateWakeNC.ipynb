{
 "cells": [
  {
   "cell_type": "markdown",
   "id": "637ba4b5-10ab-417d-8317-2fd4b1452a66",
   "metadata": {},
   "source": [
    "# Create the wake file"
   ]
  },
  {
   "cell_type": "code",
   "execution_count": 1,
   "id": "42208ce8-bcc8-4e0e-b4bd-0a2580d0a294",
   "metadata": {},
   "outputs": [],
   "source": [
    "import netCDF4 as nc\n",
    "import numpy as np\n",
    "from datetime import datetime, timedelta\n",
    "import math\n",
    "import sys\n",
    "\n",
    "import matplotlib.pyplot as plt"
   ]
  },
  {
   "cell_type": "code",
   "execution_count": 2,
   "id": "df7c2279-7f35-465c-bd90-1f8cf0203725",
   "metadata": {},
   "outputs": [],
   "source": [
    "# Define height values\n",
    "height_surf_values   = [4]\n",
    "\n",
    "height_lidar_values  = np.arange(40, 410, 10)\n",
    "height_assist_values = np.array([0, 10, 21, 33, 46, 61, 77, 95, 114, 136, 159, 185, 214, 245, 280, 318, \n",
    "                                 359, 405, 456, 512, 573, 640, 714, 795, 885, 983, 1092, 1211, 1342, 1486, \n",
    "                                 1645, 1819, 2011, 2223, 2455, 2710, 2991, 3300, 3640, 4014])\n",
    "\n",
    "height_lidar_length = len(height_lidar_values)\n",
    "height_assist_length = len(height_assist_values)"
   ]
  },
  {
   "cell_type": "code",
   "execution_count": 3,
   "id": "43eff187-3291-4ed6-a750-d8cde048fdc7",
   "metadata": {},
   "outputs": [
    {
     "name": "stdout",
     "output_type": "stream",
     "text": [
      "40\n"
     ]
    }
   ],
   "source": [
    "print(height_assist_length)"
   ]
  },
  {
   "cell_type": "code",
   "execution_count": 4,
   "id": "a1433ae1-2e6f-40c7-acbb-d47414ba86d7",
   "metadata": {},
   "outputs": [],
   "source": [
    "# Define height values\n",
    "x_nacelle_lidar_values = np.arange(0, 4001, 127)\n",
    "y_nacelle_lidar_values = np.arange(-2540, 2540, 127)\n",
    "x_nacelle_lidar_length = len(x_nacelle_lidar_values)\n",
    "y_nacelle_lidar_length = len(y_nacelle_lidar_values)"
   ]
  },
  {
   "cell_type": "code",
   "execution_count": 5,
   "id": "e8731a3e-29aa-42ea-9681-94b5cf33ecf4",
   "metadata": {},
   "outputs": [],
   "source": [
    "# See https://stackoverflow.com/questions/3173320/text-progress-bar-in-the-console                                                                   \n",
    "def progress(count, total, suffix=''):\n",
    "    \"\"\"                                                                                                                                              \n",
    "    print out a progressbar                                                                                                                          \n",
    "    \"\"\"\n",
    "    bar_len = 60\n",
    "    filled_len = int(round(bar_len * count / float(total)))\n",
    "    percents = round(100.0 * count / float(total), 1)\n",
    "    bar = '=' * filled_len + '-' * (bar_len - filled_len)\n",
    "    sys.stdout.write('[%s] %s%s %s\\r' % (bar, percents, '%', suffix))\n",
    "    sys.stdout.flush()"
   ]
  },
  {
   "cell_type": "code",
   "execution_count": 6,
   "id": "aa627d47-47ce-4a60-9647-f36ce8c40767",
   "metadata": {},
   "outputs": [],
   "source": [
    "def concatLidarNC(ncfilelist, group, varlist, dims=1):\n",
    "    timearr = None\n",
    "    datadict = {}\n",
    "    for f in ncfilelist:\n",
    "        print(f)\n",
    "        ds = nc.Dataset(f, \"r\")\n",
    "        #print(ds[group])\n",
    "        if timearr is None:\n",
    "            timearr = ds['time']\n",
    "            datadict['coordinates'] = ds[group]['coordinates']\n",
    "            for v in varlist:\n",
    "                datadict[v] = ds[group][v]\n",
    "        else:\n",
    "            time = ds['time']\n",
    "            lasttime = timearr[-1]\n",
    "            mask = (time>lasttime)\n",
    "            timearr = np.append(timearr, time[mask])\n",
    "            for v in varlist:\n",
    "                if dims==1:\n",
    "                    datadict[v] = np.append(datadict[v], ds[group][v][mask, :], axis=0)\n",
    "                else:\n",
    "                    datadict[v] = np.append(datadict[v], ds[group][v][mask, :, :], axis=0)\n",
    "    #print(len(timearr))\n",
    "    datadict['time'] = timearr\n",
    "    return datadict\n",
    "\n",
    "def pullsubset(data, varlist, newz, verbose=False):\n",
    "    # Assumes newz is exactly in the coordinates\n",
    "    newdat = {}\n",
    "    newdat['time'] = data['time']\n",
    "    coords = data['coordinates']\n",
    "    oldz   = coords[:,2]\n",
    "    mask   = np.isin(oldz,newz)\n",
    "    if verbose:\n",
    "        print(mask)\n",
    "    newcoords = coords[mask, :]\n",
    "    newdat['coordinates'] = newcoords\n",
    "    for v in varlist:\n",
    "        newdat[v] = data[v][:, mask]\n",
    "    #print(newcoords)\n",
    "    return newdat\n",
    "\n",
    "def interpsubset(data, varlist, newz):\n",
    "    newdat = {}\n",
    "    newdat['time'] = data['time']\n",
    "    coords = data['coordinates']\n",
    "    oldz   = coords[:,2]\n",
    "    # Create the new coordinates\n",
    "    newcoords = []\n",
    "    oldx, oldy = coords[0,0], coords[0,1]\n",
    "    #print(oldx, oldy)\n",
    "    for z in newz:\n",
    "        newcoords.append([oldx, oldy, z])\n",
    "    newdat['coordinates'] = np.array(newcoords)\n",
    "    # Interp the variables to the newz\n",
    "    for v in varlist:\n",
    "        newvar = np.zeros((len(newdat['time']), len(newz)))\n",
    "        for it, t in enumerate(newdat['time']):\n",
    "            newvar[it, :] = np.interp(newz, oldz, data[v][it,:], right=np.nan)\n",
    "        newdat[v] = newvar\n",
    "    return newdat\n",
    "\n",
    "def calc_WS_WD(d):\n",
    "    d['WS'] = np.sqrt(d['velocityx']**2 + d['velocityy']**2)\n",
    "    d['WD'] = 270-np.arctan2(d['velocityy'], d['velocityx'])*180.0/math.pi\n",
    "\n",
    "def downsample_dict(d, ds, varlist):\n",
    "    d['time_ds'] = d['time'][::ds]\n",
    "    for v in varlist:\n",
    "        d[v+'_ds'] = d[v][::ds]\n",
    "    return\n",
    "\n",
    "def getWakeVars(d, coordoffset, N1, Nx, Ny, wakevars = ['WS', 'WD'], ds=10, verbose=True):\n",
    "    Ntime = len(d['time'])\n",
    "    #print(Ntime)\n",
    "    newcoords = d['coordinates'][:,:]-coordoffset\n",
    "    mask = np.array([False]*len(newcoords))\n",
    "    for i in range(y_nacelle_lidar_length):\n",
    "        mask[(ds*i*N1):((ds*i+1)*N1):10] = True\n",
    "    subsetcoord = newcoords[mask]\n",
    "    #print(subsetcoord)\n",
    "    reordercoord = []\n",
    "    for i in range(Nx):\n",
    "        for j in range(Ny):\n",
    "            reordercoord.append(subsetcoord[j*Nx+i])\n",
    "    reordercoord = np.array(reordercoord)\n",
    "    d['coord_arr'] = reordercoord\n",
    "    #print(reordercoord)\n",
    "    for v in wakevars:\n",
    "        if verbose: print(v)\n",
    "        d[v+'_arr'] = np.zeros((Ntime, Nx, Ny))\n",
    "        for ti in range(Ntime):\n",
    "            if verbose: progress(ti+1, Ntime)\n",
    "            for i in range(Nx):\n",
    "                for j in range(Ny):\n",
    "                    d[v+'_arr'][ti][i][j] = d[v][ti][j*Nx+i]\n",
    "        if verbose: print()\n",
    "    return"
   ]
  },
  {
   "cell_type": "markdown",
   "id": "12b5a272-5121-4d30-a043-cd9abe6f01c4",
   "metadata": {},
   "source": [
    "## Get lidar and assist variables"
   ]
  },
  {
   "cell_type": "code",
   "execution_count": 7,
   "id": "fa430e34-4b20-4180-a803-b4f2893bc47a",
   "metadata": {},
   "outputs": [],
   "source": [
    "rundir = '/gpfs/lcheung/AWAKEN/Benchmark1/Phase1/FarmRuns/BM1_FarmRunProd1.summit/post_processing'\n",
    "#'/lustre/orion/cfd162/world-shared/lcheung/AWAKEN.cli187/Benchmark1/Phase1/BM1_FarmRunProd1.summit/post_processing'\n",
    "grouplist = ['lidar_siteA1', 'lidar_siteA2', 'lidar_siteB', 'lidar_siteE36', 'lidar_siteC1a', 'lidar_siteH', 'lidar_siteG', 'lidar_siteGC']\n",
    "lidargroups  = ['lidar_siteC1a', 'lidar_siteH', 'lidar_siteGC', ]\n",
    "assistgroups = ['lidar_siteH', 'lidar_siteC1a', 'lidar_siteG', 'lidar_siteGC']\n",
    "ds           = 10 # Downsample frequency"
   ]
  },
  {
   "cell_type": "code",
   "execution_count": 8,
   "id": "d2e9aba9-abfa-4a60-a7af-ddf8a32dcd8b",
   "metadata": {},
   "outputs": [],
   "source": [
    "filelist = [rundir+'/lidar_48000.nc', rundir+'/lidar_68000.nc']\n",
    "lidarvarlist  = ['velocityx', 'velocityy', 'velocityz', 'tke']\n",
    "assistvarlist = ['temperature']"
   ]
  },
  {
   "cell_type": "code",
   "execution_count": 9,
   "id": "f09de857-e9c4-463f-8a6e-002b746ec026",
   "metadata": {},
   "outputs": [
    {
     "name": "stdout",
     "output_type": "stream",
     "text": [
      "lidar_siteC1a\n",
      "/gpfs/lcheung/AWAKEN/Benchmark1/Phase1/FarmRuns/BM1_FarmRunProd1.summit/post_processing/lidar_48000.nc\n",
      "/gpfs/lcheung/AWAKEN/Benchmark1/Phase1/FarmRuns/BM1_FarmRunProd1.summit/post_processing/lidar_68000.nc\n",
      "lidar_siteH\n",
      "/gpfs/lcheung/AWAKEN/Benchmark1/Phase1/FarmRuns/BM1_FarmRunProd1.summit/post_processing/lidar_48000.nc\n",
      "/gpfs/lcheung/AWAKEN/Benchmark1/Phase1/FarmRuns/BM1_FarmRunProd1.summit/post_processing/lidar_68000.nc\n",
      "lidar_siteGC\n",
      "/gpfs/lcheung/AWAKEN/Benchmark1/Phase1/FarmRuns/BM1_FarmRunProd1.summit/post_processing/lidar_48000.nc\n",
      "/gpfs/lcheung/AWAKEN/Benchmark1/Phase1/FarmRuns/BM1_FarmRunProd1.summit/post_processing/lidar_68000.nc\n"
     ]
    }
   ],
   "source": [
    "lidardat = {}\n",
    "for group in lidargroups:\n",
    "    print(group)\n",
    "    d = concatLidarNC(filelist, group, lidarvarlist)\n",
    "    newd = pullsubset(d, lidarvarlist, height_lidar_values)\n",
    "    calc_WS_WD(newd)\n",
    "    downsample_dict(newd, ds, lidarvarlist+['WS', 'WD'])\n",
    "    lidardat[group] = newd"
   ]
  },
  {
   "cell_type": "code",
   "execution_count": 10,
   "id": "66a50d74-19fb-4885-a8c5-44e4da3733e1",
   "metadata": {},
   "outputs": [
    {
     "name": "stdout",
     "output_type": "stream",
     "text": [
      "lidar_siteH\n",
      "/gpfs/lcheung/AWAKEN/Benchmark1/Phase1/FarmRuns/BM1_FarmRunProd1.summit/post_processing/lidar_48000.nc\n",
      "/gpfs/lcheung/AWAKEN/Benchmark1/Phase1/FarmRuns/BM1_FarmRunProd1.summit/post_processing/lidar_68000.nc\n",
      "lidar_siteC1a\n",
      "/gpfs/lcheung/AWAKEN/Benchmark1/Phase1/FarmRuns/BM1_FarmRunProd1.summit/post_processing/lidar_48000.nc\n",
      "/gpfs/lcheung/AWAKEN/Benchmark1/Phase1/FarmRuns/BM1_FarmRunProd1.summit/post_processing/lidar_68000.nc\n",
      "lidar_siteG\n",
      "/gpfs/lcheung/AWAKEN/Benchmark1/Phase1/FarmRuns/BM1_FarmRunProd1.summit/post_processing/lidar_48000.nc\n",
      "/gpfs/lcheung/AWAKEN/Benchmark1/Phase1/FarmRuns/BM1_FarmRunProd1.summit/post_processing/lidar_68000.nc\n",
      "lidar_siteGC\n",
      "/gpfs/lcheung/AWAKEN/Benchmark1/Phase1/FarmRuns/BM1_FarmRunProd1.summit/post_processing/lidar_48000.nc\n",
      "/gpfs/lcheung/AWAKEN/Benchmark1/Phase1/FarmRuns/BM1_FarmRunProd1.summit/post_processing/lidar_68000.nc\n"
     ]
    }
   ],
   "source": [
    "# Get the assist data\n",
    "assistdat={}\n",
    "for group in assistgroups:\n",
    "    print(group)\n",
    "    d = concatLidarNC(filelist, group, assistvarlist)\n",
    "    interpd = interpsubset(d, assistvarlist, height_assist_values)\n",
    "    downsample_dict(interpd, ds, assistvarlist)\n",
    "    assistdat[group] = interpd"
   ]
  },
  {
   "cell_type": "markdown",
   "id": "3bd0763f-ce0a-4d61-bc96-dab257a84055",
   "metadata": {},
   "source": [
    "```python\n",
    "filelist = [rundir+'/lidar_48000.nc', rundir+'/lidar_68000.nc']\n",
    "group    = 'lidar_siteGC'\n",
    "allvarlist  = ['velocityx', 'velocityy', 'velocityz', 'temperature']\n",
    "varlist  = ['velocityx', 'velocityy', 'velocityz',]\n",
    "d = concatLidarNC(filelist, group, allvarlist)\n",
    "newd    = pullsubset(d, varlist, height_lidar_values)\n",
    "interpd = interpsubset(d, ['temperature'], height_assist_values)\n",
    "```"
   ]
  },
  {
   "cell_type": "markdown",
   "id": "7d4986b0-8e1b-4b71-a497-cac2fd59c6b1",
   "metadata": {},
   "source": [
    "## Get surface data variables"
   ]
  },
  {
   "cell_type": "code",
   "execution_count": 11,
   "id": "d3342d07-64cd-4d49-861f-de989201b408",
   "metadata": {},
   "outputs": [],
   "source": [
    "surffilelist = [rundir+'/surf_48000.nc', rundir+'/surf_68000.nc']\n",
    "surfgroups   = [ 'surface_siteC1a',  'surface_siteG', 'surface_siteH']\n",
    "surfvarlist  = ['velocityx', 'velocityy', 'velocityz', 'tke', 'temperature']"
   ]
  },
  {
   "cell_type": "code",
   "execution_count": 12,
   "id": "c75740da-5bc0-4d6a-a198-c5564d50ad12",
   "metadata": {},
   "outputs": [
    {
     "name": "stdout",
     "output_type": "stream",
     "text": [
      "surface_siteC1a\n",
      "/gpfs/lcheung/AWAKEN/Benchmark1/Phase1/FarmRuns/BM1_FarmRunProd1.summit/post_processing/surf_48000.nc\n",
      "/gpfs/lcheung/AWAKEN/Benchmark1/Phase1/FarmRuns/BM1_FarmRunProd1.summit/post_processing/surf_68000.nc\n",
      "surface_siteG\n",
      "/gpfs/lcheung/AWAKEN/Benchmark1/Phase1/FarmRuns/BM1_FarmRunProd1.summit/post_processing/surf_48000.nc\n",
      "/gpfs/lcheung/AWAKEN/Benchmark1/Phase1/FarmRuns/BM1_FarmRunProd1.summit/post_processing/surf_68000.nc\n",
      "surface_siteH\n",
      "/gpfs/lcheung/AWAKEN/Benchmark1/Phase1/FarmRuns/BM1_FarmRunProd1.summit/post_processing/surf_48000.nc\n",
      "/gpfs/lcheung/AWAKEN/Benchmark1/Phase1/FarmRuns/BM1_FarmRunProd1.summit/post_processing/surf_68000.nc\n"
     ]
    }
   ],
   "source": [
    "# Get the surface data\n",
    "surfdat={}\n",
    "for group in surfgroups:\n",
    "    print(group)\n",
    "    d = concatLidarNC(surffilelist, group, surfvarlist)\n",
    "    newd = pullsubset(d, surfvarlist, height_surf_values)\n",
    "    calc_WS_WD(newd)\n",
    "    downsample_dict(newd, ds, surfvarlist+['WS','WD'])\n",
    "    surfdat[group] = newd"
   ]
  },
  {
   "cell_type": "code",
   "execution_count": 13,
   "id": "089e64eb-72ca-448f-8677-13085c03f8a9",
   "metadata": {},
   "outputs": [
    {
     "data": {
      "text/plain": [
       "[<matplotlib.lines.Line2D at 0x7fff1ac7ec70>]"
      ]
     },
     "execution_count": 13,
     "metadata": {},
     "output_type": "execute_result"
    },
    {
     "data": {
      "image/png": "[encoded data removed]",
      "text/plain": [
       "<Figure size 432x288 with 1 Axes>"
      ]
     },
     "metadata": {
      "needs_background": "light"
     },
     "output_type": "display_data"
    }
   ],
   "source": [
    "plt.plot(assistdat['lidar_siteH']['temperature'][-1,:] ,assistdat['lidar_siteH']['coordinates'][:,2])"
   ]
  },
  {
   "cell_type": "markdown",
   "id": "ba60274a-0dfa-4498-8d51-186fb8b75257",
   "metadata": {},
   "source": [
    "```python\n",
    "filelist = [rundir+'/E06wake_z122_48000.nc', rundir+'/E06wake_z122_68000.nc']\n",
    "group    = 'Farm_E06wake122'\n",
    "allvarlist  = ['velocityx', 'velocityy', 'velocityz', 'temperature']\n",
    "varlist  = ['velocityx', 'velocityy', 'velocityz',]\n",
    "d = concatLidarNC(filelist, group, varlist, dims=1)\n",
    "calc_WS_WD(d)\n",
    "\n",
    "coordoffset = np.array([640388.694095803, 4030719.63654416, 0]) + np.array([2540, 0, 0])\n",
    "N1 = 316\n",
    "getWakeVars(d, coordoffset, N1, len(x_nacelle_lidar_values), len(y_nacelle_lidar_values), wakevars = ['WS', 'WD'], ds=10, verbose=True)\n",
    "```"
   ]
  },
  {
   "cell_type": "markdown",
   "id": "8059984a-cf29-4366-82ae-c6b758def47c",
   "metadata": {},
   "source": [
    "## Extract wake quantities"
   ]
  },
  {
   "cell_type": "code",
   "execution_count": 14,
   "id": "c8166c81-4736-47cf-a3ab-5e29057325e6",
   "metadata": {},
   "outputs": [
    {
     "name": "stdout",
     "output_type": "stream",
     "text": [
      "/gpfs/lcheung/AWAKEN/Benchmark1/Phase1/FarmRuns/BM1_FarmRunProd1.summit/post_processing/E06wake_z27_48000.nc\n",
      "/gpfs/lcheung/AWAKEN/Benchmark1/Phase1/FarmRuns/BM1_FarmRunProd1.summit/post_processing/E06wake_z27_68000.nc\n",
      "WS\n",
      "[============================================================] 100.0% \n",
      "WD\n",
      "[============================================================] 100.0% \n",
      "/gpfs/lcheung/AWAKEN/Benchmark1/Phase1/FarmRuns/BM1_FarmRunProd1.summit/post_processing/E06wake_z59_48000.nc\n",
      "/gpfs/lcheung/AWAKEN/Benchmark1/Phase1/FarmRuns/BM1_FarmRunProd1.summit/post_processing/E06wake_z59_68000.nc\n",
      "WS\n",
      "[============================================================] 100.0% \n",
      "WD\n",
      "[============================================================] 100.0% \n",
      "/gpfs/lcheung/AWAKEN/Benchmark1/Phase1/FarmRuns/BM1_FarmRunProd1.summit/post_processing/E06wake_z90_48000.nc\n",
      "/gpfs/lcheung/AWAKEN/Benchmark1/Phase1/FarmRuns/BM1_FarmRunProd1.summit/post_processing/E06wake_z90_68000.nc\n",
      "WS\n",
      "[============================================================] 100.0% \n",
      "WD\n",
      "[============================================================] 100.0% \n",
      "/gpfs/lcheung/AWAKEN/Benchmark1/Phase1/FarmRuns/BM1_FarmRunProd1.summit/post_processing/E06wake_z122_48000.nc\n",
      "/gpfs/lcheung/AWAKEN/Benchmark1/Phase1/FarmRuns/BM1_FarmRunProd1.summit/post_processing/E06wake_z122_68000.nc\n",
      "WS\n",
      "[============================================================] 100.0% \n",
      "WD\n",
      "[============================================================] 100.0% \n",
      "/gpfs/lcheung/AWAKEN/Benchmark1/Phase1/FarmRuns/BM1_FarmRunProd1.summit/post_processing/E06wake_z154_48000.nc\n",
      "/gpfs/lcheung/AWAKEN/Benchmark1/Phase1/FarmRuns/BM1_FarmRunProd1.summit/post_processing/E06wake_z154_68000.nc\n",
      "WS\n",
      "[============================================================] 100.0% \n",
      "WD\n",
      "[============================================================] 100.0% \n",
      "/gpfs/lcheung/AWAKEN/Benchmark1/Phase1/FarmRuns/BM1_FarmRunProd1.summit/post_processing/E06wake_z217_48000.nc\n",
      "/gpfs/lcheung/AWAKEN/Benchmark1/Phase1/FarmRuns/BM1_FarmRunProd1.summit/post_processing/E06wake_z217_68000.nc\n",
      "WS\n",
      "[============================================================] 100.0% \n",
      "WD\n",
      "[============================================================] 100.0% \n",
      "/gpfs/lcheung/AWAKEN/Benchmark1/Phase1/FarmRuns/BM1_FarmRunProd1.summit/post_processing/E06wake_z281_48000.nc\n",
      "/gpfs/lcheung/AWAKEN/Benchmark1/Phase1/FarmRuns/BM1_FarmRunProd1.summit/post_processing/E06wake_z281_68000.nc\n",
      "WS\n",
      "[============================================================] 100.0% \n",
      "WD\n",
      "[============================================================] 100.0% \n",
      "/gpfs/lcheung/AWAKEN/Benchmark1/Phase1/FarmRuns/BM1_FarmRunProd1.summit/post_processing/E06wake_z344_48000.nc\n",
      "/gpfs/lcheung/AWAKEN/Benchmark1/Phase1/FarmRuns/BM1_FarmRunProd1.summit/post_processing/E06wake_z344_68000.nc\n",
      "WS\n",
      "[============================================================] 100.0% \n",
      "WD\n",
      "[============================================================] 100.0% \n"
     ]
    }
   ],
   "source": [
    "zheights = ['27','59','90','122','154','217','281','344']\n",
    "fileiters = [48000, 68000]\n",
    "varlist  = ['velocityx', 'velocityy', 'velocityz',]\n",
    "\n",
    "coordoffset = np.array([640388.694095803, 4030719.63654416, 0]) + np.array([2540, 0, 0])\n",
    "N1 = 316\n",
    "\n",
    "E06wake = {}\n",
    "for z in zheights:\n",
    "    filelist = [rundir+'/E06wake_z%s_%i.nc'%(z, i) for i in fileiters]\n",
    "    group    = 'Farm_E06wake%s'%z\n",
    "    d = concatLidarNC(filelist, group, varlist, dims=1)\n",
    "    calc_WS_WD(d)\n",
    "    getWakeVars(d, coordoffset, N1, len(x_nacelle_lidar_values), len(y_nacelle_lidar_values), wakevars = ['WS', 'WD'], ds=10, verbose=True)\n",
    "    E06wake[z] = d"
   ]
  },
  {
   "cell_type": "markdown",
   "id": "a6eccbbe-1fdd-438a-8d52-322f1b30e0f2",
   "metadata": {},
   "source": [
    "## Write out the netcdf file"
   ]
  },
  {
   "cell_type": "code",
   "execution_count": 15,
   "id": "4d81c0a6-9c08-4d68-a853-2236cc2ad400",
   "metadata": {},
   "outputs": [
    {
     "name": "stdout",
     "output_type": "stream",
     "text": [
      "4000\n"
     ]
    }
   ],
   "source": [
    "time = surfdat['surface_siteC1a']['time_ds'][:]\n",
    "# Define time values\n",
    "#start_time = datetime(2023, 8, 24, 0, 0)\n",
    "#time_values = [start_time + timedelta(seconds=time_resolution*i) for i in range(time_length)]\n",
    "start_time = datetime(2023, 8, 23, 22, 15)  #This is the start time of the AMR-Wind simulation\n",
    "#print(start_time+ timedelta(seconds=time[i])) #This is the first time step to be saved in the simulation\n",
    "time_values = [start_time + timedelta(seconds=time[i]) for i in range(len(time))]\n",
    "time_length = len(time_values)\n",
    "print(time_length)"
   ]
  },
  {
   "cell_type": "code",
   "execution_count": 16,
   "id": "5f35bff6-7dff-4c4d-9c17-68cb5e1908da",
   "metadata": {},
   "outputs": [
    {
     "name": "stdout",
     "output_type": "stream",
     "text": [
      "NetCDF file created successfully.\n"
     ]
    }
   ],
   "source": [
    "# Create netCDF file\n",
    "with nc.Dataset(\"template_wake.nc\", \"w\") as f:\n",
    "    # Create dimensions\n",
    "    f.createDimension(\"time\", time_length)\n",
    "    f.createDimension(\"height_lidar\", height_lidar_length)\n",
    "    f.createDimension(\"height_assist\", height_assist_length)\n",
    "    f.createDimension(\"x_nacelle_lidar\", x_nacelle_lidar_length)\n",
    "    f.createDimension(\"y_nacelle_lidar\", y_nacelle_lidar_length)\n",
    "    \n",
    "    # Create variables\n",
    "    u_siteC1a = f.createVariable(\"u_siteC1a\", \"f4\", (\"time\", \"height_lidar\"))\n",
    "    u_siteH = f.createVariable(\"u_siteH\", \"f4\", (\"time\", \"height_lidar\"))\n",
    "    u_siteGC = f.createVariable(\"u_siteGC\", \"f4\", (\"time\", \"height_lidar\"))\n",
    "    v_siteC1a = f.createVariable(\"v_siteC1a\", \"f4\", (\"time\", \"height_lidar\"))\n",
    "    v_siteH = f.createVariable(\"v_siteH\", \"f4\", (\"time\", \"height_lidar\"))\n",
    "    v_siteGC = f.createVariable(\"v_siteGC\", \"f4\", (\"time\", \"height_lidar\"))\n",
    "    WS_siteC1a = f.createVariable(\"WS_siteC1a\", \"f4\", (\"time\", \"height_lidar\"))\n",
    "    WS_siteH = f.createVariable(\"WS_siteH\", \"f4\", (\"time\", \"height_lidar\"))\n",
    "    WS_siteGC = f.createVariable(\"WS_siteGC\", \"f4\", (\"time\", \"height_lidar\"))\n",
    "    w_siteC1a = f.createVariable(\"w_siteC1a\", \"f4\", (\"time\", \"height_lidar\"))\n",
    "    w_siteH = f.createVariable(\"w_siteH\", \"f4\", (\"time\", \"height_lidar\"))\n",
    "    w_siteGC = f.createVariable(\"w_siteGC\", \"f4\", (\"time\", \"height_lidar\"))\n",
    "    WD_siteC1a = f.createVariable(\"WD_siteC1a\", \"f4\", (\"time\", \"height_lidar\"))\n",
    "    WD_siteH = f.createVariable(\"WD_siteH\", \"f4\", (\"time\", \"height_lidar\"))\n",
    "    WD_siteGC = f.createVariable(\"WD_siteGC\", \"f4\", (\"time\", \"height_lidar\"))\n",
    "    TI_siteC1a = f.createVariable(\"TI_siteC1a\", \"f4\", (\"time\", \"height_lidar\"))\n",
    "    TI_siteH = f.createVariable(\"TI_siteH\", \"f4\", (\"time\", \"height_lidar\"))\n",
    "    TI_siteGC = f.createVariable(\"TI_siteGC\", \"f4\", (\"time\", \"height_lidar\"))\n",
    "    TKE_siteC1a = f.createVariable(\"TKE_siteC1a\", \"f4\", (\"time\", \"height_lidar\"))\n",
    "    TKE_siteH = f.createVariable(\"TKE_siteH\", \"f4\", (\"time\", \"height_lidar\"))\n",
    "    TKE_siteGC = f.createVariable(\"TKE_siteGC\", \"f4\", (\"time\", \"height_lidar\"))\n",
    "    # Temperature\n",
    "    T_siteH = f.createVariable(\"T_siteH\", \"f4\", (\"time\", \"height_assist\"))\n",
    "    T_siteC1a = f.createVariable(\"T_siteC1a\", \"f4\", (\"time\", \"height_assist\"))\n",
    "    T_siteG = f.createVariable(\"T_siteG\", \"f4\", (\"time\", \"height_assist\"))\n",
    "    T_siteGC = f.createVariable(\"T_siteGC\", \"f4\", (\"time\", \"height_assist\"))\n",
    "    # Near-surface\n",
    "    u_sfc_siteC1a = f.createVariable(\"u_sfc_siteC1a\", \"f4\", (\"time\",))\n",
    "    u_sfc_siteG = f.createVariable(\"u_sfc_siteG\", \"f4\", (\"time\",))\n",
    "    u_sfc_siteH = f.createVariable(\"u_sfc_siteH\", \"f4\", (\"time\",))\n",
    "    v_sfc_siteC1a = f.createVariable(\"v_sfc_siteC1a\", \"f4\", (\"time\",))\n",
    "    v_sfc_siteG = f.createVariable(\"v_sfc_siteG\", \"f4\", (\"time\",))\n",
    "    v_sfc_siteH = f.createVariable(\"v_sfc_siteH\", \"f4\", (\"time\",))\n",
    "    w_sfc_siteC1a = f.createVariable(\"w_sfc_siteC1a\", \"f4\", (\"time\",))\n",
    "    w_sfc_siteG = f.createVariable(\"w_sfc_siteG\", \"f4\", (\"time\",))\n",
    "    w_sfc_siteH = f.createVariable(\"w_sfc_siteH\", \"f4\", (\"time\",))\n",
    "    WS_sfc_siteC1a = f.createVariable(\"WS_sfc_siteC1a\", \"f4\", (\"time\",))\n",
    "    WS_sfc_siteG = f.createVariable(\"WS_sfc_siteG\", \"f4\", (\"time\",))\n",
    "    WS_sfc_siteH = f.createVariable(\"WS_sfc_siteH\", \"f4\", (\"time\",))\n",
    "    WD_sfc_siteC1a = f.createVariable(\"WD_sfc_siteC1a\", \"f4\", (\"time\",))\n",
    "    WD_sfc_siteG = f.createVariable(\"WD_sfc_siteG\", \"f4\", (\"time\",))\n",
    "    WD_sfc_siteH = f.createVariable(\"WD_sfc_siteH\", \"f4\", (\"time\",))\n",
    "    TI_sfc_siteC1a = f.createVariable(\"TI_sfc_siteC1a\", \"f4\", (\"time\",))\n",
    "    TI_sfc_siteG = f.createVariable(\"TI_sfc_siteG\", \"f4\", (\"time\",))\n",
    "    TI_sfc_siteH = f.createVariable(\"TI_sfc_siteH\", \"f4\", (\"time\",))\n",
    "    TKE_sfc_siteC1a = f.createVariable(\"TKE_sfc_siteC1a\", \"f4\", (\"time\",))\n",
    "    TKE_sfc_siteG = f.createVariable(\"TKE_sfc_siteG\", \"f4\", (\"time\",))\n",
    "    TKE_sfc_siteH = f.createVariable(\"TKE_sfc_siteH\", \"f4\", (\"time\",))\n",
    "    L_sfc_siteC1a = f.createVariable(\"L_sfc_siteC1a\", \"f4\", (\"time\",))\n",
    "    L_sfc_siteG = f.createVariable(\"L_sfc_siteG\", \"f4\", (\"time\",))\n",
    "    L_sfc_siteH = f.createVariable(\"L_sfc_siteH\", \"f4\", (\"time\",))\n",
    "\n",
    "    # Planes\n",
    "    WS_plane27m = f.createVariable(\"WS_plane27m\", \"f4\", (\"time\", \"x_nacelle_lidar\", \"y_nacelle_lidar\"))\n",
    "    WD_plane27m = f.createVariable(\"WD_plane27m\", \"f4\", (\"time\", \"x_nacelle_lidar\", \"y_nacelle_lidar\"))\n",
    "    WS_plane59m = f.createVariable(\"WS_plane59m\", \"f4\", (\"time\", \"x_nacelle_lidar\", \"y_nacelle_lidar\"))\n",
    "    WD_plane59m = f.createVariable(\"WD_plane59m\", \"f4\", (\"time\", \"x_nacelle_lidar\", \"y_nacelle_lidar\"))\n",
    "    WS_plane90m = f.createVariable(\"WS_plane90m\", \"f4\", (\"time\", \"x_nacelle_lidar\", \"y_nacelle_lidar\"))\n",
    "    WD_plane90m = f.createVariable(\"WD_plane90m\", \"f4\", (\"time\", \"x_nacelle_lidar\", \"y_nacelle_lidar\"))\n",
    "    WS_plane122m = f.createVariable(\"WS_plane122m\", \"f4\", (\"time\", \"x_nacelle_lidar\", \"y_nacelle_lidar\"))\n",
    "    WD_plane122m = f.createVariable(\"WD_plane122m\", \"f4\", (\"time\", \"x_nacelle_lidar\", \"y_nacelle_lidar\"))\n",
    "    WS_plane154m = f.createVariable(\"WS_plane154m\", \"f4\", (\"time\", \"x_nacelle_lidar\", \"y_nacelle_lidar\"))\n",
    "    WD_plane154m = f.createVariable(\"WD_plane154m\", \"f4\", (\"time\", \"x_nacelle_lidar\", \"y_nacelle_lidar\"))\n",
    "    WS_plane217m = f.createVariable(\"WS_plane217m\", \"f4\", (\"time\", \"x_nacelle_lidar\", \"y_nacelle_lidar\"))\n",
    "    WD_plane217m = f.createVariable(\"WD_plane217m\", \"f4\", (\"time\", \"x_nacelle_lidar\", \"y_nacelle_lidar\"))\n",
    "    WS_plane281m = f.createVariable(\"WS_plane281m\", \"f4\", (\"time\", \"x_nacelle_lidar\", \"y_nacelle_lidar\"))\n",
    "    WD_plane281m = f.createVariable(\"WD_plane281m\", \"f4\", (\"time\", \"x_nacelle_lidar\", \"y_nacelle_lidar\"))\n",
    "    WS_plane344m = f.createVariable(\"WS_plane344m\", \"f4\", (\"time\", \"x_nacelle_lidar\", \"y_nacelle_lidar\"))\n",
    "    WD_plane344m = f.createVariable(\"WD_plane344m\", \"f4\", (\"time\", \"x_nacelle_lidar\", \"y_nacelle_lidar\"))\n",
    "\n",
    "    # Assign NaN values to variables\n",
    "    for var in f.variables.values():\n",
    "        var[:] = np.nan\n",
    "\n",
    "    #------------------------------------------------------------\n",
    "    # Lidar variables\n",
    "    u_siteC1a[:,:]  = lidardat['lidar_siteC1a']['velocityx_ds'].data\n",
    "    v_siteC1a[:,:]  = lidardat['lidar_siteC1a']['velocityy_ds'].data\n",
    "    w_siteC1a[:,:]  = lidardat['lidar_siteC1a']['velocityz_ds'].data\n",
    "    WS_siteC1a[:,:] = lidardat['lidar_siteC1a']['WS_ds'].data\n",
    "    WD_siteC1a[:,:] = lidardat['lidar_siteC1a']['WD_ds'].data\n",
    "\n",
    "    u_siteGC[:,:]  = lidardat['lidar_siteGC']['velocityx_ds'].data\n",
    "    v_siteGC[:,:]  = lidardat['lidar_siteGC']['velocityy_ds'].data\n",
    "    w_siteGC[:,:]  = lidardat['lidar_siteGC']['velocityz_ds'].data\n",
    "    WS_siteGC[:,:] = lidardat['lidar_siteGC']['WS_ds'].data\n",
    "    WD_siteGC[:,:] = lidardat['lidar_siteGC']['WD_ds'].data\n",
    "\n",
    "    u_siteH[:,:]   = lidardat['lidar_siteH']['velocityx_ds'].data\n",
    "    v_siteH[:,:]   = lidardat['lidar_siteH']['velocityy_ds'].data\n",
    "    w_siteH[:,:]   = lidardat['lidar_siteH']['velocityz_ds'].data\n",
    "    WS_siteH[:,:]  = lidardat['lidar_siteH']['WS_ds'].data\n",
    "    WD_siteH[:,:]  = lidardat['lidar_siteH']['WD_ds'].data\n",
    "    \n",
    "    # Assist variables\n",
    "    T_siteH[:,:]    = assistdat['lidar_siteH']['temperature_ds'].data\n",
    "    T_siteC1a[:,:]  = assistdat['lidar_siteC1a']['temperature_ds'].data\n",
    "    T_siteG[:,:]    = assistdat['lidar_siteG']['temperature_ds'].data\n",
    "    T_siteGC[:,:]    = assistdat['lidar_siteGC']['temperature_ds'].data\n",
    "\n",
    "    # Surface variables\n",
    "    u_sfc_siteC1a[:]  = surfdat['surface_siteC1a']['velocityx_ds'].data\n",
    "    v_sfc_siteC1a[:]  = surfdat['surface_siteC1a']['velocityy_ds'].data\n",
    "    w_sfc_siteC1a[:]  = surfdat['surface_siteC1a']['velocityz_ds'].data\n",
    "    WS_sfc_siteC1a[:] = surfdat['surface_siteC1a']['WS_ds'].data\n",
    "    WD_sfc_siteC1a[:] = surfdat['surface_siteC1a']['WD_ds'].data\n",
    "\n",
    "    # Wake variables\n",
    "    WS_plane27m[:,:,:] = E06wake['27']['WS_arr'].data\n",
    "    WD_plane27m[:,:,:] = E06wake['27']['WD_arr'].data\n",
    "    WS_plane59m[:,:,:] = E06wake['59']['WS_arr'].data\n",
    "    WD_plane59m[:,:,:] = E06wake['59']['WD_arr'].data    \n",
    "    WS_plane90m[:,:,:] = E06wake['90']['WS_arr'].data\n",
    "    WD_plane90m[:,:,:] = E06wake['90']['WD_arr'].data    \n",
    "    WS_plane122m[:,:,:] = E06wake['122']['WS_arr'].data\n",
    "    WD_plane122m[:,:,:] = E06wake['122']['WD_arr'].data    \n",
    "    WS_plane154m[:,:,:] = E06wake['154']['WS_arr'].data\n",
    "    WD_plane154m[:,:,:] = E06wake['154']['WD_arr'].data    \n",
    "    WS_plane217m[:,:,:] = E06wake['217']['WS_arr'].data\n",
    "    WD_plane217m[:,:,:] = E06wake['217']['WD_arr'].data    \n",
    "    WS_plane281m[:,:,:] = E06wake['281']['WS_arr'].data\n",
    "    WD_plane281m[:,:,:] = E06wake['281']['WD_arr'].data    \n",
    "    WS_plane344m[:,:,:] = E06wake['344']['WS_arr'].data\n",
    "    WD_plane344m[:,:,:] = E06wake['344']['WD_arr'].data        \n",
    "    #------------------------------------------------------------\n",
    "    \n",
    "    # Write time values to the file\n",
    "    time_var = f.createVariable(\"time\", \"i8\", (\"time\",))\n",
    "    time_var.units = \"seconds since 2023-08-24 00:00:00\"\n",
    "    time_var.calendar = \"gregorian\"\n",
    "    time_var[:] = nc.date2num(time_values, units=time_var.units, calendar=time_var.calendar)\n",
    "\n",
    "    height_lidar_var = f.createVariable(\"height_lidar\", \"i8\", (\"height_lidar\",))\n",
    "    height_lidar_var[:] = height_lidar_values\n",
    "    height_assist_var = f.createVariable(\"height_assist\", \"i8\", (\"height_assist\",))\n",
    "    height_assist_var[:] = height_assist_values\n",
    "    x_nacelle_lidar_var = f.createVariable(\"x_nacelle_lidar\", \"i8\", (\"x_nacelle_lidar\",))\n",
    "    x_nacelle_lidar_var[:] = x_nacelle_lidar_values\n",
    "    y_nacelle_lidar_var = f.createVariable(\"y_nacelle_lidar\", \"i8\", (\"y_nacelle_lidar\",))\n",
    "    y_nacelle_lidar_var[:] = y_nacelle_lidar_values\n",
    "    \n",
    "    # Add attributes\n",
    "    f.setncattr(\"time\", \"UTC dates\")\n",
    "    f.setncattr(\"height_lidar_units\", \"m a.g.l.\")\n",
    "    f.setncattr(\"height_assist_units\", \"m a.g.l.\")\n",
    "    f.setncattr(\"x_nacelle_lidar_units\", \"m a.g.l.\")\n",
    "    f.setncattr(\"y_nacelle_lidar_units\", \"m a.g.l.\")\n",
    "    \n",
    "print(\"NetCDF file created successfully.\")"
   ]
  }
 ],
 "metadata": {
  "kernelspec": {
   "display_name": "Python 3 (ipykernel)",
   "language": "python",
   "name": "python3"
  },
  "language_info": {
   "codemirror_mode": {
    "name": "ipython",
    "version": 3
   },
   "file_extension": ".py",
   "mimetype": "text/x-python",
   "name": "python",
   "nbconvert_exporter": "python",
   "pygments_lexer": "ipython3",
   "version": "3.9.12"
  }
 },
 "nbformat": 4,
 "nbformat_minor": 5
}
