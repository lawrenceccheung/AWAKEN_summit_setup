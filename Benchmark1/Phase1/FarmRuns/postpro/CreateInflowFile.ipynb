{
 "cells": [
  {
   "cell_type": "markdown",
   "id": "7dc87729-84f6-4597-ae5a-bdb97c3ad40d",
   "metadata": {},
   "source": [
    "# Data Template for AWAKEN Benchmark"
   ]
  },
  {
   "cell_type": "markdown",
   "id": "541a45b2-bb9b-4b38-9635-dbb9f6a9beec",
   "metadata": {},
   "source": [
    "https://app.box.com/s/nf4x11ubp20a00qntbexp4ukcfgzsb61/file/1592692746824"
   ]
  },
  {
   "cell_type": "code",
   "execution_count": 1,
   "id": "d9c3fc2d-7d40-4a79-9778-3fec303ea564",
   "metadata": {},
   "outputs": [],
   "source": [
    "import netCDF4 as nc\n",
    "import numpy as np\n",
    "from datetime import datetime, timedelta\n",
    "\n",
    "import xarray as xr\n",
    "from netCDF4 import Dataset\n",
    "\n",
    "# Add any possible locations of amr-wind-frontend here\n",
    "amrwindfedirs = ['/projects/wind_uq/lcheung/amrwind-frontend/',\n",
    "                 '/ccs/proj/cfd162/lcheung/amrwind-frontend/']\n",
    "import sys, os, shutil, io\n",
    "for x in amrwindfedirs: sys.path.insert(1, x)\n",
    "\n",
    "%matplotlib inline\n",
    "\n",
    "import postproamrwindsample_xarray as ppsample\n",
    "import numpy as np\n",
    "import matplotlib as plt\n"
   ]
  },
  {
   "cell_type": "markdown",
   "id": "83e41d4c-17ce-4599-ae7f-2a06d3f70d33",
   "metadata": {},
   "source": [
    "# Values from lidar_##.nc"
   ]
  },
  {
   "cell_type": "code",
   "execution_count": 2,
   "id": "6b7a12e1-bb99-4339-822a-5fd43c6ad18a",
   "metadata": {},
   "outputs": [],
   "source": [
    "\n",
    "\n",
    "#ncfile='/gpfs/lcheung/AWAKEN/Benchmark1/Phase1/FarmRuns/BM1_FarmRunProd1/postprocessing.shortsummit/lidar_48000.nc'\n",
    "ncfile='/gpfs/lcheung/AWAKEN/Benchmark1/Phase1/FarmRuns/BM1_FarmRunProd1.summit/post_processing/lidar_68000.nc'\n",
    "#heights are 10m to 950m every 10 m - 95 total\n",
    "amr_heights = []\n",
    "for i in range(10, 960,10):\n",
    "    amr_heights.append(i)\n",
    "\n",
    "group = 'lidar_siteA1' #'surface_siteA1'\n",
    "#itimevec = np.arange(20285)  #for 48000\n",
    "itimevec = np.arange(19991) # for 68000\n",
    "\n",
    "ds = ppsample.getLineXR(ncfile, itimevec[:], ['velocityx', 'velocityy', 'velocityz','temperature', 'tke'], groupname=group, gettimes=True, includeattr=True)\n",
    "\n",
    "A1velx = np.array([g for k, g in ds['velocityx'].items()])\n",
    "A1vely = np.array([g for k, g in ds['velocityy'].items()])\n",
    "A1velz = np.array([g for k, g in ds['velocityz'].items()])\n",
    "A1temp = np.array([g for k, g in ds['temperature'].items()])\n",
    "A1tke = np.array([g for k, g in ds['tke'].items()])\n"
   ]
  },
  {
   "cell_type": "code",
   "execution_count": 3,
   "id": "ebbd8dea-73d3-49de-be8f-1c38940bb471",
   "metadata": {},
   "outputs": [
    {
     "name": "stdout",
     "output_type": "stream",
     "text": [
      "AMR Wind time starts at 25999.999999970896\n",
      "AMR Wind time ends at 27998.999999941807\n",
      "19991\n"
     ]
    }
   ],
   "source": [
    "#print(len(A1velx) )\n",
    "#print(ds['times'][-1])\n",
    "#print(len(A1velx[2]))\n",
    "#print(A1velx[2][-1])\n",
    "#print(amr_heights)\n",
    "print('AMR Wind time starts at', ds['times'][0])\n",
    "print('AMR Wind time ends at', ds['times'][-1])\n",
    "print(len(ds['times']))"
   ]
  },
  {
   "cell_type": "code",
   "execution_count": 4,
   "id": "3a176739-0c1a-4cea-9096-8dfb45813cdb",
   "metadata": {},
   "outputs": [],
   "source": [
    "group = 'lidar_siteA2' #'surface_siteA1'\n",
    "#itimevec = np.arange(300)\n",
    "\n",
    "ds = ppsample.getLineXR(ncfile, itimevec[:], ['velocityx', 'velocityy', 'velocityz','temperature', 'tke'], groupname=group, gettimes=True, includeattr=True)\n",
    "\n",
    "A2velx = np.array([g for k, g in ds['velocityx'].items()])\n",
    "A2vely = np.array([g for k, g in ds['velocityy'].items()])\n",
    "A2velz = np.array([g for k, g in ds['velocityz'].items()])\n",
    "A2temp = np.array([g for k, g in ds['temperature'].items()])\n",
    "A2tke = np.array([g for k, g in ds['tke'].items()])"
   ]
  },
  {
   "cell_type": "code",
   "execution_count": 5,
   "id": "d9bb8f04-a80c-44b3-a867-c64add262149",
   "metadata": {},
   "outputs": [],
   "source": [
    "group = 'lidar_siteB' #'surface_siteA1'\n",
    "#itimevec = np.arange(300)\n",
    "\n",
    "ds = ppsample.getLineXR(ncfile, itimevec[:], ['velocityx', 'velocityy', 'velocityz','temperature', 'tke'], groupname=group, gettimes=True, includeattr=True)\n",
    "\n",
    "Bvelx = np.array([g for k, g in ds['velocityx'].items()])\n",
    "Bvely = np.array([g for k, g in ds['velocityy'].items()])\n",
    "Bvelz = np.array([g for k, g in ds['velocityz'].items()])\n",
    "Btemp = np.array([g for k, g in ds['temperature'].items()])\n",
    "Btke = np.array([g for k, g in ds['tke'].items()])"
   ]
  },
  {
   "cell_type": "code",
   "execution_count": 6,
   "id": "33923040-c48a-41da-b1c7-c486a01d033b",
   "metadata": {},
   "outputs": [],
   "source": [
    "group = 'lidar_siteE36' #'surface_siteA1'\n",
    "#itimevec = np.arange(300)\n",
    "\n",
    "ds = ppsample.getLineXR(ncfile, itimevec[:], ['velocityx', 'velocityy', 'velocityz','temperature', 'tke'], groupname=group, gettimes=True, includeattr=True)\n",
    "\n",
    "E36velx = np.array([g for k, g in ds['velocityx'].items()])\n",
    "E36vely = np.array([g for k, g in ds['velocityy'].items()])\n",
    "E36velz = np.array([g for k, g in ds['velocityz'].items()])\n",
    "E36temp = np.array([g for k, g in ds['temperature'].items()])\n",
    "E36tke = np.array([g for k, g in ds['tke'].items()])"
   ]
  },
  {
   "cell_type": "markdown",
   "id": "72e37280-cdd2-49a2-b751-747ee63d9485",
   "metadata": {},
   "source": [
    "# Surface Values from surface_##.nc"
   ]
  },
  {
   "cell_type": "code",
   "execution_count": 7,
   "id": "7e596b6f-bcd1-4469-9aa1-f6bc5c3dfab5",
   "metadata": {},
   "outputs": [],
   "source": [
    "#s_ncfile='/gpfs/lcheung/AWAKEN/Benchmark1/Phase1/FarmRuns/BM1_FarmRunProd1/postprocessing.shortsummit/surf_68000.nc'\n",
    "s_ncfile='/gpfs/lcheung/AWAKEN/Benchmark1/Phase1/FarmRuns/BM1_FarmRunProd1.summit/post_processing/surf_68000.nc'\n",
    "#heights are at 4 and 10m \n",
    "s_amr_heights = [4,10]\n",
    "\n",
    "group = 'surface_siteA1'\n",
    "#itimevec = np.arange(300)\n",
    "\n",
    "ds = ppsample.getLineXR(s_ncfile, itimevec[:], ['velocityx', 'velocityy', 'velocityz','temperature', 'tke'], groupname=group, gettimes=True, includeattr=True)\n",
    "\n",
    "SA1velx = np.array([g for k, g in ds['velocityx'].items()])\n",
    "SA1vely = np.array([g for k, g in ds['velocityy'].items()])\n",
    "SA1velz = np.array([g for k, g in ds['velocityz'].items()])\n",
    "SA1temp = np.array([g for k, g in ds['temperature'].items()])\n",
    "SA1tke = np.array([g for k, g in ds['tke'].items()])\n"
   ]
  },
  {
   "cell_type": "code",
   "execution_count": 8,
   "id": "6307e43a-ec35-46b9-aa70-d76676126770",
   "metadata": {},
   "outputs": [],
   "source": [
    "group = 'surface_siteA2'\n",
    "#itimevec = np.arange(300)\n",
    "\n",
    "ds = ppsample.getLineXR(s_ncfile, itimevec[:], ['velocityx', 'velocityy', 'velocityz','temperature', 'tke'], groupname=group, gettimes=True, includeattr=True)\n",
    "\n",
    "SA2velx = np.array([g for k, g in ds['velocityx'].items()])\n",
    "SA2vely = np.array([g for k, g in ds['velocityy'].items()])\n",
    "SA2velz = np.array([g for k, g in ds['velocityz'].items()])\n",
    "SA2temp = np.array([g for k, g in ds['temperature'].items()])\n",
    "SA2tke = np.array([g for k, g in ds['tke'].items()])"
   ]
  },
  {
   "cell_type": "code",
   "execution_count": 9,
   "id": "3484f2d0-91fe-4637-9eaf-61e63b0e66e2",
   "metadata": {},
   "outputs": [],
   "source": [
    "group = 'surface_siteA5'\n",
    "#itimevec = np.arange(300)\n",
    "\n",
    "ds = ppsample.getLineXR(s_ncfile, itimevec[:], ['velocityx', 'velocityy', 'velocityz','temperature', 'tke'], groupname=group, gettimes=True, includeattr=True)\n",
    "\n",
    "SA5velx = np.array([g for k, g in ds['velocityx'].items()])\n",
    "SA5vely = np.array([g for k, g in ds['velocityy'].items()])\n",
    "SA5velz = np.array([g for k, g in ds['velocityz'].items()])\n",
    "SA5temp = np.array([g for k, g in ds['temperature'].items()])\n",
    "SA5tke = np.array([g for k, g in ds['tke'].items()])"
   ]
  },
  {
   "cell_type": "markdown",
   "id": "e32c2370-35c9-4d5d-818e-d9f7f351e05c",
   "metadata": {},
   "source": [
    "# Set up output file"
   ]
  },
  {
   "cell_type": "markdown",
   "id": "d8cb2a41-a280-48b1-bc1d-9eb8e66e3d35",
   "metadata": {},
   "source": [
    "48000.nc goes from 24000 to 26028.4 (20285)\n",
    "-2023-08-24 04:55:00 to \n",
    "2023-08-24 05:28:48.400000\n",
    "\n",
    "68000.nc goes from 26000 to 27999 (19991)\n",
    "-  2023-08-24 05:28:20  to   \n",
    "   2023-08-24 06:01:39"
   ]
  },
  {
   "cell_type": "code",
   "execution_count": 14,
   "id": "9e9b8a40-0160-4fbb-883c-b23b86c0c8b9",
   "metadata": {},
   "outputs": [
    {
     "name": "stdout",
     "output_type": "stream",
     "text": [
      "2023-08-23 22:15:00\n",
      "2023-08-24 05:28:20\n",
      "2023-08-24 05:28:20\n",
      "2023-08-24 06:01:39\n",
      "25999.999999970896\n",
      "27998.999999941807\n"
     ]
    }
   ],
   "source": [
    "\n",
    "#_____________________________________________________________________________\n",
    "# INPUT TO CHANGE BASED ON TIME RESOLUTION\n",
    "time_resolution = 0.1 # [s]\n",
    "#hours = .33\n",
    "sec = 1999.105   #1200 - rounding errors made this wrong  2028.505   #\n",
    "#1200 sec\n",
    "#_____________________________________________________________________________\n",
    "# DO NOT CHANGE ANYTHING AFTER THIS\n",
    "#_____________________________________________________________________________\n",
    "\n",
    "# Define dimensions\n",
    "#time_length = int(hours*60*60/time_resolution)\n",
    "time_length = int(sec/time_resolution)\n",
    "#print(sec/time_resolution)\n",
    "#print(time_length)\n",
    "height_lidar_length = 37\n",
    "height_assist_length = len([0, 10, 21, 33, 46, 61, 77, 95, 114, 136, 159, 185, 214, 245, 280, 318, 359, 405, 456, 512, 573, 640, 714, 795, 885, 983, 1092, 1211, 1342, 1486, 1645, 1819, 2011, 2223, 2455, 2710, 2991, 3300, 3640, 4014])\n",
    "\n",
    "# Define time values\n",
    "#start_time = datetime(2023, 8, 24, 0, 0) #This is the give start time of the benchmark 24 hours\n",
    "start_time = datetime(2023, 8, 23, 22, 15)  #This is the start time of the AMR-Wind simulation\n",
    "print(start_time)\n",
    "print(start_time+ timedelta(seconds=ds['times'][0])) #This is the first time step to be saved in the simulation\n",
    "#time_values = [start_time + timedelta(seconds=time_resolution*i) for i in range(time_length)] \n",
    "#put in start time + our time step values instead\n",
    "time_values = [start_time + timedelta(seconds=ds['times'][i]) for i in range(len(ds['times']))]\n",
    "print(time_values[0])\n",
    "print(time_values[-1])\n",
    "print(ds['times'][0])\n",
    "print(ds['times'][-1])\n",
    "\n",
    "# Define height values\n",
    "height_lidar_values = np.arange(40, 410, 10)\n",
    "height_assist_values = np.array([0, 10, 21, 33, 46, 61, 77, 95, 114, 136, 159, 185, 214, 245, 280, 318, 359, 405, 456, 512, 573, 640, 714, 795, 885, 983, 1092, 1211, 1342, 1486, 1645, 1819, 2011, 2223, 2455, 2710, 2991, 3300, 3640, 4014])\n"
   ]
  },
  {
   "cell_type": "code",
   "execution_count": 15,
   "id": "62342702-a90d-4477-8e89-4ec0301be444",
   "metadata": {},
   "outputs": [
    {
     "name": "stdout",
     "output_type": "stream",
     "text": [
      "1645\n"
     ]
    }
   ],
   "source": [
    "print(height_assist_values[30])\n",
    "#print(amr_heights)\n",
    "#print(A1velx)"
   ]
  },
  {
   "cell_type": "code",
   "execution_count": 16,
   "id": "ef6d27c4-8431-4e33-bfbd-0af8f694e577",
   "metadata": {},
   "outputs": [],
   "source": [
    "#Interpolate to correct heights\n",
    "A1velx_int = np. interp(height_lidar_values, amr_heights, A1velx[0], left=np.nan,right = np.nan)"
   ]
  },
  {
   "cell_type": "code",
   "execution_count": 17,
   "id": "6efdd6d2-42ab-4062-997e-068ca8ba5a38",
   "metadata": {},
   "outputs": [
    {
     "name": "stdout",
     "output_type": "stream",
     "text": [
      "NetCDF file created successfully. NaN Values\n"
     ]
    }
   ],
   "source": [
    "\n",
    "# Create netCDF file\n",
    "with nc.Dataset(\"68000_inflow.nc\", \"w\") as f:\n",
    "    # Create dimensions\n",
    "    f.createDimension(\"time\", time_length)\n",
    "    f.createDimension(\"height_lidar\", height_lidar_length)\n",
    "    f.createDimension(\"height_assist\", height_assist_length)\n",
    "\n",
    "    # Create variables\n",
    "    u_siteA1 = f.createVariable(\"u_siteA1\", \"f4\", (\"time\", \"height_lidar\"))  #lidar\n",
    "    u_siteA2 = f.createVariable(\"u_siteA2\", \"f4\", (\"time\", \"height_lidar\"))  #surf,lidar\n",
    "    u_siteB = f.createVariable(\"u_siteB\", \"f4\", (\"time\", \"height_lidar\"))\n",
    "    u_siteE36 = f.createVariable(\"u_siteE36\", \"f4\", (\"time\", \"height_lidar\"))\n",
    "    v_siteA1 = f.createVariable(\"v_siteA1\", \"f4\", (\"time\", \"height_lidar\"))\n",
    "    v_siteA2 = f.createVariable(\"v_siteA2\", \"f4\", (\"time\", \"height_lidar\"))\n",
    "    v_siteB = f.createVariable(\"v_siteB\", \"f4\", (\"time\", \"height_lidar\"))\n",
    "    v_siteE36 = f.createVariable(\"v_siteE36\", \"f4\", (\"time\", \"height_lidar\"))\n",
    "    WS_siteA1 = f.createVariable(\"WS_siteA1\", \"f4\", (\"time\", \"height_lidar\"))\n",
    "    WS_siteA2 = f.createVariable(\"WS_siteA2\", \"f4\", (\"time\", \"height_lidar\"))\n",
    "    WS_siteB = f.createVariable(\"WS_siteB\", \"f4\", (\"time\", \"height_lidar\"))\n",
    "    WS_siteE36 = f.createVariable(\"WS_siteE36\", \"f4\", (\"time\", \"height_lidar\"))\n",
    "    w_siteA1 = f.createVariable(\"w_siteA1\", \"f4\", (\"time\", \"height_lidar\"))\n",
    "    w_siteA2 = f.createVariable(\"w_siteA2\", \"f4\", (\"time\", \"height_lidar\"))\n",
    "    w_siteB = f.createVariable(\"w_siteB\", \"f4\", (\"time\", \"height_lidar\"))\n",
    "    w_siteE36 = f.createVariable(\"w_siteE36\", \"f4\", (\"time\", \"height_lidar\"))\n",
    "    WD_siteA1 = f.createVariable(\"WD_siteA1\", \"f4\", (\"time\", \"height_lidar\"))\n",
    "    WD_siteA2 = f.createVariable(\"WD_siteA2\", \"f4\", (\"time\", \"height_lidar\"))\n",
    "    WD_siteB = f.createVariable(\"WD_siteB\", \"f4\", (\"time\", \"height_lidar\"))\n",
    "    WD_siteE36 = f.createVariable(\"WD_siteE36\", \"f4\", (\"time\", \"height_lidar\"))\n",
    "    TI_siteA1 = f.createVariable(\"TI_siteA1\", \"f4\", (\"time\", \"height_lidar\"))\n",
    "    TI_siteA2 = f.createVariable(\"TI_siteA2\", \"f4\", (\"time\", \"height_lidar\"))\n",
    "    TI_siteB = f.createVariable(\"TI_siteB\", \"f4\", (\"time\", \"height_lidar\"))\n",
    "    TI_siteE36 = f.createVariable(\"TI_siteE36\", \"f4\", (\"time\", \"height_lidar\"))\n",
    "    TKE_siteA1 = f.createVariable(\"TKE_siteA1\", \"f4\", (\"time\", \"height_lidar\"))\n",
    "    TKE_siteA2 = f.createVariable(\"TKE_siteA2\", \"f4\", (\"time\", \"height_lidar\"))\n",
    "    TKE_siteB = f.createVariable(\"TKE_siteB\", \"f4\", (\"time\", \"height_lidar\"))\n",
    "    TKE_siteE36 = f.createVariable(\"TKE_siteE36\", \"f4\", (\"time\", \"height_lidar\"))\n",
    "    # Temperature profiles\n",
    "    T_siteB = f.createVariable(\"T_siteB\", \"f4\", (\"time\", \"height_assist\"))\n",
    "    T_siteE36 = f.createVariable(\"T_siteE36\", \"f4\", (\"time\", \"height_assist\"))\n",
    "    # Near-surface variables\n",
    "    u_sfc_siteA1 = f.createVariable(\"u_sfc_siteA1\", \"f4\", (\"time\",))\n",
    "    u_sfc_siteA2 = f.createVariable(\"u_sfc_siteA2\", \"f4\", (\"time\",))\n",
    "    u_sfc_siteA5 = f.createVariable(\"u_sfc_siteA5\", \"f4\", (\"time\",))\n",
    "    v_sfc_siteA1 = f.createVariable(\"v_sfc_siteA1\", \"f4\", (\"time\",))\n",
    "    v_sfc_siteA2 = f.createVariable(\"v_sfc_siteA2\", \"f4\", (\"time\",))\n",
    "    v_sfc_siteA5 = f.createVariable(\"v_sfc_siteA5\", \"f4\", (\"time\",))\n",
    "    w_sfc_siteA1 = f.createVariable(\"w_sfc_siteA1\", \"f4\", (\"time\",))\n",
    "    w_sfc_siteA2 = f.createVariable(\"w_sfc_siteA2\", \"f4\", (\"time\",))\n",
    "    w_sfc_siteA5 = f.createVariable(\"w_sfc_siteA5\", \"f4\", (\"time\",))\n",
    "    WS_sfc_siteA1 = f.createVariable(\"WS_sfc_siteA1\", \"f4\", (\"time\",))\n",
    "    WS_sfc_siteA2 = f.createVariable(\"WS_sfc_siteA2\", \"f4\", (\"time\",))\n",
    "    WS_sfc_siteA5 = f.createVariable(\"WS_sfc_siteA5\", \"f4\", (\"time\",))\n",
    "    WD_sfc_siteA1 = f.createVariable(\"WD_sfc_siteA1\", \"f4\", (\"time\",))\n",
    "    WD_sfc_siteA2 = f.createVariable(\"WD_sfc_siteA2\", \"f4\", (\"time\",))\n",
    "    WD_sfc_siteA5 = f.createVariable(\"WD_sfc_siteA5\", \"f4\", (\"time\",))\n",
    "    TI_sfc_siteA1 = f.createVariable(\"TI_sfc_siteA1\", \"f4\", (\"time\",))\n",
    "    TI_sfc_siteA2 = f.createVariable(\"TI_sfc_siteA2\", \"f4\", (\"time\",))\n",
    "    TI_sfc_siteA5 = f.createVariable(\"TI_sfc_siteA5\", \"f4\", (\"time\",))\n",
    "    TKE_sfc_siteA1 = f.createVariable(\"TKE_sfc_siteA1\", \"f4\", (\"time\",))\n",
    "    TKE_sfc_siteA2 = f.createVariable(\"TKE_sfc_siteA2\", \"f4\", (\"time\",))\n",
    "    TKE_sfc_siteA5 = f.createVariable(\"TKE_sfc_siteA5\", \"f4\", (\"time\",))\n",
    "    L_sfc_siteA1 = f.createVariable(\"L_sfc_siteA1\", \"f4\", (\"time\",))\n",
    "    L_sfc_siteA2 = f.createVariable(\"L_sfc_siteA2\", \"f4\", (\"time\",))\n",
    "    L_sfc_siteA5 = f.createVariable(\"L_sfc_siteA5\", \"f4\", (\"time\",))\n",
    "\n",
    "    # Assign NaN values to variables\n",
    "    for var in f.variables.values():\n",
    "        var[:] = np.nan\n",
    "\n",
    "    # Write time values to the file\n",
    "    time_var = f.createVariable(\"time\", \"i8\", (\"time\",))\n",
    "    time_var.units = \"seconds since 2023-08-23 22:15:00\"\n",
    "    time_var.calendar = \"gregorian\"\n",
    "    time_var[:] = nc.date2num(time_values, units=time_var.units, calendar=time_var.calendar)\n",
    "\n",
    "    height_lidar_var = f.createVariable(\"height_lidar\", \"i8\", (\"height_lidar\",))\n",
    "    height_lidar_var[:] = height_lidar_values\n",
    "    height_assist_var = f.createVariable(\"height_assist\", \"i8\", (\"height_assist\",))\n",
    "    height_assist_var[:] = height_assist_values\n",
    "    \n",
    "    # Add attributes\n",
    "    f.setncattr(\"time\", \"UTC dates\")\n",
    "    f.setncattr(\"height_lidar_units\", \"m a.g.l.\")\n",
    "    f.setncattr(\"height_assist_units\", \"m a.g.l.\")\n",
    "\n",
    "    #Add values from AMR Wind Run\n",
    "    #u_siteA1 = f.createVariable(\"u_siteA1\", \"f4\", (\"time\", \"height_lidar\"))\n",
    "    #u_siteA1 =  \n",
    "    \n",
    "\n",
    "print(\"NetCDF file created successfully. NaN Values\")\n",
    "\n",
    "\n",
    "\n"
   ]
  },
  {
   "cell_type": "code",
   "execution_count": null,
   "id": "e4eec218-ef10-408a-ad32-b793974f2d09",
   "metadata": {},
   "outputs": [],
   "source": []
  },
  {
   "cell_type": "code",
   "execution_count": 18,
   "id": "9c33a212-1c72-4ec3-b1b4-4478f12abaa3",
   "metadata": {},
   "outputs": [],
   "source": [
    "#Put in interpolated AMR-Wind Values\n",
    "# Open the netCDF file\n",
    "dss = xr.open_dataset(\"68000_inflow.nc\")\n",
    "\n",
    "# Display dataset information\n",
    "#print(dss.data_vars)\n",
    "#print(dss['u_siteA1'])\n",
    "#print(len(dss['time']))\n",
    "#print(len(dss['u_siteA1'][5]))\n",
    "for i in range(len(dss['time'])):\n",
    "    #Height Lidar Values\n",
    "    dss['u_siteA1'][i] =  np. interp(height_lidar_values, amr_heights, A1velx[i], left=np.nan,right = np.nan)\n",
    "    dss['u_siteA2'][i] =  np. interp(height_lidar_values, amr_heights, A2velx[i], left=np.nan,right = np.nan)\n",
    "    dss['u_siteB'][i] =  np. interp(height_lidar_values, amr_heights, Bvelx[i], left=np.nan,right = np.nan)\n",
    "    dss['u_siteE36'][i] =  np. interp(height_lidar_values, amr_heights, E36velx[i], left=np.nan,right = np.nan)\n",
    "\n",
    "    dss['v_siteA1'][i] =  np. interp(height_lidar_values, amr_heights, A1vely[i], left=np.nan,right = np.nan)\n",
    "    dss['v_siteA2'][i] =  np. interp(height_lidar_values, amr_heights, A2vely[i], left=np.nan,right = np.nan)\n",
    "    dss['v_siteB'][i] =  np. interp(height_lidar_values, amr_heights, Bvely[i], left=np.nan,right = np.nan)\n",
    "    dss['v_siteE36'][i] =  np. interp(height_lidar_values, amr_heights, E36vely[i], left=np.nan,right = np.nan)\n",
    "\n",
    "    dss['w_siteA1'][i] =  np. interp(height_lidar_values, amr_heights, A1velz[i], left=np.nan,right = np.nan)\n",
    "    dss['w_siteA2'][i] =  np. interp(height_lidar_values, amr_heights, A2velz[i], left=np.nan,right = np.nan)\n",
    "    dss['w_siteB'][i] =  np. interp(height_lidar_values, amr_heights, Bvelz[i], left=np.nan,right = np.nan)\n",
    "    dss['w_siteE36'][i] =  np. interp(height_lidar_values, amr_heights, E36velz[i], left=np.nan,right = np.nan)\n",
    "\n",
    "    dss['TKE_siteA1'][i] =  np. interp(height_lidar_values, amr_heights, A1tke[i], left=np.nan,right = np.nan)\n",
    "    dss['TKE_siteA2'][i] =  np. interp(height_lidar_values, amr_heights, A2tke[i], left=np.nan,right = np.nan)\n",
    "    dss['TKE_siteB'][i] =  np. interp(height_lidar_values, amr_heights, Btke[i], left=np.nan,right = np.nan)\n",
    "    dss['TKE_siteE36'][i] =  np. interp(height_lidar_values, amr_heights, E36tke[i], left=np.nan,right = np.nan)\n",
    "\n",
    "    \n",
    "    #Height Assest Values\n",
    "    dss['T_siteB'][i] = np. interp(height_assist_values, amr_heights, Btemp[i], left=np.nan,right = np.nan)\n",
    "    dss['T_siteE36'][i] = np. interp(height_assist_values, amr_heights, E36temp[i], left=np.nan,right = np.nan)\n",
    "\n",
    "    #Surface values - AMR-Wind 4m\n",
    "    dss['u_sfc_siteA1'][i] = SA1velx[i][0]\n",
    "    dss['u_sfc_siteA2'][i] = SA2velx[i][0]\n",
    "    dss['u_sfc_siteA5'][i] = SA5velx[i][0]\n",
    "\n",
    "    dss['v_sfc_siteA1'][i] = SA1vely[i][0]\n",
    "    dss['v_sfc_siteA2'][i] = SA2vely[i][0]\n",
    "    dss['v_sfc_siteA5'][i] = SA5vely[i][0]\n",
    "\n",
    "    dss['w_sfc_siteA1'][i] = SA1velz[i][0]\n",
    "    dss['w_sfc_siteA2'][i] = SA2velz[i][0]\n",
    "    dss['w_sfc_siteA5'][i] = SA5velz[i][0]\n",
    "\n",
    "    dss['TKE_sfc_siteA1'][i] = SA1tke[i][0]\n",
    "    dss['TKE_sfc_siteA2'][i] = SA2tke[i][0]\n",
    "    dss['TKE_sfc_siteA5'][i] = SA5tke[i][0]\n",
    "    "
   ]
  },
  {
   "cell_type": "code",
   "execution_count": 19,
   "id": "6d734a14-83fa-4844-bc19-37d19566ada7",
   "metadata": {},
   "outputs": [],
   "source": [
    "#Calculated wind speed magnitude and direction\n",
    "for i in range(len(dss['time'])):\n",
    "    dss['WS_siteA1'][i] =  np.sqrt(dss['u_siteA1'][i]**2 + dss['v_siteA1'][i]**2 + dss['w_siteA1'][i]**2 )\n",
    "    dss['WS_siteA2'][i] =  np.sqrt(dss['u_siteA2'][i]**2 + dss['v_siteA2'][i]**2 + dss['w_siteA2'][i]**2 )\n",
    "    dss['WS_siteB'][i] =  np.sqrt(dss['u_siteB'][i]**2 + dss['v_siteB'][i]**2 + dss['w_siteB'][i]**2 )\n",
    "    dss['WS_siteE36'][i] =  np.sqrt(dss['u_siteE36'][i]**2 + dss['v_siteE36'][i]**2 + dss['w_siteE36'][i]**2 )\n",
    "\n",
    "    dss['WD_siteA1'][i] =  180+np.rad2deg(np.arctan(dss['u_siteA1'][i]/dss['v_siteA1'][i]))\n",
    "    dss['WD_siteA2'][i] =  180+np.rad2deg(np.arctan(dss['u_siteA2'][i]/dss['v_siteA2'][i]))\n",
    "    dss['WD_siteB'][i]  =  180+np.rad2deg(np.arctan(dss['u_siteB'][i]/dss['v_siteB'][i]))\n",
    "    dss['WD_siteE36'][i] =  180+np.rad2deg(np.arctan(dss['u_siteE36'][i]/dss['v_siteE36'][i]))\n",
    "\n",
    "    dss['WS_sfc_siteA1'][i] = np.sqrt(dss['u_sfc_siteA1'][i]**2 + dss['v_sfc_siteA1'][i]**2 + dss['w_sfc_siteA1'][i]**2 )\n",
    "    dss['WS_sfc_siteA2'][i] = np.sqrt(dss['u_sfc_siteA2'][i]**2 + dss['v_sfc_siteA2'][i]**2 + dss['w_sfc_siteA2'][i]**2 )\n",
    "    dss['WS_sfc_siteA5'][i] = np.sqrt(dss['u_sfc_siteA5'][i]**2 + dss['v_sfc_siteA5'][i]**2 + dss['w_sfc_siteA5'][i]**2 )\n",
    "\n",
    "    dss['WD_sfc_siteA1'][i] =  180+np.rad2deg(np.arctan(dss['u_sfc_siteA1'][i]/dss['v_sfc_siteA1'][i]))\n",
    "    dss['WD_sfc_siteA2'][i] =  180+np.rad2deg(np.arctan(dss['u_sfc_siteA2'][i]/dss['v_sfc_siteA2'][i]))\n",
    "    dss['WD_sfc_siteA5'][i] =  180+np.rad2deg(np.arctan(dss['u_sfc_siteA5'][i]/dss['v_sfc_siteA5'][i]))"
   ]
  },
  {
   "cell_type": "code",
   "execution_count": 20,
   "id": "4b8dc5e6-f48b-4fbf-8096-857d2744510a",
   "metadata": {},
   "outputs": [
    {
     "name": "stdout",
     "output_type": "stream",
     "text": [
      "[      nan 302.982   303.64407 304.39993 305.105   305.9482  306.7315\n",
      " 307.47662 308.159   308.80148 309.22342 309.6756  310.09073 310.4267\n",
      " 310.71725 310.94672 311.11798 311.24777 311.34082 311.4135  312.48923\n",
      " 321.0256  321.49866 321.5     321.5           nan       nan       nan\n",
      "       nan       nan       nan       nan       nan       nan       nan\n",
      "       nan       nan       nan       nan       nan]\n",
      "[ 40  50  60  70  80  90 100 110 120 130 140 150 160 170 180 190 200 210\n",
      " 220 230 240 250 260 270 280 290 300 310 320 330 340 350 360 370 380 390\n",
      " 400]\n"
     ]
    }
   ],
   "source": [
    "print(dss['T_siteB'][0].values )\n",
    "print(height_lidar_values)"
   ]
  },
  {
   "cell_type": "code",
   "execution_count": 21,
   "id": "9f3a73df-4e09-438a-ba85-14aa03b1fa1e",
   "metadata": {},
   "outputs": [
    {
     "name": "stdout",
     "output_type": "stream",
     "text": [
      "-0.51466733\n",
      "150.5117359161377\n",
      "150.5117359161377\n",
      "150.51173\n",
      "-2.0071583\n",
      "2.4236906\n",
      "5.207794\n",
      "5.207794\n"
     ]
    }
   ],
   "source": [
    "#For testing\n",
    "WS = np.sqrt(dss['u_siteA1'][0]**2 + dss['v_siteA1'][0]**2 + dss['w_siteA1'][0]**2 )\n",
    "#WD2 = np.arctan2(dss['v_siteA1'][0][0].values,dss['u_siteA1'][0][0].values)\n",
    "WD = np.arctan(dss['u_siteA1'][-1][5].values/dss['v_siteA1'][-1][5].values)\n",
    "print(WD)\n",
    "print(180+np.rad2deg(WD))\n",
    "print(180+np.rad2deg(np.arctan(dss['u_siteA1'][-1][5].values/dss['v_siteA1'][-1][5].values)))\n",
    "print(dss['WD_siteA1'][-1][5].values)\n",
    "# print(np.sqrt(dss['u_siteA1'][0][1].values**2+ dss['v_siteA1'][0][1].values**2 + dss['w_siteA1'][0][1].values**2))\n",
    "print(dss['u_siteA1'][0][0].values)\n",
    "print(dss['v_siteA1'][0][0].values)\n",
    "# print(dss['w_siteA1'][0].values)\n",
    "#print(2.2125103/3.268545)\n",
    "print(WS[5].values)\n",
    "print(dss['WS_siteA1'][0][5].values)"
   ]
  },
  {
   "cell_type": "code",
   "execution_count": 22,
   "id": "c7a3842a-6f8c-41a1-b347-271339954b06",
   "metadata": {},
   "outputs": [],
   "source": [
    "#write out dss into nc file\n",
    "dss.close()  #Will overwrite\n",
    "#dss.to_netcdf(\"SNL_ARM-Wind_Inflow.nc\")"
   ]
  },
  {
   "cell_type": "code",
   "execution_count": 23,
   "id": "b74d2224-446c-43d2-9d41-531e1e033048",
   "metadata": {},
   "outputs": [],
   "source": [
    "dss.to_netcdf(\"SNL_ARM-Wind_Inflow_68000.nc\")"
   ]
  },
  {
   "cell_type": "code",
   "execution_count": null,
   "id": "c90e0610-7e61-416b-a53f-46c714915c2d",
   "metadata": {},
   "outputs": [],
   "source": []
  }
 ],
 "metadata": {
  "kernelspec": {
   "display_name": "Python 3 (ipykernel)",
   "language": "python",
   "name": "python3"
  },
  "language_info": {
   "codemirror_mode": {
    "name": "ipython",
    "version": 3
   },
   "file_extension": ".py",
   "mimetype": "text/x-python",
   "name": "python",
   "nbconvert_exporter": "python",
   "pygments_lexer": "ipython3",
   "version": "3.11.5"
  }
 },
 "nbformat": 4,
 "nbformat_minor": 5
}
