{
 "cells": [
  {
   "cell_type": "markdown",
   "id": "1cf7a589-7375-4fc6-adee-79252926a1b8",
   "metadata": {},
   "source": [
    "# Domain size check"
   ]
  },
  {
   "cell_type": "code",
   "execution_count": 1,
   "id": "2b459763-c531-4879-8281-c07196e9a1a1",
   "metadata": {
    "tags": []
   },
   "outputs": [],
   "source": [
    "# Load the amrwind-frontend module\n",
    "\n",
    "# Location of amrwind-frontend \n",
    "amrwindfedirs = ['/projects/wind_uq/lcheung/amrwind-frontend',\n",
    "                 '/ccs/proj/cfd162/lcheung/amrwind-frontend/']\n",
    "import sys, os\n",
    "for x in amrwindfedirs: sys.path.insert(1, x)\n",
    "\n",
    "\n",
    "# Load the libraries\n",
    "import amrwind_frontend  as amrwind\n",
    "import matplotlib.pyplot as plt\n",
    "import matplotlib.patches as patches\n",
    "import numpy             as np\n",
    "import math\n",
    "\n",
    "# Also ignore warnings\n",
    "import warnings\n",
    "warnings.filterwarnings('ignore')\n",
    "\n",
    "# Make all plots inline \n",
    "%matplotlib inline"
   ]
  },
  {
   "cell_type": "code",
   "execution_count": 2,
   "id": "eda46b90-f589-4629-8ca0-67553d5344a3",
   "metadata": {},
   "outputs": [],
   "source": [
    "# Add this to load local packages\n",
    "import sys\n",
    "#sys.path.insert(1, '/ascldap/users/lcheung/.local/lib/python2.7/site-packages')\n",
    "import utm\n",
    "import pandas as pd\n",
    "import matplotlib.pyplot as plt\n",
    "%matplotlib inline"
   ]
  },
  {
   "cell_type": "code",
   "execution_count": 3,
   "id": "5e481cd1-e853-47b1-a223-6b343e29dbb2",
   "metadata": {},
   "outputs": [],
   "source": [
    "# Load the data from the database of all turbines\n",
    "df = pd.read_csv('../../../uswtdb/uswtdb_v3_3_20210114.csv',low_memory=False)"
   ]
  },
  {
   "cell_type": "code",
   "execution_count": 4,
   "id": "6239581c-63f5-4f11-927e-77d2fae920c2",
   "metadata": {},
   "outputs": [],
   "source": [
    "turbines=[]\n",
    "addKingPlains     = True\n",
    "addArmadilloFlats = True\n",
    "addThunderRanch   = False\n",
    "addBreckinridge   = False\n",
    "addChisholmView   = False"
   ]
  },
  {
   "cell_type": "code",
   "execution_count": 5,
   "id": "da5c5761-2817-4208-b30c-aa12d55b26cb",
   "metadata": {},
   "outputs": [],
   "source": [
    "# All turbines must fit within these utm limits \n",
    "turb_inside_box = [[625000, 650000],  # UTM Easting\n",
    "                   [4.0203E6, 4.035E6],  # UTM Northing  \n",
    "                  ]"
   ]
  },
  {
   "cell_type": "markdown",
   "id": "f78fe40e-6ee8-4272-a9d3-625900ac0628",
   "metadata": {
    "tags": []
   },
   "source": [
    "### King Plains turbines"
   ]
  },
  {
   "cell_type": "code",
   "execution_count": 6,
   "id": "b0bd44fc-2719-4d11-8529-49278615386a",
   "metadata": {
    "collapsed": false,
    "jupyter": {
     "outputs_hidden": false
    }
   },
   "outputs": [
    {
     "name": "stdout",
     "output_type": "stream",
     "text": [
      "King Plains: 88 turbines\n",
      "Turbine types: ['GE2.8-127']\n"
     ]
    }
   ],
   "source": [
    "KPturbs1=df[df['p_name']==\"unknown Noble County\"]\n",
    "KPturbs2=df[df['p_name']==\"unknown Garfield County\"]\n",
    "\n",
    "KPcount = 0\n",
    "\n",
    "if addKingPlains:\n",
    "    ge2p8='GE2.8-127'\n",
    "    turblist = []\n",
    "    # Turbines from Noble County\n",
    "    for index, row in KPturbs1.iterrows():\n",
    "        utmxy   = utm.from_latlon(row['ylat'], row['xlong'])\n",
    "        if ((utmxy[0] < turb_inside_box[0][0]) or (utmxy[0] > turb_inside_box[0][1]) or \n",
    "            (utmxy[1] < turb_inside_box[1][0]) or (utmxy[1] > turb_inside_box[1][1])):\n",
    "            continue\n",
    "        datarow = {'faa_asn':row['faa_asn'].replace('OE','KP'), \n",
    "                   'lat':row['ylat'], 'long':row['xlong'], 'utm':(utmxy[0], utmxy[1]), \n",
    "                   't_model':ge2p8}\n",
    "        turbines.append(datarow)\n",
    "        KPcount += 1\n",
    "        if datarow['t_model'] not in turblist: turblist.append(datarow['t_model'])\n",
    "    \n",
    "    # Turbines from Garfield County\n",
    "    for index, row in KPturbs2.iterrows():\n",
    "        utmxy   = utm.from_latlon(row['ylat'], row['xlong'])\n",
    "        if ((utmxy[0] < turb_inside_box[0][0]) or (utmxy[0] > turb_inside_box[0][1]) or \n",
    "            (utmxy[1] < turb_inside_box[1][0]) or (utmxy[1] > turb_inside_box[1][1])):\n",
    "            continue        \n",
    "        datarow = {'faa_asn':row['faa_asn'].replace('OE','KP'), \n",
    "                   'lat':row['ylat'], 'long':row['xlong'], 'utm':(utmxy[0], utmxy[1]), \n",
    "                   't_model':ge2p8}\n",
    "        if utmxy[1]>4020000:  # Remove the ones from Armadillo Ranch\n",
    "            turbines.append(datarow)    \n",
    "            KPcount += 1\n",
    "        if datarow['t_model'] not in turblist: turblist.append(datarow['t_model'])\n",
    "        \n",
    "    print(\"King Plains: %i turbines\"%(KPcount))\n",
    "    print('Turbine types: '+repr(turblist))"
   ]
  },
  {
   "cell_type": "markdown",
   "id": "06e50f02-7f3b-4da8-b260-f364e7a04e96",
   "metadata": {
    "tags": []
   },
   "source": [
    "### Armadillo flats turbines"
   ]
  },
  {
   "cell_type": "code",
   "execution_count": 7,
   "id": "029db0b7-a9ea-43bc-b04f-4d6157ddfe9a",
   "metadata": {
    "collapsed": false,
    "jupyter": {
     "outputs_hidden": false
    }
   },
   "outputs": [
    {
     "name": "stdout",
     "output_type": "stream",
     "text": [
      "Armadillo Flats: 126 turbines\n",
      "Turbine types: ['GE1.7-103', 'GE2.3-116']\n",
      "GE1.7-103: 17\n",
      "GE2.3-116: 17\n"
     ]
    }
   ],
   "source": [
    "# This is the old approach\n",
    "if addArmadilloFlats and False:\n",
    "    AFturbs=df[df['p_name']==\"Armadillo Flats\"]\n",
    "    turblist = []\n",
    "    # Turbines from Armadillo Flats\n",
    "    for index, row in AFturbs.iterrows():\n",
    "        utmxy   = utm.from_latlon(row['ylat'], row['xlong'])\n",
    "        if ((utmxy[0] < turb_inside_box[0][0]) or (utmxy[0] > turb_inside_box[0][1]) or \n",
    "            (utmxy[1] < turb_inside_box[1][0]) or (utmxy[1] > turb_inside_box[1][1])):\n",
    "            continue        \n",
    "        datarow = {'faa_asn':str(row['faa_asn']).replace('OE','AF').replace('nan','T'+str(index)), \n",
    "                   'lat':row['ylat'], 'long':row['xlong'], 'utm':(utmxy[0], utmxy[1]), \n",
    "                   't_model':row['t_model']}\n",
    "        turbines.append(datarow)\n",
    "        if datarow['t_model'] not in turblist: turblist.append(datarow['t_model'])\n",
    "    \n",
    "    print(\"Armadillo Flats: %i turbines\"%(len(AFturbs)))\n",
    "    print('Turbine types: '+repr(turblist))\n",
    "    \n",
    "# This the new approach\n",
    "if addArmadilloFlats:\n",
    "    newdf = pd.read_csv('../../../farmlayout/AF_BR_Turbines.csv',low_memory=False)\n",
    "    AFturbs=newdf[newdf['Turbine Display Name'].str.startswith(\"WAF1\")]\n",
    "    turblist = []\n",
    "    turbtypes = []\n",
    "    # Turbines from Armadillo Flats\n",
    "    for index, row in AFturbs.iterrows():\n",
    "        #utmxy   = utm.from_latlon(row['ylat'], row['xlong'])\n",
    "        name    = row['Turbine Display Name']+'-AF'\n",
    "        lat     = row['Turbine Latitude']\n",
    "        long    = row['Turbine Longitude']\n",
    "        Easting = row['Easting']\n",
    "        Northing= row['Northing']        \n",
    "        t_model = row['Turbine Type'].replace('1.7 MW','GE1.7-103').replace('2.3 MW', 'GE2.3-116')\n",
    "        utmxy   = (Easting, Northing) #(lat, long)\n",
    "        if ((utmxy[0] < turb_inside_box[0][0]) or (utmxy[0] > turb_inside_box[0][1]) or \n",
    "            (utmxy[1] < turb_inside_box[1][0]) or (utmxy[1] > turb_inside_box[1][1])):\n",
    "            continue        \n",
    "        datarow = {'faa_asn':name, \n",
    "                   'lat':lat, 'long':long, 'utm':(utmxy[0], utmxy[1]), \n",
    "                   't_model':t_model}\n",
    "        turbines.append(datarow)\n",
    "        turbtypes.append(datarow['t_model'])\n",
    "        if datarow['t_model'] not in turblist: turblist.append(datarow['t_model'])     \n",
    "\n",
    "    print(\"Armadillo Flats: %i turbines\"%(len(AFturbs)))\n",
    "    print('Turbine types: '+repr(turblist))\n",
    "    for t in turblist:\n",
    "        print(\"%s: %i\"%(t,turbtypes.count(t)))    "
   ]
  },
  {
   "cell_type": "markdown",
   "id": "eec6d37d-d72b-4a95-b6bc-60d6c47deb0e",
   "metadata": {
    "tags": []
   },
   "source": [
    "## Thunder Ranch turbines"
   ]
  },
  {
   "cell_type": "code",
   "execution_count": 8,
   "id": "e1282a92-043c-4167-a367-ac80fe59988d",
   "metadata": {},
   "outputs": [],
   "source": [
    "TRturbs=df[df['p_name']==\"Thunder Ranch\"]"
   ]
  },
  {
   "cell_type": "code",
   "execution_count": 9,
   "id": "b4d2f528-2349-4016-b959-d6bbbab9c176",
   "metadata": {
    "collapsed": false,
    "jupyter": {
     "outputs_hidden": false
    }
   },
   "outputs": [],
   "source": [
    "if addThunderRanch:\n",
    "    turblist = []\n",
    "    for index, row in TRturbs.iterrows():\n",
    "        utmxy   = utm.from_latlon(row['ylat'], row['xlong'])\n",
    "        if ((utmxy[0] < turb_inside_box[0][0]) or (utmxy[0] > turb_inside_box[0][1]) or \n",
    "            (utmxy[1] < turb_inside_box[1][0]) or (utmxy[1] > turb_inside_box[1][1])):\n",
    "            continue        \n",
    "        datarow = {'faa_asn':str(row['faa_asn']).replace('OE','TR').replace('nan','T'+str(index)), \n",
    "                   'lat':row['ylat'], 'long':row['xlong'], 'utm':(utmxy[0], utmxy[1]), \n",
    "                   't_model':row['t_model']}\n",
    "        turbines.append(datarow)\n",
    "        if datarow['t_model'] not in turblist: turblist.append(datarow['t_model'])\n",
    "    print(\"Thunder Ranch: %i turbines\"%(len(TRturbs)))\n",
    "    print('Turbine types: '+repr(turblist))"
   ]
  },
  {
   "cell_type": "markdown",
   "id": "35e481ae-69a5-4431-96c9-51580778b7fd",
   "metadata": {
    "tags": []
   },
   "source": [
    "## Breckenridge turbines"
   ]
  },
  {
   "cell_type": "code",
   "execution_count": 10,
   "id": "c288b511-052d-4ba8-b9f2-55ebb7ce44a4",
   "metadata": {},
   "outputs": [],
   "source": [
    "BRturbs=df[df['p_name']==\"Breckinridge\"]"
   ]
  },
  {
   "cell_type": "code",
   "execution_count": 11,
   "id": "64fa06a0-9d38-46e5-bc7e-73207f7fa830",
   "metadata": {
    "collapsed": false,
    "jupyter": {
     "outputs_hidden": false
    }
   },
   "outputs": [],
   "source": [
    "if addBreckinridge:\n",
    "    turblist = []\n",
    "    for index, row in BRturbs.iterrows():\n",
    "        utmxy   = utm.from_latlon(row['ylat'], row['xlong'])\n",
    "        if ((utmxy[0] < turb_inside_box[0][0]) or (utmxy[0] > turb_inside_box[0][1]) or \n",
    "            (utmxy[1] < turb_inside_box[1][0]) or (utmxy[1] > turb_inside_box[1][1])):\n",
    "            continue        \n",
    "        datarow = {'faa_asn':str(row['faa_asn']).replace('OE','BR').replace('nan','T'+str(index)), \n",
    "                   'lat':row['ylat'], 'long':row['xlong'], 'utm':(utmxy[0], utmxy[1]), \n",
    "                   't_model':row['t_model']}\n",
    "        turbines.append(datarow)\n",
    "        if datarow['t_model'] not in turblist: turblist.append(datarow['t_model'])\n",
    "    print(\"Breckinridge: %i turbines\"%(len(BRturbs)))\n",
    "    print('Turbine types: '+repr(turblist))"
   ]
  },
  {
   "cell_type": "markdown",
   "id": "8afff00e-ce68-4127-ba54-5524b9735390",
   "metadata": {
    "tags": []
   },
   "source": [
    "## Add Chisholm View"
   ]
  },
  {
   "cell_type": "code",
   "execution_count": 12,
   "id": "6cd914fe-399a-44f5-8cbd-e29ba93df3da",
   "metadata": {},
   "outputs": [],
   "source": [
    "CV1turbs=df[df['p_name']==\"Chisholm View\"]\n",
    "CV2turbs=df[df['p_name']==\"Chisholm View II\"]"
   ]
  },
  {
   "cell_type": "code",
   "execution_count": 13,
   "id": "fc6e1f0f-6c2d-4de6-b86b-2ac5fbe91b6c",
   "metadata": {
    "collapsed": false,
    "jupyter": {
     "outputs_hidden": false
    }
   },
   "outputs": [],
   "source": [
    "CVcount = 0\n",
    "\n",
    "if addChisholmView:\n",
    "    turblist = []\n",
    "    for index, row in CV1turbs.iterrows():\n",
    "        utmxy   = utm.from_latlon(row['ylat'], row['xlong'])\n",
    "        if ((utmxy[0] < turb_inside_box[0][0]) or (utmxy[0] > turb_inside_box[0][1]) or \n",
    "            (utmxy[1] < turb_inside_box[1][0]) or (utmxy[1] > turb_inside_box[1][1])):\n",
    "            continue        \n",
    "        datarow = {'faa_asn':str(row['faa_asn']).replace('OE','CV').replace('nan','T'+str(index)), \n",
    "                   'lat':row['ylat'], 'long':row['xlong'], 'utm':(utmxy[0], utmxy[1]), \n",
    "                   't_model':row['t_model']}\n",
    "        turbines.append(datarow)   \n",
    "        if datarow['t_model'] not in turblist: turblist.append(datarow['t_model'])\n",
    "        CVcount += 1\n",
    "    for index, row in CV2turbs.iterrows():\n",
    "        utmxy   = utm.from_latlon(row['ylat'], row['xlong'])\n",
    "        if ((utmxy[0] < turb_inside_box[0][0]) or (utmxy[0] > turb_inside_box[0][1]) or \n",
    "            (utmxy[1] < turb_inside_box[1][0]) or (utmxy[1] > turb_inside_box[1][1])):\n",
    "            continue        \n",
    "        datarow = {'faa_asn':str(row['faa_asn']).replace('OE','CV').replace('nan','T'+str(index)), \n",
    "                   'lat':row['ylat'], 'long':row['xlong'], 'utm':(utmxy[0], utmxy[1]), \n",
    "                   't_model':row['t_model']}\n",
    "        turbines.append(datarow)   \n",
    "        if datarow['t_model'] not in turblist: turblist.append(datarow['t_model'])\n",
    "        CVcount += 1\n",
    "    print(\"Chisholm View: %i turbines\"%(CVcount))\n",
    "    print('Turbine types: '+repr(turblist))"
   ]
  },
  {
   "cell_type": "code",
   "execution_count": 14,
   "id": "6c706a31-d739-44f9-98fb-9be71be66799",
   "metadata": {
    "collapsed": false,
    "jupyter": {
     "outputs_hidden": false
    }
   },
   "outputs": [
    {
     "name": "stdout",
     "output_type": "stream",
     "text": [
      "Total turbines: 122\n"
     ]
    }
   ],
   "source": [
    "print(\"Total turbines: %i\"%(len(turbines)))"
   ]
  },
  {
   "cell_type": "markdown",
   "id": "1230bfe5-3739-4e0f-b59a-2cb6c5b1aebd",
   "metadata": {
    "tags": []
   },
   "source": [
    "### Write the CSV file"
   ]
  },
  {
   "cell_type": "code",
   "execution_count": 15,
   "id": "9522302e-9302-4dbe-968e-381583a244fd",
   "metadata": {
    "collapsed": false,
    "jupyter": {
     "outputs_hidden": false
    }
   },
   "outputs": [],
   "source": [
    "summitcsv = 'turbines.csv'\n",
    "\n",
    "verbose=False\n",
    "\n",
    "# CSV file should have columns with\n",
    "# name, x, y, type, yaw, hubheight, options\n",
    "header=\"\"\"# name, x, y, type, yaw, hubheight, options\"\"\"\n",
    "with open(summitcsv, 'w') as f:\n",
    "    f.write(header+'\\n')\n",
    "    if verbose: print(header)\n",
    "    for x in turbines: \n",
    "        #line='%s, %f, %f, %s, , ,'%(x['faa_asn'], x['lat'], x['long'], 'Summit_'+x['t_model'])\n",
    "        line='%s, %f, %f, %s, , ,'%(x['faa_asn'], x['utm'][0], x['utm'][1], 'Summit_'+x['t_model'])\n",
    "        f.write(line+'\\n')\n",
    "        if verbose: print(line)"
   ]
  },
  {
   "cell_type": "markdown",
   "id": "23c0c379-ca2b-4a8e-9718-0a0049ca2b0b",
   "metadata": {},
   "source": [
    "## AWAKEN Wind farm layout for Summit"
   ]
  },
  {
   "cell_type": "markdown",
   "id": "6a65dbe2-cc62-41d5-adef-f934cae3ff75",
   "metadata": {},
   "source": [
    "**Note**: to make sure that the correct turbines are in place for setting up this layout file, make sure something like this file is in place:"
   ]
  },
  {
   "cell_type": "code",
   "execution_count": 16,
   "id": "944f06a0-dd34-45b3-8760-6ce3d7fabaed",
   "metadata": {
    "collapsed": false,
    "jupyter": {
     "outputs_hidden": false
    }
   },
   "outputs": [
    {
     "name": "stdout",
     "output_type": "stream",
     "text": [
      "turbines:\n",
      "  Joukowski_GE1p68-82.5_calibLCC:\n",
      "    turbinetype_name:            \"Summit_GE1.68-82.5\"\n",
      "    turbinetype_comment:         Calibrated Joukowski Model \n",
      "    # See data in /projects/AWAKEN/lcheung/awaken.github/TurbineCheckout/NREL-1.68-82.5.csv \n",
      "    # Calibration notebook in ~/nscratch/2021/AWAKEN/turbinerun/GE1.68-82.5/RunCalibration_Joukowski_Eps5.00_V10_newcurves.ipynb\n",
      "    # Plot curves notebook in ~/nscratch/2021/AWAKEN/turbinerun/GE1.68-82.5/PlotCurves5.ipynb\n",
      "    cp_table:                     0.3016713057677416 0.39345186124735865 0.3932593872884728 0.3916920326945722 0.39000648367796215 0.3884360746578687 0.387129236715039 0.386181402329401 0.38565332474606967 0.38557671355846646 0.38519215792947603 0.38432907066672434 0.38861989389694285 0.4062033815759146 0.40357836305334926 0.37955694089972913 0.34474609939979 0.30627114196178934 0.268216840493811 0.24923712453314853 0.22172972498450214 0.17367047677103206 0.13664974727612442 0.1082060950027497 0.08634223902504749 0.06949132044205408 0.056446985164931664 0.04629510134017421 0.038346025144364915 0.03208095870576853\n",
      "    Actuator_type:                JoukowskyDisk\n",
      "    Actuator_rotor_diameter:      82.5\n",
      "    Actuator_hub_height:          80\n",
      "    Actuator_output_frequency:    1                   \n",
      "    Actuator_diameters_to_sample: 2.5     # How far upstream to sample inflow wind\n",
      "    Actuator_epsilon:             [5.0, 5.0, 5.0]   # Epsilon in Z (might need to play with this guy)\n",
      "    Actuator_num_points_r:        40      # number of radial (might need to play with this guy)\n",
      "    Actuator_num_points_t:        5       # number of pts in theta (might need to play with this guy)\n",
      "    Actuator_vortex_core_size:    10.0    # might need to play with this\n",
      "    # --------------------\n",
      "    Actuator_wind_speed:          3.0 3.8896499632398522 4.684006996752298 5.377830233987224 5.9665420922679235 6.446258473946166 6.813814392205923 7.066784852446476 7.203500851477442 7.223060388969041 7.3207863594297695 7.53515307893962 7.8647462371540815 8.307391303370766 8.860167873258565 9.519428936578255 10.280824938773396 11.139332477682313 12.089287446041034 12.622632732353626 13.124422401115686 14.2379079149135 15.42239763215957 16.67007673876378 17.972713521001403 19.321713675239483 20.708177009893888 22.122956165519167 23.556716965618214 25.0\n",
      "    Actuator_rpm:                 8.000000000407963 8.000000000407963 9.602449293650405 11.0248217322322 12.231710571559455 13.215153216626533 13.968661285704481 14.487263418223835 14.767538073926923 14.807636106893261 15.007979248283226 15.44744177593674 15.760974947029291 15.760974947029291 15.760974947029291 15.760974947029291 15.760974947029291 15.760974947029291 15.760974947029291 15.760974947029291 15.760974947029291 15.760974947029291 15.760974947029291 15.760974947029291 15.760974947029291 15.760974947029291 15.760974947029291 15.760974947029291 15.760974947029291 15.760974947029291\n",
      "    Actuator_thrust_coeff:        1.0117545076546912 0.883314192303627 0.8818404900751321 0.8818404900751318 0.881840490075132 0.8818404900751319 0.8818404900751319 0.8818404900751319 0.8818404900751315 0.8818404900751319 0.8818404900751322 0.881840490075132 0.8712367627531024 0.7867752979507233 0.7257269236862279 0.6286847514451789 0.5390146754884892 0.45913367150244344 0.3898129866147723 0.35756691210576774 0.3136815237231712 0.24127707449985478 0.18856357329696818 0.14943933647824204 0.12000663360983989 0.09758134469844537 0.08054549223984131 0.06724291097749342 0.056974742018472614 0.04897929796220479\n",
      "    # --------------------\n",
      "    Actuator_use_tip_correction:  True\n",
      "    Actuator_use_root_correction: True\n",
      "    Actuator_num_blades:          3\n",
      "  Joukowski_GE1.715-103_calib:\n",
      "    turbinetype_name:             \"Summit_GE1.715-103\"\n",
      "    turbinetype_comment:          Calibrated Joukowski Model \n",
      "    Actuator_type:                JoukowskyDisk\n",
      "    Actuator_rotor_diameter:      103\n",
      "    Actuator_hub_height:          80     \n",
      "    Actuator_output_frequency:    1                   \n",
      "    # --------------------\n",
      "    # Plot curves notebook in ~/nscratch/2021/AWAKEN/turbinerun/GE1.7-103/PlotCurves3.ipynb\n",
      "    # Calibration notebook in ~/nscratch/2021/AWAKEN/turbinerun/GE1.7-103/RunCalibration_Joukowski_dx_Eps5.ipynb\n",
      "    Actuator_diameters_to_sample: 2.5     # How far upstream to sample inflow wind\n",
      "    Actuator_epsilon:             [5.0, 5.0, 5.0]   # Epsilon in Z (might need to play with this guy)\n",
      "    Actuator_num_points_r:        40      # number of radial (might need to play with this guy)\n",
      "    Actuator_num_points_t:        5       # number of pts in theta (might need to play with this guy)\n",
      "    Actuator_vortex_core_size:    13.0    # might need to play with this\n",
      "    Actuator_wind_speed:          3.0 3.889649963239854 4.684006996752303 5.377830233987229 5.966542092267928 6.44625847394617 6.8138143922059236 7.066784852446481 7.203500851477444 7.22306038896904 7.320786359429763 7.535153078939617 7.864746237154081 8.30739130337076 8.860167873258558 9.519428936578247 10.280824938773394 10.681872976809931 11.13933247768231 12.08928744604103 13.12442240111568 14.237907914913496 15.422397632159566 16.670076738763772 17.972713521001396 19.321713675239476 20.708177009893884 22.122956165519163 23.556716965618207 25.0\n",
      "    Actuator_rpm:                 8.000000000407963 8.000000000407963 8.000000000407963 8.915211469393155 9.891160966263108 10.68642091347471 11.29574448739556 11.715111602091959 11.941755432331782 11.97418066804842 12.136187956267158 12.491558905753875 13.037948913712258 13.771753106017414 14.688130120808689 14.735742990092277 14.735742990092277 14.735742990092277 14.735742990092277 14.735742990092277 14.735742990092277 14.735742990092277 14.735742990092277 14.735742990092277 14.735742990092277 14.735742990092277 14.735742990092277 14.735742990092277 14.735742990092277 14.735742990092277 \n",
      "    Actuator_thrust_coeff:        1.1409841836260257 0.9482259036041606 0.8334389504747425 0.8144879858280086 0.8144879858280089 0.8144879858280087 0.8144879858280089 0.8144879858280087 0.814487985828009 0.814487985828009 0.8144879858280089 0.8144879858280085 0.769031688060892 0.6904868066653629 0.607026893875481 0.5258624112793866 0.4508563728896142 0.4429667182262618 0.3441900398282224 0.2627970090552418 0.2028465297072238 0.1581634901080046 0.12466485192904814 0.09944345440468834 0.08018126095888073 0.06565832966439472 0.054319986694619404 0.04568030208339344 0.03896700467518228 0.03360712014602656 \n",
      "    Actuator_use_tip_correction:  True\n",
      "    Actuator_use_root_correction: True    \n",
      "    Actuator_num_blades:          3\n",
      "  Joukowski_GE1.7-103_calib:\n",
      "    turbinetype_name:             \"Summit_GE1.7-103\"\n",
      "    turbinetype_comment:          Calibrated Joukowski Model \n",
      "    Actuator_type:                JoukowskyDisk\n",
      "    Actuator_rotor_diameter:      103\n",
      "    Actuator_hub_height:          80     \n",
      "    Actuator_output_frequency:    1                   \n",
      "    # --------------------\n",
      "    # Plot curves notebook in ~/nscratch/2021/AWAKEN/turbinerun/GE1.7-103/PlotCurves3.ipynb\n",
      "    # Calibration notebook in ~/nscratch/2021/AWAKEN/turbinerun/GE1.7-103/RunCalibration_Joukowski_dx_Eps5.ipynb\n",
      "    Actuator_diameters_to_sample: 2.5     # How far upstream to sample inflow wind\n",
      "    Actuator_epsilon:             [5.0, 5.0, 5.0]   # Epsilon in Z (might need to play with this guy)\n",
      "    Actuator_num_points_r:        40      # number of radial (might need to play with this guy)\n",
      "    Actuator_num_points_t:        5       # number of pts in theta (might need to play with this guy)\n",
      "    Actuator_vortex_core_size:    13.0    # might need to play with this\n",
      "    Actuator_wind_speed:          3.0 3.889649963239854 4.684006996752303 5.377830233987229 5.966542092267928 6.44625847394617 6.8138143922059236 7.066784852446481 7.203500851477444 7.22306038896904 7.320786359429763 7.535153078939617 7.864746237154081 8.30739130337076 8.860167873258558 9.519428936578247 10.280824938773394 10.681872976809931 11.13933247768231 12.08928744604103 13.12442240111568 14.237907914913496 15.422397632159566 16.670076738763772 17.972713521001396 19.321713675239476 20.708177009893884 22.122956165519163 23.556716965618207 25.0\n",
      "    Actuator_rpm:                 8.000000000407963 8.000000000407963 8.000000000407963 8.915211469393155 9.891160966263108 10.68642091347471 11.29574448739556 11.715111602091959 11.941755432331782 11.97418066804842 12.136187956267158 12.491558905753875 13.037948913712258 13.771753106017414 14.688130120808689 14.735742990092277 14.735742990092277 14.735742990092277 14.735742990092277 14.735742990092277 14.735742990092277 14.735742990092277 14.735742990092277 14.735742990092277 14.735742990092277 14.735742990092277 14.735742990092277 14.735742990092277 14.735742990092277 14.735742990092277 \n",
      "    Actuator_thrust_coeff:        1.1409841836260257 0.9482259036041606 0.8334389504747425 0.8144879858280086 0.8144879858280089 0.8144879858280087 0.8144879858280089 0.8144879858280087 0.814487985828009 0.814487985828009 0.8144879858280089 0.8144879858280085 0.769031688060892 0.6904868066653629 0.607026893875481 0.5258624112793866 0.4508563728896142 0.4429667182262618 0.3441900398282224 0.2627970090552418 0.2028465297072238 0.1581634901080046 0.12466485192904814 0.09944345440468834 0.08018126095888073 0.06565832966439472 0.054319986694619404 0.04568030208339344 0.03896700467518228 0.03360712014602656 \n",
      "    Actuator_use_tip_correction:  True\n",
      "    Actuator_use_root_correction: True    \n",
      "    Actuator_num_blades:          3\n",
      "  Joukowski_GE1.79-100_calib:\n",
      "    turbinetype_name:             \"Summit_GE1.79-100\"\n",
      "    turbinetype_comment:          Calibrated Joukowski Model \n",
      "    Actuator_type:                JoukowskyDisk\n",
      "    Actuator_rotor_diameter:      100\n",
      "    Actuator_hub_height:          80     \n",
      "    Actuator_output_frequency:    1                   \n",
      "    # Plot curves notebook in ~/nscratch/2021/AWAKEN/turbinerun/GE1.79-100/PlotCurves4.ipynb\n",
      "    # Calibration notebook in ~/nscratch/2021/AWAKEN/turbinerun/GE2.3-116/RunCalibration_Joukowski_Eps5.00.ipynb\n",
      "    # --------------------\n",
      "    Actuator_diameters_to_sample: 2.5     # How far upstream to sample inflow wind\n",
      "    Actuator_epsilon:             [5.0, 5.0, 5.0]   # Epsilon in Z (might need to play with this guy)\n",
      "    Actuator_num_points_r:        40      # number of radial (might need to play with this guy)\n",
      "    Actuator_num_points_t:        5       # number of pts in theta (might need to play with this guy)\n",
      "    Actuator_vortex_core_size:    13.0    # might need to play with this\n",
      "    # Performance tables come from https://github.com/scottryn/openfast-turbine-models/blob/awaken/IEA-scaled/NREL-1.79-100/NREL-1.79-100.csv\n",
      "    Actuator_wind_speed:          3.0 3.889649963239854 4.684006996752303 5.377830233987229 5.966542092267928 6.44625847394617 6.8138143922059236 7.066784852446481 7.203500851477444 7.22306038896904 7.320786359429763 7.535153078939617 7.864746237154081 8.30739130337076 8.860167873258558 9.519428936578247 10.280824938773394 10.681872976809931 11.13933247768231 12.08928744604103 13.12442240111568 14.237907914913496 15.422397632159566 16.670076738763772 17.972713521001396 19.321713675239476 20.708177009893884 22.122956165519163 23.556716965618207 25.0\n",
      "    Actuator_rpm:                 8 8 8 9.172052607 10.17611854 10.99428938 11.62116715 12.05261594 12.28578923 12.31914861 12.48582322 12.85143216 13.41356329 14.16850788 15.11128509 15.16026965 15.16026965 15.16026965 15.16026965 15.16026965 15.16026965 15.16026965 15.16026965 15.16026965 15.16026965 15.16026965 15.16026965 15.16026965 15.16026965 15.16026965\n",
      "    Actuator_thrust_coeff:        1.158093814 0.958191954 0.842281443 0.841410733 0.841410733 0.841410733 0.841410733 0.841410733 0.841410733 0.841410733 0.841410733 0.841410733 0.784534886 0.743327664 0.653457742 0.566093507 0.485349168 0.448263929 0.387457153 0.293997037 0.226171155 0.176059266 0.13865674 0.110481935 0.089183188 0.072941144 0.060464209 0.05074999 0.043180894 0.037323406\n",
      "    Actuator_use_tip_correction:  True\n",
      "    Actuator_use_root_correction: True    \n",
      "    Actuator_num_blades:          3\n",
      "  Joukowski_GE2.3-116_calib:\n",
      "    turbinetype_name:             \"Summit_GE2.3-116\"\n",
      "    turbinetype_comment:          Calibrated Joukowski Model \n",
      "    Actuator_type:                JoukowskyDisk\n",
      "    Actuator_rotor_diameter:      116\n",
      "    Actuator_hub_height:          79.13     \n",
      "    Actuator_output_frequency:    1                   \n",
      "    Actuator_diameters_to_sample: 2.5     # How far upstream to sample inflow wind\n",
      "    Actuator_epsilon:             [5.0, 5.0, 5.0]   # Epsilon in Z (might need to play with this guy)\n",
      "    Actuator_num_points_r:        40      # number of radial (might need to play with this guy)\n",
      "    Actuator_num_points_t:        5       # number of pts in theta (might need to play with this guy)\n",
      "    Actuator_vortex_core_size:    13.0    # might need to play with this\n",
      "    # --------------------\n",
      "    # Calibration notebook in ~/nscratch/2021/AWAKEN/turbinerun/GE2.3-116v2/PlotCurves5.ipynb\n",
      "    # Plot curves notebook in ~/nscratch/2021/AWAKEN/turbinerun/GE2.3-116v2/RunCalibration_Joukowski_Eps5.00.ipynb\n",
      "    # Performance tables come from https://raw.githubusercontent.com/scottryn/openfast-turbine-models/awaken/IEA-scaled/NREL-2.3-116v2/NREL-2.3-116v2.csv\n",
      "    Actuator_wind_speed:          3.0 3.88964996324 4.68400699675 5.37783023399 5.96654209227 6.44625847395 6.81381439221 7.06678485245 7.20350085148 7.22306038897 7.32078635943 7.53515307894 7.86474623715 8.30739130337 8.86016787326 9.51942893658 10.2808249388 10.666701665 11.1393324777 12.089287446 13.1244224011 14.2379079149 15.4223976322 16.6700767388 17.972713521 19.3217136752 20.7081770099 22.1229561655 23.5567169656 25.0\n",
      "    Actuator_rpm:                 5.5000000004 5.75037302746 6.92473300917 7.95046603577 8.82080470964 9.53000686616 10.0733934584 10.4473794276 10.6494973561 10.6784137465 10.8228896736 11.1398047208 11.6270680029 12.2814647413 13.0986774745 13.1411379928 13.1411379928 13.1411379928 13.1411379928 13.1411379928 13.1411379928 13.1411379928 13.1411379928 13.1411379928 13.1411379928 13.1411379928 13.1411379928 13.1411379928 13.1411379928 13.1411379928\n",
      "    Actuator_thrust_coeff:        0.954507219906 0.825528199043 0.825528199043 0.825528199043 0.825528199043 0.825528199043 0.825528199043 0.825528199043 0.825528199043 0.825528199043 0.825528199043 0.825528199043 0.783349572265 0.70350019482 0.618468919247 0.535777323951 0.459357035319 0.42672327994 0.365913371426 0.278322400085 0.214295350009 0.16682330754 0.131321242632 0.104627252356 0.0843043046388 0.0688873781101 0.0570148296211 0.0479287006257 0.0408743046551 0.0353712993522\n",
      "    # --------------------\n",
      "    Actuator_use_tip_correction:  True\n",
      "    Actuator_use_root_correction: True\n",
      "    Actuator_num_blades:          3\n",
      "  Joukowski_GE24-107_calibLCC:\n",
      "    turbinetype_name:            \"Summit_GE2.4-107\"\n",
      "    turbinetype_comment:         Calibrated Joukowski Model \n",
      "    # Data from: /projects/AWAKEN/lcheung/awaken.github/TurbineCheckout/NREL-2.4-107.csv\n",
      "    # Calibration notebook in ~/nscratch/2021/AWAKEN/turbinerun/GE2.4-107/RunCalibration_Joukowski_Eps5.00_V10.ipynb\n",
      "    # Plot curves notebook in ~/nscratch/2021/AWAKEN/turbinerun/GE2.4-107/PlotCurves5.ipynb\n",
      "    cp_table:                     0.36494385462317414 0.4057145978707475 0.4084886140722456 0.40946212302108115 0.4096561912443821 0.4095095462889279 0.40925413639551833 0.40901754531776574 0.4088697364261277 0.4088478196027903 0.40873507340273457 0.4084632901716705 0.407995749539033 0.4170768820129709 0.40588823577147537 0.3796030302648449 0.34406136739661386 0.30542169789935647 0.29577684585916003 0.24594889649219775 0.19222345625083997 0.1505595894610731 0.1184647817941693 0.0938067981129045 0.07485292870062624 0.06024300928446688 0.04893519660859818 0.04013447234603446 0.033243315049715394 0.02781156743979472\n",
      "    Actuator_type:                JoukowskyDisk\n",
      "    Actuator_rotor_diameter:      107\n",
      "    Actuator_hub_height:          80\n",
      "    Actuator_output_frequency:    1                   \n",
      "    Actuator_diameters_to_sample: 2.5     # How far upstream to sample inflow wind\n",
      "    Actuator_epsilon:             [5.0, 5.0, 5.0]   # Epsilon in Z (might need to play with this guy)\n",
      "    Actuator_num_points_r:        40      # number of radial (might need to play with this guy)\n",
      "    Actuator_num_points_t:        5       # number of pts in theta (might need to play with this guy)\n",
      "    Actuator_vortex_core_size:    10.0    # might need to play with this\n",
      "    # --------------------\n",
      "    Actuator_wind_speed:          3.0 3.8896499632398522 4.684006996752298 5.377830233987224 5.9665420922679235 6.446258473946166 6.813814392205923 7.066784852446476 7.203500851477442 7.223060388969041 7.3207863594297695 7.53515307893962 7.8647462371540815 8.307391303370766 8.860167873258565 9.519428936578255 10.280824938773396 11.139332477682313 11.368266947340883 12.089287446041034 13.124422401115686 14.2379079149135 15.42239763215957 16.67007673876378 17.972713521001403 19.321713675239483 20.708177009893888 22.122956165519167 23.556716965618214 25.0\n",
      "    Actuator_rpm:                 5.500000000399841 6.216061563190254 7.485525980331192 8.59432702859619 9.535149259037933 10.301785483264918 10.889177726117152 11.293450596268706 11.511936854590438 11.543195011582549 11.699371185389309 12.041951298809709 12.568675138134543 13.276067579163733 14.000000000236472 14.000000000236472 14.000000000236472 14.000000000236472 14.000000000236472 14.000000000236472 14.000000000236472 14.000000000236472 14.000000000236472 14.000000000236472 14.000000000236472 14.000000000236472 14.000000000236472 14.000000000236472 14.000000000236472 14.000000000236472 \n",
      "    Actuator_thrust_coeff:        0.9417637121427401 0.8591023656623112 0.8591023656623112 0.8591023656623115 0.8591023656623114 0.8591023656623114 0.8591023656623114 0.8591023656623114 0.8591023656623115 0.859102365662311 0.8591023656623115 0.8591023656623114 0.8591023656623112 0.7946025198026082 0.7010491180644189 0.6073318868751941 0.5207061845780487 0.4435376564475198 0.4258539432711849 0.34314148550753276 0.26171231400949135 0.20244647825140952 0.15862645919422833 0.1258607265652833 0.10102264915823013 0.08221636164540955 0.06771371069636782 0.05668709221197275 0.04797694606348537 0.04122339888144193\n",
      "    # --------------------\n",
      "    Actuator_use_tip_correction:  True\n",
      "    Actuator_use_root_correction: True\n",
      "    Actuator_num_blades:          3\n",
      "  Joukowski_GE2.5-116_calib:\n",
      "    turbinetype_name:             \"Summit_GE2.5-116\"\n",
      "    turbinetype_comment:          Calibrated Joukowski Model \n",
      "    Actuator_type:                JoukowskyDisk\n",
      "    Actuator_rotor_diameter:      116\n",
      "    Actuator_hub_height:          90\n",
      "    Actuator_output_frequency:    1\n",
      "    Actuator_diameters_to_sample: 2.5     # How far upstream to sample inflow wind\n",
      "    Actuator_epsilon:             [5.0, 5.0, 5.0]   # Epsilon in Z (might need to play with this guy)\n",
      "    Actuator_num_points_r:        40      # number of radial (might need to play with this guy)\n",
      "    Actuator_num_points_t:        5       # number of pts in theta (might need to play with this guy)\n",
      "    Actuator_vortex_core_size:    13.0    # might need to play with this\n",
      "    # --------------------\n",
      "    # Performance tables come from https://raw.githubusercontent.com/NREL/openfast-turbine-models/master/IEA-scaled/NREL-2.5-116/NREL-2.5-116_openfast.csv\n",
      "    Actuator_wind_speed:          3.0 3.889649963239854 4.684006996752303 5.377830233987229 5.966542092267928 6.44625847394617 6.8138143922059236 7.066784852446481 7.203500851477444 7.22306038896904 7.320786359429763 7.535153078939617 7.864746237154081 8.30739130337076 8.860167873258558 9.519428936578247 10.280824938773394 10.589724312062877 11.13933247768231 12.08928744604103 13.12442240111568 14.237907914913496 15.422397632159566 16.670076738763772 17.972713521001396 19.321713675239476 20.708177009893884 22.122956165519163 23.556716965618207 25.0 \n",
      "    Actuator_rpm:                 5.500000000399841 5.7503730274604 6.924733009169061 7.950466035772244 8.820804709636782 9.530006866155707 10.073393458373337 10.447379427563192 10.649497356086282 10.678413746477254 10.82288967359941 11.139804720841314 11.627068002870239 12.28146474128283 13.098677474494233 13.141137992834643 13.141137992834643 13.141137992834643 13.141137992834643 13.141137992834643 13.141137992834643 13.141137992834643 13.141137992834643 13.141137992834643 13.141137992834643 13.141137992834643 13.141137992834643 13.141137992834643 13.141137992834643 13.141137992834643 \n",
      "    Actuator_thrust_coeff:        0.795419507524108 0.8163759621542088 0.8163759621542089 0.8163759621542088 0.8163759621542088 0.8163759621542093 0.8163759621542093 0.816375962154209 0.8163759621542089 0.816375962154209 0.8163759621542089 0.8163759621542088 0.8163759621542088 0.7816497292837605 0.6881024487256834 0.5960935792514858 0.5110705883010171 0.48169007343985104 0.3992418445397665 0.301726241148816 0.23137184415660814 0.17948146484830918 0.1408250546606467 0.11178366795199553 0.08975645587417404 0.07310080594700819 0.060299514659720915 0.0504505646442757 0.04286514300370846 0.03692885272686376\n",
      "    # --------------------\n",
      "    Actuator_use_tip_correction:  True\n",
      "    Actuator_use_root_correction: True\n",
      "    Actuator_num_blades:          3\n",
      "  Summit_GE2.8-127:\n",
      "    turbinetype_name:    \"Summit_GE2.8-127\"\n",
      "    turbinetype_comment:          THIS IS A PLACEHOLDER\n",
      "    Actuator_type:                JoukowskyDisk\n",
      "    Actuator_rotor_diameter:      127\n",
      "    Actuator_hub_height:          90\n",
      "    Actuator_output_frequency:    1\n",
      "    Actuator_diameters_to_sample: 2.5     # How far upstream to sample inflow wind\n",
      "    Actuator_epsilon:             [5.0, 5.0, 5.0]   # Epsilon in Z (might need to play with this guy)\n",
      "    Actuator_num_points_r:        40      # number of radial (might need to play with this guy)\n",
      "    Actuator_num_points_t:        5       # number of pts in theta (might need to play with this guy)\n",
      "    Actuator_vortex_core_size:    13.0    # might need to play with this\n",
      "    # --------------------\n",
      "    # Performance tables come from https://raw.githubusercontent.com/NREL/openfast-turbine-models/master/IEA-scaled/NREL-2.5-116/NREL-2.5-116_openfast.csv\n",
      "    Actuator_wind_speed:          3.0 3.889649963239854 4.684006996752303 5.377830233987229 5.966542092267928 6.44625847394617 6.8138143922059236 7.066784852446481 7.203500851477444 7.22306038896904 7.320786359429763 7.535153078939617 7.864746237154081 8.30739130337076 8.860167873258558 9.519428936578247 10.280824938773394 10.589724312062877 11.13933247768231 12.08928744604103 13.12442240111568 14.237907914913496 15.422397632159566 16.670076738763772 17.972713521001396 19.321713675239476 20.708177009893884 22.122956165519163 23.556716965618207 25.0 \n",
      "    Actuator_rpm:                 5.500000000399841 5.7503730274604 6.924733009169061 7.950466035772244 8.820804709636782 9.530006866155707 10.073393458373337 10.447379427563192 10.649497356086282 10.678413746477254 10.82288967359941 11.139804720841314 11.627068002870239 12.28146474128283 13.098677474494233 13.141137992834643 13.141137992834643 13.141137992834643 13.141137992834643 13.141137992834643 13.141137992834643 13.141137992834643 13.141137992834643 13.141137992834643 13.141137992834643 13.141137992834643 13.141137992834643 13.141137992834643 13.141137992834643 13.141137992834643 \n",
      "    Actuator_thrust_coeff:        0.795419507524108 0.8163759621542088 0.8163759621542089 0.8163759621542088 0.8163759621542088 0.8163759621542093 0.8163759621542093 0.816375962154209 0.8163759621542089 0.816375962154209 0.8163759621542089 0.8163759621542088 0.8163759621542088 0.7816497292837605 0.6881024487256834 0.5960935792514858 0.5110705883010171 0.48169007343985104 0.3992418445397665 0.301726241148816 0.23137184415660814 0.17948146484830918 0.1408250546606467 0.11178366795199553 0.08975645587417404 0.07310080594700819 0.060299514659720915 0.0504505646442757 0.04286514300370846 0.03692885272686376\n",
      "    # --------------------\n",
      "    Actuator_use_tip_correction:  True\n",
      "    Actuator_use_root_correction: True\n",
      "    Actuator_num_blades:          3\n",
      "  nrel2.8_127_ADM_bugfix:\n",
      "    turbinetype_name:             \"Summit_GE2.8-127_ADM\"\n",
      "    turbinetype_comment: \n",
      "    Actuator_type:                TurbineFastDisk\n",
      "    Actuator_openfast_input_file: OpenFAST3p3_NREL2p8-127.bugfix/NREL-2p8-127.fst\n",
      "    Actuator_rotor_diameter:      127\n",
      "    Actuator_hub_height:          90\n",
      "    Actuator_num_points_blade:    64\n",
      "    Actuator_num_points_tower:    12\n",
      "    Actuator_epsilon:             [5.0, 5.0, 5.0]\n",
      "    Actuator_epsilon_tower:       [5.0, 5.0, 5.0]\n",
      "    Actuator_openfast_start_time: 0.0\n",
      "    Actuator_openfast_stop_time:  10000.0\n",
      "    Actuator_nacelle_drag_coeff:  1.0\n",
      "    Actuator_nacelle_area:        8.0\n",
      "    Actuator_output_frequency:    1\n",
      "    turbinetype_filedir: OpenFAST3p3_NREL2p8-127.bugfix\n",
      "\n"
     ]
    }
   ],
   "source": [
    "with open(\"../../../turbines/summitlayoutturbs.yaml\")as f: print(f.read())"
   ]
  },
  {
   "cell_type": "markdown",
   "id": "4a0088b4-cb91-4b5f-b217-a1b42f5c00f6",
   "metadata": {},
   "source": [
    "## Set up the ABL parameters and conditions"
   ]
  },
  {
   "cell_type": "code",
   "execution_count": 17,
   "id": "8553a7cd-659f-4bf1-8c02-abdf750579c6",
   "metadata": {},
   "outputs": [],
   "source": [
    "# Start the AMR-Wind case\n",
    "case = amrwind.MyApp.init_nogui()"
   ]
  },
  {
   "cell_type": "code",
   "execution_count": 18,
   "id": "8c388766-6416-4399-bdf2-79e0a4685961",
   "metadata": {},
   "outputs": [
    {
     "name": "stdout",
     "output_type": "stream",
     "text": [
      "Farm center = [635000, 4027500.0]\n"
     ]
    }
   ],
   "source": [
    "WS     = 10.05         # Wind speed, m/s\n",
    "WDir   = 90           # Wind direction, degrees\n",
    "farm_domainsize = [3.5*10240.0, 2*10240.0, 960]\n",
    "farm_center     = [635000, 4.0275E6]   # In utm\n",
    "#print(utm.from_latlon(36.587395, -97.756294))\n",
    "#farm_center          = utm.to_latlon(640000, 4030000, 14, 'S')\n",
    "print(\"Farm center = \"+repr(farm_center)) # in lat/long\n",
    "farm_background_mesh = 10 "
   ]
  },
  {
   "cell_type": "code",
   "execution_count": 19,
   "id": "a12f5c8c-4747-465e-acb9-f3ee8ee31184",
   "metadata": {},
   "outputs": [],
   "source": [
    "# Set the wind speed and direction\n",
    "case.setAMRWindInput('useWSDir', True)                           # Allows you to specify wind speed + wind direction \n",
    "case.setAMRWindInput('ABL_windspeed', WS, forcechange=True)     # Wind speed of 9 m/s\n",
    "case.setAMRWindInput('ABL_winddir',   WDir, forcechange=True)     # Wind direction of 175 degrees\n",
    "case.ABL_calculateWindVector()"
   ]
  },
  {
   "cell_type": "code",
   "execution_count": 20,
   "id": "cdeaec59-eea4-4893-a770-0952e58859da",
   "metadata": {},
   "outputs": [],
   "source": [
    "# Set some tolerances (leave this alone)\n",
    "tols = \"\"\"\n",
    "nodal_proj.mg_rtol                       = 1e-06               \n",
    "nodal_proj.mg_atol                       = 1e-12               \n",
    "mac_proj.mg_rtol                         = 1e-06               \n",
    "mac_proj.mg_atol                         = 1e-12               \n",
    "diffusion.mg_rtol                        = 1e-06               \n",
    "diffusion.mg_atol                        = 1e-12               \n",
    "temperature_diffusion.mg_rtol            = 1e-10               \n",
    "temperature_diffusion.mg_atol            = 1e-13               \n",
    "\"\"\"\n",
    "case.loadAMRWindInput(tols, string=True);"
   ]
  },
  {
   "cell_type": "code",
   "execution_count": 21,
   "id": "65151417-9ad7-4752-9253-3d8130e4e57c",
   "metadata": {},
   "outputs": [],
   "source": [
    "case.loadTurbineCSVFile(summitcsv)"
   ]
  },
  {
   "cell_type": "code",
   "execution_count": 22,
   "id": "65d43cfb-313e-4954-b094-2570ce565465",
   "metadata": {},
   "outputs": [],
   "source": [
    "case.setAMRWindInput('turbines_coordsys', 'utm')\n",
    "\n",
    "# Set up the domain \n",
    "case.setAMRWindInput('turbines_domainsize',         farm_domainsize)\n",
    "case.setAMRWindInput('turbines_backgroundmeshsize', farm_background_mesh)\n",
    "case.setAMRWindInput('turbines_autocalccenter',     False)\n",
    "case.setAMRWindInput('turbines_farmcenter',         [farm_center[0], farm_center[1]])\n",
    "case.setAMRWindInput('turbines_deleteprev', True)"
   ]
  },
  {
   "cell_type": "code",
   "execution_count": 23,
   "id": "c6234608-917f-45fc-a3e6-5a98a94ce1c6",
   "metadata": {},
   "outputs": [
    {
     "data": {
      "text/plain": [
       "<matplotlib.patches.Rectangle at 0x7f7064a9ff70>"
      ]
     },
     "execution_count": 23,
     "metadata": {},
     "output_type": "execute_result"
    },
    {
     "data": {
      "image/png": "[encoded data removed]",
      "text/plain": [
       "<Figure size 1000x1000 with 1 Axes>"
      ]
     },
     "metadata": {},
     "output_type": "display_data"
    }
   ],
   "source": [
    "# Preview the turbine layout\n",
    "fig, ax = plt.subplots(figsize=(8,8), facecolor='w', dpi=125)\n",
    "case.setAMRWindInput('turbines_plotnames', False)\n",
    "#case.popup_storteddata['plotdomain']['plot_chooseview']      = 'XY'\n",
    "case.turbines_previewAllTurbines(ax=ax)\n",
    "\n",
    "rect = patches.Rectangle((turb_inside_box[0][0], turb_inside_box[1][0]), \n",
    "                         turb_inside_box[0][1]-turb_inside_box[0][0], \n",
    "                         turb_inside_box[1][1]-turb_inside_box[1][0], linewidth=1, edgecolor='k', linestyle='--', facecolor='none')\n",
    "ax.add_patch(rect)"
   ]
  },
  {
   "cell_type": "code",
   "execution_count": 24,
   "id": "518a9e7e-a077-41bd-ac24-704085df1e69",
   "metadata": {},
   "outputs": [
    {
     "data": {
      "text/plain": [
       "[635000.0, 4027500.0]"
      ]
     },
     "execution_count": 24,
     "metadata": {},
     "output_type": "execute_result"
    }
   ],
   "source": [
    "case.getAMRWindInput('turbines_farmcenter')"
   ]
  },
  {
   "cell_type": "code",
   "execution_count": 25,
   "id": "94f22745-262e-4913-9dc3-d70d5bff2f55",
   "metadata": {},
   "outputs": [
    {
     "name": "stdout",
     "output_type": "stream",
     "text": [
      "CANNOT update: ABLMeanBoussinesq use forcechange=True in setval()\n",
      "122\n"
     ]
    }
   ],
   "source": [
    "case.turbines_createAllTurbines()\n",
    "\n",
    "# Print out existing list of turbines, just to confirm that the turbines got made\n",
    "print(len(case.listboxpopupwindict['listboxactuator'].getitemlist()))"
   ]
  },
  {
   "cell_type": "markdown",
   "id": "a2d8fffc-df92-455e-a0a6-87865ae58e14",
   "metadata": {},
   "source": [
    "## Add refinements"
   ]
  },
  {
   "cell_type": "code",
   "execution_count": 26,
   "id": "9196ea51-66cc-407b-939d-6042d98a9c64",
   "metadata": {},
   "outputs": [],
   "source": [
    "refinementcsv=\"\"\"\n",
    "# CSV file should have columns with\n",
    "# level, upstream, downstream, lateral, below, above, options\n",
    "level, upstream, downstream, lateral, below, above, options\n",
    "#0,     13800,    15000,      18500,  100,  250,      center:farm units:meter\n",
    "# KP\n",
    "#0,     6000,    6000,      9300,  100,  350, center:specified units:meter centerx:639000 centery:4029000 centerz:100\n",
    "0,     10000,    10000,      5000,  100,  350, center:specified units:meter centerx:639000 centery:4029000 centerz:100\n",
    "# AF\n",
    "0,     7000,    8000,      3200,  100,  350, center:specified units:meter centerx:630000 centery:4023500 centerz:100   \n",
    "\n",
    "# Turbine refinement\n",
    "1,     0.6,    0.6,     0.6,    0.525, 0.525, orientation:nacdir\n",
    "\"\"\"\n",
    "case.setAMRWindInput('refine_csvtextbox', refinementcsv)\n",
    "case.setAMRWindInput('refine_deleteprev', True)"
   ]
  },
  {
   "cell_type": "code",
   "execution_count": 27,
   "id": "12337eb3-89fa-4ccb-a8f4-48984ba8cdfa",
   "metadata": {
    "collapsed": false,
    "jupyter": {
     "outputs_hidden": false
    }
   },
   "outputs": [],
   "source": [
    "case.refine_createAllZones()"
   ]
  },
  {
   "cell_type": "code",
   "execution_count": 28,
   "id": "9f66e0ea-6629-49c0-8ab0-bf4e85dfbea9",
   "metadata": {
    "collapsed": false,
    "jupyter": {
     "outputs_hidden": false
    }
   },
   "outputs": [
    {
     "data": {
      "text/plain": [
       "(615288.0, 654712.0, 4016236.0, 4038764.0)"
      ]
     },
     "execution_count": 28,
     "metadata": {},
     "output_type": "execute_result"
    },
    {
     "data": {
      "image/png": "[encoded data removed]",
      "text/plain": [
       "<Figure size 1200x1200 with 1 Axes>"
      ]
     },
     "metadata": {},
     "output_type": "display_data"
    }
   ],
   "source": [
    "# Plot the domain (total domain)\n",
    "fig, ax = plt.subplots(figsize=(8,8), facecolor='w', dpi=150)\n",
    "case.popup_storteddata['plotdomain']['plot_turbines']        = case.listboxpopupwindict['listboxactuator'].getitemlist()\n",
    "case.popup_storteddata['plotdomain']['plot_refineboxes']     = case.listboxpopupwindict['listboxtagging'].getitemlist()\n",
    "case.popup_storteddata['plotdomain']['plot_windnortharrows'] = False\n",
    "case.popup_storteddata['plotdomain']['plot_chooseview']      = 'XY'\n",
    "case.plotDomain(ax=ax)\n",
    "ax.axis('scaled')"
   ]
  },
  {
   "cell_type": "code",
   "execution_count": 29,
   "id": "62057cf8-ac28-47b1-9964-a2b185e53729",
   "metadata": {
    "collapsed": false,
    "jupyter": {
     "outputs_hidden": false
    }
   },
   "outputs": [
    {
     "data": {
      "text/plain": [
       "(615288.0, 654712.0, -330.34123184543915, 1021.4448205640686)"
      ]
     },
     "execution_count": 29,
     "metadata": {},
     "output_type": "execute_result"
    },
    {
     "data": {
      "image/png": "[encoded data removed]",
      "text/plain": [
       "<Figure size 1200x1200 with 1 Axes>"
      ]
     },
     "metadata": {},
     "output_type": "display_data"
    }
   ],
   "source": [
    "# Plot the domain (total domain)\n",
    "fig, ax = plt.subplots(figsize=(8,8), facecolor='w', dpi=150)\n",
    "case.popup_storteddata['plotdomain']['plot_turbines']        = case.listboxpopupwindict['listboxactuator'].getitemlist()\n",
    "case.popup_storteddata['plotdomain']['plot_refineboxes']     = case.listboxpopupwindict['listboxtagging'].getitemlist()\n",
    "case.popup_storteddata['plotdomain']['plot_windnortharrows'] = True\n",
    "case.popup_storteddata['plotdomain']['plot_chooseview']      = 'XZ'\n",
    "case.plotDomain(ax=ax)\n",
    "ax.axis('auto')"
   ]
  },
  {
   "cell_type": "code",
   "execution_count": 30,
   "id": "0e8e753c-480f-41b7-b797-e4f3c3c051d5",
   "metadata": {},
   "outputs": [
    {
     "name": "stdout",
     "output_type": "stream",
     "text": [
      "[]\n"
     ]
    }
   ],
   "source": [
    "case.listboxpopupwindict['listboxactuator'].deleteall()\n",
    "print(case.listboxpopupwindict['listboxactuator'].getitemlist())"
   ]
  },
  {
   "cell_type": "code",
   "execution_count": 31,
   "id": "7c522b98-f15c-4b4f-8c9d-91b0241c0cf7",
   "metadata": {
    "collapsed": false,
    "jupyter": {
     "outputs_hidden": false
    }
   },
   "outputs": [
    {
     "name": "stdout",
     "output_type": "stream",
     "text": [
      "ESTIMATED MESH SIZE\n",
      "   Level       Ncells                      Cell Size\n",
      "       0    704643072             10.0 x 10.0 x 10.0\n",
      "       1   1065600000                5.0 x 5.0 x 5.0\n",
      "       2     21808441                2.5 x 2.5 x 2.5\n",
      "  TOTAL:   1792051513\n"
     ]
    }
   ],
   "source": [
    "# Estimate mesh size\n",
    "case.estimateMeshSize(verbose=False)"
   ]
  },
  {
   "cell_type": "code",
   "execution_count": 32,
   "id": "3e2be7bc-80be-45d5-8b76-d0ea787be597",
   "metadata": {},
   "outputs": [
    {
     "name": "stdout",
     "output_type": "stream",
     "text": [
      "postprocessing_setup_name: 'sampling'\n",
      "postprocessing_setup_type: 'Sampling'\n",
      "postprocessing_setup_output_frequency: 2000\n",
      "postprocessing_setup_fields: 'velocity'\n",
      "postprocessing_setup_derived_fields: None\n",
      "postprocessing_setup_averaging_window: None\n",
      "postprocessing_setup_averaging_start_time: None\n",
      "postprocessing_setup_averaging_stop_time: None\n"
     ]
    }
   ],
   "source": [
    "# Set up averaging\n",
    "metmastpprosetup = case.get_default_postprosetupdict()\n",
    "metmastpprosetup['postprocessing_setup_name'] = 'sampling'\n",
    "metmastpprosetup['postprocessing_setup_type'] = 'Sampling'\n",
    "metmastpprosetup['postprocessing_setup_output_frequency'] =  2000\n",
    "metmastpprosetup['postprocessing_setup_fields']           =  'velocity'\n",
    "case.add_postprosetup(metmastpprosetup, verbose=True)\n",
    "\n",
    "sampleplane = case.get_default_samplingdict()\n",
    "# Set up a sampling plane at two heights: z=60m and z=91m\n",
    "sampleplane['sampling_name']         = 'p_hub'\n",
    "sampleplane['sampling_type']         = 'PlaneSampler'\n",
    "sampleplane['sampling_p_num_points'] = [1025, 1025]\n",
    "sampleplane['sampling_p_origin']     = case.getAMRWindInput('geometry.prob_lo')\n",
    "sampleplane['sampling_p_axis1']      = [4*10240, 0, 0]\n",
    "sampleplane['sampling_p_axis2']      = [0, 4*10240, 0]\n",
    "sampleplane['sampling_p_normal']     = [0, 0, 1]      # This is the direction I want to move/offset the planes\n",
    "sampleplane['sampling_p_offsets']    = '60 91'        # This is how much to offset the planes\n",
    "case.add_sampling(sampleplane)"
   ]
  },
  {
   "cell_type": "code",
   "execution_count": 33,
   "id": "fffbd505-f06d-4de4-b243-86abf3580607",
   "metadata": {},
   "outputs": [
    {
     "data": {
      "text/plain": [
       "Text(0.5, 1.0, 'Simulated AWAKEN Domain')"
      ]
     },
     "execution_count": 33,
     "metadata": {},
     "output_type": "execute_result"
    },
    {
     "data": {
      "image/png": "[encoded data removed]",
      "text/plain": [
       "<Figure size 750x750 with 1 Axes>"
      ]
     },
     "metadata": {},
     "output_type": "display_data"
    }
   ],
   "source": [
    "# Plot the domain (total domain)\n",
    "fig, ax = plt.subplots(figsize=(5,5), facecolor='w', dpi=150)\n",
    "case.popup_storteddata['plotdomain']['plot_turbines']        = case.listboxpopupwindict['listboxactuator'].getitemlist()\n",
    "case.popup_storteddata['plotdomain']['plot_refineboxes']     = case.listboxpopupwindict['listboxtagging'].getitemlist()\n",
    "case.popup_storteddata['plotdomain']['plot_windnortharrows'] = False\n",
    "case.popup_storteddata['plotdomain']['plot_chooseview']      = 'XY'\n",
    "#case.popup_storteddata['plotdomain']['plot_sampleprobes']    = ['p_hub']\n",
    "case.plotDomain(ax=ax)\n",
    "ax.axis('scaled')\n",
    "plt.xlabel('UTM X [m]')\n",
    "plt.ylabel('UTM Y [m]')\n",
    "plt.title('Simulated AWAKEN Domain')"
   ]
  },
  {
   "cell_type": "markdown",
   "id": "30929126-f984-4717-a5c0-b94994e8f20b",
   "metadata": {},
   "source": [
    "## Set AMR-Wind inputs"
   ]
  },
  {
   "cell_type": "code",
   "execution_count": 34,
   "id": "aa5ef8e7-a8f0-4560-9429-59f94b1e2ba1",
   "metadata": {},
   "outputs": [],
   "source": [
    "# Set the time constants\n",
    "maxtime = 30000\n",
    "dt      = 0.1\n",
    "#case.setAMRWindInput('time.max_step',  80000)\n",
    "\n",
    "case.setAMRWindInput('time.stop_time', maxtime)\n",
    "case.setAMRWindInput('time.max_step',  -1) #int(maxtime/dt))\n",
    "case.setAMRWindInput('time_control', ['const dt'])\n",
    "case.setAMRWindInput('time.fixed_dt',  dt)\n",
    "case.setAMRWindInput('time.checkpoint_interval',  8000)\n",
    "case.setAMRWindInput('time.plot_interval',  8000)"
   ]
  },
  {
   "cell_type": "code",
   "execution_count": 35,
   "id": "fa02598d-e66d-49ed-9386-da87e8b9016e",
   "metadata": {},
   "outputs": [],
   "source": [
    "# Set some basic parameters\n",
    "case.setAMRWindInput('incflo.physics',      ['ABL'])  # Must have ABL physics to do ABL calculations\n",
    "case.setAMRWindInput('incflo.verbose',      3)        # This is optional, verbose=3 means more info in the output logs\n",
    "case.setAMRWindInput('io.check_file',       'chk')    # What to name the checkpoint files\n",
    "\n",
    "case.setAMRWindInput('incflo.use_godunov',  True)       # Always use a godunov scheme\n",
    "case.setAMRWindInput('incflo.godunov_type', 'weno_z')   # Use 'weno_z' \n",
    "\n",
    "case.setAMRWindInput('turbulence.model',    ['OneEqKsgsM84'])    # One equation k-sgs subgrid scale model\n",
    "case.setAMRWindInput('TKE.source_terms',    ['KsgsM84Src'])      # The corresponding source term\n",
    "\n",
    "case.setAMRWindInput('transport.viscosity', 1.853e-05)           # viscosity\n",
    "case.setAMRWindInput('incflo.density',      1.17)                # density"
   ]
  },
  {
   "cell_type": "code",
   "execution_count": 36,
   "id": "86ca7290-a05e-4cdf-a13c-0865557d7c3d",
   "metadata": {},
   "outputs": [],
   "source": [
    "# Set the wind speed and direction\n",
    "case.setAMRWindInput('useWSDir', True)                           # Allows you to specify wind speed + wind direction \n",
    "case.setAMRWindInput('ABL_windspeed', WS, forcechange=True)     # Wind speed of 9 m/s\n",
    "case.setAMRWindInput('ABL_winddir',   WDir, forcechange=True)     # Wind direction of 175 degrees\n",
    "case.ABL_calculateWindVector()"
   ]
  },
  {
   "cell_type": "code",
   "execution_count": 37,
   "id": "54112257-73f0-4d18-9320-0df2febb6933",
   "metadata": {},
   "outputs": [
    {
     "name": "stdout",
     "output_type": "stream",
     "text": [
      "CANNOT update: ABLMeanBoussinesq use forcechange=True in setval()\n"
     ]
    }
   ],
   "source": [
    "# Now set up ABL specific forces, parameters, etc.\n",
    "case.setAMRWindInput('ICNS.source_terms',     ['ABLForcing','BoussinesqBuoyancy', 'CoriolisForcing', 'ABLMeanBoussinesq'])"
   ]
  },
  {
   "cell_type": "code",
   "execution_count": 38,
   "id": "82d7e1e4-23f1-4d0b-92f5-a0c0b23cf0f8",
   "metadata": {},
   "outputs": [],
   "source": [
    "# This cell sets up boundary conditions\n",
    "case.setAMRWindInput('is_periodicx', True)     # periodic in x\n",
    "case.setAMRWindInput('is_periodicy', True)     # periodic in y\n",
    "case.setAMRWindInput('is_periodicz', False)    # Enforce some boundary conditions in z\n",
    "\n",
    "# Boundary conditions in z\n",
    "case.setAMRWindInput('zlo.type',              'wall_model')          \n",
    "case.setAMRWindInput('zlo.temperature_type',  'wall_model')          \n",
    "case.setAMRWindInput('zlo.tke_type',          'zero_gradient')       \n",
    "case.setAMRWindInput('zhi.type',              'slip_wall')           \n",
    "case.setAMRWindInput('zhi.temperature_type',  'fixed_gradient')      \n",
    "case.setAMRWindInput('zhi.temperature',       0.00125) "
   ]
  },
  {
   "cell_type": "code",
   "execution_count": 39,
   "id": "ffeda429-83bc-4d01-957b-026725897c8c",
   "metadata": {},
   "outputs": [],
   "source": [
    "case.setAMRWindInput('ABL.stats_output_frequency',   1)           # Output ABL stats every iteration            \n",
    "case.setAMRWindInput('ABL.stats_output_format',   'netcdf')       # Use netcdf output because that's how we postprocess\n",
    "\n",
    "case.setAMRWindInput('incflo.velocity',     [0.0, 10.0, 0.0])    # Already taken care of\n",
    "case.setAMRWindInput('ABLForcing.abl_forcing_height',   91)       # Hub height wind speed you want specify \n",
    "case.setAMRWindInput('ABL.kappa',                       0.4)      # Kolmogorov constant\n",
    "\n",
    "case.setAMRWindInput('ABL.normal_direction',      2)              # vertical is in z\n",
    "case.setAMRWindInput('ABL.surface_roughness_z0',  0.1)            # Surface roughess, SOMETHING WE WILL PROBABLY WANT TO ITERATE ON\n",
    "case.setAMRWindInput('ABL.reference_temperature', 303.803)        # Correspond to what was measured at ARM\n",
    "case.setAMRWindInput('ABL.surface_temp_rate',     -0.07)          # d(Temperature)/dt ---> set this to zero for unstable ABL\n",
    "case.setAMRWindInput('ABL.surface_temp_flux',     None)           # Surface temperature flux (K*m/s) --> Use this for unstable ABL's (ITERATE ON THIS TOO)\n",
    "\n",
    "# Monin-Obukhov parameters (No need to change)\n",
    "case.setAMRWindInput('ABL.mo_beta_m',             16.0)\n",
    "case.setAMRWindInput('ABL.mo_gamma_m',            5.0)\n",
    "case.setAMRWindInput('ABL.mo_gamma_h',            5.0)\n",
    "case.setAMRWindInput('ABL.random_gauss_mean',     0.0)\n",
    "case.setAMRWindInput('ABL.random_gauss_var',      1.0)"
   ]
  },
  {
   "cell_type": "code",
   "execution_count": 40,
   "id": "105cdb5d-01a7-484f-aff7-d15796cd8e2f",
   "metadata": {},
   "outputs": [],
   "source": [
    "case.setAMRWindInput('CoriolisForcing.latitude',  36.57236455833334 )        # Sets up the latitude of the site\n",
    "case.setAMRWindInput('BoussinesqBuoyancy.reference_temperature', 303.803)    # The reference temperature\n",
    "\n",
    "# These inputs set up the initial temperature profile (Same as Nalu-Wind temperature profile)\n",
    "case.setAMRWindInput('ABL.temperature_heights', '0       500.0  600.0    960.0')\n",
    "case.setAMRWindInput('ABL.temperature_values',  '305.803 305.803 313.803 314.253')"
   ]
  },
  {
   "cell_type": "code",
   "execution_count": 41,
   "id": "b3af6d18-b177-4491-a927-c6d291af57f2",
   "metadata": {},
   "outputs": [],
   "source": [
    "# This is a case where we don't want to use the defaults in amrwind-frontend\n",
    "case.setAMRWindInput('ABL.perturb_ref_height', 50.0)\n",
    "case.setAMRWindInput('ABL.Uperiods', 4.0)\n",
    "case.setAMRWindInput('ABL.Vperiods', 4.0)\n",
    "case.setAMRWindInput('ABL.deltaU',   1.0)\n",
    "case.setAMRWindInput('ABL.deltaV',   1.0)\n",
    "case.setAMRWindInput('ABL.theta_amplitude',   None)\n",
    "case.setAMRWindInput('ABL.cutoff_height',   None)\n",
    "case.setAMRWindInput('ABL.perturb_velocity', True)\n",
    "case.setAMRWindInput('ABL.perturb_temperature', False)"
   ]
  },
  {
   "cell_type": "code",
   "execution_count": 42,
   "id": "7d7dbaea-9ec5-4e17-bac5-1648cc5d028c",
   "metadata": {},
   "outputs": [],
   "source": [
    "case.extradictparams['amr.blocking_factor'] = 16 \n",
    "case.extradictparams['amr.max_grid_size']   = 64 "
   ]
  },
  {
   "cell_type": "code",
   "execution_count": null,
   "id": "b302f3af-2f66-42c1-b7a9-69d15a7cd66d",
   "metadata": {},
   "outputs": [],
   "source": []
  },
  {
   "cell_type": "code",
   "execution_count": 43,
   "id": "b10731be-368d-4992-a9cb-704bd9271883",
   "metadata": {},
   "outputs": [
    {
     "name": "stdout",
     "output_type": "stream",
     "text": [
      "-- Checking inputs --\n",
      "[ PASS] max_level:           max_level = 2 >= 0\n",
      "[ PASS] dt & CFL:            DT and CFL OK\n",
      "[ FAIL] restart dir:         Restart directory  does not exist\n",
      "[ SKIP] boundary plane dir:  ABL.bndry_io_mode is not 1\n",
      "[ PASS] Actuator physics:    incflo.physics and ICNS.source_terms OK for Actuators\n",
      "[ SKIP] Actuator FST:        No Actuators\n",
      "[ SKIP] Sampling probes:     Not active or no sampling planes\n",
      "\n",
      "Results: \n",
      " 3 PASS\n",
      " 3 SKIP\n",
      " 1 FAIL\n",
      " 0 WARN\n"
     ]
    }
   ],
   "source": [
    "# Check that all inputs are okay\n",
    "check=case.validate()"
   ]
  },
  {
   "cell_type": "code",
   "execution_count": 44,
   "id": "8928bf88-5b8c-411c-bddc-ae086bd67447",
   "metadata": {},
   "outputs": [],
   "source": [
    "# Write the input file\n",
    "precursorinputfile = 'Ken_MMC_domain1.inp'\n",
    "#print(case.writeAMRWindInput(precursorinputfile))"
   ]
  },
  {
   "cell_type": "code",
   "execution_count": null,
   "id": "9e58df8e-20c8-4e20-acda-270c97783d7b",
   "metadata": {},
   "outputs": [],
   "source": []
  }
 ],
 "metadata": {
  "kernelspec": {
   "display_name": "Python 3 (ipykernel)",
   "language": "python",
   "name": "python3"
  },
  "language_info": {
   "codemirror_mode": {
    "name": "ipython",
    "version": 3
   },
   "file_extension": ".py",
   "mimetype": "text/x-python",
   "name": "python",
   "nbconvert_exporter": "python",
   "pygments_lexer": "ipython3",
   "version": "3.9.13"
  }
 },
 "nbformat": 4,
 "nbformat_minor": 5
}
