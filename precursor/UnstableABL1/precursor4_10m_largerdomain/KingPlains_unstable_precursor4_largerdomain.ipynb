{
 "cells": [
  {
   "cell_type": "markdown",
   "metadata": {},
   "source": [
    "# Set up of King Plains unstable case for AMR-Wind"
   ]
  },
  {
   "cell_type": "code",
   "execution_count": 1,
   "metadata": {},
   "outputs": [
    {
     "name": "stderr",
     "output_type": "stream",
     "text": [
      "/projects/wind_uq/lcheung/naluhelperscripts/venv/lib/python2.7/site-packages/subprocess32.py:149: RuntimeWarning: The _posixsubprocess module is not being used. Child process reliability may suffer if your program uses threads.\n",
      "  \"program uses threads.\", RuntimeWarning)\n"
     ]
    }
   ],
   "source": [
    "# Load the modules\n",
    "amrwindfedir = '/projects/wind_uq/lcheung/amrwind-frontend/'  # where amrwind-frontend resides\n",
    "import sys, os\n",
    "sys.path.insert(1, amrwindfedir)\n",
    "\n",
    "# Load the libraries\n",
    "import amrwind_frontend as amrwind\n",
    "import matplotlib.pyplot    as plt\n",
    "\n",
    "# Also ignore warnings\n",
    "import warnings\n",
    "warnings.filterwarnings('ignore')\n",
    "\n",
    "# Make all plots inline \n",
    "%matplotlib inline"
   ]
  },
  {
   "cell_type": "code",
   "execution_count": 2,
   "metadata": {},
   "outputs": [],
   "source": [
    "# Start the case\n",
    "case = amrwind.MyApp.init_nogui()"
   ]
  },
  {
   "cell_type": "code",
   "execution_count": 3,
   "metadata": {},
   "outputs": [],
   "source": [
    "# Set the time constants\n",
    "case.setAMRWindInput('time.stop_time', 20000.0)\n",
    "case.setAMRWindInput('time.max_step',  40000)\n",
    "\n",
    "case.setAMRWindInput('time.fixed_dt',  0.5)\n",
    "case.setAMRWindInput('time.checkpoint_interval',  2000)"
   ]
  },
  {
   "cell_type": "code",
   "execution_count": 4,
   "metadata": {},
   "outputs": [],
   "source": [
    "# Set some basic parameters\n",
    "case.setAMRWindInput('incflo.physics',      ['ABL'])  # Must have ABL physics to do ABL calculations\n",
    "case.setAMRWindInput('incflo.verbose',      3)        # This is optional, verbose=3 means more info in the output logs\n",
    "case.setAMRWindInput('io.check_file',       'chk')    # What to name the checkpoint files\n",
    "\n",
    "case.setAMRWindInput('incflo.use_godunov',  True)       # Always use a godunov scheme\n",
    "case.setAMRWindInput('incflo.godunov_type', 'weno_z')   # Use 'weno_z' \n",
    "\n",
    "case.setAMRWindInput('turbulence.model',    ['OneEqKsgsM84'])    # One equation k-sgs subgrid scale model\n",
    "case.setAMRWindInput('TKE.source_terms',    ['KsgsM84Src'])      # The corresponding source term\n",
    "\n",
    "case.setAMRWindInput('transport.viscosity', 1.853e-05)           # viscosity\n",
    "case.setAMRWindInput('incflo.density',      1.17)                # density"
   ]
  },
  {
   "cell_type": "code",
   "execution_count": 5,
   "metadata": {},
   "outputs": [],
   "source": [
    "# Set the wind speed and direction\n",
    "case.setAMRWindInput('useWSDir', True)                           # Allows you to specify wind speed + wind direction \n",
    "case.setAMRWindInput('ABL_windspeed', 9.0, forcechange=True)     # Wind speed of 9 m/s\n",
    "case.setAMRWindInput('ABL_winddir',   175, forcechange=True)     # Wind direction of 175 degrees\n",
    "case.ABL_calculateWindVector()"
   ]
  },
  {
   "cell_type": "code",
   "execution_count": 6,
   "metadata": {},
   "outputs": [],
   "source": [
    "# Set some tolerances (leave this alone)\n",
    "tols = \"\"\"\n",
    "nodal_proj.mg_rtol                       = 1e-06               \n",
    "nodal_proj.mg_atol                       = 1e-12               \n",
    "mac_proj.mg_rtol                         = 1e-06               \n",
    "mac_proj.mg_atol                         = 1e-12               \n",
    "diffusion.mg_rtol                        = 1e-06               \n",
    "diffusion.mg_atol                        = 1e-12               \n",
    "temperature_diffusion.mg_rtol            = 1e-10               \n",
    "temperature_diffusion.mg_atol            = 1e-13               \n",
    "\"\"\"\n",
    "case.loadAMRWindInput(tols, string=True);"
   ]
  },
  {
   "cell_type": "code",
   "execution_count": 7,
   "metadata": {},
   "outputs": [],
   "source": [
    "# Sets up the domain and level 0 mesh\n",
    "case.setAMRWindInput('geometry.prob_lo', [   0.0,    0.0, 0.0 ])\n",
    "case.setAMRWindInput('geometry.prob_hi', [10240.0, 10240.0, 2560.0])  # each number must be divisible by 16\n",
    "case.setAMRWindInput('amr.n_cell',       [512,    512,    128])      # This will make a level 0 mesh that is 20m x 20m x 20m"
   ]
  },
  {
   "cell_type": "code",
   "execution_count": 8,
   "metadata": {},
   "outputs": [],
   "source": [
    "# This cell sets up boundary conditions\n",
    "case.setAMRWindInput('is_periodicx', True)     # periodic in x\n",
    "case.setAMRWindInput('is_periodicy', True)     # periodic in y\n",
    "case.setAMRWindInput('is_periodicz', False)    # Enforce some boundary conditions in z\n",
    "\n",
    "# Boundary conditions in z\n",
    "case.setAMRWindInput('zlo.type',              'wall_model')          \n",
    "case.setAMRWindInput('zlo.temperature_type',  'wall_model')          \n",
    "case.setAMRWindInput('zlo.tke_type',          'zero_gradient')       \n",
    "case.setAMRWindInput('zhi.type',              'slip_wall')           \n",
    "case.setAMRWindInput('zhi.temperature_type',  'fixed_gradient')      \n",
    "case.setAMRWindInput('zhi.temperature',       0.003) "
   ]
  },
  {
   "cell_type": "code",
   "execution_count": 9,
   "metadata": {
    "jupyter": {
     "outputs_hidden": false
    }
   },
   "outputs": [
    {
     "name": "stdout",
     "output_type": "stream",
     "text": [
      "CANNOT update: ABLMeanBoussinesq use forcechange=True in setval()\n"
     ]
    }
   ],
   "source": [
    "# Now set up ABL specific forces, parameters, etc.\n",
    "case.setAMRWindInput('ICNS.source_terms',     ['ABLForcing','BoussinesqBuoyancy', 'CoriolisForcing'])\n",
    "\n",
    "case.setAMRWindInput('ABL.stats_output_frequency',   1)           # Output ABL stats every iteration            \n",
    "case.setAMRWindInput('ABL.stats_output_format',   'netcdf')       # Use netcdf output because that's how we postprocess\n",
    "\n",
    "#case.setAMRWindInput('incflo.velocity',     [8.69, 0.0, 0.0])    # Already taken care of\n",
    "case.setAMRWindInput('ABLForcing.abl_forcing_height',   91)       # Hub height wind speed you want specify \n",
    "case.setAMRWindInput('ABL.kappa',                       0.4)      # Kolmogorov constant\n",
    "\n",
    "case.setAMRWindInput('ABL.normal_direction',      2)              # vertical is in z\n",
    "case.setAMRWindInput('ABL.surface_roughness_z0',  0.15)           # Surface roughess, SOMETHING WE WILL PROBABLY WANT TO ITERATE ON\n",
    "case.setAMRWindInput('ABL.reference_temperature', 303.803)        # Correspond to what was measured at ARM\n",
    "case.setAMRWindInput('ABL.surface_temp_rate',     0.0)            # d(Temperature)/dt ---> set this to zero for unstable ABL\n",
    "case.setAMRWindInput('ABL.surface_temp_flux',     0.0442)          # Surface temperature flux (K*m/s) --> Use this for unstable ABL's (ITERATE ON THIS TOO)\n",
    "\n",
    "# Monin-Obukhov parameters (No need to change)\n",
    "case.setAMRWindInput('ABL.mo_beta_m',             16.0)\n",
    "case.setAMRWindInput('ABL.mo_gamma_m',            5.0)\n",
    "case.setAMRWindInput('ABL.mo_gamma_h',            5.0)\n",
    "case.setAMRWindInput('ABL.random_gauss_mean',     0.0)\n",
    "case.setAMRWindInput('ABL.random_gauss_var',      1.0)"
   ]
  },
  {
   "cell_type": "code",
   "execution_count": 10,
   "metadata": {},
   "outputs": [],
   "source": [
    "case.setAMRWindInput('CoriolisForcing.latitude',  36.57236455833334 )        # Sets up the latitude of the site\n",
    "case.setAMRWindInput('BoussinesqBuoyancy.reference_temperature', 303.803)    # The reference temperature\n",
    "\n",
    "# These inputs set up the initial temperature profile (Same as Nalu-Wind temperature profile)\n",
    "case.setAMRWindInput('ABL.temperature_heights', '0       1400.0  1500.0  2500.0')\n",
    "case.setAMRWindInput('ABL.temperature_values',  '305.803 305.803 313.803 314.553')"
   ]
  },
  {
   "cell_type": "code",
   "execution_count": 11,
   "metadata": {},
   "outputs": [],
   "source": [
    "# This is a case where we don't want to use the defaults in amrwind-frontend\n",
    "case.setAMRWindInput('ABL.perturb_ref_height', 50.0)\n",
    "case.setAMRWindInput('ABL.Uperiods', 4.0)\n",
    "case.setAMRWindInput('ABL.Vperiods', 4.0)\n",
    "case.setAMRWindInput('ABL.deltaU',   1.0)\n",
    "case.setAMRWindInput('ABL.deltaV',   1.0)\n",
    "case.setAMRWindInput('ABL.theta_amplitude',   None)\n",
    "case.setAMRWindInput('ABL.cutoff_height',   None)"
   ]
  },
  {
   "cell_type": "code",
   "execution_count": 12,
   "metadata": {},
   "outputs": [],
   "source": [
    "# To set up the sampling output\n",
    "case.setAMRWindInput('time.plot_interval',        2000)   # Output full domain plot fields every 2,000 iterations/1,000 seconds\n",
    "\n",
    "# Set up some sampling planes\n",
    "case.setAMRWindInput('incflo.post_processing',    ['sampling'])            \n",
    "case.setAMRWindInput('sampling.output_frequency', 1000)         # Output sampling planes every 1000 iterations/500 secs        \n",
    "case.setAMRWindInput('sampling.fields',           ['velocity', 'temperature'])"
   ]
  },
  {
   "cell_type": "code",
   "execution_count": 13,
   "metadata": {},
   "outputs": [],
   "source": [
    "sampleplane = case.get_default_samplingdict()\n",
    "# Set up a sampling plane at two heights: z=60m and z=91m\n",
    "sampleplane['sampling_name']         = 'p_hub'\n",
    "sampleplane['sampling_type']         = 'PlaneSampler'\n",
    "sampleplane['sampling_p_num_points'] = [321, 321]\n",
    "sampleplane['sampling_p_origin']     = [0, 0, 0]\n",
    "sampleplane['sampling_p_axis1']      = [10240, 0, 0]\n",
    "sampleplane['sampling_p_axis2']      = [0, 10240, 0]\n",
    "sampleplane['sampling_p_normal']     = [0, 0, 1]      # This is the direction I want to move/offset the planes\n",
    "sampleplane['sampling_p_offsets']    = '60 91'        # This is how much to offset the planes\n",
    "case.add_sampling(sampleplane)"
   ]
  },
  {
   "cell_type": "code",
   "execution_count": 14,
   "metadata": {},
   "outputs": [],
   "source": [
    "refinementcsv=\"\"\"\n",
    "# CSV file should have columns with\n",
    "# level, upstream, downstream, lateral, below, above, options\n",
    "level, upstream, downstream, lateral, below, above, options\n",
    "0,     3000,       3000,         3000,       91,     409,     center:specified units:meter centerx:5000 centery:5000 centerz:91 name:A\n",
    "\"\"\"\n",
    "case.setAMRWindInput('refine_csvtextbox', refinementcsv)\n",
    "case.setAMRWindInput('refine_deleteprev', True)"
   ]
  },
  {
   "cell_type": "code",
   "execution_count": 15,
   "metadata": {},
   "outputs": [
    {
     "name": "stdout",
     "output_type": "stream",
     "text": [
      "['A']\n"
     ]
    }
   ],
   "source": [
    "case.refine_createAllZones()\n",
    "# Print out existing list of turbines\n",
    "print(case.listboxpopupwindict['listboxtagging'].getitemlist())"
   ]
  },
  {
   "cell_type": "markdown",
   "metadata": {},
   "source": [
    "## Plot the domain"
   ]
  },
  {
   "cell_type": "code",
   "execution_count": 16,
   "metadata": {
    "jupyter": {
     "outputs_hidden": false
    }
   },
   "outputs": [
    {
     "data": {
      "image/png": "[encoded data removed]",
      "text/plain": [
       "<Figure size 750x750 with 1 Axes>"
      ]
     },
     "metadata": {},
     "output_type": "display_data"
    }
   ],
   "source": [
    "fig, ax = plt.subplots(figsize=(6,6), facecolor='w', dpi=125)\n",
    "\n",
    "# Set any additional items to plot\n",
    "case.popup_storteddata['plotdomain']['plot_refineboxes']     = case.listboxpopupwindict['listboxtagging'].getitemlist()\n",
    "#case.popup_storteddata['plotdomain']['plot_sampleprobes']    = ['p_hub']\n",
    "case.plotDomain(ax=ax)"
   ]
  },
  {
   "cell_type": "code",
   "execution_count": 17,
   "metadata": {
    "jupyter": {
     "outputs_hidden": false
    }
   },
   "outputs": [
    {
     "data": {
      "text/plain": [
       "Text(0.5,1,'Initial Temp. Profile')"
      ]
     },
     "execution_count": 17,
     "metadata": {},
     "output_type": "execute_result"
    },
    {
     "data": {
      "image/png": "[encoded data removed]",
      "text/plain": [
       "<Figure size 750x625 with 2 Axes>"
      ]
     },
     "metadata": {},
     "output_type": "display_data"
    }
   ],
   "source": [
    "fig, axs = plt.subplots(1,2, figsize=(6,5), facecolor='w', dpi=125, sharey=True)\n",
    "\n",
    "# Set any additional items to plot\n",
    "case.popup_storteddata['plotdomain']['plot_refineboxes']     = case.listboxpopupwindict['listboxtagging'].getitemlist()\n",
    "case.popup_storteddata['plotdomain']['plot_sampleprobes']    = ['p_hub']\n",
    "case.popup_storteddata['plotdomain']['plot_chooseview']      = 'XZ' \n",
    "#case.popup_storteddata['plotdomain']['plot_refineboxes']     = ['box1', 'box2', 'box3'] \n",
    "case.plotDomain(ax=axs[0])\n",
    "axs[0].set_title('Domain resolution')\n",
    "axs[0].axis('auto')\n",
    "axs[0].set_ylim([0,2500])\n",
    "\n",
    "case.plotGenericProfile('ABL.temperature_values', 'ABL.temperature_heights', ax=axs[1])\n",
    "axs[1].set_ylim([0,2500])\n",
    "#axs[1].axis('scaled')\n",
    "axs[1].set_xlabel('Temperature [K]')\n",
    "axs[1].set_title('Initial Temp. Profile')"
   ]
  },
  {
   "cell_type": "code",
   "execution_count": 18,
   "metadata": {
    "jupyter": {
     "outputs_hidden": false
    }
   },
   "outputs": [
    {
     "name": "stdout",
     "output_type": "stream",
     "text": [
      "Refinement A: level 1: 18000000 cells\n",
      "ESTIMATED MESH SIZE\n",
      "   Level       Ncells                      Cell Size\n",
      "       0     33554432             20.0 x 20.0 x 20.0\n",
      "       1     18000000             10.0 x 10.0 x 10.0\n",
      "  TOTAL:     51554432\n"
     ]
    }
   ],
   "source": [
    "# This will print out your mesh size & refinements\n",
    "case.estimateMeshSize()"
   ]
  },
  {
   "cell_type": "code",
   "execution_count": 19,
   "metadata": {
    "jupyter": {
     "outputs_hidden": false
    }
   },
   "outputs": [
    {
     "name": "stdout",
     "output_type": "stream",
     "text": [
      "-- Checking inputs --\n",
      "[ PASS] max_level:           max_level = 1 >= 0\n",
      "[ PASS] dt & CFL:            DT and CFL OK\n",
      "[ PASS] Actuator physics:    incflo.physics and ICNS.source_terms OK for Actuators\n",
      "[ SKIP] Actuator FST:        No Actuators\n",
      "[ PASS] Sampling probes:p_hub \n",
      "\n",
      "Results: \n",
      " 4 PASS\n",
      " 1 SKIP\n",
      " 0 FAIL\n",
      " 0 WARN\n"
     ]
    }
   ],
   "source": [
    "# Check that all inputs are okay\n",
    "check=case.validate()"
   ]
  },
  {
   "cell_type": "code",
   "execution_count": 20,
   "metadata": {
    "jupyter": {
     "outputs_hidden": false
    }
   },
   "outputs": [
    {
     "name": "stdout",
     "output_type": "stream",
     "text": [
      "# --- Simulation time control parameters ---\n",
      "time.stop_time                           = 20000.0             # Max (simulated) time to evolve [s]\n",
      "time.max_step                            = 40000               \n",
      "time.fixed_dt                            = 0.5                 # Fixed timestep size (in seconds). If negative, then time.cfl is used\n",
      "time.checkpoint_interval                 = 2000                \n",
      "incflo.physics                           = ABL                 # List of physics models to include in simulation.\n",
      "incflo.verbose                           = 3                   \n",
      "io.check_file                            = chk                 \n",
      "incflo.use_godunov                       = true                \n",
      "incflo.godunov_type                      = weno_z              \n",
      "turbulence.model                         = OneEqKsgsM84        \n",
      "TKE.source_terms                         = KsgsM84Src          \n",
      "nodal_proj.mg_rtol                       = 1e-06               \n",
      "nodal_proj.mg_atol                       = 1e-12               \n",
      "mac_proj.mg_rtol                         = 1e-06               \n",
      "mac_proj.mg_atol                         = 1e-12               \n",
      "diffusion.mg_rtol                        = 1e-06               \n",
      "diffusion.mg_atol                        = 1e-12               \n",
      "temperature_diffusion.mg_rtol            = 1e-10               \n",
      "temperature_diffusion.mg_atol            = 1e-13               \n",
      "incflo.gravity                           = 0.0 0.0 -9.81       # Gravitational acceleration vector (x,y,z) [m/s^2]\n",
      "incflo.density                           = 1.17                # Fluid density [kg/m^3]\n",
      "transport.viscosity                      = 1.853e-05           # Fluid dynamic viscosity [kg/m-s]\n",
      "transport.laminar_prandtl                = 0.7                 # Laminar prandtl number\n",
      "transport.turbulent_prandtl              = 0.3333              # Turbulent prandtl number\n",
      "\n",
      "# --- Geometry and Mesh ---\n",
      "geometry.prob_lo                         = 0.0 0.0 0.0         \n",
      "geometry.prob_hi                         = 10240.0 10240.0 2560.0\n",
      "amr.n_cell                               = 512 512 128         # Number of cells in x, y, and z directions\n",
      "amr.max_level                            = 1                   \n",
      "geometry.is_periodic                     = 1 1 0               \n",
      "zlo.type                                 = wall_model          \n",
      "zlo.temperature_type                     = wall_model          \n",
      "zlo.tke_type                             = zero_gradient       \n",
      "zhi.type                                 = slip_wall           \n",
      "zhi.temperature_type                     = fixed_gradient      \n",
      "zhi.temperature                          = 0.003               \n",
      "\n",
      "# --- ABL parameters ---\n",
      "ICNS.source_terms                        = ABLForcing BoussinesqBuoyancy CoriolisForcing   \n",
      "ABL.stats_output_frequency               = 1                   \n",
      "ABL.stats_output_format                  = netcdf              \n",
      "incflo.velocity                          = -0.784401684729 8.96575228283 0.0\n",
      "ABLForcing.abl_forcing_height            = 91.0                \n",
      "ABL.kappa                                = 0.4                 \n",
      "ABL.normal_direction                     = 2                   \n",
      "ABL.surface_roughness_z0                 = 0.15                \n",
      "ABL.reference_temperature                = 303.803             \n",
      "ABL.surface_temp_rate                    = 0.0                 \n",
      "ABL.surface_temp_flux                    = 0.0442              # Surface temperature flux [K-m/s]\n",
      "ABL.mo_beta_m                            = 16.0                # Monin-Obukhov Beta m parameter\n",
      "ABL.mo_gamma_m                           = 5.0                 # Monin-Obukhov Gamma m parameter\n",
      "ABL.mo_gamma_h                           = 5.0                 # Monin-Obukhov Gamma h parameter\n",
      "ABL.random_gauss_mean                    = 0.0                 \n",
      "ABL.random_gauss_var                     = 1.0                 \n",
      "CoriolisForcing.latitude                 = 36.5723645583       \n",
      "CoriolisForcing.rotational_time_period   = 86164.0900027       \n",
      "CoriolisForcing.north_vector             = 0.0 1.0 0.0         \n",
      "CoriolisForcing.east_vector              = 1.0 0.0 0.0         \n",
      "BoussinesqBuoyancy.reference_temperature = 303.803             \n",
      "ABL.temperature_heights                  = 0       1400.0  1500.0  2500.0\n",
      "ABL.temperature_values                   = 305.803 305.803 313.803 314.553\n",
      "ABL.perturb_velocity                     = false               \n",
      "ABL.perturb_ref_height                   = 50.0                \n",
      "ABL.Uperiods                             = 4.0                 \n",
      "ABL.Vperiods                             = 4.0                 \n",
      "ABL.deltaU                               = 1.0                 \n",
      "ABL.deltaV                               = 1.0                 \n",
      "ABL.perturb_temperature                  = false               \n",
      "time.plot_interval                       = 2000                \n",
      "io.plot_file                             = plt                 \n",
      "io.KE_int                                = -1                  \n",
      "incflo.post_processing                   = sampling            \n",
      "\n",
      "# --- Sampling parameters ---\n",
      "sampling.output_frequency                = 1000                \n",
      "sampling.fields                          = velocity temperature\n",
      "\n",
      "#---- sample defs ----\n",
      "sampling.labels                          = p_hub               \n",
      "sampling.p_hub.type                      = PlaneSampler        \n",
      "sampling.p_hub.num_points                = 321 321             \n",
      "sampling.p_hub.origin                    = 0.0 0.0 0.0         \n",
      "sampling.p_hub.axis1                     = 10240.0 0.0 0.0     \n",
      "sampling.p_hub.axis2                     = 0.0 10240.0 0.0     \n",
      "sampling.p_hub.normal                    = 0.0 0.0 1.0         \n",
      "sampling.p_hub.offsets                   = 60 91               \n",
      "\n",
      "#---- tagging defs ----\n",
      "tagging.labels                           = A                   \n",
      "tagging.A.type                           = GeometryRefinement  \n",
      "tagging.A.shapes                         = A                   \n",
      "tagging.A.level                          = 0                   \n",
      "tagging.A.A.type                         = box                 \n",
      "tagging.A.A.origin                       = 8250.05132252 2272.88313397 0.0\n",
      "tagging.A.A.xaxis                        = -522.934456486 5977.16818855 0.0\n",
      "tagging.A.A.yaxis                        = -5977.16818855 -522.934456486 0.0\n",
      "tagging.A.A.zaxis                        = 0.0 0.0 500.0       \n",
      "\n",
      "#---- extra params ----\n",
      "#== END AMR-WIND INPUT ==\n",
      "\n"
     ]
    }
   ],
   "source": [
    "# Write the input file\n",
    "print(case.writeAMRWindInput('KingPlains_unstable_precursor4_largerdomain.inp'))"
   ]
  },
  {
   "cell_type": "markdown",
   "metadata": {},
   "source": [
    "## Write a submission file (optional step)"
   ]
  },
  {
   "cell_type": "code",
   "execution_count": 21,
   "metadata": {},
   "outputs": [],
   "source": [
    "# Set some of the submission script parameters\n",
    "case.popup_storteddata['submitscript']['submitscript_numnodes'] = 32           \n",
    "case.popup_storteddata['submitscript']['submitscript_runtime']  = '48:00:00'   # 48 hours\n",
    "case.popup_storteddata['submitscript']['submitscript_wcid']     = 'fy210193'   # AWAKEN WCID\n",
    "case.popup_storteddata['submitscript']['submitscript_partition']= 'batch'\n",
    "case.popup_storteddata['submitscript']['submitscript_corespernode'] = 16       # 16 cores/node\n",
    "case.popup_storteddata['submitscript']['submitscript_queue']    = 'normal'\n",
    "case.popup_storteddata['submitscript']['submitscript_jobname']  = 'ABL1'       # name of the job\n",
    "\n",
    "case.popup_storteddata['submitscript']['submitscript_filename'] = 'submit.sh'  # The name of your submission"
   ]
  },
  {
   "cell_type": "code",
   "execution_count": 22,
   "metadata": {
    "jupyter": {
     "outputs_hidden": false
    }
   },
   "outputs": [
    {
     "name": "stdout",
     "output_type": "stream",
     "text": [
      "#!/bin/bash\n",
      "#SBATCH --nodes=32\n",
      "#SBATCH --time=48:00:00        # Wall clock time (HH:MM:SS) - once the job exceeds this time, the job will be terminated (default is 5 minutes)\n",
      "#SBATCH --account=fy210193        # WC ID\n",
      "#SBATCH --job-name=ABL1    # Name of job\n",
      "#SBATCH --partition=batch # partition/queue name: short or batch\n",
      "#SBATCH --qos=normal           # Quality of Service: long, large, priority or normal \n",
      "# Number of nodes - the number of nodes you have requested (for a list of SLURM environment variables see \"man sbatch\")\n",
      "export nodes=$SLURM_JOB_NUM_NODES\n",
      "\n",
      "module purge; module load cde/v1/compiler/gcc/7.2.0 cde/v1/gcc/7.2.0/openmpi/3.1.6 cde/v1/gcc/7.2.0/hdf5 cde/v1/gcc/7.2.0/netcdf-c/4.7.3 cde/v1/cmake/3.17.1\n",
      "\n",
      "# Number MPI processes to run on each node (a.k.a. PPN)\n",
      "# CTS1 has 36 cores per node and Ghost\n",
      "#Chama has 16 cores per node\n",
      "export cores=16\n",
      "export ncpus=$((nodes * cores))\n",
      "export OMP_PROC_BIND=spread \n",
      "export OMP_PLACES=threads\n",
      "\n",
      "mpiexec --bind-to core --npernode $cores --n $ncpus /projects/wind_uq/lcheung/AMRWindBuilds/awaken.20221021/amr-wind.lcheung/build/amr_wind KingPlains_unstable_precursor4_largerdomain.inp\n",
      "    \n",
      "\n"
     ]
    }
   ],
   "source": [
    "# Preview what the submission script looks like\n",
    "print(case.submitscript_makescript(case.savefile))"
   ]
  },
  {
   "cell_type": "code",
   "execution_count": 23,
   "metadata": {
    "jupyter": {
     "outputs_hidden": false
    }
   },
   "outputs": [
    {
     "name": "stdout",
     "output_type": "stream",
     "text": [
      "Saved submit.sh\n"
     ]
    }
   ],
   "source": [
    "# This will write out submit.sh (and not submit)\n",
    "case.submitscript_savescript(submit=False)"
   ]
  },
  {
   "cell_type": "code",
   "execution_count": null,
   "metadata": {
    "jupyter": {
     "outputs_hidden": true
    }
   },
   "outputs": [],
   "source": []
  },
  {
   "cell_type": "code",
   "execution_count": null,
   "metadata": {},
   "outputs": [],
   "source": []
  }
 ],
 "metadata": {
  "kernelspec": {
   "display_name": "Python 2",
   "language": "python",
   "name": "python2"
  },
  "language_info": {
   "codemirror_mode": {
    "name": "ipython",
    "version": 2
   },
   "file_extension": ".py",
   "mimetype": "text/x-python",
   "name": "python",
   "nbconvert_exporter": "python",
   "pygments_lexer": "ipython2",
   "version": "2.7.5"
  }
 },
 "nbformat": 4,
 "nbformat_minor": 4
}
