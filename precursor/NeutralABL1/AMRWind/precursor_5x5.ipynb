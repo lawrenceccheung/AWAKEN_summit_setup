{
 "cells": [
  {
   "cell_type": "markdown",
   "metadata": {},
   "source": [
    "# Set up of AWAKEN neutral case for AMR-Wind"
   ]
  },
  {
   "cell_type": "code",
   "execution_count": 1,
   "metadata": {},
   "outputs": [
    {
     "name": "stderr",
     "output_type": "stream",
     "text": [
      "/projects/netpub/anaconda3/2022.05/lib/python3.9/site-packages/scipy/__init__.py:146: UserWarning: A NumPy version >=1.16.5 and <1.23.0 is required for this version of SciPy (detected version 1.23.5\n",
      "  warnings.warn(f\"A NumPy version >={np_minversion} and <{np_maxversion}\"\n"
     ]
    }
   ],
   "source": [
    "# Load the modules\n",
    "# Add any possible locations of amr-wind-frontend here\n",
    "amrwindfedirs = ['/ascldap/users/lcheung/wind_uq/amrwind-frontend/',\n",
    "                 '/ccs/proj/cfd162/lcheung/amrwind-frontend/']\n",
    "import sys, os, shutil\n",
    "for x in amrwindfedirs: sys.path.insert(1, x)\n",
    "\n",
    "# Load the libraries\n",
    "import amrwind_frontend as amrwind\n",
    "import matplotlib.pyplot    as plt\n",
    "\n",
    "# Also ignore warnings\n",
    "import warnings\n",
    "warnings.filterwarnings('ignore')\n",
    "\n",
    "# Make all plots inline \n",
    "%matplotlib inline"
   ]
  },
  {
   "cell_type": "code",
   "execution_count": 2,
   "metadata": {},
   "outputs": [],
   "source": [
    "# Start the case\n",
    "case = amrwind.MyApp.init_nogui()"
   ]
  },
  {
   "cell_type": "code",
   "execution_count": 3,
   "metadata": {},
   "outputs": [],
   "source": [
    "turbinetype = case.get_default_turbinetypedict()\n",
    "\n",
    "turbinetype['turbinetype_name'] = 'GE127Temp'\n",
    "turbinetype['Actuator_type']    = 'UniformCtDisk'\n",
    "turbinetype['Actuator_rotor_diameter']     = 127.0\n",
    "turbinetype['Actuator_hub_height']         = 90.0\n",
    "turbinetype['Actuator_epsilon']            = [2.5]\n",
    "turbinetype['Actuator_output_frequency']   = 1\n",
    "turbinetype['Actuator_diameters_to_sample']= 5.0 \n",
    "turbinetype['Actuator_num_points_r']       = 20\n",
    "turbinetype['Actuator_num_points_t']       = 3\n",
    "turbinetype['Actuator_thrust_coeff']       = 0.2\n",
    "case.add_populatefromdict('listboxturbinetype', turbinetype)"
   ]
  },
  {
   "cell_type": "code",
   "execution_count": 4,
   "metadata": {},
   "outputs": [],
   "source": [
    "# Set the time constants\n",
    "case.setAMRWindInput('time.stop_time', 20000.0)\n",
    "case.setAMRWindInput('time.max_step',  80000)\n",
    "\n",
    "case.setAMRWindInput('time.fixed_dt',  0.25)\n",
    "case.setAMRWindInput('time.checkpoint_interval',  4000)"
   ]
  },
  {
   "cell_type": "code",
   "execution_count": 5,
   "metadata": {},
   "outputs": [],
   "source": [
    "# Set some basic parameters\n",
    "case.setAMRWindInput('incflo.physics',      ['ABL'])\n",
    "case.setAMRWindInput('incflo.verbose',      3)\n",
    "case.setAMRWindInput('io.check_file',       'chk')\n",
    "\n",
    "case.setAMRWindInput('incflo.use_godunov',  True)\n",
    "case.setAMRWindInput('incflo.godunov_type', 'weno_z')\n",
    "\n",
    "case.setAMRWindInput('turbulence.model',    ['OneEqKsgsM84'])\n",
    "case.setAMRWindInput('TKE.source_terms',    ['KsgsM84Src'])\n",
    "\n",
    "case.setAMRWindInput('transport.viscosity', 1.642E-5)\n",
    "case.setAMRWindInput('incflo.density',      1.08812) "
   ]
  },
  {
   "cell_type": "code",
   "execution_count": 6,
   "metadata": {},
   "outputs": [],
   "source": [
    "# Set some tolerances\n",
    "tols = \"\"\"\n",
    "nodal_proj.mg_rtol                       = 1e-06               \n",
    "nodal_proj.mg_atol                       = 1e-12               \n",
    "mac_proj.mg_rtol                         = 1e-06               \n",
    "mac_proj.mg_atol                         = 1e-12               \n",
    "diffusion.mg_rtol                        = 1e-06               \n",
    "diffusion.mg_atol                        = 1e-12               \n",
    "temperature_diffusion.mg_rtol            = 1e-10               \n",
    "temperature_diffusion.mg_atol            = 1e-13               \n",
    "\"\"\"\n",
    "case.loadAMRWindInput(tols, string=True);"
   ]
  },
  {
   "cell_type": "code",
   "execution_count": 7,
   "metadata": {},
   "outputs": [],
   "source": [
    "case.setAMRWindInput('geometry.prob_lo', [   0.0,    0.0, 0.0 ])\n",
    "case.setAMRWindInput('geometry.prob_hi', [5120.0, 5120.0, 960.0])\n",
    "case.setAMRWindInput('amr.n_cell',       [512,    512,    96])"
   ]
  },
  {
   "cell_type": "code",
   "execution_count": 8,
   "metadata": {},
   "outputs": [],
   "source": [
    "case.setAMRWindInput('is_periodicx', True)\n",
    "case.setAMRWindInput('is_periodicy', True)\n",
    "case.setAMRWindInput('is_periodicz', False)\n",
    "\n",
    "case.setAMRWindInput('zlo.type',              'wall_model')          \n",
    "case.setAMRWindInput('zlo.temperature_type',  'wall_model')          \n",
    "case.setAMRWindInput('zlo.tke_type',          'zero_gradient')       \n",
    "case.setAMRWindInput('zhi.type',              'slip_wall')           \n",
    "case.setAMRWindInput('zhi.temperature_type',  'fixed_gradient')      \n",
    "case.setAMRWindInput('zhi.temperature',       0.003) "
   ]
  },
  {
   "cell_type": "code",
   "execution_count": 9,
   "metadata": {},
   "outputs": [
    {
     "name": "stdout",
     "output_type": "stream",
     "text": [
      "CANNOT update: ABLMeanBoussinesq use forcechange=True in setval()\n"
     ]
    }
   ],
   "source": [
    "case.setAMRWindInput('ICNS.source_terms',     ['ABLForcing','BoussinesqBuoyancy', 'CoriolisForcing', 'ABLMeanBoussinesq'])\n",
    "\n",
    "case.setAMRWindInput('ABL.stats_output_frequency',   1)                   \n",
    "case.setAMRWindInput('ABL.stats_output_format',      'netcdf')\n",
    "\n",
    "case.setAMRWindInput('incflo.velocity',     [6.265, 0.0, 0.0])\n",
    "case.setAMRWindInput('ABLForcing.abl_forcing_height',   90)\n",
    "case.setAMRWindInput('ABL.kappa',                       0.4) \n",
    "\n",
    "case.setAMRWindInput('ABL.normal_direction',      2)\n",
    "case.setAMRWindInput('ABL.surface_roughness_z0',  0.03)\n",
    "case.setAMRWindInput('ABL.reference_temperature', 305.0)\n",
    "case.setAMRWindInput('ABL.surface_temp_rate',     0.0)\n",
    "case.setAMRWindInput('ABL.surface_temp_flux',     0.0)\n",
    "\n",
    "case.setAMRWindInput('ABL.mo_beta_m',             16.0)\n",
    "case.setAMRWindInput('ABL.mo_gamma_m',            5.0)\n",
    "case.setAMRWindInput('ABL.mo_gamma_h',            5.0)\n",
    "case.setAMRWindInput('ABL.random_gauss_mean',     0.0)\n",
    "case.setAMRWindInput('ABL.random_gauss_var',      1.0)"
   ]
  },
  {
   "cell_type": "code",
   "execution_count": 10,
   "metadata": {},
   "outputs": [],
   "source": [
    "case.setAMRWindInput('CoriolisForcing.latitude',  36.57236455833334)\n",
    "case.setAMRWindInput('BoussinesqBuoyancy.reference_temperature', 305.0) \n",
    "\n",
    "case.setAMRWindInput('ABL.temperature_heights', '0     650.0 750.0 1000.0')\n",
    "case.setAMRWindInput('ABL.temperature_values',  '305   305   313.0 313.75')"
   ]
  },
  {
   "cell_type": "code",
   "execution_count": 11,
   "metadata": {},
   "outputs": [],
   "source": [
    "# This is a case where we don't want to use the defaults in amrwind-frontend\n",
    "case.setAMRWindInput('ABL.perturb_ref_height', 50.0)\n",
    "case.setAMRWindInput('ABL.Uperiods', 4.0)\n",
    "case.setAMRWindInput('ABL.Vperiods', 4.0)\n",
    "case.setAMRWindInput('ABL.deltaU',   1.0)\n",
    "case.setAMRWindInput('ABL.deltaV',   1.0)\n",
    "case.setAMRWindInput('ABL.theta_amplitude',   None)\n",
    "case.setAMRWindInput('ABL.cutoff_height',   None)\n",
    "case.setAMRWindInput('ABL.perturb_temperature',   True)\n",
    "case.setAMRWindInput('ABL.perturb_velocity',      True)"
   ]
  },
  {
   "cell_type": "code",
   "execution_count": 12,
   "metadata": {},
   "outputs": [],
   "source": [
    "case.setAMRWindInput('time.plot_interval',        2000)"
   ]
  },
  {
   "cell_type": "markdown",
   "metadata": {},
   "source": [
    "## Define refinement zones"
   ]
  },
  {
   "cell_type": "code",
   "execution_count": 13,
   "metadata": {},
   "outputs": [
    {
     "name": "stdout",
     "output_type": "stream",
     "text": [
      "\n",
      "# CSV file should have columns with\n",
      "# name, x,    y,    type, yaw, hubheight, options\n",
      "T0,     2000, 2560, GE127Temp, 270.0, , \n",
      "\n"
     ]
    }
   ],
   "source": [
    "# Add the turbine specifications flag\n",
    "## Note that the options field can have things like:\n",
    "##    ADparam_TwrAero:False ADparam_TwrShadow:0 FSTparam_TMax:181234.0\n",
    "## To specify changes to the OpenFAST model\n",
    "turbinescsv=\"\"\"\n",
    "# CSV file should have columns with\n",
    "# name, x,    y,    type, yaw, hubheight, options\n",
    "T0,     2000, 2560, GE127Temp, 270.0, , \n",
    "\"\"\"\n",
    "case.setAMRWindInput('turbines_csvtextbox',  turbinescsv)\n",
    "print(case.getAMRWindInput('turbines_csvtextbox'))"
   ]
  },
  {
   "cell_type": "code",
   "execution_count": 14,
   "metadata": {},
   "outputs": [],
   "source": [
    "case.setAMRWindInput('turbines_deleteprev', True)\n",
    "case.setAMRWindInput('turbines_freespace', False)   # Make this have no ground\n",
    "case.setAMRWindInput('turbines_createnewdomain', False)"
   ]
  },
  {
   "cell_type": "code",
   "execution_count": 15,
   "metadata": {},
   "outputs": [
    {
     "data": {
      "image/png": "[encoded data removed]",
      "text/plain": [
       "<Figure size 750x750 with 1 Axes>"
      ]
     },
     "metadata": {},
     "output_type": "display_data"
    }
   ],
   "source": [
    "# Preview the turbine layout\n",
    "fig, ax = plt.subplots(figsize=(5,5), facecolor='w', dpi=150)\n",
    "case.turbines_previewAllTurbines(ax=ax)"
   ]
  },
  {
   "cell_type": "code",
   "execution_count": 16,
   "metadata": {},
   "outputs": [
    {
     "name": "stdout",
     "output_type": "stream",
     "text": [
      "CANNOT update: ABLMeanBoussinesq use forcechange=True in setval()\n",
      "['T0']\n"
     ]
    }
   ],
   "source": [
    "# Now create the turbines\n",
    "case.turbines_createAllTurbines()\n",
    "\n",
    "# Print out existing list of turbines, just to confirm that the turbines got made\n",
    "print(case.listboxpopupwindict['listboxactuator'].getitemlist())"
   ]
  },
  {
   "cell_type": "code",
   "execution_count": 17,
   "metadata": {},
   "outputs": [],
   "source": [
    "#0,     1750,     2000,       500,     50,   100,   center:specified centerx:2000 centery:2500 centerz:90 units:meter    # (5m mesh)\n",
    "refinementcsv=\"\"\"\n",
    "# CSV file should have columns with\n",
    "# level, upstream, downstream, lateral, below, above, options\n",
    "level, upstream, downstream, lateral, below, above, options\n",
    "0,     10,     17,           6,       0.75,   4,    # (5m mesh)\n",
    "#1,     5,      15,           1.5,       0.75,   1.2,  # (2.5m mesh)\n",
    "\"\"\"\n",
    "case.setAMRWindInput('refine_csvtextbox', refinementcsv)\n",
    "case.setAMRWindInput('refine_deleteprev', True)"
   ]
  },
  {
   "cell_type": "code",
   "execution_count": 18,
   "metadata": {},
   "outputs": [
    {
     "name": "stdout",
     "output_type": "stream",
     "text": [
      "['T0_level_0_zone']\n"
     ]
    }
   ],
   "source": [
    "case.refine_createAllZones()\n",
    "# Print out existing list of turbines\n",
    "print(case.listboxpopupwindict['listboxtagging'].getitemlist())"
   ]
  },
  {
   "cell_type": "markdown",
   "metadata": {},
   "source": [
    "## Plot stuff out"
   ]
  },
  {
   "cell_type": "code",
   "execution_count": 19,
   "metadata": {},
   "outputs": [
    {
     "name": "stdout",
     "output_type": "stream",
     "text": [
      "postprocessing_setup_name: 'sampling_'\n",
      "postprocessing_setup_type: 'Sampling'\n",
      "postprocessing_setup_output_frequency: 1000\n",
      "postprocessing_setup_fields: ['velocity', 'temperature', 'tke']\n",
      "postprocessing_setup_averaging_window: None\n",
      "postprocessing_setup_averaging_start_time: None\n",
      "postprocessing_setup_averaging_stop_time: None\n"
     ]
    }
   ],
   "source": [
    "# Set up averaging\n",
    "pprosetup = case.get_default_postprosetupdict()\n",
    "pprosetup['postprocessing_setup_name'] = 'sampling_'\n",
    "pprosetup['postprocessing_setup_type'] = 'Sampling'\n",
    "pprosetup['postprocessing_setup_output_frequency'] =  1000\n",
    "pprosetup['postprocessing_setup_fields']           =  ['velocity', 'temperature','tke']\n",
    "case.add_postprosetup(pprosetup, verbose=True)\n",
    "\n",
    "\n",
    "sampleplane = case.get_default_samplingdict()\n",
    "# Modify the geometry\n",
    "sampleplane['sampling_name']         = 'p_hub'\n",
    "sampleplane['sampling_outputto']     = 'sampling_'\n",
    "sampleplane['sampling_type']         = 'PlaneSampler'\n",
    "sampleplane['sampling_p_num_points'] = [513, 513]\n",
    "sampleplane['sampling_p_origin']     = [0, 0, 0]\n",
    "sampleplane['sampling_p_axis1']      = [5120, 0, 0]\n",
    "sampleplane['sampling_p_axis2']      = [0, 5120, 0]\n",
    "sampleplane['sampling_p_normal']     = [0, 0, 1]\n",
    "sampleplane['sampling_p_offsets']    = '90.0'\n",
    "case.add_sampling(sampleplane)"
   ]
  },
  {
   "cell_type": "markdown",
   "metadata": {},
   "source": [
    "## Plot the domain"
   ]
  },
  {
   "cell_type": "code",
   "execution_count": 20,
   "metadata": {
    "collapsed": false,
    "jupyter": {
     "outputs_hidden": false
    }
   },
   "outputs": [
    {
     "data": {
      "image/png": "[encoded data removed]",
      "text/plain": [
       "<Figure size 875x875 with 1 Axes>"
      ]
     },
     "metadata": {},
     "output_type": "display_data"
    }
   ],
   "source": [
    "fig, ax = plt.subplots(figsize=(7,7), facecolor='w', dpi=125)\n",
    "\n",
    "# Set any additional items to plot\n",
    "case.popup_storteddata['plotdomain']['plot_sampleprobes']    = [] #['p_hub']\n",
    "case.popup_storteddata['plotdomain']['plot_turbines']        = case.listboxpopupwindict['listboxactuator'].getitemlist()\n",
    "case.popup_storteddata['plotdomain']['plot_refineboxes']     = case.listboxpopupwindict['listboxtagging'].getitemlist()\n",
    "case.popup_storteddata['plotdomain']['plot_chooseview']      = 'XY' \n",
    "case.plotDomain(ax=ax)"
   ]
  },
  {
   "cell_type": "code",
   "execution_count": 21,
   "metadata": {},
   "outputs": [
    {
     "data": {
      "image/png": "[encoded data removed]",
      "text/plain": [
       "<Figure size 875x875 with 1 Axes>"
      ]
     },
     "metadata": {},
     "output_type": "display_data"
    }
   ],
   "source": [
    "fig, ax = plt.subplots(figsize=(7,7), facecolor='w', dpi=125)\n",
    "\n",
    "# Set any additional items to plot\n",
    "case.popup_storteddata['plotdomain']['plot_sampleprobes']    = [] #['p_hub']\n",
    "case.popup_storteddata['plotdomain']['plot_turbines']        = case.listboxpopupwindict['listboxactuator'].getitemlist()\n",
    "case.popup_storteddata['plotdomain']['plot_refineboxes']     = case.listboxpopupwindict['listboxtagging'].getitemlist()\n",
    "case.popup_storteddata['plotdomain']['plot_chooseview']      = 'XZ' \n",
    "case.plotDomain(ax=ax)"
   ]
  },
  {
   "cell_type": "code",
   "execution_count": 22,
   "metadata": {
    "collapsed": false,
    "jupyter": {
     "outputs_hidden": false
    }
   },
   "outputs": [
    {
     "name": "stdout",
     "output_type": "stream",
     "text": [
      "-- Checking inputs --\n",
      "[ PASS] max_level:           max_level = 1 >= 0\n",
      "[ PASS] dt & CFL:            DT and CFL OK\n",
      "[ PASS] Actuator physics:    incflo.physics and ICNS.source_terms OK for Actuators\n",
      "[ SKIP] Actuator FST:T0      Not OpenFAST\n",
      "[ SKIP] Sampling probes:     Not active or no sampling planes\n",
      "\n",
      "Results: \n",
      " 3 PASS\n",
      " 2 SKIP\n",
      " 0 FAIL\n",
      " 0 WARN\n"
     ]
    }
   ],
   "source": [
    "check=case.validate()"
   ]
  },
  {
   "cell_type": "code",
   "execution_count": 23,
   "metadata": {},
   "outputs": [
    {
     "name": "stdout",
     "output_type": "stream",
     "text": [
      "Refinement T0_level_0_zone: level 1: 25219691 cells\n",
      "ESTIMATED MESH SIZE\n",
      "   Level       Ncells                      Cell Size\n",
      "       0     25165824             10.0 x 10.0 x 10.0\n",
      "       1     25219691                5.0 x 5.0 x 5.0\n",
      "  TOTAL:     50385515\n"
     ]
    }
   ],
   "source": [
    "# This will print out your mesh size & refinements\n",
    "case.estimateMeshSize()"
   ]
  },
  {
   "cell_type": "code",
   "execution_count": 24,
   "metadata": {},
   "outputs": [
    {
     "name": "stdout",
     "output_type": "stream",
     "text": [
      "SET incflo.physics: ['ABL']\n"
     ]
    }
   ],
   "source": [
    "def removeturbines(runcase):\n",
    "    physics = runcase.getAMRWindInput('incflo.physics')\n",
    "    if 'Actuator' in physics:\n",
    "        physics.remove('Actuator')\n",
    "        runcase.setAMRWindInput('physics', physics)\n",
    "        print('SET incflo.physics: '+repr(runcase.getAMRWindInput('incflo.physics')))\n",
    "    runcase.setAMRWindInput('ActuatorForcing', False)    \n",
    "    runcase.listboxpopupwindict['listboxactuator'].deleteall()\n",
    "    return\n",
    "\n",
    "# Delete the turbines (for precursor)\n",
    "removeturbines(case)"
   ]
  },
  {
   "cell_type": "code",
   "execution_count": 25,
   "metadata": {
    "collapsed": false,
    "jupyter": {
     "outputs_hidden": false
    }
   },
   "outputs": [
    {
     "name": "stdout",
     "output_type": "stream",
     "text": [
      "# --- Simulation time control parameters ---\n",
      "time.stop_time                           = 20000.0             # Max (simulated) time to evolve [s]\n",
      "time.max_step                            = 80000               \n",
      "time.fixed_dt                            = 0.25                # Fixed timestep size (in seconds). If negative, then time.cfl is used\n",
      "time.checkpoint_interval                 = 4000                \n",
      "incflo.physics                           = ABL                 # List of physics models to include in simulation.\n",
      "incflo.verbose                           = 3                   \n",
      "io.check_file                            = chk                 \n",
      "incflo.use_godunov                       = true                \n",
      "incflo.godunov_type                      = weno_z              \n",
      "turbulence.model                         = OneEqKsgsM84        \n",
      "TKE.source_terms                         = KsgsM84Src          \n",
      "nodal_proj.mg_rtol                       = 1e-06               \n",
      "nodal_proj.mg_atol                       = 1e-12               \n",
      "mac_proj.mg_rtol                         = 1e-06               \n",
      "mac_proj.mg_atol                         = 1e-12               \n",
      "diffusion.mg_rtol                        = 1e-06               \n",
      "diffusion.mg_atol                        = 1e-12               \n",
      "temperature_diffusion.mg_rtol            = 1e-10               \n",
      "temperature_diffusion.mg_atol            = 1e-13               \n",
      "incflo.gravity                           = 0.0 0.0 -9.81       # Gravitational acceleration vector (x,y,z) [m/s^2]\n",
      "incflo.density                           = 1.08812             # Fluid density [kg/m^3]\n",
      "transport.viscosity                      = 1.642e-05           # Fluid dynamic viscosity [kg/m-s]\n",
      "transport.laminar_prandtl                = 0.7                 # Laminar prandtl number\n",
      "transport.turbulent_prandtl              = 0.3333              # Turbulent prandtl number\n",
      "\n",
      "# --- Geometry and Mesh ---\n",
      "geometry.prob_lo                         = 0.0 0.0 0.0         \n",
      "geometry.prob_hi                         = 5120.0 5120.0 960.0 \n",
      "amr.n_cell                               = 512 512 96          # Number of cells in x, y, and z directions\n",
      "amr.max_level                            = 1                   \n",
      "geometry.is_periodic                     = 1 1 0               \n",
      "zlo.type                                 = wall_model          \n",
      "zlo.temperature_type                     = wall_model          \n",
      "zlo.tke_type                             = zero_gradient       \n",
      "zhi.type                                 = slip_wall           \n",
      "zhi.temperature_type                     = fixed_gradient      \n",
      "zhi.temperature                          = 0.003               \n",
      "\n",
      "# --- ABL parameters ---\n",
      "ICNS.source_terms                        = ABLForcing BoussinesqBuoyancy CoriolisForcing ABLMeanBoussinesq\n",
      "ABL.stats_output_frequency               = 1                   \n",
      "ABL.stats_output_format                  = netcdf              \n",
      "incflo.velocity                          = 6.265 0.0 0.0       \n",
      "ABLForcing.abl_forcing_height            = 90.0                \n",
      "ABL.kappa                                = 0.4                 \n",
      "ABL.normal_direction                     = 2                   \n",
      "ABL.surface_roughness_z0                 = 0.03                \n",
      "ABL.reference_temperature                = 305.0               \n",
      "ABL.surface_temp_rate                    = 0.0                 \n",
      "ABL.surface_temp_flux                    = 0.0                 # Surface temperature flux [K-m/s]\n",
      "ABL.mo_beta_m                            = 16.0                # Monin-Obukhov Beta m parameter\n",
      "ABL.mo_gamma_m                           = 5.0                 # Monin-Obukhov Gamma m parameter\n",
      "ABL.mo_gamma_h                           = 5.0                 # Monin-Obukhov Gamma h parameter\n",
      "ABL.random_gauss_mean                    = 0.0                 \n",
      "ABL.random_gauss_var                     = 1.0                 \n",
      "CoriolisForcing.latitude                 = 36.57236455833334   \n",
      "CoriolisForcing.rotational_time_period   = 86164.0900027328    \n",
      "CoriolisForcing.north_vector             = 0.0 1.0 0.0         \n",
      "CoriolisForcing.east_vector              = 1.0 0.0 0.0         \n",
      "BoussinesqBuoyancy.reference_temperature = 305.0               \n",
      "ABL.temperature_heights                  = 0     650.0 750.0 1000.0\n",
      "ABL.temperature_values                   = 305   305   313.0 313.75\n",
      "ABL.perturb_velocity                     = true                \n",
      "ABL.perturb_ref_height                   = 50.0                \n",
      "ABL.Uperiods                             = 4.0                 \n",
      "ABL.Vperiods                             = 4.0                 \n",
      "ABL.deltaU                               = 1.0                 \n",
      "ABL.deltaV                               = 1.0                 \n",
      "ABL.perturb_temperature                  = true                \n",
      "time.plot_interval                       = 2000                \n",
      "io.plot_file                             = plt                 \n",
      "io.KE_int                                = -1                  \n",
      "\n",
      "#---- tagging defs ----\n",
      "tagging.labels                           = T0_level_0_zone     \n",
      "tagging.T0_level_0_zone.type             = GeometryRefinement  \n",
      "tagging.T0_level_0_zone.shapes           = T0_level_0_zone     \n",
      "tagging.T0_level_0_zone.level            = 0                   \n",
      "tagging.T0_level_0_zone.T0_level_0_zone.type = box                 \n",
      "tagging.T0_level_0_zone.T0_level_0_zone.origin = 730.0 1798.0 -5.25  \n",
      "tagging.T0_level_0_zone.T0_level_0_zone.xaxis = 3429.0 0.0 0.0      \n",
      "tagging.T0_level_0_zone.T0_level_0_zone.yaxis = -0.0 1524.0 -0.0    \n",
      "tagging.T0_level_0_zone.T0_level_0_zone.zaxis = 0.0 0.0 603.25      \n",
      "\n",
      "#---- postprocessing defs ----\n",
      "incflo.post_processing                   = sampling_           \n",
      "sampling_.type                           = Sampling            \n",
      "sampling_.output_frequency               = 1000                \n",
      "sampling_.fields                         = velocity temperature tke\n",
      "\n",
      "#---- sample defs ----\n",
      "sampling_.labels                         = p_hub               \n",
      "sampling_.p_hub.type                     = PlaneSampler        \n",
      "sampling_.p_hub.num_points               = 513 513             \n",
      "sampling_.p_hub.origin                   = 0.0 0.0 0.0         \n",
      "sampling_.p_hub.axis1                    = 5120.0 0.0 0.0      \n",
      "sampling_.p_hub.axis2                    = 0.0 5120.0 0.0      \n",
      "sampling_.p_hub.normal                   = 0.0 0.0 1.0         \n",
      "sampling_.p_hub.offsets                  = 90.0                \n",
      "\n",
      "#---- extra params ----\n",
      "#== END AMR-WIND INPUT ==\n",
      "\n"
     ]
    }
   ],
   "source": [
    "# Write the input file\n",
    "print(case.writeAMRWindInput('precursor_5x5.inp'))"
   ]
  },
  {
   "cell_type": "code",
   "execution_count": null,
   "metadata": {},
   "outputs": [],
   "source": []
  }
 ],
 "metadata": {
  "kernelspec": {
   "display_name": "Python 3 (ipykernel)",
   "language": "python",
   "name": "python3"
  },
  "language_info": {
   "codemirror_mode": {
    "name": "ipython",
    "version": 3
   },
   "file_extension": ".py",
   "mimetype": "text/x-python",
   "name": "python",
   "nbconvert_exporter": "python",
   "pygments_lexer": "ipython3",
   "version": "3.9.12"
  }
 },
 "nbformat": 4,
 "nbformat_minor": 4
}
