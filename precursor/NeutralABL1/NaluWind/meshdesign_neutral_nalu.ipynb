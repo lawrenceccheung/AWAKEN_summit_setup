{
 "cells": [
  {
   "cell_type": "markdown",
   "metadata": {
    "deletable": true,
    "editable": true
   },
   "source": [
    "# Mesh design for AWAKEN Neutral case"
   ]
  },
  {
   "cell_type": "code",
   "execution_count": 1,
   "metadata": {
    "deletable": true,
    "editable": true
   },
   "outputs": [],
   "source": [
    "%%capture\n",
    "\n",
    "# Change some display properties\n",
    "from IPython.core.display import display, HTML\n",
    "display(HTML(\"<style>.container { width:75% !important; }</style>\"))\n",
    "\n",
    "# Important header information\n",
    "naluhelperdir = '/autofs/nccs-svm1_proj/cfd162/lcheung/NaluWindHelperScripts'\n",
    "# Import libraries\n",
    "import sys\n",
    "import numpy as np\n",
    "import matplotlib.pyplot as plt\n",
    "from matplotlib.lines import Line2D\n",
    "sys.path.insert(1, naluhelperdir)\n",
    "import plotmesh\n",
    "\n",
    "# Colors for refinement levels\n",
    "colors=plotmesh.meshcolors\n",
    "\n",
    "sampleplanesavefile='sampleplanesprecursor_neutral.yaml'\n",
    "meshfile='meshdesign.yaml'\n",
    "\n",
    "%matplotlib inline"
   ]
  },
  {
   "cell_type": "code",
   "execution_count": 2,
   "metadata": {
    "deletable": true,
    "editable": true
   },
   "outputs": [],
   "source": [
    "# Get the overall domain location & size\n",
    "domainsize   = [ 5120,   5120,   960]   # Domain size in meters\n",
    "dx           = [  10.0,    10.0, 10.0]   # Background mesh size\n",
    "farmcenter   = [ 2000,   2560] \n",
    "rotorD       = 127.0\n",
    "turbHH       = 90.0\n",
    "\n",
    "# Put the locations of the turbines here\n",
    "turbinelocs  = \"\"\"\n",
    "      - [ 2000.0, 2560, 0.0 ]\n",
    "      #- [ 2000.0, 2020.25, 0.0 ]\n",
    "\"\"\"\n",
    "\n",
    "savefiles    = True\n",
    "precursoryaml       = 'precursormesh_neutral.yaml'\n",
    "turbineyaml         = 'turbinemesh_neutral.yaml'\n",
    "sampleplanesavefile = 'sampleplanes_neutral.yaml'"
   ]
  },
  {
   "cell_type": "markdown",
   "metadata": {
    "deletable": true,
    "editable": true
   },
   "source": [
    "### Background mesh"
   ]
  },
  {
   "cell_type": "code",
   "execution_count": 3,
   "metadata": {
    "collapsed": false,
    "deletable": true,
    "editable": true,
    "jupyter": {
     "outputs_hidden": false
    }
   },
   "outputs": [],
   "source": [
    "# This is for the background mesh\n",
    "nalutemplate = \"\"\"\n",
    "nalu_abl_mesh:\n",
    "  output_db: mesh_abl.exo\n",
    "  spec_type: bounding_box\n",
    "  fluid_part_name: fluid_part\n",
    "  vertices:\n",
    "  - [0.0, 0.0, 0.0]\n",
    "  - [%f, %f, %f] \n",
    "\n",
    "  mesh_dimensions: [%i, %i, %i] \n",
    "  xmin_boundary_name: west\n",
    "  xmax_boundary_name: east\n",
    "  ymin_boundary_name: south\n",
    "  ymax_boundary_name: north\n",
    "  zmin_boundary_name: lower\n",
    "  zmax_boundary_name: upper\n",
    "\n",
    "# Mandatory section for Nalu preprocessing\n",
    "nalu_preprocess:\n",
    "  # Name of the input exodus database\n",
    "  input_db: mesh_abl.exo\n",
    "  # Name of the output exodus database\n",
    "  output_db: precursorbase.exo\n",
    "\n",
    "  # Nalu preprocessor expects a list of tasks to be performed on the mesh and\n",
    "  # field data structures\n",
    "  tasks:\n",
    "    - mesh_local_refinement\n",
    "\n",
    "  mesh_local_refinement:\n",
    "    fluid_parts: [fluid_part]\n",
    "    write_percept_files: true\n",
    "    percept_file_prefix: adapt\n",
    "    search_tolerance: 21.0\n",
    "\n",
    "    turbine_locations:\n",
    "      - [ %f, %f, 0.0 ]\n",
    "\n",
    "    turbine_diameters: %f          # Provide a list for variable diameters\n",
    "    turbine_heights: %f            # Provide a list for variable tower heights\n",
    "    orientation:\n",
    "      type: wind_direction\n",
    "      wind_direction:  270.0 \n",
    "    refinement_levels:  \n",
    "    # Upstream, downstream, lateral, and vertical heights in turbine D\n",
    "      - [10, 17, 6, 4 ]    # level 1 (5m mesh)\n",
    "      - [5,  15, 2.5, 1.2 ]     # level 2 (2.5m mesh)\n",
    "#      - [30, 20, 5,  4 ]     # level 3 (1.25m mesh)\n",
    "#      - [2.5,2.5,2.5,2 ]     # level 4 (0.625m mesh)\n",
    "\n",
    "\"\"\"\n",
    "naluinput=nalutemplate%(domainsize[0], domainsize[1], domainsize[2], \n",
    "                        int(domainsize[0]/float(dx[0])), int(domainsize[1]/float(dx[1])), int(domainsize[2]/float(dx[2])),\n",
    "                        farmcenter[0], farmcenter[1],\n",
    "                        rotorD, turbHH)\n",
    "\n",
    "if savefiles:\n",
    "    f = open(precursoryaml,'w')\n",
    "    f.write(naluinput)\n",
    "    f.close()"
   ]
  },
  {
   "cell_type": "markdown",
   "metadata": {
    "deletable": true,
    "editable": true
   },
   "source": [
    "### Turbine refinement"
   ]
  },
  {
   "cell_type": "code",
   "execution_count": 4,
   "metadata": {
    "collapsed": false,
    "deletable": true,
    "editable": true,
    "jupyter": {
     "outputs_hidden": false
    }
   },
   "outputs": [],
   "source": [
    "# This is for the background mesh\n",
    "naluturbinetemplate = \"\"\"\n",
    "# Mandatory section for Nalu preprocessing\n",
    "nalu_preprocess:\n",
    "  # Name of the input exodus database\n",
    "  input_db: precursormesh.exo\n",
    "  # Name of the output exodus database\n",
    "  output_db: turbinemesh.exo\n",
    "\n",
    "  # Nalu preprocessor expects a list of tasks to be performed on the mesh and\n",
    "  # field data structures\n",
    "  tasks:\n",
    "    - mesh_local_refinement\n",
    "\n",
    "  mesh_local_refinement:\n",
    "    fluid_parts: [fluid_part]\n",
    "    write_percept_files: true\n",
    "    percept_file_prefix: adapt\n",
    "    search_tolerance: 11.0\n",
    "\n",
    "    turbine_locations:\n",
    "    %s\n",
    "\n",
    "    turbine_diameters: %f          # Provide a list for variable diameters\n",
    "    turbine_heights: %f            # Provide a list for variable tower heights\n",
    "    orientation:\n",
    "      type: wind_direction\n",
    "      wind_direction:  270.0 \n",
    "    refinement_levels:  \n",
    "    # Upstream, downstream, lateral, and vertical heights in turbine D\n",
    "      - [ 1, 1,     0.6,    1 ]    # level 4 (0.3125m)\n",
    "\n",
    "#      - [ 3, 2,     1.0,  1.2 ]    # level 2\n",
    "#      - [ 2, 1.25,  0.75, 0.8 ]    # level 3\n",
    "#      - [0.5,0.5,   0.6,  0.5 ]    # level 4\n",
    "\"\"\"\n",
    "naluturbines=naluturbinetemplate%(turbinelocs, rotorD, turbHH)\n",
    "\n",
    "#if savefiles:\n",
    "#    f = open(turbineyaml,'w')\n",
    "#    f.write(naluturbines)\n",
    "#    f.close()"
   ]
  },
  {
   "cell_type": "markdown",
   "metadata": {
    "deletable": true,
    "editable": true
   },
   "source": [
    "### Plot meshes and get estimated mesh size"
   ]
  },
  {
   "cell_type": "code",
   "execution_count": 5,
   "metadata": {
    "collapsed": false,
    "deletable": true,
    "editable": true,
    "jupyter": {
     "outputs_hidden": false
    }
   },
   "outputs": [
    {
     "name": "stdout",
     "output_type": "stream",
     "text": [
      "2\n",
      "[[25165824, [10.0, 10.0, 10.0]], [62188160, [5.0, 5.0, 5.0]], [89542944, [2.5, 2.5, 2.5]]]\n"
     ]
    },
    {
     "data": {
      "image/png": "[encoded data removed]",
      "text/plain": [
       "<Figure size 1400x1000 with 1 Axes>"
      ]
     },
     "metadata": {},
     "output_type": "display_data"
    }
   ],
   "source": [
    "plt.figure(figsize=(14,10));\n",
    "#fig, axs = plt.subplots(1,2,figsize=(14,7),sharey=False);\n",
    "plt.rc('font', size=14)\n",
    "\n",
    "norththeta = (180.0-270.0)*np.pi/180.0\n",
    "northvec   = [-np.sin(norththeta), np.cos(norththeta)]\n",
    "\n",
    "# Plot the background mesh\n",
    "yamldata = plotmesh.getyamlfromstring(naluinput)\n",
    "turbineXY, turbineD, turbineHH, orienttype, winddir, refineboxes = plotmesh.getPreprocess(yamldata)\n",
    "plotmesh.plotmeshes(yamldata, turbineXY, turbineD, winddir, refineboxes, windarrowcenter=None, initlevel=1, plotturbs=False)\n",
    "\n",
    "# Plot the individual turbine mesh\n",
    "ilevel = len(refineboxes)\n",
    "print(ilevel)\n",
    "#yamldata2= plotmesh.getyamlfromstring(naluturbines)\n",
    "#turbineXY2, turbineD, turbineHH, orienttype, winddir, refineboxes2 = plotmesh.getPreprocess(yamldata2)\n",
    "#plotmesh.plotmeshes(yamldata2, turbineXY2, turbineD, winddir, refineboxes2, windarrowcenter=None, initlevel=ilevel+1)\n",
    "\n",
    "\n",
    "zoomin = False   # If True, zoom in on the turbines\n",
    "if zoomin:\n",
    "    plt.xlim([1800, 2200])\n",
    "    plt.ylim([1800, 2200])\n",
    "else:\n",
    "    plt.axis('equal');\n",
    "\n",
    "plt.xlabel('x [m]')\n",
    "plt.ylabel('y [m]')\n",
    "plt.title('Mesh setup, Neutral, 2 Turbines');\n",
    "\n",
    "sizelevelsmin0 = plotmesh.estimateMeshSize(yamldata, turbineXY, turbineD, winddir, refineboxes, weights=[1,1])\n",
    "print(sizelevelsmin0)\n",
    "#sizelevelsmin  = plotmesh.estimateMeshSize(yamldata2, turbineXY2, turbineD, winddir, refineboxes2, \n",
    "#                                           initsizes=sizelevelsmin0, startlevel=ilevel, weights=[1,1])\n",
    "\n",
    "# Make a legend\n",
    "legend_el = []\n",
    "for i, level in enumerate(sizelevelsmin0): legend_el.append(Line2D([0],[0], linewidth=0, marker='s',color=colors[i], label=level[1][0]))\n",
    "plt.legend(handles=legend_el, fontsize=14, frameon=True)\n",
    "plt.tight_layout()"
   ]
  },
  {
   "cell_type": "code",
   "execution_count": 6,
   "metadata": {
    "collapsed": false,
    "deletable": true,
    "editable": true,
    "jupyter": {
     "outputs_hidden": false
    }
   },
   "outputs": [
    {
     "name": "stdout",
     "output_type": "stream",
     "text": [
      "level      Min est      Max est  cell size\n",
      "    0     25165824     25165824  [10.0, 10.0, 10.0]\n",
      "    1     62188160    109711264  [5.0, 5.0, 5.0]\n",
      "    2     89542944    172162752  [2.5, 2.5, 2.5]\n",
      "Estimated mesh size (min): 89,542,944\n",
      "Estimated mesh size (max): 172,162,752\n"
     ]
    }
   ],
   "source": [
    "# Get the mesh size\n",
    "sizelevelsmin0 = plotmesh.estimateMeshSize(yamldata, turbineXY, turbineD, winddir, refineboxes, weights=[1,1])\n",
    "#sizelevelsmin  = plotmesh.estimateMeshSize(yamldata2, turbineXY2, turbineD, winddir, refineboxes2, initsizes=sizelevelsmin0, \n",
    "#                                           startlevel=ilevel, weights=[1,1])\n",
    "sizelevelsmax0 = plotmesh.estimateMeshSize(yamldata, turbineXY, turbineD, winddir, refineboxes, weights=[0,2])\n",
    "#sizelevelsmax  = plotmesh.estimateMeshSize(yamldata2, turbineXY2, turbineD, winddir, refineboxes2, initsizes=sizelevelsmax0, \n",
    "#                                           startlevel=ilevel, weights=[0,2])\n",
    "\n",
    "print(\"%5s %12s %12s  cell size\"%(\"level\",\"Min est\",\"Max est\"))\n",
    "for i, level in enumerate(sizelevelsmin0): \n",
    "    print(\"%5i %12i %12i  \"%(i, sizelevelsmin0[i][0], sizelevelsmax0[i][0])+repr(sizelevelsmin0[i][1]))\n",
    "     \n",
    "print(\"Estimated mesh size (min): \"+'{:,}'.format(sizelevelsmin0[-1][0]))\n",
    "print(\"Estimated mesh size (max): \"+'{:,}'.format(sizelevelsmax0[-1][0]))"
   ]
  },
  {
   "cell_type": "markdown",
   "metadata": {
    "deletable": true,
    "editable": true
   },
   "source": [
    "## Set up sampling planes"
   ]
  },
  {
   "cell_type": "code",
   "execution_count": 7,
   "metadata": {
    "collapsed": false,
    "deletable": true,
    "editable": true,
    "jupyter": {
     "outputs_hidden": false
    }
   },
   "outputs": [
    {
     "name": "stdout",
     "output_type": "stream",
     "text": [
      "\n",
      "        - name: sliceData/XYslice/XYslice_velocity_00.00D\n",
      "          corner_coordinates:  [730.000000, 2052.000000, 90.000000]\n",
      "          edge1_vector:    [3810.000000,  0, 0]\n",
      "          edge2_vector:    [0,   1016.000000, 0]\n",
      "          edge1_numPoints: 601\n",
      "          edge2_numPoints: 161\n",
      "          only_output_field: velocity\n",
      "\n",
      "        - name: sliceData/XYslice/XYslice_pressure_00.00D\n",
      "          corner_coordinates:  [730.000000, 2052.000000, 90.000000]\n",
      "          edge1_vector:    [3810.000000,  0, 0]\n",
      "          edge2_vector:    [0,   1016.000000, 0]\n",
      "          edge1_numPoints: 601\n",
      "          edge2_numPoints: 161\n",
      "          only_output_field: pressure\n",
      "\n",
      "        - name: sliceData/XYslice/XYslice_temperature_00.00D\n",
      "          corner_coordinates:  [730.000000, 2052.000000, 90.000000]\n",
      "          edge1_vector:    [3810.000000,  0, 0]\n",
      "          edge2_vector:    [0,   1016.000000, 0]\n",
      "          edge1_numPoints: 601\n",
      "          edge2_numPoints: 161\n",
      "          only_output_field: temperature\n",
      "\n",
      "        - name: sliceData/XYslice/XYslice_velocity_190.50D\n",
      "          corner_coordinates:  [730.000000, 2052.000000, 280.500000]\n",
      "          edge1_vector:    [3810.000000,  0, 0]\n",
      "          edge2_vector:    [0,   1016.000000, 0]\n",
      "          edge1_numPoints: 601\n",
      "          edge2_numPoints: 161\n",
      "          only_output_field: velocity\n",
      "\n",
      "        - name: sliceData/XYslice/XYslice_pressure_190.50D\n",
      "          corner_coordinates:  [730.000000, 2052.000000, 280.500000]\n",
      "          edge1_vector:    [3810.000000,  0, 0]\n",
      "          edge2_vector:    [0,   1016.000000, 0]\n",
      "          edge1_numPoints: 601\n",
      "          edge2_numPoints: 161\n",
      "          only_output_field: pressure\n",
      "\n",
      "        - name: sliceData/XYslice/XYslice_temperature_190.50D\n",
      "          corner_coordinates:  [730.000000, 2052.000000, 280.500000]\n",
      "          edge1_vector:    [3810.000000,  0, 0]\n",
      "          edge2_vector:    [0,   1016.000000, 0]\n",
      "          edge1_numPoints: 601\n",
      "          edge2_numPoints: 161\n",
      "          only_output_field: temperature\n",
      "\n"
     ]
    }
   ],
   "source": [
    "# Some turbine details\n",
    "turbinecenter = [farmcenter[0], farmcenter[1], turbHH]\n",
    "turbineD      = rotorD\n",
    "\n",
    "allYAMLSamplePlanes=\"\"\n",
    "\n",
    "# Construct the cross-section (Y-Z) planes\n",
    "# -----------------\n",
    "delta          = 6.35 #0.3125 #1.25 #0.3125\n",
    "xlocs          = [-10, -8,  -6,  -4, -2,  0,   2,   4,   6,   8,   10,   12,   14,   16,   18,   20]\n",
    "#xlocs          = [-5, -2.5,  0.5,   1,       1.5,    2,      2.5,    3,      3.5,    4,      5,      7,      10,     15,    20]\n",
    "#deltax         = [2.5, 1.25, 0.3125,0.3125,  0.3125, 0.3125, 0.3125, 0.3125, 0.3125, 0.3125, 0.3125, 0.3125, 0.3125, 0.625, 0.625]\n",
    "yzsectemplate  = \"\"\"\n",
    "        - name: sliceData/YZslice%s/YZslice_%05.2fD\n",
    "          corner_coordinates:  [%f, %f, %f]\n",
    "          edge1_vector:    [0,  %f, 0]\n",
    "          edge2_vector:    [0,   0, %f]\n",
    "          edge1_numPoints: %i\n",
    "          edge2_numPoints: %i\n",
    "\"\"\"\n",
    "allyzplanes=\"\"\n",
    "for xi, x in enumerate(xlocs):\n",
    "    xpos = turbinecenter[0] + x*turbineD\n",
    "    ypos = turbinecenter[1] - 4.0*turbineD\n",
    "    zpos = 0\n",
    "    width  = 8*turbineD\n",
    "    height = 280 \n",
    "    N1     = int(width/delta)+1\n",
    "    N2     = int(height/delta)+1\n",
    "    allyzplanes += yzsectemplate%('', x, xpos, ypos, zpos, width, height, N1, N2)\n",
    "\n",
    "#print(allyzplanes)\n",
    "allYAMLSamplePlanes += allyzplanes\n",
    "\n",
    "# Construct the streamwise (X-Z) planes\n",
    "# -----------------\n",
    "xzsectemplate  = \"\"\"\n",
    "        - name: sliceData/XZslice%s/XZslice%s_%05.2fD\n",
    "          corner_coordinates:  [%f, %f, %f]\n",
    "          edge1_vector:    [%f,  0, 0]\n",
    "          edge2_vector:    [0,   0, %f]\n",
    "          edge1_numPoints: %i\n",
    "          edge2_numPoints: %i\n",
    "          %s\n",
    "\"\"\"\n",
    "delta  = 6.35 #0.3125 #1.25 #0.3125 #0.625\n",
    "deltay = 0.3125 #0.3125 #1.25\n",
    "ylocs=[-4, -2, 0, 2, 4]\n",
    "varouts= ['velocity','pressure','temperature']\n",
    "allxzplanes=\"\"\n",
    "for y in ylocs:\n",
    "    xpos = turbinecenter[0] - 10*turbineD\n",
    "    ypos = turbinecenter[1] + y*turbineD\n",
    "    zpos = 0\n",
    "    length = 30*turbineD\n",
    "    height = 280.0\n",
    "    N1     = int(length/delta)+1\n",
    "    N2     = 45 #int(height/delta*2)+1\n",
    "    for v in varouts:\n",
    "        allxzplanes += xzsectemplate%('',            '_'+v, y, xpos, ypos, zpos, length, height, N1, N2, 'only_output_field: '+v)\n",
    "#print(allxzplanes)\n",
    "allYAMLSamplePlanes += allxzplanes\n",
    "\n",
    "# Construct the hubheight (X-Y) planes\n",
    "# -----------------\n",
    "xysectemplate  = \"\"\"\n",
    "        - name: sliceData/XYslice%s/XYslice%s_%05.2fD\n",
    "          corner_coordinates:  [%f, %f, %f]\n",
    "          edge1_vector:    [%f,  0, 0]\n",
    "          edge2_vector:    [0,   %f, 0]\n",
    "          edge1_numPoints: %i\n",
    "          edge2_numPoints: %i\n",
    "          %s\n",
    "\"\"\"\n",
    "delta  = 1.25  #0.3125 #1.25 #0.3125 #0.625\n",
    "deltaz = 0.3125 #0.3125 #1.25\n",
    "zlocs  = [0, 190.5]\n",
    "allxyplanes=\"\"\n",
    "allxyplanesCOARSE=\"\"\n",
    "for z in zlocs:\n",
    "    xpos = turbinecenter[0] - 10*turbineD\n",
    "    ypos = turbinecenter[1] - 4*turbineD\n",
    "    zpos = turbinecenter[2] + z\n",
    "    length = 30*turbineD\n",
    "    height = 8*turbineD\n",
    "    N1     = 601 #int(length/delta)+1\n",
    "    N2     = 161 #int(height/delta*2)+1    \n",
    "    allxyplanesCOARSE += xysectemplate%('',            '', z, xpos, ypos, zpos, length, height, N1//5, N2//5, '')\n",
    "    \n",
    "    for v in varouts:\n",
    "        allxyplanes       += xysectemplate%('',            '_'+v, z, xpos, ypos, zpos, length, height, N1, N2, 'only_output_field: '+v)\n",
    "\n",
    "print(allxyplanes)\n",
    "\n",
    "allYAMLSamplePlanes += allxyplanes"
   ]
  },
  {
   "cell_type": "code",
   "execution_count": 8,
   "metadata": {
    "deletable": true,
    "editable": true
   },
   "outputs": [],
   "source": [
    "probesyamlstring=\"\"\"\n",
    "realms:\n",
    "- name: fluidRealm\n",
    "  mesh: mesh_abl.e\n",
    "  use_edges: yes\n",
    "  automatic_decomposition_type: rcb\n",
    "  \n",
    "  # NOTE NOTE NOTE: Update this later\n",
    "  # Ken provided sample planes to work with\n",
    "  data_probes:  \n",
    "    output_format: text \n",
    "    #exodus_name: probes2.exo\n",
    "    output_frequency: 100\n",
    "    search_method: stk_kdtree\n",
    "    search_tolerance: 1.0e-5 #1.0e-3\n",
    "    search_expansion_factor: 2.0\n",
    "\n",
    "    specifications:\n",
    "    - name: probe_surface\n",
    "      from_target_part: [ h/1-hex, h/2-hex, h/4-hex, h/8-hex, h/16-hex, h/1-hex.pyramid_5._urpconv, h/1-hex.tetrahedron_4._urpconv, h/2-hex.pyramid_5._urpconv, h/2-hex.tetrahedron_4._urpconv, h/4-hex.pyramid_5._urpconv, h/4-hex.tetrahedron_4._urpconv,     h/8-hex.Pyramid_5._urpconv,  h/8-hex.Tetrahedron_4._urpconv]\n",
    "      plane_specifications:   \n",
    "      %s\n",
    "      output_variables:\n",
    "        - field_name: velocity\n",
    "          field_size: 3\n",
    "        - field_name: temperature\n",
    "          field_size: 1\n",
    "\"\"\""
   ]
  },
  {
   "cell_type": "markdown",
   "metadata": {
    "deletable": true,
    "editable": true
   },
   "source": [
    "## Plot the sampling planes"
   ]
  },
  {
   "cell_type": "code",
   "execution_count": 9,
   "metadata": {
    "collapsed": false,
    "deletable": true,
    "editable": true,
    "jupyter": {
     "outputs_hidden": false
    }
   },
   "outputs": [
    {
     "name": "stdout",
     "output_type": "stream",
     "text": [
      "No actuator line turbines to plot\n",
      "No actuator line turbines to plot\n",
      "No actuator line turbines to plot\n"
     ]
    },
    {
     "data": {
      "image/png": "[encoded data removed]",
      "text/plain": [
       "<Figure size 1400x1000 with 1 Axes>"
      ]
     },
     "metadata": {},
     "output_type": "display_data"
    }
   ],
   "source": [
    "plt.figure(figsize=(14,10));\n",
    "#fig, axs = plt.subplots(1,2,figsize=(14,7),sharey=False);\n",
    "plt.rc('font', size=14)\n",
    "\n",
    "norththeta = (180.0-270.0)*np.pi/180.0\n",
    "northvec   = [-np.sin(norththeta), np.cos(norththeta)]\n",
    "\n",
    "# Plot the background mesh\n",
    "yamldata = plotmesh.getyamlfromstring(naluinput)\n",
    "turbineXY, turbineD, turbineHH, orienttype, winddir, refineboxes = plotmesh.getPreprocess(yamldata)\n",
    "plotmesh.plotmeshes(yamldata, turbineXY, turbineD, winddir, refineboxes, windarrowcenter=None, initlevel=1, plotturbs=False)\n",
    "\n",
    "# Plot the individual turbine mesh\n",
    "ilevel = len(refineboxes)\n",
    "yamldata2= plotmesh.getyamlfromstring(naluturbines)\n",
    "turbineXY2, turbineD, turbineHH, orienttype, winddir, refineboxes2 = plotmesh.getPreprocess(yamldata2)\n",
    "#plotmesh.plotmeshes(yamldata2, turbineXY2, turbineD, winddir, refineboxes2, windarrowcenter=None, initlevel=ilevel+1)\n",
    "\n",
    "# Plot the data_probes\n",
    "# YZplanes\n",
    "probesyaml = plotmesh.getyamlfromstring(probesyamlstring%allyzplanes)\n",
    "plotmesh.plotRealms(probesyaml, color='gray', marker='.', markersize=0.5, linewidth=0)\n",
    "# XZplanes\n",
    "probesyaml = plotmesh.getyamlfromstring(probesyamlstring%allxzplanes)\n",
    "plotmesh.plotRealms(probesyaml, color='k', marker='.', markersize=0.5, linewidth=0)\n",
    "# XYplanes\n",
    "probesyaml = plotmesh.getyamlfromstring(probesyamlstring%allxyplanesCOARSE)\n",
    "plotmesh.plotRealms(probesyaml, color='white', marker='.', markersize=0.5, linewidth=0)\n",
    "\n",
    "# Make a legend\n",
    "legend_el = []\n",
    "for i, level in enumerate(sizelevelsmin0): legend_el.append(Line2D([0],[0], linewidth=0, marker='s',color=colors[i], label=level[1][0]))\n",
    "plt.legend(handles=legend_el, fontsize=14, frameon=True)\n",
    "\n",
    "zoomin = False   # If True, zoom in on the turbines\n",
    "if zoomin:\n",
    "    plt.xlim([1800, 2200])\n",
    "    plt.ylim([1800, 2200])\n",
    "else:\n",
    "    plt.axis('equal');\n",
    "\n",
    "plt.xlabel('x [m]')\n",
    "plt.ylabel('y [m]')\n",
    "plt.title('Sample plane setup, Neutral ABL');"
   ]
  },
  {
   "cell_type": "code",
   "execution_count": 10,
   "metadata": {
    "collapsed": false,
    "deletable": true,
    "editable": true,
    "jupyter": {
     "outputs_hidden": false
    }
   },
   "outputs": [],
   "source": [
    "if savefiles:\n",
    "    if len(sampleplanesavefile)>0:\n",
    "        f=open(sampleplanesavefile,'w')\n",
    "        f.write(allYAMLSamplePlanes)\n",
    "        f.close()"
   ]
  },
  {
   "cell_type": "code",
   "execution_count": null,
   "metadata": {
    "collapsed": true,
    "deletable": true,
    "editable": true,
    "jupyter": {
     "outputs_hidden": true
    }
   },
   "outputs": [],
   "source": []
  }
 ],
 "metadata": {
  "kernelspec": {
   "display_name": "Python 3 (ipykernel)",
   "language": "python",
   "name": "python3"
  },
  "language_info": {
   "codemirror_mode": {
    "name": "ipython",
    "version": 3
   },
   "file_extension": ".py",
   "mimetype": "text/x-python",
   "name": "python",
   "nbconvert_exporter": "python",
   "pygments_lexer": "ipython3",
   "version": "3.9.13"
  }
 },
 "nbformat": 4,
 "nbformat_minor": 4
}
