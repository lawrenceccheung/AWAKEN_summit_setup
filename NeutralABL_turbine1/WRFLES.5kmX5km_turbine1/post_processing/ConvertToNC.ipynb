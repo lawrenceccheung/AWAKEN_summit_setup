{
 "cells": [
  {
   "cell_type": "code",
   "execution_count": 1,
   "id": "a623778c-652d-4fc4-bc0f-cc97ae83e5b6",
   "metadata": {},
   "outputs": [],
   "source": [
    "# Convert pkl file to netcdf"
   ]
  },
  {
   "cell_type": "code",
   "execution_count": 15,
   "id": "a61beda1-2134-40d5-bd64-da9b0c532449",
   "metadata": {},
   "outputs": [],
   "source": [
    "import pickle\n",
    "from netCDF4 import Dataset\n",
    "import numpy as np\n",
    "import sys\n",
    "import numpy.linalg as linalg"
   ]
  },
  {
   "cell_type": "code",
   "execution_count": 3,
   "id": "1ae3093e-ccfb-4abb-9060-e45d8fe7505e",
   "metadata": {},
   "outputs": [],
   "source": [
    "def loadpickle(picklefile):\n",
    "    pfile          = open(picklefile, 'rb')\n",
    "    ds             = pickle.load(pfile)\n",
    "    pfile.close()\n",
    "    return ds"
   ]
  },
  {
   "cell_type": "code",
   "execution_count": 4,
   "id": "3f9e22de-f227-4948-8832-17b77981df83",
   "metadata": {},
   "outputs": [],
   "source": [
    "# See https://stackoverflow.com/questions/3173320/text-progress-bar-in-the-console\n",
    "def progress(count, total, suffix='', digits=1):\n",
    "    \"\"\"\n",
    "    print out a progressbar\n",
    "    \"\"\"\n",
    "    bar_len = 60\n",
    "    filled_len = int(round(bar_len * count / float(total)))\n",
    "    percents = round(100.0 * count / float(total), digits)\n",
    "    bar = '=' * filled_len + '-' * (bar_len - filled_len)\n",
    "    sys.stdout.write('[%s] %s%s %s\\r' % (bar, percents, '%', suffix))\n",
    "    sys.stdout.flush()"
   ]
  },
  {
   "cell_type": "code",
   "execution_count": 24,
   "id": "7693c94b-779b-49b3-814d-d120ef8cab66",
   "metadata": {},
   "outputs": [],
   "source": [
    "pkldir = 'data/wakesPickle/'\n",
    "pklfile = 'instantHHmaps_WRFLES_D2_nowt.pkl'\n",
    "groupname = 'plane'\n",
    "outFile   = 'wrf.nc'"
   ]
  },
  {
   "cell_type": "code",
   "execution_count": 6,
   "id": "9208755d-7afc-47f1-8b5a-8f1a3120c783",
   "metadata": {},
   "outputs": [],
   "source": [
    "db = loadpickle(pkldir+pklfile)"
   ]
  },
  {
   "cell_type": "code",
   "execution_count": 7,
   "id": "c9486f31-ae18-4bff-bc95-b3cfae4c67c3",
   "metadata": {},
   "outputs": [],
   "source": [
    "times = db['t']\n",
    "num_time_steps = len(times)"
   ]
  },
  {
   "cell_type": "code",
   "execution_count": 8,
   "id": "df0b1b92-2c45-4e6a-aee8-331581528ba3",
   "metadata": {},
   "outputs": [],
   "source": [
    "NumK = db['z'].shape[0]\n",
    "NumJ, NumI = db['X'].shape"
   ]
  },
  {
   "cell_type": "code",
   "execution_count": 9,
   "id": "8c975107-e0f5-4cce-b1f4-07f7b7d123f4",
   "metadata": {},
   "outputs": [],
   "source": [
    "num_points= NumI*NumJ*NumK"
   ]
  },
  {
   "cell_type": "code",
   "execution_count": 10,
   "id": "f9e81eaa-ca3c-4286-9d81-53edf239d38c",
   "metadata": {},
   "outputs": [],
   "source": [
    "coordinates = np.zeros((num_points,3))\n",
    "velocityx   = np.zeros((num_time_steps,num_points))\n",
    "velocityy   = np.zeros((num_time_steps,num_points))\n",
    "velocityz   = np.zeros((num_time_steps,num_points))"
   ]
  },
  {
   "cell_type": "code",
   "execution_count": 11,
   "id": "70dad677-c40b-4973-8931-9544f631b002",
   "metadata": {},
   "outputs": [],
   "source": [
    "# Create the coordinates vector\n",
    "ipt = 0\n",
    "for k in range(NumK):\n",
    "    for j in range(NumJ):\n",
    "        for i in range(NumI):\n",
    "            coordinates[ipt, 0] = db['X'][j, i]\n",
    "            coordinates[ipt, 1] = db['Y'][j, i]\n",
    "            coordinates[ipt, 2] = db['z'][k]\n",
    "            ipt = ipt + 1"
   ]
  },
  {
   "cell_type": "code",
   "execution_count": 12,
   "id": "fcf42525-0572-44db-a368-3d8ff148c1de",
   "metadata": {},
   "outputs": [
    {
     "name": "stdout",
     "output_type": "stream",
     "text": [
      "[============================================================] 100.0% \r"
     ]
    }
   ],
   "source": [
    "# Create the velocity vector\n",
    "for itime in range(num_time_steps):\n",
    "    progress(itime+1, num_time_steps)\n",
    "    ipt = 0\n",
    "    for k in range(NumK):\n",
    "        for j in range(NumJ):\n",
    "            for i in range(NumI):\n",
    "                velocityx[itime, ipt] = db['U'][itime, k, j, i]\n",
    "                velocityy[itime, ipt] = db['V'][itime, k, j, i]\n",
    "                velocityz[itime, ipt] = db['W'][itime, k, j, i]\n",
    "                ipt = ipt + 1"
   ]
  },
  {
   "cell_type": "code",
   "execution_count": 13,
   "id": "7f2cbe29-f50f-4ed4-bfb9-ec2ac5518301",
   "metadata": {},
   "outputs": [
    {
     "data": {
      "text/plain": [
       "dict_keys(['t', 'z', 'X', 'Y', 'U', 'V', 'W'])"
      ]
     },
     "execution_count": 13,
     "metadata": {},
     "output_type": "execute_result"
    }
   ],
   "source": [
    "db.keys()"
   ]
  },
  {
   "cell_type": "code",
   "execution_count": 16,
   "id": "11f9df5a-10fb-4a39-9ea9-890902216a21",
   "metadata": {},
   "outputs": [],
   "source": [
    "corner = np.array([db['X'][0, 0], db['Y'][0, 0], db['z'][0]])\n",
    "dxrow  = np.array([db['X'][0, 1], db['Y'][0, 1], db['z'][0]]) \n",
    "dyrow  = np.array([db['X'][1, 0], db['Y'][1, 0], db['z'][0]])\n",
    "dzrow  = np.array([db['X'][0, 0], db['Y'][0, 0], db['z'][1]])\n",
    "                \n",
    "dX    = linalg.norm(np.array(dxrow)-np.array(corner))\n",
    "dY    = linalg.norm(np.array(dyrow)-np.array(corner))\n",
    "axis1 = (np.array(dxrow)-np.array(corner))*(NumI - 1)\n",
    "axis2 = (np.array(dyrow)-np.array(corner))*(NumJ - 1)\n",
    "axis3 = (np.array(dzrow)-np.array(corner))*(NumK - 1)"
   ]
  },
  {
   "cell_type": "code",
   "execution_count": 20,
   "id": "d1a9e70f-7bd5-4599-95ec-5f1acb1f4061",
   "metadata": {},
   "outputs": [],
   "source": [
    "offsets=[]\n",
    "for k in range(NumK):\n",
    "    dzoffset = np.array([db['X'][0, 0], db['Y'][0, 0], db['z'][k]])\n",
    "    zoffset  = np.array(dzoffset)-np.array(corner)\n",
    "    offsets.append(linalg.norm(zoffset))"
   ]
  },
  {
   "cell_type": "code",
   "execution_count": 22,
   "id": "1d9b6489-16f0-484d-a1b9-685e544c5588",
   "metadata": {},
   "outputs": [],
   "source": [
    "# Normalize and make them array\n",
    "axis3  = axis3/np.linalg.norm(axis3)\n",
    "offsets = np.array(offsets)"
   ]
  },
  {
   "cell_type": "code",
   "execution_count": 30,
   "id": "7cff15b5-6352-40a9-94a3-c2fd5f440046",
   "metadata": {},
   "outputs": [],
   "source": [
    "# Write out the netcdf file\n",
    "ncFile = Dataset(outFile,'w')\n",
    "ncFile.title=\"AMR-Wind data from Nalu output\"\n",
    "ncFile.createDimension('num_time_steps',num_time_steps)\n",
    "ncFile.createDimension('ndim',3)\n",
    "time_nc = ncFile.createVariable('time', times[0].dtype, ('num_time_steps',))\n",
    "time_nc[:] = times"
   ]
  },
  {
   "cell_type": "code",
   "execution_count": 31,
   "id": "74398399-e219-4c8b-8e5c-c7273eaa5209",
   "metadata": {},
   "outputs": [],
   "source": [
    "AMR_group_name = groupname\n",
    "grp = ncFile.createGroup(AMR_group_name)\n",
    "grp.createDimension('num_points',num_points)\n",
    "coordinates_nc = grp.createVariable('coordinates', coordinates[0,0].dtype, ('num_points','ndim'))\n",
    "velocityx_nc = grp.createVariable('velocityx', velocityx[0,0].dtype, ('num_time_steps','num_points'))\n",
    "velocityy_nc = grp.createVariable('velocityy', velocityy[0,0].dtype, ('num_time_steps','num_points'))\n",
    "velocityz_nc = grp.createVariable('velocityz', velocityz[0,0].dtype, ('num_time_steps','num_points'))\n",
    "\n",
    "grp.sampling_type='PlaneSampler'\n",
    "\n",
    "grp.ijk_dims=np.array([int(NumI),int(NumJ),int(NumK)])\n",
    "\n",
    "coordinates_nc[:] = coordinates\n",
    "\n",
    "velocityx_nc[:] = velocityx\n",
    "velocityy_nc[:] = velocityy\n",
    "velocityz_nc[:] = velocityz\n",
    "\n",
    "grp.origin = corner\n",
    "grp.axis1  = axis1\n",
    "grp.axis2  = axis2\n",
    "grp.axis3  = axis3\n",
    "\n",
    "grp.offsets = offsets"
   ]
  },
  {
   "cell_type": "code",
   "execution_count": 34,
   "id": "7240df72-36a6-45a4-bf28-d22fea4457ff",
   "metadata": {},
   "outputs": [
    {
     "name": "stdout",
     "output_type": "stream",
     "text": [
      "<class 'netCDF4._netCDF4.Dataset'>\n",
      "root group (NETCDF4 data model, file format HDF5):\n",
      "    title: AMR-Wind data from Nalu output\n",
      "    dimensions(sizes): num_time_steps(601), ndim(3)\n",
      "    variables(dimensions): int64 time(num_time_steps)\n",
      "    groups: plane\n",
      "('plane', <class 'netCDF4._netCDF4.Group'>\n",
      "group /plane:\n",
      "    sampling_type: PlaneSampler\n",
      "    ijk_dims: [350 200   3]\n",
      "    origin: [ 5.   5.  26.5]\n",
      "    axis1: [3490.    0.    0.]\n",
      "    axis2: [   0. 1990.    0.]\n",
      "    axis3: [0. 0. 1.]\n",
      "    offsets: [  0.   63.5 127. ]\n",
      "    dimensions(sizes): num_points(210000)\n",
      "    variables(dimensions): float64 coordinates(num_points, ndim), float64 velocityx(num_time_steps, num_points), float64 velocityy(num_time_steps, num_points), float64 velocityz(num_time_steps, num_points)\n",
      "    groups: )\n"
     ]
    }
   ],
   "source": [
    "verbose=True\n",
    "if verbose:\n",
    "    print(ncFile,flush=True)\n",
    "    for grp in ncFile.groups.items():\n",
    "        print(grp,flush=True)"
   ]
  },
  {
   "cell_type": "code",
   "execution_count": 35,
   "id": "f44ac057-0919-4567-93fc-c6315584dff4",
   "metadata": {},
   "outputs": [],
   "source": [
    "ncFile.close()"
   ]
  },
  {
   "cell_type": "code",
   "execution_count": null,
   "id": "b6f5e984-550c-48e6-9d28-fccdc8fdcf69",
   "metadata": {},
   "outputs": [],
   "source": []
  }
 ],
 "metadata": {
  "kernelspec": {
   "display_name": "Python 3 (ipykernel)",
   "language": "python",
   "name": "python3"
  },
  "language_info": {
   "codemirror_mode": {
    "name": "ipython",
    "version": 3
   },
   "file_extension": ".py",
   "mimetype": "text/x-python",
   "name": "python",
   "nbconvert_exporter": "python",
   "pygments_lexer": "ipython3",
   "version": "3.11.5"
  }
 },
 "nbformat": 4,
 "nbformat_minor": 5
}
