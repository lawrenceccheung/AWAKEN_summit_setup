{
 "cells": [
  {
   "cell_type": "markdown",
   "id": "773239ad-e220-4ce2-a45b-7bb08dde0f8b",
   "metadata": {},
   "source": [
    "# Set up wind farm run"
   ]
  },
  {
   "cell_type": "code",
   "execution_count": 1,
   "id": "f0216dc2-38f7-4c62-a457-e6353f2de665",
   "metadata": {},
   "outputs": [],
   "source": [
    "# Add any possible locations of amr-wind-frontend here\n",
    "amrwindfedirs = ['/projects/wind_uq/lcheung/amrwind-frontend/',\n",
    "                 '/ccs/proj/cfd162/lcheung/amrwind-frontend/']\n",
    "import sys, os, shutil\n",
    "for x in amrwindfedirs: sys.path.insert(1, x)\n",
    "\n",
    "# Load the libraries\n",
    "import amrwind_frontend  as amrwind\n",
    "import matplotlib.pyplot as plt\n",
    "import numpy             as np\n",
    "import math\n",
    "import pandas as pd\n",
    "import postproamrwindsample as ppsample\n",
    "import time\n",
    "import utm\n",
    "\n",
    "# Also ignore warnings\n",
    "import warnings\n",
    "warnings.filterwarnings('ignore')\n",
    "\n",
    "# Make all plots inline \n",
    "%matplotlib inline"
   ]
  },
  {
   "cell_type": "code",
   "execution_count": 2,
   "id": "eef37c6f-e1a9-480b-a20e-90e863a7464b",
   "metadata": {},
   "outputs": [],
   "source": [
    "# Start the AMR-Wind case\n",
    "case = amrwind.MyApp.init_nogui()"
   ]
  },
  {
   "cell_type": "code",
   "execution_count": 3,
   "id": "7fc3d812-74a8-4d70-9865-59da95629074",
   "metadata": {},
   "outputs": [
    {
     "name": "stdout",
     "output_type": "stream",
     "text": [
      "CANNOT update: ABLMeanBoussinesq use forcechange=True in setval()\n"
     ]
    },
    {
     "data": {
      "text/plain": [
       "OrderedDict()"
      ]
     },
     "execution_count": 3,
     "metadata": {},
     "output_type": "execute_result"
    }
   ],
   "source": [
    "# Location of precursor run with boundary data\n",
    "precursordir  = '/lustre/orion/cfd162/proj-shared/lcheung/AWAKEN/Neutral/ABLDan'\n",
    "precursorsetup= precursordir+'/precursor_5x5_newWD_restartwithPlanes2.inp'\n",
    "\n",
    "# Location of farm run dir\n",
    "farmrundir       = '/lustre/orion/cfd162/proj-shared/lcheung/AWAKEN/Neutral/4kmX2km_turbine1/'\n",
    "outputfile       = '5x5_newWD_withTurbine.inp'\n",
    "noturboutputfile = '5x5_newWD_noturbs.inp'\n",
    "\n",
    "verbose          = True\n",
    "cwd              = os.getcwd()\n",
    "\n",
    "# Go to the run directory\n",
    "if not os.path.exists(farmrundir):\n",
    "    os.makedirs(farmrundir)\n",
    "os.chdir(farmrundir)\n",
    "\n",
    "# Load the starting point\n",
    "case.loadAMRWindInput(precursorsetup)"
   ]
  },
  {
   "cell_type": "code",
   "execution_count": 4,
   "id": "793130ec-678b-4b9e-baca-4e23c74d3c5f",
   "metadata": {},
   "outputs": [],
   "source": [
    "tstart = 20500 #chk65000 16125\n",
    "tstop  = tstart+1000\n",
    "textra = 0"
   ]
  },
  {
   "cell_type": "code",
   "execution_count": 5,
   "id": "5b1d08e1-c3e4-4e69-a798-93d461503300",
   "metadata": {},
   "outputs": [],
   "source": [
    "# Set the time constants\n",
    "case.setAMRWindInput('time.stop_time', tstop)\n",
    "case.setAMRWindInput('time.fixed_dt', 0.1)\n",
    "case.setAMRWindInput('time.max_step',  -1)\n",
    "case.setAMRWindInput('time.checkpoint_interval',1000)"
   ]
  },
  {
   "cell_type": "code",
   "execution_count": 6,
   "id": "5dbb9c10-13e0-418b-8d77-738f08f73f8b",
   "metadata": {},
   "outputs": [],
   "source": [
    "# Set the restart point\n",
    "chkdir = precursordir+'/chk41000/'\n",
    "case.setAMRWindInput('restart_file', os.path.realpath(chkdir))"
   ]
  },
  {
   "cell_type": "code",
   "execution_count": 7,
   "id": "cf5f2229-e82e-477e-9ef2-408b9236c310",
   "metadata": {},
   "outputs": [],
   "source": [
    "# Set the boundary input file parameters\n",
    "ablstatfile = precursordir+'/post_processing/abl_statistics40000.nc'\n",
    "#tavg        =  [tstart, tstop]\n",
    "tavg        = [20886.5, 20886.5+600]\n",
    "forcingdict = {'ablstatfile':ablstatfile, 'tavg':tavg}\n",
    "inflowplanes= ['xlo','ylo'] #['ylo', 'xhi']\n",
    "bndryfiles  = precursordir+'/bndry_file.nc'"
   ]
  },
  {
   "cell_type": "code",
   "execution_count": 8,
   "id": "dde163a7-74dc-42b0-9c33-69c5b7593156",
   "metadata": {},
   "outputs": [
    {
     "name": "stdout",
     "output_type": "stream",
     "text": [
      "SET ABL_bndry_io_mode = '1'\n",
      "SET ABL_bndry_file = '/lustre/orion/cfd162/proj-shared/lcheung/AWAKEN/Neutral/ABLDan/bndry_file.nc'\n",
      "SET ABL_bndry_planes = ['xlo', 'ylo']\n",
      "SET is_periodicx = False\n",
      "SET is_periodicy = False\n",
      "SET xlo_type = 'mass_inflow'\n",
      "SET xlo_density = 1.08812\n",
      "SET xlo_temperature = 0.0\n",
      "SET xlo_tke = 0.0\n",
      "SET ylo_type = 'mass_inflow'\n",
      "SET ylo_density = 1.08812\n",
      "SET ylo_temperature = 0.0\n",
      "SET ylo_tke = 0.0\n",
      "SET xhi_type = 'pressure_outflow'\n",
      "SET xhi_density = None\n",
      "SET xhi_temperature = None\n",
      "SET xhi_tke = None\n",
      "SET yhi_type = 'pressure_outflow'\n",
      "SET yhi_density = None\n",
      "SET yhi_temperature = None\n",
      "SET yhi_tke = None\n",
      "SET BodyForce = True\n",
      "SET BodyForce_magnitude = [0.00014240761453906403, 0.0006295258556363406, 0.0]\n",
      "SET ABLForcing = False\n",
      "SET ABLMeanBoussinesq = True\n",
      "SET wall_shear_stress_type = 'local'\n",
      "SET checkpoint_start = 41000\n"
     ]
    }
   ],
   "source": [
    "case.boundaryplane_restart(bndryfiles=bndryfiles, \n",
    "                           forcingdict=forcingdict, \n",
    "                           inflowplanes=inflowplanes, \n",
    "                           checkpointdir=chkdir,\n",
    "                           verbose=True)"
   ]
  },
  {
   "cell_type": "code",
   "execution_count": 9,
   "id": "6d03aca5-bb11-41b8-93a8-02b674503961",
   "metadata": {},
   "outputs": [],
   "source": [
    "# Add the turbine specifications flag\n",
    "## Note that the options field can have things like:\n",
    "##    ADparam_TwrAero:False ADparam_TwrShadow:0 FSTparam_TMax:181234.0\n",
    "OFoptions=\"\"#(\"ADparam_TwrAero:True ADparam_TwrShadow:1 FSTparam_CompHydro:0 FSTparam_CompSub:0 \"\n",
    "#           \"EDparam_YawDOF:False \"\n",
    "#           \"EDparam_PtfmSgDOF:False \"\n",
    "#           \"EDparam_PtfmSwDOF:False \"\n",
    "#           \"EDparam_PtfmHvDOF:False \"\n",
    "#           \"EDparam_PtfmRDOF:False \"\n",
    "#           \"EDparam_PtfmPDOF:False \"\n",
    "#           \"EDparam_PtfmYDOF:False \"           \n",
    "#          )\n",
    "\n",
    "#\"EDparam_RotSpeed:5.00 \"\n",
    "\n",
    "## To specify changes to the OpenFAST model\n",
    "turbinescsv=\"\"\"\n",
    "# CSV file should have columns with\n",
    "# name, x, y, type, yaw, hubheight, options\n",
    "T0,     2000, 2560, Summit_GE2.8-127_ADM, 270.0, , {OFoptions}\n",
    "\"\"\".format(OFoptions=OFoptions)\n",
    "case.setAMRWindInput('turbines_csvtextbox',  turbinescsv)"
   ]
  },
  {
   "cell_type": "code",
   "execution_count": 10,
   "id": "6d91403d-de6d-42ec-9314-46039a9623e6",
   "metadata": {},
   "outputs": [
    {
     "name": "stdout",
     "output_type": "stream",
     "text": [
      "docopy = True from /autofs/nccs-svm1_proj/cfd162/lcheung/AWAKEN_summit_setup/turbines/OpenFAST3p3_NREL2p8-127.bugfix to T0_OpenFAST3p3_NREL2p8-127.bugfix\n",
      "T0_OpenFAST3p3_NREL2p8-127.bugfix/NREL-2p8-127.fst\n"
     ]
    }
   ],
   "source": [
    "case.setAMRWindInput('turbines_createnewdomain', False)\n",
    "case.setAMRWindInput('turbines_deleteprev', True)\n",
    "\n",
    "case.turbines_createAllTurbines()"
   ]
  },
  {
   "cell_type": "code",
   "execution_count": 11,
   "id": "1e67a376-ddc1-44ab-96e1-354920dad37b",
   "metadata": {},
   "outputs": [
    {
     "data": {
      "image/png": "[encoded data removed]",
      "text/plain": [
       "<Figure size 750x750 with 1 Axes>"
      ]
     },
     "metadata": {},
     "output_type": "display_data"
    }
   ],
   "source": [
    "# Preview the turbine layout\n",
    "fig, ax = plt.subplots(figsize=(5,5), facecolor='w', dpi=150)\n",
    "case.turbines_previewAllTurbines(ax=ax)"
   ]
  },
  {
   "cell_type": "markdown",
   "id": "10a15f5f-c77f-49f8-b285-d57292ba5ec9",
   "metadata": {},
   "source": [
    "## Make refinement regions"
   ]
  },
  {
   "cell_type": "code",
   "execution_count": 12,
   "id": "6b17d683-b418-478a-8b79-504d1b53ec75",
   "metadata": {},
   "outputs": [],
   "source": [
    "refinementcsv=\"\"\"\n",
    "# CSV file should have columns with\n",
    "# level, upstream, downstream, lateral, below, above, options\n",
    "level, upstream, downstream, lateral, below, above, options\n",
    "0,     10,     17,           6,       0.75,   4,   orientation:nacdir # (5m mesh)\n",
    "1,     5,      15,           2.5,     0.75,   1.2, orientation:nacdir # (2.5m mesh)\n",
    "\"\"\"\n",
    "case.setAMRWindInput('refine_csvtextbox', refinementcsv)\n",
    "case.setAMRWindInput('refine_deleteprev', True)"
   ]
  },
  {
   "cell_type": "code",
   "execution_count": 13,
   "id": "f2d55ef8-a1db-4eb5-bd99-489a808865ab",
   "metadata": {},
   "outputs": [
    {
     "name": "stdout",
     "output_type": "stream",
     "text": [
      "['T0_level_0_zone', 'T0_level_1_zone']\n"
     ]
    }
   ],
   "source": [
    "case.refine_createAllZones()\n",
    "# Print out existing list of refinement zones\n",
    "print(case.listboxpopupwindict['listboxtagging'].getitemlist())"
   ]
  },
  {
   "cell_type": "code",
   "execution_count": 14,
   "id": "ba933594-ba95-4ae8-8632-04646a04c9fb",
   "metadata": {},
   "outputs": [
    {
     "name": "stdout",
     "output_type": "stream",
     "text": [
      "ESTIMATED MESH SIZE\n",
      "   Level       Ncells                      Cell Size\n",
      "       0     25165824             10.0 x 10.0 x 10.0\n",
      "       1     25219691                5.0 x 5.0 x 5.0\n",
      "       2     25563819                2.5 x 2.5 x 2.5\n",
      "  TOTAL:     75949334\n"
     ]
    }
   ],
   "source": [
    "# Estimate mesh size\n",
    "case.estimateMeshSize(verbose=False)"
   ]
  },
  {
   "cell_type": "code",
   "execution_count": 15,
   "id": "1b8ded47-0ffb-4a60-9346-55689686a8fc",
   "metadata": {},
   "outputs": [
    {
     "data": {
      "image/png": "[encoded data removed]",
      "text/plain": [
       "<Figure size 625x625 with 1 Axes>"
      ]
     },
     "metadata": {},
     "output_type": "display_data"
    }
   ],
   "source": [
    "# Plot the domain\n",
    "fig, ax2 = plt.subplots(figsize=(5,5), facecolor='w', dpi=125)\n",
    "case.popup_storteddata['plotdomain']['plot_chooseview']      = 'XY'\n",
    "case.popup_storteddata['plotdomain']['plot_turbines']        = case.listboxpopupwindict['listboxactuator'].getitemlist()\n",
    "case.popup_storteddata['plotdomain']['plot_refineboxes']     = case.listboxpopupwindict['listboxtagging'].getitemlist()\n",
    "case.plotDomain(ax=ax2)"
   ]
  },
  {
   "cell_type": "code",
   "execution_count": 16,
   "id": "26727d75-4617-4225-8d92-e949d786bc0d",
   "metadata": {},
   "outputs": [
    {
     "data": {
      "image/png": "[encoded data removed]",
      "text/plain": [
       "<Figure size 1000x750 with 1 Axes>"
      ]
     },
     "metadata": {},
     "output_type": "display_data"
    }
   ],
   "source": [
    "# Plot the domain\n",
    "fig, ax = plt.subplots(figsize=(8,6), facecolor='w', dpi=125)\n",
    "case.popup_storteddata['plotdomain']['plot_chooseview']      = 'YZ'\n",
    "case.popup_storteddata['plotdomain']['plot_refineboxes']     = case.listboxpopupwindict['listboxtagging'].getitemlist()\n",
    "case.popup_storteddata['plotdomain']['plot_sampleprobes']    = [] #case.listboxpopupwindict['listboxsampling'].getitemlist()\n",
    "case.popup_storteddata['plotdomain']['plot_turbines']        = case.listboxpopupwindict['listboxactuator'].getitemlist()\n",
    "case.plotDomain(ax=ax)"
   ]
  },
  {
   "cell_type": "markdown",
   "id": "f9983e0e-fff3-4efa-affc-9b7fae99fcb2",
   "metadata": {},
   "source": [
    "## Add sampling planes"
   ]
  },
  {
   "cell_type": "code",
   "execution_count": 17,
   "id": "4866457f-7a02-492c-9150-9ca3b54a781c",
   "metadata": {},
   "outputs": [
    {
     "name": "stdout",
     "output_type": "stream",
     "text": [
      "[]\n",
      "[]\n"
     ]
    }
   ],
   "source": [
    "# Delete all old sampling planes from precursor\n",
    "case.listboxpopupwindict['listboxsampling'].deleteall()\n",
    "case.listboxpopupwindict['listboxpostprosetup'].deleteall()\n",
    "print(case.listboxpopupwindict['listboxsampling'].getitemlist())\n",
    "print(case.listboxpopupwindict['listboxpostprosetup'].getitemlist())"
   ]
  },
  {
   "cell_type": "code",
   "execution_count": 18,
   "id": "67273751-b056-476c-a67a-bc567a84deab",
   "metadata": {},
   "outputs": [
    {
     "name": "stdout",
     "output_type": "stream",
     "text": [
      "postprocessing_setup_name: 'sampling_'\n",
      "postprocessing_setup_type: 'Sampling'\n",
      "postprocessing_setup_output_frequency: 10\n",
      "postprocessing_setup_fields: ['velocity', 'temperature', 'tke']\n",
      "postprocessing_setup_averaging_window: None\n",
      "postprocessing_setup_averaging_start_time: None\n",
      "postprocessing_setup_averaging_stop_time: None\n"
     ]
    }
   ],
   "source": [
    "# Set up averaging\n",
    "pprosetup = case.get_default_postprosetupdict()\n",
    "pprosetup['postprocessing_setup_name'] = 'sampling_'\n",
    "pprosetup['postprocessing_setup_type'] = 'Sampling'\n",
    "pprosetup['postprocessing_setup_output_frequency'] =  10\n",
    "pprosetup['postprocessing_setup_fields']           =  ['velocity', 'temperature','tke']\n",
    "case.add_postprosetup(pprosetup, verbose=True)\n",
    "\n",
    "\n",
    "sampleplane = case.get_default_samplingdict()\n",
    "# Modify the geometry\n",
    "sampleplane['sampling_name']         = 'XYslice'\n",
    "sampleplane['sampling_outputto']     = 'sampling_'\n",
    "sampleplane['sampling_type']         = 'PlaneSampler'\n",
    "sampleplane['sampling_p_num_points'] = [513, 513]\n",
    "sampleplane['sampling_p_origin']     = [0, 0, 0]\n",
    "sampleplane['sampling_p_axis1']      = [5120, 0, 0]\n",
    "sampleplane['sampling_p_axis2']      = [0, 5120, 0]\n",
    "sampleplane['sampling_p_normal']     = [0, 0, 1]\n",
    "sampleplane['sampling_p_offsets']    = '90.0'\n",
    "case.add_sampling(sampleplane)"
   ]
  },
  {
   "cell_type": "code",
   "execution_count": 19,
   "id": "55165896-6022-4a06-90d7-326e229c50f3",
   "metadata": {},
   "outputs": [
    {
     "name": "stdout",
     "output_type": "stream",
     "text": [
      "{'sampling_outputto': ['turbhh_'], 'sampling_name': 'T0_turbhh', 'sampling_type': 'PlaneSampler', 'sampling_p_num_points': [601, 161], 'sampling_p_origin': array([ 730., 2052.,   90.]), 'sampling_p_axis1': array([3810.,    0.,    0.]), 'sampling_p_axis2': array([  -0., 1016.,   -0.]), 'sampling_p_normal': array([0., 0., 1.]), 'sampling_p_offsets': '0.0 190.5'}\n",
      "sampling_outputto: ['turbhh_']\n",
      "sampling_name: 'T0_turbhh'\n",
      "sampling_type: 'PlaneSampler'\n",
      "sampling_p_num_points: [601, 161]\n",
      "sampling_p_origin: array([ 730., 2052.,   90.])\n",
      "sampling_p_axis1: array([3810.,    0.,    0.])\n",
      "sampling_p_axis2: array([  -0., 1016.,   -0.])\n",
      "sampling_p_normal: array([0., 0., 1.])\n",
      "sampling_p_offsets: '0.0 190.5'\n",
      "{'sampling_outputto': ['turbsw_'], 'sampling_name': 'T0_sw', 'sampling_type': 'PlaneSampler', 'sampling_p_num_points': [601, 45], 'sampling_p_origin': array([7.30e+02, 2.56e+03, 8.40e-02]), 'sampling_p_axis1': array([3810.,    0.,    0.]), 'sampling_p_axis2': array([  0.   ,   0.   , 280.416])}\n",
      "sampling_outputto: ['turbsw_']\n",
      "sampling_name: 'T0_sw'\n",
      "sampling_type: 'PlaneSampler'\n",
      "sampling_p_num_points: [601, 45]\n",
      "sampling_p_origin: array([7.30e+02, 2.56e+03, 8.40e-02])\n",
      "sampling_p_axis1: array([3810.,    0.,    0.])\n",
      "sampling_p_axis2: array([  0.   ,   0.   , 280.416])\n",
      "{'sampling_outputto': ['turbswA_'], 'sampling_name': 'T0_swA', 'sampling_type': 'PlaneSampler', 'sampling_p_num_points': [601, 45], 'sampling_p_origin': array([7.30e+02, 2.56e+03, 8.40e-02]), 'sampling_p_axis1': array([3810.,    0.,    0.]), 'sampling_p_axis2': array([  0.   ,   0.   , 280.416]), 'sampling_p_normal': array([-0.,  1., -0.]), 'sampling_p_offsets': '0.0 254.0 508.0'}\n",
      "sampling_outputto: ['turbswA_']\n",
      "sampling_name: 'T0_swA'\n",
      "sampling_type: 'PlaneSampler'\n",
      "sampling_p_num_points: [601, 45]\n",
      "sampling_p_origin: array([7.30e+02, 2.56e+03, 8.40e-02])\n",
      "sampling_p_axis1: array([3810.,    0.,    0.])\n",
      "sampling_p_axis2: array([  0.   ,   0.   , 280.416])\n",
      "sampling_p_normal: array([-0.,  1., -0.])\n",
      "sampling_p_offsets: '0.0 254.0 508.0'\n",
      "{'sampling_outputto': ['turbswB_'], 'sampling_name': 'T0_swB', 'sampling_type': 'PlaneSampler', 'sampling_p_num_points': [601, 45], 'sampling_p_origin': array([7.30e+02, 2.56e+03, 8.40e-02]), 'sampling_p_axis1': array([3810.,    0.,    0.]), 'sampling_p_axis2': array([  0.   ,   0.   , 280.416]), 'sampling_p_normal': array([-0.,  1., -0.]), 'sampling_p_offsets': '0.0 -254.0 -508.0'}\n",
      "sampling_outputto: ['turbswB_']\n",
      "sampling_name: 'T0_swB'\n",
      "sampling_type: 'PlaneSampler'\n",
      "sampling_p_num_points: [601, 45]\n",
      "sampling_p_origin: array([7.30e+02, 2.56e+03, 8.40e-02])\n",
      "sampling_p_axis1: array([3810.,    0.,    0.])\n",
      "sampling_p_axis2: array([  0.   ,   0.   , 280.416])\n",
      "sampling_p_normal: array([-0.,  1., -0.])\n",
      "sampling_p_offsets: '0.0 -254.0 -508.0'\n",
      "{'sampling_outputto': ['wakesw_'], 'sampling_name': 'T0_wakesw', 'sampling_type': 'PlaneSampler', 'sampling_p_num_points': [601, 45], 'sampling_p_origin': array([7.35846828e+02, 2.43827589e+03, 8.40000000e-02]), 'sampling_p_axis1': array([3792.45951578,  365.1723171 ,    0.        ]), 'sampling_p_axis2': array([  0.   ,   0.   , 280.416])}\n",
      "sampling_outputto: ['wakesw_']\n",
      "sampling_name: 'T0_wakesw'\n",
      "sampling_type: 'PlaneSampler'\n",
      "sampling_p_num_points: [601, 45]\n",
      "sampling_p_origin: array([7.35846828e+02, 2.43827589e+03, 8.40000000e-02])\n",
      "sampling_p_axis1: array([3792.45951578,  365.1723171 ,    0.        ])\n",
      "sampling_p_axis2: array([  0.   ,   0.   , 280.416])\n",
      "{'sampling_outputto': ['rotor_'], 'sampling_name': 'T0_rotor', 'sampling_type': 'PlaneSampler', 'sampling_p_num_points': [161, 45], 'sampling_p_origin': array([7.300e+02, 2.052e+03, 8.400e-02]), 'sampling_p_axis1': array([  -0., 1016.,   -0.]), 'sampling_p_axis2': array([  0.   ,   0.   , 280.416]), 'sampling_p_normal': array([1., 0., 0.]), 'sampling_p_offsets': '0.0 254.0 508.0 762.0 1016.0 1270.0 1524.0 1778.0 2032.0 2286.0 2540.0 2794.0 3048.0 3302.0 3556.0 3810.0'}\n",
      "sampling_outputto: ['rotor_']\n",
      "sampling_name: 'T0_rotor'\n",
      "sampling_type: 'PlaneSampler'\n",
      "sampling_p_num_points: [161, 45]\n",
      "sampling_p_origin: array([7.300e+02, 2.052e+03, 8.400e-02])\n",
      "sampling_p_axis1: array([  -0., 1016.,   -0.])\n",
      "sampling_p_axis2: array([  0.   ,   0.   , 280.416])\n",
      "sampling_p_normal: array([1., 0., 0.])\n",
      "sampling_p_offsets: '0.0 254.0 508.0 762.0 1016.0 1270.0 1524.0 1778.0 2032.0 2286.0 2540.0 2794.0 3048.0 3302.0 3556.0 3810.0'\n"
     ]
    }
   ],
   "source": [
    "outputoptions=\"outputvars:velocity;tke;temperature outputfreq:10\"\n",
    "\n",
    "turbsamplingcsv = \"\"\"\n",
    "# CSV file should have columns withturbinescsv=\n",
    "# name, type, upstream, downstream, lateral, below, above, n1, n2, options\n",
    "name,      type,       upstream, downstream, lateral, below, above, n1, n2, options\n",
    "turbhh,    hubheight,  10,       20,         4,       0,     1.5,     11, 11, usedx:0.05 outputto:turbhh_ orientation:nacdir {outputoptions} noffsets:1\n",
    "sw,        streamwise, 10,       20,         0,       0.708, 1.5,     11, 11, usedx:0.05 outputto:turbsw_  orientation:nacdir {outputoptions}\n",
    "swA,       streamwise, 10,       20,         4,       0.708, 1.5,     11, 11, usedx:0.05 outputto:turbswA_  orientation:nacdir {outputoptions} noffsets:2\n",
    "swB,       streamwise, 10,       20,        -4,       0.708, 1.5,     11, 11, usedx:0.05 outputto:turbswB_  orientation:nacdir {outputoptions} noffsets:2\n",
    "wakesw,    streamwise, 10,       20,         0,       0.708, 1.5,     11, 11, usedx:0.05 outputto:wakesw_  orientation:264.5 {outputoptions}\n",
    "rotor,     rotorplane, 10,       20,         4,       0.708, 1.5,     11, 11, usedx:0.05  outputto:rotor_  orientation:nacdir outputvars:velocity noffsets:15  {outputoptions}\n",
    "\"\"\".format(outputoptions=outputoptions)\n",
    "\n",
    "case.setAMRWindInput('sampling_csvtextbox', turbsamplingcsv)\n",
    "case.setAMRWindInput('sampling_deleteprev', False)\n",
    "case.sampling_createAllProbes(verbose=True)"
   ]
  },
  {
   "cell_type": "code",
   "execution_count": 20,
   "id": "c00b7f7c-b3e0-405b-b3b3-3f950463d01e",
   "metadata": {},
   "outputs": [
    {
     "name": "stdout",
     "output_type": "stream",
     "text": [
      "['XYslice', 'T0_turbhh', 'T0_sw', 'T0_swA', 'T0_swB', 'T0_wakesw', 'T0_rotor']\n"
     ]
    }
   ],
   "source": [
    "#case.sampling_createAllProbes(verbose=False)\n",
    "# Print out existing list of turbines\n",
    "print(case.listboxpopupwindict['listboxsampling'].getitemlist())"
   ]
  },
  {
   "cell_type": "code",
   "execution_count": 21,
   "id": "84328e61-e132-4002-83ea-45972bda5a94",
   "metadata": {},
   "outputs": [
    {
     "data": {
      "image/png": "[encoded data removed]",
      "text/plain": [
       "<Figure size 1000x750 with 1 Axes>"
      ]
     },
     "metadata": {},
     "output_type": "display_data"
    }
   ],
   "source": [
    "# Plot the domain\n",
    "fig, ax = plt.subplots(figsize=(8,6), facecolor='w', dpi=125)\n",
    "case.popup_storteddata['plotdomain']['plot_chooseview']      = 'XY'\n",
    "case.popup_storteddata['plotdomain']['plot_refineboxes']     = [] #case.listboxpopupwindict['listboxtagging'].getitemlist()\n",
    "case.popup_storteddata['plotdomain']['plot_sampleprobes']    = case.listboxpopupwindict['listboxsampling'].getitemlist()\n",
    "case.popup_storteddata['plotdomain']['plot_turbines']        = case.listboxpopupwindict['listboxactuator'].getitemlist()\n",
    "case.popup_storteddata['plotdomain']['plot_sampleprobes_style'] = \"{'markersize':.1, 'marker':'.', 'linestyle':'None'}\"\n",
    "case.plotDomain(ax=ax)"
   ]
  },
  {
   "cell_type": "markdown",
   "id": "c0e1d59e-44ec-4a30-8804-f809fbd75a53",
   "metadata": {},
   "source": [
    "## Print the input file"
   ]
  },
  {
   "cell_type": "code",
   "execution_count": 22,
   "id": "60e218a5-9386-40b8-82d8-8b2f0233c7e1",
   "metadata": {
    "scrolled": true
   },
   "outputs": [
    {
     "name": "stdout",
     "output_type": "stream",
     "text": [
      "# --- Simulation time control parameters ---\n",
      "time.stop_time                           = 21500.0             # Max (simulated) time to evolve [s]\n",
      "time.max_step                            = -1                  \n",
      "time.fixed_dt                            = 0.1                 # Fixed timestep size (in seconds). If negative, then time.cfl is used\n",
      "time.checkpoint_interval                 = 1000                \n",
      "time.checkpoint_start                    = 41000               \n",
      "incflo.physics                           = ABL Actuator        # List of physics models to include in simulation.\n",
      "incflo.verbose                           = 3                   \n",
      "io.check_file                            = chk                 \n",
      "io.restart_file                          = /lustre/orion/cfd162/proj-shared/lcheung/AWAKEN/Neutral/ABLDan/chk41000\n",
      "incflo.use_godunov                       = true                \n",
      "incflo.godunov_type                      = weno_z              \n",
      "turbulence.model                         = OneEqKsgsM84        \n",
      "TKE.source_terms                         = KsgsM84Src          \n",
      "nodal_proj.mg_rtol                       = 1e-06               \n",
      "nodal_proj.mg_atol                       = 1e-12               \n",
      "mac_proj.mg_rtol                         = 1e-06               \n",
      "mac_proj.mg_atol                         = 1e-12               \n",
      "diffusion.mg_rtol                        = 1e-06               \n",
      "diffusion.mg_atol                        = 1e-12               \n",
      "temperature_diffusion.mg_rtol            = 1e-10               \n",
      "temperature_diffusion.mg_atol            = 1e-13               \n",
      "incflo.gravity                           = 0.0 0.0 -9.81       # Gravitational acceleration vector (x,y,z) [m/s^2]\n",
      "incflo.density                           = 1.08812             # Fluid density [kg/m^3]\n",
      "transport.viscosity                      = 1.642e-05           # Fluid dynamic viscosity [kg/m-s]\n",
      "transport.laminar_prandtl                = 0.7                 # Laminar prandtl number\n",
      "transport.turbulent_prandtl              = 0.3333              # Turbulent prandtl number\n",
      "\n",
      "# --- Geometry and Mesh ---\n",
      "geometry.prob_lo                         = 0.0 0.0 0.0         \n",
      "geometry.prob_hi                         = 5120.0 5120.0 960.0 \n",
      "amr.n_cell                               = 512 512 96          # Number of cells in x, y, and z directions\n",
      "amr.max_level                            = 2                   \n",
      "geometry.is_periodic                     = 0 0 0               \n",
      "xlo.type                                 = mass_inflow         \n",
      "xlo.density                              = 1.08812             \n",
      "xlo.temperature                          = 0.0                 \n",
      "xlo.tke                                  = 0.0                 \n",
      "xhi.type                                 = pressure_outflow    \n",
      "ylo.type                                 = mass_inflow         \n",
      "ylo.density                              = 1.08812             \n",
      "ylo.temperature                          = 0.0                 \n",
      "ylo.tke                                  = 0.0                 \n",
      "yhi.type                                 = pressure_outflow    \n",
      "zlo.type                                 = wall_model          \n",
      "zlo.temperature_type                     = wall_model          \n",
      "zlo.tke_type                             = zero_gradient       \n",
      "zhi.type                                 = slip_wall           \n",
      "zhi.temperature_type                     = fixed_gradient      \n",
      "zhi.temperature                          = 0.003               \n",
      "\n",
      "# --- ABL parameters ---\n",
      "ICNS.source_terms                        = BoussinesqBuoyancy CoriolisForcing ActuatorForcing BodyForce ABLMeanBoussinesq\n",
      "ABL.bndry_io_mode                        = 1                   \n",
      "ABL.bndry_file                           = /lustre/orion/cfd162/proj-shared/lcheung/AWAKEN/Neutral/ABLDan/bndry_file.nc\n",
      "ABL.bndry_planes                         = xlo ylo             \n",
      "ABL.bndry_var_names                      = velocity temperature\n",
      "ABL.bndry_output_format                  = native              \n",
      "incflo.velocity                          = 6.2471 0.4728 0.0   \n",
      "ABLForcing.abl_forcing_height            = 90.0                \n",
      "ABL.kappa                                = 0.4                 \n",
      "ABL.normal_direction                     = 2                   \n",
      "ABL.surface_roughness_z0                 = 0.03                \n",
      "ABL.reference_temperature                = 305.0               \n",
      "ABL.surface_temp_rate                    = 0.0                 \n",
      "ABL.surface_temp_flux                    = 0.0                 # Surface temperature flux [K-m/s]\n",
      "ABL.mo_beta_m                            = 16.0                # Monin-Obukhov Beta m parameter\n",
      "ABL.mo_gamma_m                           = 5.0                 # Monin-Obukhov Gamma m parameter\n",
      "ABL.mo_gamma_h                           = 5.0                 # Monin-Obukhov Gamma h parameter\n",
      "ABL.random_gauss_mean                    = 0.0                 \n",
      "ABL.random_gauss_var                     = 1.0                 \n",
      "ABL.wall_shear_stress_type               = local               \n",
      "CoriolisForcing.latitude                 = 36.57236455833334   \n",
      "CoriolisForcing.rotational_time_period   = 86164.0900027328    \n",
      "CoriolisForcing.north_vector             = 0.0 1.0 0.0         \n",
      "CoriolisForcing.east_vector              = 1.0 0.0 0.0         \n",
      "BoussinesqBuoyancy.reference_temperature = 305.0               \n",
      "BodyForce.magnitude                      = 0.00014240761453906403 0.0006295258556363406 0.0\n",
      "ABL.temperature_heights                  = 0 650.0 750.0 1000.0\n",
      "ABL.temperature_values                   = 305 305 313.0 313.75\n",
      "time.plot_interval                       = 2000                \n",
      "io.plot_file                             = plt                 \n",
      "io.KE_int                                = -1                  \n",
      "\n",
      "#---- tagging defs ----\n",
      "tagging.labels                           = T0_level_0_zone T0_level_1_zone\n",
      "tagging.T0_level_0_zone.type             = GeometryRefinement  \n",
      "tagging.T0_level_0_zone.shapes           = T0_level_0_zone     \n",
      "tagging.T0_level_0_zone.level            = 0                   \n",
      "tagging.T0_level_0_zone.T0_level_0_zone.type = box                 \n",
      "tagging.T0_level_0_zone.T0_level_0_zone.origin = 730.0 1798.0 -5.25  \n",
      "tagging.T0_level_0_zone.T0_level_0_zone.xaxis = 3429.0 0.0 0.0      \n",
      "tagging.T0_level_0_zone.T0_level_0_zone.yaxis = -0.0 1524.0 -0.0    \n",
      "tagging.T0_level_0_zone.T0_level_0_zone.zaxis = 0.0 0.0 603.25      \n",
      "tagging.T0_level_1_zone.type             = GeometryRefinement  \n",
      "tagging.T0_level_1_zone.shapes           = T0_level_1_zone     \n",
      "tagging.T0_level_1_zone.level            = 1                   \n",
      "tagging.T0_level_1_zone.T0_level_1_zone.type = box                 \n",
      "tagging.T0_level_1_zone.T0_level_1_zone.origin = 1365.0 2242.5 -5.25 \n",
      "tagging.T0_level_1_zone.T0_level_1_zone.xaxis = 2540.0 0.0 0.0      \n",
      "tagging.T0_level_1_zone.T0_level_1_zone.yaxis = -0.0 635.0 -0.0     \n",
      "tagging.T0_level_1_zone.T0_level_1_zone.zaxis = 0.0 0.0 247.65      \n",
      "\n",
      "#---- actuator defs ----\n",
      "Actuator.labels                          = T0                  \n",
      "Actuator.T0.type                         = TurbineFastDisk     \n",
      "Actuator.T0.openfast_input_file          = T0_OpenFAST3p3_NREL2p8-127.bugfix/NREL-2p8-127.fst\n",
      "Actuator.T0.base_position                = 2000.0 2560.0 0.0   \n",
      "Actuator.T0.rotor_diameter               = 127.0               \n",
      "Actuator.T0.hub_height                   = 90.0                \n",
      "Actuator.T0.num_points_blade             = 64                  \n",
      "Actuator.T0.num_points_tower             = 12                  \n",
      "Actuator.T0.epsilon                      = 5.0 5.0 5.0         \n",
      "Actuator.T0.epsilon_tower                = 5.0 5.0 5.0         \n",
      "Actuator.T0.openfast_start_time          = 0.0                 \n",
      "Actuator.T0.openfast_stop_time           = 10000.0             \n",
      "Actuator.T0.fllc                         = false               \n",
      "Actuator.T0.nacelle_drag_coeff           = 1.0                 \n",
      "Actuator.T0.nacelle_area                 = 8.0                 \n",
      "Actuator.T0.yaw                          = 270.0               \n",
      "Actuator.T0.output_frequency             = 1                   \n",
      "Actuator.T0.num_blades                   = 3                   \n",
      "Actuator.T0.use_tip_correction           = true                \n",
      "Actuator.T0.use_root_correction          = true                \n",
      "\n",
      "#---- postprocessing defs ----\n",
      "incflo.post_processing                   = sampling_ turbhh_ turbsw_ turbswA_ turbswB_ wakesw_ rotor_\n",
      "sampling_.type                           = Sampling            \n",
      "sampling_.output_frequency               = 10                  \n",
      "sampling_.fields                         = velocity temperature tke\n",
      "turbhh_.type                             = Sampling            \n",
      "turbhh_.output_frequency                 = 10                  \n",
      "turbhh_.fields                           = velocity temperature tke\n",
      "turbsw_.type                             = Sampling            \n",
      "turbsw_.output_frequency                 = 10                  \n",
      "turbsw_.fields                           = velocity temperature tke\n",
      "turbswA_.type                            = Sampling            \n",
      "turbswA_.output_frequency                = 10                  \n",
      "turbswA_.fields                          = velocity temperature tke\n",
      "turbswB_.type                            = Sampling            \n",
      "turbswB_.output_frequency                = 10                  \n",
      "turbswB_.fields                          = velocity temperature tke\n",
      "wakesw_.type                             = Sampling            \n",
      "wakesw_.output_frequency                 = 10                  \n",
      "wakesw_.fields                           = velocity temperature tke\n",
      "rotor_.type                              = Sampling            \n",
      "rotor_.output_frequency                  = 10                  \n",
      "rotor_.fields                            = velocity temperature tke\n",
      "\n",
      "#---- sample defs ----\n",
      "sampling_.labels                         = XYslice             \n",
      "turbhh_.labels                           = T0_turbhh           \n",
      "turbsw_.labels                           = T0_sw               \n",
      "turbswA_.labels                          = T0_swA              \n",
      "turbswB_.labels                          = T0_swB              \n",
      "wakesw_.labels                           = T0_wakesw           \n",
      "rotor_.labels                            = T0_rotor            \n",
      "sampling_.XYslice.type                   = PlaneSampler        \n",
      "sampling_.XYslice.num_points             = 513 513             \n",
      "sampling_.XYslice.origin                 = 0.0 0.0 0.0         \n",
      "sampling_.XYslice.axis1                  = 5120.0 0.0 0.0      \n",
      "sampling_.XYslice.axis2                  = 0.0 5120.0 0.0      \n",
      "sampling_.XYslice.normal                 = 0.0 0.0 1.0         \n",
      "sampling_.XYslice.offsets                = 90.0                \n",
      "turbhh_.T0_turbhh.type                   = PlaneSampler        \n",
      "turbhh_.T0_turbhh.num_points             = 601 161             \n",
      "turbhh_.T0_turbhh.origin                 = 730.0 2052.0 90.0   \n",
      "turbhh_.T0_turbhh.axis1                  = 3810.0 0.0 0.0      \n",
      "turbhh_.T0_turbhh.axis2                  = -0.0 1016.0 -0.0    \n",
      "turbhh_.T0_turbhh.normal                 = 0.0 0.0 1.0         \n",
      "turbhh_.T0_turbhh.offsets                = 0.0 190.5           \n",
      "turbsw_.T0_sw.type                       = PlaneSampler        \n",
      "turbsw_.T0_sw.num_points                 = 601 45              \n",
      "turbsw_.T0_sw.origin                     = 730.0 2560.0 0.08400000000000318\n",
      "turbsw_.T0_sw.axis1                      = 3810.0 0.0 0.0      \n",
      "turbsw_.T0_sw.axis2                      = 0.0 0.0 280.416     \n",
      "turbsw_.T0_sw.normal                     = 0.0 0.0 0.0         \n",
      "turbswA_.T0_swA.type                     = PlaneSampler        \n",
      "turbswA_.T0_swA.num_points               = 601 45              \n",
      "turbswA_.T0_swA.origin                   = 730.0 2560.0 0.08400000000000318\n",
      "turbswA_.T0_swA.axis1                    = 3810.0 0.0 0.0      \n",
      "turbswA_.T0_swA.axis2                    = 0.0 0.0 280.416     \n",
      "turbswA_.T0_swA.normal                   = -0.0 1.0 -0.0       \n",
      "turbswA_.T0_swA.offsets                  = 0.0 254.0 508.0     \n",
      "turbswB_.T0_swB.type                     = PlaneSampler        \n",
      "turbswB_.T0_swB.num_points               = 601 45              \n",
      "turbswB_.T0_swB.origin                   = 730.0 2560.0 0.08400000000000318\n",
      "turbswB_.T0_swB.axis1                    = 3810.0 0.0 0.0      \n",
      "turbswB_.T0_swB.axis2                    = 0.0 0.0 280.416     \n",
      "turbswB_.T0_swB.normal                   = -0.0 1.0 -0.0       \n",
      "turbswB_.T0_swB.offsets                  = 0.0 -254.0 -508.0   \n",
      "wakesw_.T0_wakesw.type                   = PlaneSampler        \n",
      "wakesw_.T0_wakesw.num_points             = 601 45              \n",
      "wakesw_.T0_wakesw.origin                 = 735.8468280736829 2438.2758942993155 0.08400000000000318\n",
      "wakesw_.T0_wakesw.axis1                  = 3792.4595157789513 365.17231710205334 0.0\n",
      "wakesw_.T0_wakesw.axis2                  = 0.0 0.0 280.416     \n",
      "wakesw_.T0_wakesw.normal                 = 0.0 0.0 0.0         \n",
      "rotor_.T0_rotor.type                     = PlaneSampler        \n",
      "rotor_.T0_rotor.num_points               = 161 45              \n",
      "rotor_.T0_rotor.origin                   = 730.0 2052.0 0.08400000000000318\n",
      "rotor_.T0_rotor.axis1                    = -0.0 1016.0 -0.0    \n",
      "rotor_.T0_rotor.axis2                    = 0.0 0.0 280.416     \n",
      "rotor_.T0_rotor.normal                   = 1.0 0.0 0.0         \n",
      "rotor_.T0_rotor.offsets                  = 0.0 254.0 508.0 762.0 1016.0 1270.0 1524.0 1778.0 2032.0 2286.0 2540.0 2794.0 3048.0 3302.0 3556.0 3810.0\n",
      "\n",
      "#---- extra params ----\n",
      "#== END AMR-WIND INPUT ==\n",
      "\n"
     ]
    }
   ],
   "source": [
    "# Write the input file\n",
    "inputfile=case.writeAMRWindInput(outputfile)\n",
    "if verbose: print(inputfile)"
   ]
  },
  {
   "cell_type": "markdown",
   "id": "c91fbec4-8b7e-4acc-8a9a-e1db6b899fd7",
   "metadata": {},
   "source": [
    "### Create a version without turbines"
   ]
  },
  {
   "cell_type": "code",
   "execution_count": 23,
   "id": "5d6a9205-d761-4b9f-97ce-b4b209a2fad2",
   "metadata": {},
   "outputs": [
    {
     "name": "stdout",
     "output_type": "stream",
     "text": [
      "# --- Simulation time control parameters ---\n",
      "time.stop_time                           = 21500.0             # Max (simulated) time to evolve [s]\n",
      "time.max_step                            = -1                  \n",
      "time.fixed_dt                            = 0.1                 # Fixed timestep size (in seconds). If negative, then time.cfl is used\n",
      "time.checkpoint_interval                 = 1000                \n",
      "time.checkpoint_start                    = 41000               \n",
      "incflo.physics                           = ABL                 # List of physics models to include in simulation.\n",
      "incflo.verbose                           = 3                   \n",
      "io.check_file                            = chk                 \n",
      "io.restart_file                          = /lustre/orion/cfd162/proj-shared/lcheung/AWAKEN/Neutral/ABLDan/chk41000\n",
      "incflo.use_godunov                       = true                \n",
      "incflo.godunov_type                      = weno_z              \n",
      "turbulence.model                         = OneEqKsgsM84        \n",
      "TKE.source_terms                         = KsgsM84Src          \n",
      "nodal_proj.mg_rtol                       = 1e-06               \n",
      "nodal_proj.mg_atol                       = 1e-12               \n",
      "mac_proj.mg_rtol                         = 1e-06               \n",
      "mac_proj.mg_atol                         = 1e-12               \n",
      "diffusion.mg_rtol                        = 1e-06               \n",
      "diffusion.mg_atol                        = 1e-12               \n",
      "temperature_diffusion.mg_rtol            = 1e-10               \n",
      "temperature_diffusion.mg_atol            = 1e-13               \n",
      "incflo.gravity                           = 0.0 0.0 -9.81       # Gravitational acceleration vector (x,y,z) [m/s^2]\n",
      "incflo.density                           = 1.08812             # Fluid density [kg/m^3]\n",
      "transport.viscosity                      = 1.642e-05           # Fluid dynamic viscosity [kg/m-s]\n",
      "transport.laminar_prandtl                = 0.7                 # Laminar prandtl number\n",
      "transport.turbulent_prandtl              = 0.3333              # Turbulent prandtl number\n",
      "\n",
      "# --- Geometry and Mesh ---\n",
      "geometry.prob_lo                         = 0.0 0.0 0.0         \n",
      "geometry.prob_hi                         = 5120.0 5120.0 960.0 \n",
      "amr.n_cell                               = 512 512 96          # Number of cells in x, y, and z directions\n",
      "amr.max_level                            = 2                   \n",
      "geometry.is_periodic                     = 0 0 0               \n",
      "xlo.type                                 = mass_inflow         \n",
      "xlo.density                              = 1.08812             \n",
      "xlo.temperature                          = 0.0                 \n",
      "xlo.tke                                  = 0.0                 \n",
      "xhi.type                                 = pressure_outflow    \n",
      "ylo.type                                 = mass_inflow         \n",
      "ylo.density                              = 1.08812             \n",
      "ylo.temperature                          = 0.0                 \n",
      "ylo.tke                                  = 0.0                 \n",
      "yhi.type                                 = pressure_outflow    \n",
      "zlo.type                                 = wall_model          \n",
      "zlo.temperature_type                     = wall_model          \n",
      "zlo.tke_type                             = zero_gradient       \n",
      "zhi.type                                 = slip_wall           \n",
      "zhi.temperature_type                     = fixed_gradient      \n",
      "zhi.temperature                          = 0.003               \n",
      "\n",
      "# --- ABL parameters ---\n",
      "ICNS.source_terms                        = BoussinesqBuoyancy CoriolisForcing BodyForce ABLMeanBoussinesq\n",
      "ABL.bndry_io_mode                        = 1                   \n",
      "ABL.bndry_file                           = /lustre/orion/cfd162/proj-shared/lcheung/AWAKEN/Neutral/ABLDan/bndry_file.nc\n",
      "ABL.bndry_planes                         = xlo ylo             \n",
      "ABL.bndry_var_names                      = velocity temperature\n",
      "ABL.bndry_output_format                  = native              \n",
      "incflo.velocity                          = 6.2471 0.4728 0.0   \n",
      "ABLForcing.abl_forcing_height            = 90.0                \n",
      "ABL.kappa                                = 0.4                 \n",
      "ABL.normal_direction                     = 2                   \n",
      "ABL.surface_roughness_z0                 = 0.03                \n",
      "ABL.reference_temperature                = 305.0               \n",
      "ABL.surface_temp_rate                    = 0.0                 \n",
      "ABL.surface_temp_flux                    = 0.0                 # Surface temperature flux [K-m/s]\n",
      "ABL.mo_beta_m                            = 16.0                # Monin-Obukhov Beta m parameter\n",
      "ABL.mo_gamma_m                           = 5.0                 # Monin-Obukhov Gamma m parameter\n",
      "ABL.mo_gamma_h                           = 5.0                 # Monin-Obukhov Gamma h parameter\n",
      "ABL.random_gauss_mean                    = 0.0                 \n",
      "ABL.random_gauss_var                     = 1.0                 \n",
      "ABL.wall_shear_stress_type               = local               \n",
      "CoriolisForcing.latitude                 = 36.57236455833334   \n",
      "CoriolisForcing.rotational_time_period   = 86164.0900027328    \n",
      "CoriolisForcing.north_vector             = 0.0 1.0 0.0         \n",
      "CoriolisForcing.east_vector              = 1.0 0.0 0.0         \n",
      "BoussinesqBuoyancy.reference_temperature = 305.0               \n",
      "BodyForce.magnitude                      = 0.00014240761453906403 0.0006295258556363406 0.0\n",
      "ABL.temperature_heights                  = 0 650.0 750.0 1000.0\n",
      "ABL.temperature_values                   = 305 305 313.0 313.75\n",
      "time.plot_interval                       = 2000                \n",
      "io.plot_file                             = plt                 \n",
      "io.KE_int                                = -1                  \n",
      "\n",
      "#---- tagging defs ----\n",
      "tagging.labels                           = T0_level_0_zone T0_level_1_zone\n",
      "tagging.T0_level_0_zone.type             = GeometryRefinement  \n",
      "tagging.T0_level_0_zone.shapes           = T0_level_0_zone     \n",
      "tagging.T0_level_0_zone.level            = 0                   \n",
      "tagging.T0_level_0_zone.T0_level_0_zone.type = box                 \n",
      "tagging.T0_level_0_zone.T0_level_0_zone.origin = 730.0 1798.0 -5.25  \n",
      "tagging.T0_level_0_zone.T0_level_0_zone.xaxis = 3429.0 0.0 0.0      \n",
      "tagging.T0_level_0_zone.T0_level_0_zone.yaxis = -0.0 1524.0 -0.0    \n",
      "tagging.T0_level_0_zone.T0_level_0_zone.zaxis = 0.0 0.0 603.25      \n",
      "tagging.T0_level_1_zone.type             = GeometryRefinement  \n",
      "tagging.T0_level_1_zone.shapes           = T0_level_1_zone     \n",
      "tagging.T0_level_1_zone.level            = 1                   \n",
      "tagging.T0_level_1_zone.T0_level_1_zone.type = box                 \n",
      "tagging.T0_level_1_zone.T0_level_1_zone.origin = 1365.0 2242.5 -5.25 \n",
      "tagging.T0_level_1_zone.T0_level_1_zone.xaxis = 2540.0 0.0 0.0      \n",
      "tagging.T0_level_1_zone.T0_level_1_zone.yaxis = -0.0 635.0 -0.0     \n",
      "tagging.T0_level_1_zone.T0_level_1_zone.zaxis = 0.0 0.0 247.65      \n",
      "\n",
      "#---- postprocessing defs ----\n",
      "incflo.post_processing                   = sampling_ turbhh_ turbsw_ turbswA_ turbswB_ wakesw_ rotor_\n",
      "sampling_.type                           = Sampling            \n",
      "sampling_.output_frequency               = 10                  \n",
      "sampling_.fields                         = velocity temperature tke\n",
      "turbhh_.type                             = Sampling            \n",
      "turbhh_.output_frequency                 = 10                  \n",
      "turbhh_.fields                           = velocity temperature tke\n",
      "turbsw_.type                             = Sampling            \n",
      "turbsw_.output_frequency                 = 10                  \n",
      "turbsw_.fields                           = velocity temperature tke\n",
      "turbswA_.type                            = Sampling            \n",
      "turbswA_.output_frequency                = 10                  \n",
      "turbswA_.fields                          = velocity temperature tke\n",
      "turbswB_.type                            = Sampling            \n",
      "turbswB_.output_frequency                = 10                  \n",
      "turbswB_.fields                          = velocity temperature tke\n",
      "wakesw_.type                             = Sampling            \n",
      "wakesw_.output_frequency                 = 10                  \n",
      "wakesw_.fields                           = velocity temperature tke\n",
      "rotor_.type                              = Sampling            \n",
      "rotor_.output_frequency                  = 10                  \n",
      "rotor_.fields                            = velocity temperature tke\n",
      "\n",
      "#---- sample defs ----\n",
      "sampling_.labels                         = XYslice             \n",
      "turbhh_.labels                           = T0_turbhh           \n",
      "turbsw_.labels                           = T0_sw               \n",
      "turbswA_.labels                          = T0_swA              \n",
      "turbswB_.labels                          = T0_swB              \n",
      "wakesw_.labels                           = T0_wakesw           \n",
      "rotor_.labels                            = T0_rotor            \n",
      "sampling_.XYslice.type                   = PlaneSampler        \n",
      "sampling_.XYslice.num_points             = 513 513             \n",
      "sampling_.XYslice.origin                 = 0.0 0.0 0.0         \n",
      "sampling_.XYslice.axis1                  = 5120.0 0.0 0.0      \n",
      "sampling_.XYslice.axis2                  = 0.0 5120.0 0.0      \n",
      "sampling_.XYslice.normal                 = 0.0 0.0 1.0         \n",
      "sampling_.XYslice.offsets                = 90.0                \n",
      "turbhh_.T0_turbhh.type                   = PlaneSampler        \n",
      "turbhh_.T0_turbhh.num_points             = 601 161             \n",
      "turbhh_.T0_turbhh.origin                 = 730.0 2052.0 90.0   \n",
      "turbhh_.T0_turbhh.axis1                  = 3810.0 0.0 0.0      \n",
      "turbhh_.T0_turbhh.axis2                  = -0.0 1016.0 -0.0    \n",
      "turbhh_.T0_turbhh.normal                 = 0.0 0.0 1.0         \n",
      "turbhh_.T0_turbhh.offsets                = 0.0 190.5           \n",
      "turbsw_.T0_sw.type                       = PlaneSampler        \n",
      "turbsw_.T0_sw.num_points                 = 601 45              \n",
      "turbsw_.T0_sw.origin                     = 730.0 2560.0 0.08400000000000318\n",
      "turbsw_.T0_sw.axis1                      = 3810.0 0.0 0.0      \n",
      "turbsw_.T0_sw.axis2                      = 0.0 0.0 280.416     \n",
      "turbsw_.T0_sw.normal                     = 0.0 0.0 0.0         \n",
      "turbswA_.T0_swA.type                     = PlaneSampler        \n",
      "turbswA_.T0_swA.num_points               = 601 45              \n",
      "turbswA_.T0_swA.origin                   = 730.0 2560.0 0.08400000000000318\n",
      "turbswA_.T0_swA.axis1                    = 3810.0 0.0 0.0      \n",
      "turbswA_.T0_swA.axis2                    = 0.0 0.0 280.416     \n",
      "turbswA_.T0_swA.normal                   = -0.0 1.0 -0.0       \n",
      "turbswA_.T0_swA.offsets                  = 0.0 254.0 508.0     \n",
      "turbswB_.T0_swB.type                     = PlaneSampler        \n",
      "turbswB_.T0_swB.num_points               = 601 45              \n",
      "turbswB_.T0_swB.origin                   = 730.0 2560.0 0.08400000000000318\n",
      "turbswB_.T0_swB.axis1                    = 3810.0 0.0 0.0      \n",
      "turbswB_.T0_swB.axis2                    = 0.0 0.0 280.416     \n",
      "turbswB_.T0_swB.normal                   = -0.0 1.0 -0.0       \n",
      "turbswB_.T0_swB.offsets                  = 0.0 -254.0 -508.0   \n",
      "wakesw_.T0_wakesw.type                   = PlaneSampler        \n",
      "wakesw_.T0_wakesw.num_points             = 601 45              \n",
      "wakesw_.T0_wakesw.origin                 = 735.8468280736829 2438.2758942993155 0.08400000000000318\n",
      "wakesw_.T0_wakesw.axis1                  = 3792.4595157789513 365.17231710205334 0.0\n",
      "wakesw_.T0_wakesw.axis2                  = 0.0 0.0 280.416     \n",
      "wakesw_.T0_wakesw.normal                 = 0.0 0.0 0.0         \n",
      "rotor_.T0_rotor.type                     = PlaneSampler        \n",
      "rotor_.T0_rotor.num_points               = 161 45              \n",
      "rotor_.T0_rotor.origin                   = 730.0 2052.0 0.08400000000000318\n",
      "rotor_.T0_rotor.axis1                    = -0.0 1016.0 -0.0    \n",
      "rotor_.T0_rotor.axis2                    = 0.0 0.0 280.416     \n",
      "rotor_.T0_rotor.normal                   = 1.0 0.0 0.0         \n",
      "rotor_.T0_rotor.offsets                  = 0.0 254.0 508.0 762.0 1016.0 1270.0 1524.0 1778.0 2032.0 2286.0 2540.0 2794.0 3048.0 3302.0 3556.0 3810.0\n",
      "\n",
      "#---- extra params ----\n",
      "#== END AMR-WIND INPUT ==\n",
      "\n"
     ]
    }
   ],
   "source": [
    "os.chdir(cwd)\n",
    "case.removeturbines()\n",
    "inputfile=case.writeAMRWindInput(noturboutputfile)\n",
    "if verbose: print(inputfile)"
   ]
  },
  {
   "cell_type": "code",
   "execution_count": null,
   "id": "d4251655-feaa-4506-ba11-b51015938e7a",
   "metadata": {},
   "outputs": [],
   "source": []
  },
  {
   "cell_type": "code",
   "execution_count": null,
   "id": "bdbec2cf-46ee-48f4-b79a-fdbbbb3b1174",
   "metadata": {},
   "outputs": [],
   "source": []
  }
 ],
 "metadata": {
  "kernelspec": {
   "display_name": "Python 3 (ipykernel)",
   "language": "python",
   "name": "python3"
  },
  "language_info": {
   "codemirror_mode": {
    "name": "ipython",
    "version": 3
   },
   "file_extension": ".py",
   "mimetype": "text/x-python",
   "name": "python",
   "nbconvert_exporter": "python",
   "pygments_lexer": "ipython3",
   "version": "3.9.13"
  }
 },
 "nbformat": 4,
 "nbformat_minor": 5
}
